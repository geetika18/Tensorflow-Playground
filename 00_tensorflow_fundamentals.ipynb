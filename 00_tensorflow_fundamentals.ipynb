{
  "nbformat": 4,
  "nbformat_minor": 0,
  "metadata": {
    "colab": {
      "provenance": [],
      "collapsed_sections": [],
      "authorship_tag": "ABX9TyPVIZ5UxrMIC7Bt8+zm7g5J",
      "include_colab_link": true
    },
    "kernelspec": {
      "name": "python3",
      "display_name": "Python 3"
    },
    "language_info": {
      "name": "python"
    }
  },
  "cells": [
    {
      "cell_type": "markdown",
      "metadata": {
        "id": "view-in-github",
        "colab_type": "text"
      },
      "source": [
        "<a href=\"https://colab.research.google.com/github/geetika18/Tensorflow-Playground/blob/main/00_tensorflow_fundamentals.ipynb\" target=\"_parent\"><img src=\"https://colab.research.google.com/assets/colab-badge.svg\" alt=\"Open In Colab\"/></a>"
      ]
    },
    {
      "cell_type": "markdown",
      "source": [
        "In this notebook - most fundamental concepts of tensors using tensorflow\n",
        "1. intro to tensors\n",
        "2. getting info from tensors\n",
        "3. manipulating tensors\n",
        "4. Tensors and numpy\n",
        "5. using @tf.function(a way to speed up your regular python functions)\n",
        "6. using gpu using tensorflow\n"
      ],
      "metadata": {
        "id": "H4JU781wnmBT"
      }
    },
    {
      "cell_type": "markdown",
      "source": [],
      "metadata": {
        "id": "MBgtVMJknYCJ"
      }
    },
    {
      "cell_type": "markdown",
      "source": [
        "# Introduction to tensors\n"
      ],
      "metadata": {
        "id": "o9yeGDAkn_jh"
      }
    },
    {
      "cell_type": "code",
      "source": [
        "#Import Tensorflow\n",
        "import tensorflow as tf\n",
        "print(tf.__version__)"
      ],
      "metadata": {
        "colab": {
          "base_uri": "https://localhost:8080/"
        },
        "id": "m35C06nOoPEH",
        "outputId": "5b8a5343-adf6-4803-834c-e7b6de4e2d37"
      },
      "execution_count": 2,
      "outputs": [
        {
          "output_type": "stream",
          "name": "stdout",
          "text": [
            "2.8.2\n"
          ]
        }
      ]
    },
    {
      "cell_type": "code",
      "source": [
        "#Creating tensors using tf.constant()\n",
        "scalar = tf.constant(7)\n",
        "scalar"
      ],
      "metadata": {
        "colab": {
          "base_uri": "https://localhost:8080/"
        },
        "id": "AP92rfCdofp3",
        "outputId": "64186d0c-71e8-45e2-a1a4-1c58dbf879a5"
      },
      "execution_count": 6,
      "outputs": [
        {
          "output_type": "execute_result",
          "data": {
            "text/plain": [
              "<tf.Tensor: shape=(), dtype=int32, numpy=7>"
            ]
          },
          "metadata": {},
          "execution_count": 6
        }
      ]
    },
    {
      "cell_type": "code",
      "source": [
        "# Check the number of dimensions of a tensor(ndim stands for number of dimensions)\n",
        "scalar.ndim"
      ],
      "metadata": {
        "colab": {
          "base_uri": "https://localhost:8080/"
        },
        "id": "eVJj_NDPpBEq",
        "outputId": "989a792f-cabf-464e-e455-290573ceca6b"
      },
      "execution_count": 7,
      "outputs": [
        {
          "output_type": "execute_result",
          "data": {
            "text/plain": [
              "0"
            ]
          },
          "metadata": {},
          "execution_count": 7
        }
      ]
    },
    {
      "cell_type": "code",
      "source": [
        "# Create a vector\n",
        "vector = tf.constant([10,10])\n",
        "vector\n",
        "#vector.ndim"
      ],
      "metadata": {
        "colab": {
          "base_uri": "https://localhost:8080/"
        },
        "id": "rNnlF-IZpK_b",
        "outputId": "c7d4c824-597e-41a8-ba3a-9496f5bfacaa"
      },
      "execution_count": 11,
      "outputs": [
        {
          "output_type": "execute_result",
          "data": {
            "text/plain": [
              "<tf.Tensor: shape=(2,), dtype=int32, numpy=array([10, 10], dtype=int32)>"
            ]
          },
          "metadata": {},
          "execution_count": 11
        }
      ]
    },
    {
      "cell_type": "code",
      "source": [
        "# Create a matrix\n",
        "matrix = tf.constant([[10,7],[7,10]])\n",
        "matrix"
      ],
      "metadata": {
        "colab": {
          "base_uri": "https://localhost:8080/"
        },
        "id": "QrdWN7iopedI",
        "outputId": "d5367f4c-0bd9-447c-81cc-edf25bd9f985"
      },
      "execution_count": 10,
      "outputs": [
        {
          "output_type": "execute_result",
          "data": {
            "text/plain": [
              "<tf.Tensor: shape=(2, 2), dtype=int32, numpy=\n",
              "array([[10,  7],\n",
              "       [ 7, 10]], dtype=int32)>"
            ]
          },
          "metadata": {},
          "execution_count": 10
        }
      ]
    },
    {
      "cell_type": "code",
      "source": [
        "matrix.ndim"
      ],
      "metadata": {
        "colab": {
          "base_uri": "https://localhost:8080/"
        },
        "id": "3XD6o9JeqDb-",
        "outputId": "209886d2-0fd9-47f1-b857-5a9453e71ef9"
      },
      "execution_count": 12,
      "outputs": [
        {
          "output_type": "execute_result",
          "data": {
            "text/plain": [
              "2"
            ]
          },
          "metadata": {},
          "execution_count": 12
        }
      ]
    },
    {
      "cell_type": "code",
      "source": [
        "# Create another matrix\n",
        "another_matrix = tf.constant([[3.,4.,5.],[6.,7.,8.],[1.,2.,3.]], dtype= tf.float16)\n",
        "another_matrix"
      ],
      "metadata": {
        "colab": {
          "base_uri": "https://localhost:8080/"
        },
        "id": "gCkOafOY_MSO",
        "outputId": "84bca992-e5df-45eb-bcd5-9c0b0b6ab041"
      },
      "execution_count": 15,
      "outputs": [
        {
          "output_type": "execute_result",
          "data": {
            "text/plain": [
              "<tf.Tensor: shape=(3, 3), dtype=float16, numpy=\n",
              "array([[3., 4., 5.],\n",
              "       [6., 7., 8.],\n",
              "       [1., 2., 3.]], dtype=float16)>"
            ]
          },
          "metadata": {},
          "execution_count": 15
        }
      ]
    },
    {
      "cell_type": "code",
      "source": [
        "another_matrix.ndim"
      ],
      "metadata": {
        "colab": {
          "base_uri": "https://localhost:8080/"
        },
        "id": "wlbncZ43AnFe",
        "outputId": "1ed08d32-4f8c-43af-c779-028bfb63184d"
      },
      "execution_count": 16,
      "outputs": [
        {
          "output_type": "execute_result",
          "data": {
            "text/plain": [
              "2"
            ]
          },
          "metadata": {},
          "execution_count": 16
        }
      ]
    },
    {
      "cell_type": "code",
      "source": [
        "#let's create a tensor\n",
        "tensor = tf.constant([[[1,2,3],[4,5,6]],\n",
        "                      [[7,8,9],[10,11,12]],\n",
        "                      [[13,14,15],[16,17,18]]])\n",
        "tensor\n"
      ],
      "metadata": {
        "colab": {
          "base_uri": "https://localhost:8080/"
        },
        "id": "9ItY6-1PA7AZ",
        "outputId": "f8d72ba2-1751-4142-e6a0-32007878595a"
      },
      "execution_count": 19,
      "outputs": [
        {
          "output_type": "execute_result",
          "data": {
            "text/plain": [
              "<tf.Tensor: shape=(3, 2, 3), dtype=int32, numpy=\n",
              "array([[[ 1,  2,  3],\n",
              "        [ 4,  5,  6]],\n",
              "\n",
              "       [[ 7,  8,  9],\n",
              "        [10, 11, 12]],\n",
              "\n",
              "       [[13, 14, 15],\n",
              "        [16, 17, 18]]], dtype=int32)>"
            ]
          },
          "metadata": {},
          "execution_count": 19
        }
      ]
    },
    {
      "cell_type": "code",
      "source": [
        "tensor.ndim"
      ],
      "metadata": {
        "colab": {
          "base_uri": "https://localhost:8080/"
        },
        "id": "5cQc5DvzDMQN",
        "outputId": "0b51d0eb-8bf2-4554-fdfc-b933f87589ea"
      },
      "execution_count": 20,
      "outputs": [
        {
          "output_type": "execute_result",
          "data": {
            "text/plain": [
              "3"
            ]
          },
          "metadata": {},
          "execution_count": 20
        }
      ]
    },
    {
      "cell_type": "markdown",
      "source": [
        "What we have created so far:\n",
        "* Scalar- a single number\n",
        "* Vector- a number with direction\n",
        "* Matrix - a 2D array of numbers\n",
        "* Tensor - a N-dimensional array of numbers( where N can be any number)"
      ],
      "metadata": {
        "id": "h-Cx2lMxDZ8r"
      }
    },
    {
      "cell_type": "markdown",
      "source": [
        "### Creating tensors with tf.variable()"
      ],
      "metadata": {
        "id": "423_VUoSEL7m"
      }
    },
    {
      "cell_type": "code",
      "source": [
        "# Create same tensor with tf.variable() as above\n",
        "changeable_tensor = tf.Variable([10,7])\n",
        "unchangeable_tensor = tf.constant([10,7])\n",
        "changeable_tensor, unchangeable_tensor"
      ],
      "metadata": {
        "colab": {
          "base_uri": "https://localhost:8080/"
        },
        "id": "P6RJw_koETQ-",
        "outputId": "117f94b7-c7c6-4ed8-c0c2-8c413bd18706"
      },
      "execution_count": 22,
      "outputs": [
        {
          "output_type": "execute_result",
          "data": {
            "text/plain": [
              "(<tf.Variable 'Variable:0' shape=(2,) dtype=int32, numpy=array([10,  7], dtype=int32)>,\n",
              " <tf.Tensor: shape=(2,), dtype=int32, numpy=array([10,  7], dtype=int32)>)"
            ]
          },
          "metadata": {},
          "execution_count": 22
        }
      ]
    },
    {
      "cell_type": "code",
      "source": [
        "# Let's try changing the changeable tensor\n",
        "#changeable_tensor[0] = 9 - wrong way\n",
        "changeable_tensor[0].assign(9)\n",
        "changeable_tensor\n"
      ],
      "metadata": {
        "colab": {
          "base_uri": "https://localhost:8080/"
        },
        "id": "pGXLzDjkFYh4",
        "outputId": "cd7300a2-8901-4855-e9bb-0f51f08cf3cf"
      },
      "execution_count": 25,
      "outputs": [
        {
          "output_type": "execute_result",
          "data": {
            "text/plain": [
              "<tf.Variable 'Variable:0' shape=(2,) dtype=int32, numpy=array([9, 7], dtype=int32)>"
            ]
          },
          "metadata": {},
          "execution_count": 25
        }
      ]
    },
    {
      "cell_type": "code",
      "source": [
        "#let's change the unchangeable tensor\n",
        "\n",
        "#unchangeable_tensor[0].assign(9)\n",
        "#unchangeable_tensor\n",
        "#it won't change - variable tensor are changeabble and constant are not changeable"
      ],
      "metadata": {
        "id": "Vn82ftUwF4Br"
      },
      "execution_count": 28,
      "outputs": []
    },
    {
      "cell_type": "markdown",
      "source": [
        "### Creating Random tensors"
      ],
      "metadata": {
        "id": "OekI6DeEGVez"
      }
    },
    {
      "cell_type": "markdown",
      "source": [
        "Random tensors are tensors of some arbitrary size which contain random numbers\n"
      ],
      "metadata": {
        "id": "ph2c3Y2EGztj"
      }
    },
    {
      "cell_type": "code",
      "source": [],
      "metadata": {
        "id": "G1IKL9mFGY69"
      },
      "execution_count": null,
      "outputs": []
    }
  ]
}