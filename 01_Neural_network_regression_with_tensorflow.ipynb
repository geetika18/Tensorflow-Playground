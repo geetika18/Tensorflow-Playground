{
  "nbformat": 4,
  "nbformat_minor": 0,
  "metadata": {
    "colab": {
      "provenance": [],
      "authorship_tag": "ABX9TyOwEM2klNWnIal/VPRAYlSd",
      "include_colab_link": true
    },
    "kernelspec": {
      "name": "python3",
      "display_name": "Python 3"
    },
    "language_info": {
      "name": "python"
    }
  },
  "cells": [
    {
      "cell_type": "markdown",
      "metadata": {
        "id": "view-in-github",
        "colab_type": "text"
      },
      "source": [
        "<a href=\"https://colab.research.google.com/github/geetika18/Tensorflow-Playground/blob/main/01_Neural_network_regression_with_tensorflow.ipynb\" target=\"_parent\"><img src=\"https://colab.research.google.com/assets/colab-badge.svg\" alt=\"Open In Colab\"/></a>"
      ]
    },
    {
      "cell_type": "markdown",
      "source": [
        "# Introduction to Regression with Neural Networks in Tensorflow\n",
        "Predicting a numerical variable based on some other combinations of variables. "
      ],
      "metadata": {
        "id": "KsMn6lLvaUz4"
      }
    },
    {
      "cell_type": "code",
      "execution_count": null,
      "metadata": {
        "colab": {
          "base_uri": "https://localhost:8080/"
        },
        "id": "jbIleyv-XbRP",
        "outputId": "765e148f-5459-4d17-8bbb-29804e5b305f"
      },
      "outputs": [
        {
          "output_type": "stream",
          "name": "stdout",
          "text": [
            "2.8.2\n"
          ]
        }
      ],
      "source": [
        "# Import tensorflow\n",
        "import tensorflow as tf\n",
        "print(tf.__version__)"
      ]
    },
    {
      "cell_type": "markdown",
      "source": [
        "## Creating some data to view and fit"
      ],
      "metadata": {
        "id": "808pD1N_brQz"
      }
    },
    {
      "cell_type": "code",
      "source": [
        "import numpy as np\n",
        "import matplotlib.pyplot as plt\n",
        "\n",
        "# Create Features\n",
        "\n",
        "X = np.array([-7.0, -4.0, -1.0, 2.0, 5.0, 8.0, 11.0, 14.0])\n",
        "\n",
        "#create labels\n",
        "y = np.array([3.0, 6.0, 9.0, 12.0, 15.0, 18.0, 21.0, 24.0])\n",
        "\n",
        "# Visualize it\n",
        "plt.scatter(X,y)"
      ],
      "metadata": {
        "colab": {
          "base_uri": "https://localhost:8080/",
          "height": 286
        },
        "id": "wy7JfcLybq2x",
        "outputId": "92bceac9-f2bc-4d6a-e20c-a104e4a21490"
      },
      "execution_count": null,
      "outputs": [
        {
          "output_type": "execute_result",
          "data": {
            "text/plain": [
              "<matplotlib.collections.PathCollection at 0x7efe5f0b7610>"
            ]
          },
          "metadata": {},
          "execution_count": 25
        },
        {
          "output_type": "display_data",
          "data": {
            "text/plain": [
              "<Figure size 432x288 with 1 Axes>"
            ],
            "image/png": "[encoded data removed]"
          },
          "metadata": {
            "needs_background": "light"
          }
        }
      ]
    },
    {
      "cell_type": "code",
      "source": [
        "y == X +10 "
      ],
      "metadata": {
        "colab": {
          "base_uri": "https://localhost:8080/"
        },
        "id": "EQnOF0gGc7MH",
        "outputId": "54d0fe1e-70fb-4e85-f1c1-ee11875f6562"
      },
      "execution_count": null,
      "outputs": [
        {
          "output_type": "execute_result",
          "data": {
            "text/plain": [
              "array([ True,  True,  True,  True,  True,  True,  True,  True])"
            ]
          },
          "metadata": {},
          "execution_count": 26
        }
      ]
    },
    {
      "cell_type": "markdown",
      "source": [
        "## Input and output shapes"
      ],
      "metadata": {
        "id": "gw--JY-KdNSV"
      }
    },
    {
      "cell_type": "code",
      "source": [
        "# Create a demo tensor for our housing price prediction problem\n",
        "house_info = tf.constant([\"bedroom\", \"bathroom\", \"garage\"])\n",
        "house_price = tf.constant([939700])\n",
        "house_info, house_price"
      ],
      "metadata": {
        "colab": {
          "base_uri": "https://localhost:8080/"
        },
        "id": "7AyXeWTKdDTG",
        "outputId": "4c83a109-3419-45f9-f059-64003bfd839a"
      },
      "execution_count": null,
      "outputs": [
        {
          "output_type": "execute_result",
          "data": {
            "text/plain": [
              "(<tf.Tensor: shape=(3,), dtype=string, numpy=array([b'bedroom', b'bathroom', b'garage'], dtype=object)>,\n",
              " <tf.Tensor: shape=(1,), dtype=int32, numpy=array([939700], dtype=int32)>)"
            ]
          },
          "metadata": {},
          "execution_count": 27
        }
      ]
    },
    {
      "cell_type": "code",
      "source": [
        "input_shape = X.shape\n",
        "output_shape = y.shape\n",
        "input_shape, output_shape"
      ],
      "metadata": {
        "colab": {
          "base_uri": "https://localhost:8080/"
        },
        "id": "NcXjQ3p9dwjF",
        "outputId": "78d9020b-15ce-4268-f289-cbec77b293da"
      },
      "execution_count": null,
      "outputs": [
        {
          "output_type": "execute_result",
          "data": {
            "text/plain": [
              "((8,), (8,))"
            ]
          },
          "metadata": {},
          "execution_count": 28
        }
      ]
    },
    {
      "cell_type": "code",
      "source": [
        "X = tf.constant(X)\n",
        "y = tf.constant(y)\n",
        "X,y"
      ],
      "metadata": {
        "colab": {
          "base_uri": "https://localhost:8080/"
        },
        "id": "92B_TlN_35D8",
        "outputId": "bd12a500-1eb6-4038-91d5-f0cd99b4adcc"
      },
      "execution_count": null,
      "outputs": [
        {
          "output_type": "execute_result",
          "data": {
            "text/plain": [
              "(<tf.Tensor: shape=(8,), dtype=float64, numpy=array([-7., -4., -1.,  2.,  5.,  8., 11., 14.])>,\n",
              " <tf.Tensor: shape=(8,), dtype=float64, numpy=array([ 3.,  6.,  9., 12., 15., 18., 21., 24.])>)"
            ]
          },
          "metadata": {},
          "execution_count": 29
        }
      ]
    },
    {
      "cell_type": "code",
      "source": [
        "input_shape = X[0].shape\n",
        "output_shape = y[0].shape\n",
        "input_shape, output_shape"
      ],
      "metadata": {
        "colab": {
          "base_uri": "https://localhost:8080/"
        },
        "id": "CRcYhb-y4Uc0",
        "outputId": "789f5a65-d774-4b79-f996-efe2df18ee35"
      },
      "execution_count": null,
      "outputs": [
        {
          "output_type": "execute_result",
          "data": {
            "text/plain": [
              "(TensorShape([]), TensorShape([]))"
            ]
          },
          "metadata": {},
          "execution_count": 30
        }
      ]
    },
    {
      "cell_type": "code",
      "source": [
        "plt.scatter(X,y)"
      ],
      "metadata": {
        "colab": {
          "base_uri": "https://localhost:8080/",
          "height": 286
        },
        "id": "R9qfX_Pf5Fxv",
        "outputId": "d28fdd52-4ba2-4777-a7bb-23cfceebb410"
      },
      "execution_count": null,
      "outputs": [
        {
          "output_type": "execute_result",
          "data": {
            "text/plain": [
              "<matplotlib.collections.PathCollection at 0x7efe62254810>"
            ]
          },
          "metadata": {},
          "execution_count": 31
        },
        {
          "output_type": "display_data",
          "data": {
            "text/plain": [
              "<Figure size 432x288 with 1 Axes>"
            ],
            "image/png": "[encoded data removed]"
          },
          "metadata": {
            "needs_background": "light"
          }
        }
      ]
    },
    {
      "cell_type": "markdown",
      "source": [
        "## steps in modelling with tensorflow\n",
        "1. **creating a model** - define the input and putput layers as well as hidden layers of a deep learning model.\n",
        "2. **compiling the model** - define a loss function(function which tells how wrong model is) and the optimiser( tells our model how to improve the patterns its learning) and evaluation metrics(what we can use to interpret the performance of our model).\n",
        "3. **fitting a model** - letting the model try to find patterns between X & y(features and labels).\n"
      ],
      "metadata": {
        "id": "85vBcuoi5Oh-"
      }
    },
    {
      "cell_type": "code",
      "source": [
        "# set random seed\n",
        "tf.random.set_seed(42)\n",
        "\n",
        "# 1. creating a model\n",
        "model = tf.keras.Sequential([\n",
        "    tf.keras.layers.Dense(1)\n",
        "])\n",
        "\n",
        "# 2. compile the model\n",
        "model.compile( loss = tf.keras.losses.mae, # mae = mean absolute error\n",
        "              optimizer = tf.keras.optimizers.SGD(), #sgd is short for stochastic gradient descent\n",
        "              metrics = [\"mae\"])\n",
        "\n",
        "# 3. fit model\n",
        "model.fit(tf.expand_dims(X, axis=-1),y, epochs = 5) # epochs - how many times the model will go through all of the training examples"
      ],
      "metadata": {
        "colab": {
          "base_uri": "https://localhost:8080/"
        },
        "id": "6aHWHzIR5KyN",
        "outputId": "f1e6cb66-d6db-4680-f735-cde7168d9fe2"
      },
      "execution_count": null,
      "outputs": [
        {
          "output_type": "stream",
          "name": "stdout",
          "text": [
            "Epoch 1/5\n",
            "1/1 [==============================] - 1s 612ms/step - loss: 11.5048 - mae: 11.5048\n",
            "Epoch 2/5\n",
            "1/1 [==============================] - 0s 21ms/step - loss: 11.3723 - mae: 11.3723\n",
            "Epoch 3/5\n",
            "1/1 [==============================] - 0s 20ms/step - loss: 11.2398 - mae: 11.2398\n",
            "Epoch 4/5\n",
            "1/1 [==============================] - 0s 17ms/step - loss: 11.1073 - mae: 11.1073\n",
            "Epoch 5/5\n",
            "1/1 [==============================] - 0s 18ms/step - loss: 10.9748 - mae: 10.9748\n"
          ]
        },
        {
          "output_type": "execute_result",
          "data": {
            "text/plain": [
              "<keras.callbacks.History at 0x7efe667c4bd0>"
            ]
          },
          "metadata": {},
          "execution_count": 32
        }
      ]
    },
    {
      "cell_type": "code",
      "source": [
        "# Check out X and y\n",
        "X, y"
      ],
      "metadata": {
        "colab": {
          "base_uri": "https://localhost:8080/"
        },
        "id": "78oW0O3P-PVL",
        "outputId": "7fc4d303-68d5-46ce-c48c-a5be669dd569"
      },
      "execution_count": null,
      "outputs": [
        {
          "output_type": "execute_result",
          "data": {
            "text/plain": [
              "(<tf.Tensor: shape=(8,), dtype=float64, numpy=array([-7., -4., -1.,  2.,  5.,  8., 11., 14.])>,\n",
              " <tf.Tensor: shape=(8,), dtype=float64, numpy=array([ 3.,  6.,  9., 12., 15., 18., 21., 24.])>)"
            ]
          },
          "metadata": {},
          "execution_count": 33
        }
      ]
    },
    {
      "cell_type": "code",
      "source": [
        "# Making a prediction using the model above\n",
        "model.predict([17.0])"
      ],
      "metadata": {
        "colab": {
          "base_uri": "https://localhost:8080/"
        },
        "id": "ffOLR3rk-UGH",
        "outputId": "89b95512-81e2-4ab8-b790-a0120c618157"
      },
      "execution_count": null,
      "outputs": [
        {
          "output_type": "execute_result",
          "data": {
            "text/plain": [
              "array([[12.716021]], dtype=float32)"
            ]
          },
          "metadata": {},
          "execution_count": 34
        }
      ]
    },
    {
      "cell_type": "code",
      "source": [
        "# Improve the model - let's rebuild teh model\n",
        "\n",
        "# 1. creating a model\n",
        "model = tf.keras.Sequential([\n",
        "    tf.keras.layers.Dense(1)\n",
        "])\n",
        "\n",
        "# 2. compile the model\n",
        "model.compile( loss = tf.keras.losses.mae, # mae = mean absolute error\n",
        "              optimizer = tf.keras.optimizers.SGD(), #sgd is short for stochastic gradient descent\n",
        "              metrics = [\"mae\"])\n",
        "\n",
        "# 3. fit model\n",
        "model.fit(tf.expand_dims(X, axis=-1),y, epochs = 100) # epochs - how many times the model will go through all of the training examples"
      ],
      "metadata": {
        "colab": {
          "base_uri": "https://localhost:8080/"
        },
        "id": "DsR2u8V1As5W",
        "outputId": "32338cbd-87ef-4d09-9581-43d1f57ab591"
      },
      "execution_count": null,
      "outputs": [
        {
          "output_type": "stream",
          "name": "stdout",
          "text": [
            "Epoch 1/100\n",
            "1/1 [==============================] - 1s 604ms/step - loss: 11.2219 - mae: 11.2219\n",
            "Epoch 2/100\n",
            "1/1 [==============================] - 0s 12ms/step - loss: 11.0894 - mae: 11.0894\n",
            "Epoch 3/100\n",
            "1/1 [==============================] - 0s 8ms/step - loss: 10.9569 - mae: 10.9569\n",
            "Epoch 4/100\n",
            "1/1 [==============================] - 0s 8ms/step - loss: 10.8244 - mae: 10.8244\n",
            "Epoch 5/100\n",
            "1/1 [==============================] - 0s 9ms/step - loss: 10.6919 - mae: 10.6919\n",
            "Epoch 6/100\n",
            "1/1 [==============================] - 0s 8ms/step - loss: 10.5594 - mae: 10.5594\n",
            "Epoch 7/100\n",
            "1/1 [==============================] - 0s 8ms/step - loss: 10.4269 - mae: 10.4269\n",
            "Epoch 8/100\n",
            "1/1 [==============================] - 0s 8ms/step - loss: 10.2944 - mae: 10.2944\n",
            "Epoch 9/100\n",
            "1/1 [==============================] - 0s 8ms/step - loss: 10.1619 - mae: 10.1619\n",
            "Epoch 10/100\n",
            "1/1 [==============================] - 0s 7ms/step - loss: 10.0294 - mae: 10.0294\n",
            "Epoch 11/100\n",
            "1/1 [==============================] - 0s 7ms/step - loss: 9.8969 - mae: 9.8969\n",
            "Epoch 12/100\n",
            "1/1 [==============================] - 0s 7ms/step - loss: 9.7644 - mae: 9.7644\n",
            "Epoch 13/100\n",
            "1/1 [==============================] - 0s 8ms/step - loss: 9.6319 - mae: 9.6319\n",
            "Epoch 14/100\n",
            "1/1 [==============================] - 0s 7ms/step - loss: 9.4994 - mae: 9.4994\n",
            "Epoch 15/100\n",
            "1/1 [==============================] - 0s 20ms/step - loss: 9.3669 - mae: 9.3669\n",
            "Epoch 16/100\n",
            "1/1 [==============================] - 0s 13ms/step - loss: 9.2344 - mae: 9.2344\n",
            "Epoch 17/100\n",
            "1/1 [==============================] - 0s 8ms/step - loss: 9.1019 - mae: 9.1019\n",
            "Epoch 18/100\n",
            "1/1 [==============================] - 0s 7ms/step - loss: 8.9694 - mae: 8.9694\n",
            "Epoch 19/100\n",
            "1/1 [==============================] - 0s 7ms/step - loss: 8.8369 - mae: 8.8369\n",
            "Epoch 20/100\n",
            "1/1 [==============================] - 0s 7ms/step - loss: 8.7044 - mae: 8.7044\n",
            "Epoch 21/100\n",
            "1/1 [==============================] - 0s 8ms/step - loss: 8.5719 - mae: 8.5719\n",
            "Epoch 22/100\n",
            "1/1 [==============================] - 0s 8ms/step - loss: 8.4394 - mae: 8.4394\n",
            "Epoch 23/100\n",
            "1/1 [==============================] - 0s 16ms/step - loss: 8.3069 - mae: 8.3069\n",
            "Epoch 24/100\n",
            "1/1 [==============================] - 0s 55ms/step - loss: 8.1744 - mae: 8.1744\n",
            "Epoch 25/100\n",
            "1/1 [==============================] - 0s 13ms/step - loss: 8.0419 - mae: 8.0419\n",
            "Epoch 26/100\n",
            "1/1 [==============================] - 0s 22ms/step - loss: 7.9094 - mae: 7.9094\n",
            "Epoch 27/100\n",
            "1/1 [==============================] - 0s 14ms/step - loss: 7.7769 - mae: 7.7769\n",
            "Epoch 28/100\n",
            "1/1 [==============================] - 0s 15ms/step - loss: 7.6444 - mae: 7.6444\n",
            "Epoch 29/100\n",
            "1/1 [==============================] - 0s 15ms/step - loss: 7.5119 - mae: 7.5119\n",
            "Epoch 30/100\n",
            "1/1 [==============================] - 0s 14ms/step - loss: 7.3794 - mae: 7.3794\n",
            "Epoch 31/100\n",
            "1/1 [==============================] - 0s 9ms/step - loss: 7.2750 - mae: 7.2750\n",
            "Epoch 32/100\n",
            "1/1 [==============================] - 0s 15ms/step - loss: 7.2694 - mae: 7.2694\n",
            "Epoch 33/100\n",
            "1/1 [==============================] - 0s 7ms/step - loss: 7.2638 - mae: 7.2638\n",
            "Epoch 34/100\n",
            "1/1 [==============================] - 0s 8ms/step - loss: 7.2581 - mae: 7.2581\n",
            "Epoch 35/100\n",
            "1/1 [==============================] - 0s 6ms/step - loss: 7.2525 - mae: 7.2525\n",
            "Epoch 36/100\n",
            "1/1 [==============================] - 0s 7ms/step - loss: 7.2469 - mae: 7.2469\n",
            "Epoch 37/100\n",
            "1/1 [==============================] - 0s 8ms/step - loss: 7.2412 - mae: 7.2412\n",
            "Epoch 38/100\n",
            "1/1 [==============================] - 0s 15ms/step - loss: 7.2356 - mae: 7.2356\n",
            "Epoch 39/100\n",
            "1/1 [==============================] - 0s 7ms/step - loss: 7.2300 - mae: 7.2300\n",
            "Epoch 40/100\n",
            "1/1 [==============================] - 0s 11ms/step - loss: 7.2244 - mae: 7.2244\n",
            "Epoch 41/100\n",
            "1/1 [==============================] - 0s 11ms/step - loss: 7.2188 - mae: 7.2188\n",
            "Epoch 42/100\n",
            "1/1 [==============================] - 0s 11ms/step - loss: 7.2131 - mae: 7.2131\n",
            "Epoch 43/100\n",
            "1/1 [==============================] - 0s 10ms/step - loss: 7.2075 - mae: 7.2075\n",
            "Epoch 44/100\n",
            "1/1 [==============================] - 0s 6ms/step - loss: 7.2019 - mae: 7.2019\n",
            "Epoch 45/100\n",
            "1/1 [==============================] - 0s 6ms/step - loss: 7.1962 - mae: 7.1962\n",
            "Epoch 46/100\n",
            "1/1 [==============================] - 0s 7ms/step - loss: 7.1906 - mae: 7.1906\n",
            "Epoch 47/100\n",
            "1/1 [==============================] - 0s 6ms/step - loss: 7.1850 - mae: 7.1850\n",
            "Epoch 48/100\n",
            "1/1 [==============================] - 0s 6ms/step - loss: 7.1794 - mae: 7.1794\n",
            "Epoch 49/100\n",
            "1/1 [==============================] - 0s 9ms/step - loss: 7.1737 - mae: 7.1737\n",
            "Epoch 50/100\n",
            "1/1 [==============================] - 0s 13ms/step - loss: 7.1681 - mae: 7.1681\n",
            "Epoch 51/100\n",
            "1/1 [==============================] - 0s 15ms/step - loss: 7.1625 - mae: 7.1625\n",
            "Epoch 52/100\n",
            "1/1 [==============================] - 0s 20ms/step - loss: 7.1569 - mae: 7.1569\n",
            "Epoch 53/100\n",
            "1/1 [==============================] - 0s 9ms/step - loss: 7.1512 - mae: 7.1512\n",
            "Epoch 54/100\n",
            "1/1 [==============================] - 0s 9ms/step - loss: 7.1456 - mae: 7.1456\n",
            "Epoch 55/100\n",
            "1/1 [==============================] - 0s 10ms/step - loss: 7.1400 - mae: 7.1400\n",
            "Epoch 56/100\n",
            "1/1 [==============================] - 0s 10ms/step - loss: 7.1344 - mae: 7.1344\n",
            "Epoch 57/100\n",
            "1/1 [==============================] - 0s 12ms/step - loss: 7.1287 - mae: 7.1287\n",
            "Epoch 58/100\n",
            "1/1 [==============================] - 0s 16ms/step - loss: 7.1231 - mae: 7.1231\n",
            "Epoch 59/100\n",
            "1/1 [==============================] - 0s 17ms/step - loss: 7.1175 - mae: 7.1175\n",
            "Epoch 60/100\n",
            "1/1 [==============================] - 0s 13ms/step - loss: 7.1119 - mae: 7.1119\n",
            "Epoch 61/100\n",
            "1/1 [==============================] - 0s 7ms/step - loss: 7.1062 - mae: 7.1062\n",
            "Epoch 62/100\n",
            "1/1 [==============================] - 0s 8ms/step - loss: 7.1006 - mae: 7.1006\n",
            "Epoch 63/100\n",
            "1/1 [==============================] - 0s 7ms/step - loss: 7.0950 - mae: 7.0950\n",
            "Epoch 64/100\n",
            "1/1 [==============================] - 0s 7ms/step - loss: 7.0894 - mae: 7.0894\n",
            "Epoch 65/100\n",
            "1/1 [==============================] - 0s 9ms/step - loss: 7.0838 - mae: 7.0838\n",
            "Epoch 66/100\n",
            "1/1 [==============================] - 0s 9ms/step - loss: 7.0781 - mae: 7.0781\n",
            "Epoch 67/100\n",
            "1/1 [==============================] - 0s 8ms/step - loss: 7.0725 - mae: 7.0725\n",
            "Epoch 68/100\n",
            "1/1 [==============================] - 0s 7ms/step - loss: 7.0669 - mae: 7.0669\n",
            "Epoch 69/100\n",
            "1/1 [==============================] - 0s 11ms/step - loss: 7.0613 - mae: 7.0613\n",
            "Epoch 70/100\n",
            "1/1 [==============================] - 0s 10ms/step - loss: 7.0556 - mae: 7.0556\n",
            "Epoch 71/100\n",
            "1/1 [==============================] - 0s 11ms/step - loss: 7.0500 - mae: 7.0500\n",
            "Epoch 72/100\n",
            "1/1 [==============================] - 0s 13ms/step - loss: 7.0444 - mae: 7.0444\n",
            "Epoch 73/100\n",
            "1/1 [==============================] - 0s 9ms/step - loss: 7.0388 - mae: 7.0388\n",
            "Epoch 74/100\n",
            "1/1 [==============================] - 0s 12ms/step - loss: 7.0331 - mae: 7.0331\n",
            "Epoch 75/100\n",
            "1/1 [==============================] - 0s 8ms/step - loss: 7.0275 - mae: 7.0275\n",
            "Epoch 76/100\n",
            "1/1 [==============================] - 0s 15ms/step - loss: 7.0219 - mae: 7.0219\n",
            "Epoch 77/100\n",
            "1/1 [==============================] - 0s 38ms/step - loss: 7.0163 - mae: 7.0163\n",
            "Epoch 78/100\n",
            "1/1 [==============================] - 0s 9ms/step - loss: 7.0106 - mae: 7.0106\n",
            "Epoch 79/100\n",
            "1/1 [==============================] - 0s 11ms/step - loss: 7.0050 - mae: 7.0050\n",
            "Epoch 80/100\n",
            "1/1 [==============================] - 0s 11ms/step - loss: 6.9994 - mae: 6.9994\n",
            "Epoch 81/100\n",
            "1/1 [==============================] - 0s 7ms/step - loss: 6.9938 - mae: 6.9938\n",
            "Epoch 82/100\n",
            "1/1 [==============================] - 0s 13ms/step - loss: 6.9881 - mae: 6.9881\n",
            "Epoch 83/100\n",
            "1/1 [==============================] - 0s 7ms/step - loss: 6.9825 - mae: 6.9825\n",
            "Epoch 84/100\n",
            "1/1 [==============================] - 0s 9ms/step - loss: 6.9769 - mae: 6.9769\n",
            "Epoch 85/100\n",
            "1/1 [==============================] - 0s 9ms/step - loss: 6.9713 - mae: 6.9713\n",
            "Epoch 86/100\n",
            "1/1 [==============================] - 0s 11ms/step - loss: 6.9656 - mae: 6.9656\n",
            "Epoch 87/100\n",
            "1/1 [==============================] - 0s 10ms/step - loss: 6.9600 - mae: 6.9600\n",
            "Epoch 88/100\n",
            "1/1 [==============================] - 0s 13ms/step - loss: 6.9544 - mae: 6.9544\n",
            "Epoch 89/100\n",
            "1/1 [==============================] - 0s 10ms/step - loss: 6.9488 - mae: 6.9488\n",
            "Epoch 90/100\n",
            "1/1 [==============================] - 0s 24ms/step - loss: 6.9431 - mae: 6.9431\n",
            "Epoch 91/100\n",
            "1/1 [==============================] - 0s 10ms/step - loss: 6.9375 - mae: 6.9375\n",
            "Epoch 92/100\n",
            "1/1 [==============================] - 0s 8ms/step - loss: 6.9319 - mae: 6.9319\n",
            "Epoch 93/100\n",
            "1/1 [==============================] - 0s 9ms/step - loss: 6.9263 - mae: 6.9263\n",
            "Epoch 94/100\n",
            "1/1 [==============================] - 0s 11ms/step - loss: 6.9206 - mae: 6.9206\n",
            "Epoch 95/100\n",
            "1/1 [==============================] - 0s 9ms/step - loss: 6.9150 - mae: 6.9150\n",
            "Epoch 96/100\n",
            "1/1 [==============================] - 0s 8ms/step - loss: 6.9094 - mae: 6.9094\n",
            "Epoch 97/100\n",
            "1/1 [==============================] - 0s 6ms/step - loss: 6.9038 - mae: 6.9038\n",
            "Epoch 98/100\n",
            "1/1 [==============================] - 0s 5ms/step - loss: 6.8981 - mae: 6.8981\n",
            "Epoch 99/100\n",
            "1/1 [==============================] - 0s 20ms/step - loss: 6.8925 - mae: 6.8925\n",
            "Epoch 100/100\n",
            "1/1 [==============================] - 0s 10ms/step - loss: 6.8869 - mae: 6.8869\n"
          ]
        },
        {
          "output_type": "execute_result",
          "data": {
            "text/plain": [
              "<keras.callbacks.History at 0x7efe6237fa50>"
            ]
          },
          "metadata": {},
          "execution_count": 35
        }
      ]
    },
    {
      "cell_type": "code",
      "source": [
        "model.predict([17.0]) "
      ],
      "metadata": {
        "colab": {
          "base_uri": "https://localhost:8080/"
        },
        "id": "mPkAuZyFEFJg",
        "outputId": "e6944574-c027-4361-85b5-13c69e65236d"
      },
      "execution_count": null,
      "outputs": [
        {
          "output_type": "stream",
          "name": "stderr",
          "text": [
            "WARNING:tensorflow:5 out of the last 5 calls to <function Model.make_predict_function.<locals>.predict_function at 0x7efe5e692440> triggered tf.function retracing. Tracing is expensive and the excessive number of tracings could be due to (1) creating @tf.function repeatedly in a loop, (2) passing tensors with different shapes, (3) passing Python objects instead of tensors. For (1), please define your @tf.function outside of the loop. For (2), @tf.function has experimental_relax_shapes=True option that relaxes argument shapes that can avoid unnecessary retracing. For (3), please refer to https://www.tensorflow.org/guide/function#controlling_retracing and https://www.tensorflow.org/api_docs/python/tf/function for  more details.\n"
          ]
        },
        {
          "output_type": "execute_result",
          "data": {
            "text/plain": [
              "array([[29.739855]], dtype=float32)"
            ]
          },
          "metadata": {},
          "execution_count": 36
        }
      ]
    },
    {
      "cell_type": "code",
      "source": [
        "# improve model again \n",
        "model = tf.keras.Sequential([\n",
        "      tf.keras.layers.Dense(100, activation = \"relu\"),\n",
        "      tf.keras.layers.Dense(100, activation = \"relu\"),\n",
        "      tf.keras.layers.Dense(100, activation = \"relu\"),\n",
        "      tf.keras.layers.Dense(1)\n",
        "  ])\n",
        "\n",
        "model.compile(loss = tf.keras.losses.mae,\n",
        "                optimizer = tf.keras.optimizers.Adam(learning_rate = 0.001),\n",
        "                metrics = [\"mae\"])\n",
        "  \n",
        "model.fit(tf.expand_dims(X, axis=-1),y, epochs = 200)"
      ],
      "metadata": {
        "colab": {
          "base_uri": "https://localhost:8080/"
        },
        "id": "FZg-UZx-EySo",
        "outputId": "5b4f2f19-7520-48fe-c3b2-c855393fb755"
      },
      "execution_count": null,
      "outputs": [
        {
          "output_type": "stream",
          "name": "stdout",
          "text": [
            "Epoch 1/200\n",
            "1/1 [==============================] - 1s 1s/step - loss: 12.9513 - mae: 12.9513\n",
            "Epoch 2/200\n",
            "1/1 [==============================] - 0s 10ms/step - loss: 12.5285 - mae: 12.5285\n",
            "Epoch 3/200\n",
            "1/1 [==============================] - 0s 12ms/step - loss: 12.1098 - mae: 12.1098\n",
            "Epoch 4/200\n",
            "1/1 [==============================] - 0s 8ms/step - loss: 11.6979 - mae: 11.6979\n",
            "Epoch 5/200\n",
            "1/1 [==============================] - 0s 9ms/step - loss: 11.2893 - mae: 11.2893\n",
            "Epoch 6/200\n",
            "1/1 [==============================] - 0s 24ms/step - loss: 10.8902 - mae: 10.8902\n",
            "Epoch 7/200\n",
            "1/1 [==============================] - 0s 11ms/step - loss: 10.5068 - mae: 10.5068\n",
            "Epoch 8/200\n",
            "1/1 [==============================] - 0s 11ms/step - loss: 10.1209 - mae: 10.1209\n",
            "Epoch 9/200\n",
            "1/1 [==============================] - 0s 24ms/step - loss: 9.7311 - mae: 9.7311\n",
            "Epoch 10/200\n",
            "1/1 [==============================] - 0s 12ms/step - loss: 9.3167 - mae: 9.3167\n",
            "Epoch 11/200\n",
            "1/1 [==============================] - 0s 11ms/step - loss: 8.8797 - mae: 8.8797\n",
            "Epoch 12/200\n",
            "1/1 [==============================] - 0s 15ms/step - loss: 8.4478 - mae: 8.4478\n",
            "Epoch 13/200\n",
            "1/1 [==============================] - 0s 15ms/step - loss: 8.0554 - mae: 8.0554\n",
            "Epoch 14/200\n",
            "1/1 [==============================] - 0s 9ms/step - loss: 7.6417 - mae: 7.6417\n",
            "Epoch 15/200\n",
            "1/1 [==============================] - 0s 9ms/step - loss: 7.2037 - mae: 7.2037\n",
            "Epoch 16/200\n",
            "1/1 [==============================] - 0s 10ms/step - loss: 6.7338 - mae: 6.7338\n",
            "Epoch 17/200\n",
            "1/1 [==============================] - 0s 9ms/step - loss: 6.2391 - mae: 6.2391\n",
            "Epoch 18/200\n",
            "1/1 [==============================] - 0s 9ms/step - loss: 5.7124 - mae: 5.7124\n",
            "Epoch 19/200\n",
            "1/1 [==============================] - 0s 17ms/step - loss: 5.1505 - mae: 5.1505\n",
            "Epoch 20/200\n",
            "1/1 [==============================] - 0s 10ms/step - loss: 4.5515 - mae: 4.5515\n",
            "Epoch 21/200\n",
            "1/1 [==============================] - 0s 7ms/step - loss: 4.1226 - mae: 4.1226\n",
            "Epoch 22/200\n",
            "1/1 [==============================] - 0s 7ms/step - loss: 3.9248 - mae: 3.9248\n",
            "Epoch 23/200\n",
            "1/1 [==============================] - 0s 7ms/step - loss: 4.0670 - mae: 4.0670\n",
            "Epoch 24/200\n",
            "1/1 [==============================] - 0s 11ms/step - loss: 4.1968 - mae: 4.1968\n",
            "Epoch 25/200\n",
            "1/1 [==============================] - 0s 9ms/step - loss: 4.3344 - mae: 4.3344\n",
            "Epoch 26/200\n",
            "1/1 [==============================] - 0s 12ms/step - loss: 4.5500 - mae: 4.5500\n",
            "Epoch 27/200\n",
            "1/1 [==============================] - 0s 12ms/step - loss: 4.6800 - mae: 4.6800\n",
            "Epoch 28/200\n",
            "1/1 [==============================] - 0s 21ms/step - loss: 4.7330 - mae: 4.7330\n",
            "Epoch 29/200\n",
            "1/1 [==============================] - 0s 29ms/step - loss: 4.7179 - mae: 4.7179\n",
            "Epoch 30/200\n",
            "1/1 [==============================] - 0s 12ms/step - loss: 4.6452 - mae: 4.6452\n",
            "Epoch 31/200\n",
            "1/1 [==============================] - 0s 12ms/step - loss: 4.5235 - mae: 4.5235\n",
            "Epoch 32/200\n",
            "1/1 [==============================] - 0s 19ms/step - loss: 4.3622 - mae: 4.3622\n",
            "Epoch 33/200\n",
            "1/1 [==============================] - 0s 11ms/step - loss: 4.2044 - mae: 4.2044\n",
            "Epoch 34/200\n",
            "1/1 [==============================] - 0s 11ms/step - loss: 4.1277 - mae: 4.1277\n",
            "Epoch 35/200\n",
            "1/1 [==============================] - 0s 12ms/step - loss: 4.0525 - mae: 4.0525\n",
            "Epoch 36/200\n",
            "1/1 [==============================] - 0s 8ms/step - loss: 3.9784 - mae: 3.9784\n",
            "Epoch 37/200\n",
            "1/1 [==============================] - 0s 9ms/step - loss: 3.9052 - mae: 3.9052\n",
            "Epoch 38/200\n",
            "1/1 [==============================] - 0s 8ms/step - loss: 3.8333 - mae: 3.8333\n",
            "Epoch 39/200\n",
            "1/1 [==============================] - 0s 23ms/step - loss: 3.8401 - mae: 3.8401\n",
            "Epoch 40/200\n",
            "1/1 [==============================] - 0s 11ms/step - loss: 3.8941 - mae: 3.8941\n",
            "Epoch 41/200\n",
            "1/1 [==============================] - 0s 12ms/step - loss: 3.9317 - mae: 3.9317\n",
            "Epoch 42/200\n",
            "1/1 [==============================] - 0s 11ms/step - loss: 3.9546 - mae: 3.9546\n",
            "Epoch 43/200\n",
            "1/1 [==============================] - 0s 11ms/step - loss: 3.9649 - mae: 3.9649\n",
            "Epoch 44/200\n",
            "1/1 [==============================] - 0s 10ms/step - loss: 3.9633 - mae: 3.9633\n",
            "Epoch 45/200\n",
            "1/1 [==============================] - 0s 23ms/step - loss: 3.9511 - mae: 3.9511\n",
            "Epoch 46/200\n",
            "1/1 [==============================] - 0s 18ms/step - loss: 3.9296 - mae: 3.9296\n",
            "Epoch 47/200\n",
            "1/1 [==============================] - 0s 17ms/step - loss: 3.8990 - mae: 3.8990\n",
            "Epoch 48/200\n",
            "1/1 [==============================] - 0s 18ms/step - loss: 3.8589 - mae: 3.8589\n",
            "Epoch 49/200\n",
            "1/1 [==============================] - 0s 29ms/step - loss: 3.8110 - mae: 3.8110\n",
            "Epoch 50/200\n",
            "1/1 [==============================] - 0s 15ms/step - loss: 3.7558 - mae: 3.7558\n",
            "Epoch 51/200\n",
            "1/1 [==============================] - 0s 20ms/step - loss: 3.6930 - mae: 3.6930\n",
            "Epoch 52/200\n",
            "1/1 [==============================] - 0s 10ms/step - loss: 3.7065 - mae: 3.7065\n",
            "Epoch 53/200\n",
            "1/1 [==============================] - 0s 7ms/step - loss: 3.7302 - mae: 3.7302\n",
            "Epoch 54/200\n",
            "1/1 [==============================] - 0s 14ms/step - loss: 3.7500 - mae: 3.7500\n",
            "Epoch 55/200\n",
            "1/1 [==============================] - 0s 15ms/step - loss: 3.7534 - mae: 3.7534\n",
            "Epoch 56/200\n",
            "1/1 [==============================] - 0s 12ms/step - loss: 3.7540 - mae: 3.7540\n",
            "Epoch 57/200\n",
            "1/1 [==============================] - 0s 13ms/step - loss: 3.7465 - mae: 3.7465\n",
            "Epoch 58/200\n",
            "1/1 [==============================] - 0s 10ms/step - loss: 3.7322 - mae: 3.7322\n",
            "Epoch 59/200\n",
            "1/1 [==============================] - 0s 15ms/step - loss: 3.7112 - mae: 3.7112\n",
            "Epoch 60/200\n",
            "1/1 [==============================] - 0s 12ms/step - loss: 3.6847 - mae: 3.6847\n",
            "Epoch 61/200\n",
            "1/1 [==============================] - 0s 11ms/step - loss: 3.6529 - mae: 3.6529\n",
            "Epoch 62/200\n",
            "1/1 [==============================] - 0s 24ms/step - loss: 3.6281 - mae: 3.6281\n",
            "Epoch 63/200\n",
            "1/1 [==============================] - 0s 14ms/step - loss: 3.5796 - mae: 3.5796\n",
            "Epoch 64/200\n",
            "1/1 [==============================] - 0s 12ms/step - loss: 3.6103 - mae: 3.6103\n",
            "Epoch 65/200\n",
            "1/1 [==============================] - 0s 11ms/step - loss: 3.6314 - mae: 3.6314\n",
            "Epoch 66/200\n",
            "1/1 [==============================] - 0s 13ms/step - loss: 3.6358 - mae: 3.6358\n",
            "Epoch 67/200\n",
            "1/1 [==============================] - 0s 12ms/step - loss: 3.6249 - mae: 3.6249\n",
            "Epoch 68/200\n",
            "1/1 [==============================] - 0s 15ms/step - loss: 3.5999 - mae: 3.5999\n",
            "Epoch 69/200\n",
            "1/1 [==============================] - 0s 12ms/step - loss: 3.5609 - mae: 3.5609\n",
            "Epoch 70/200\n",
            "1/1 [==============================] - 0s 13ms/step - loss: 3.5099 - mae: 3.5099\n",
            "Epoch 71/200\n",
            "1/1 [==============================] - 0s 33ms/step - loss: 3.5159 - mae: 3.5159\n",
            "Epoch 72/200\n",
            "1/1 [==============================] - 0s 19ms/step - loss: 3.5175 - mae: 3.5175\n",
            "Epoch 73/200\n",
            "1/1 [==============================] - 0s 53ms/step - loss: 3.5069 - mae: 3.5069\n",
            "Epoch 74/200\n",
            "1/1 [==============================] - 0s 8ms/step - loss: 3.4920 - mae: 3.4920\n",
            "Epoch 75/200\n",
            "1/1 [==============================] - 0s 8ms/step - loss: 3.4704 - mae: 3.4704\n",
            "Epoch 76/200\n",
            "1/1 [==============================] - 0s 10ms/step - loss: 3.4534 - mae: 3.4534\n",
            "Epoch 77/200\n",
            "1/1 [==============================] - 0s 12ms/step - loss: 3.4483 - mae: 3.4483\n",
            "Epoch 78/200\n",
            "1/1 [==============================] - 0s 11ms/step - loss: 3.4268 - mae: 3.4268\n",
            "Epoch 79/200\n",
            "1/1 [==============================] - 0s 13ms/step - loss: 3.4194 - mae: 3.4194\n",
            "Epoch 80/200\n",
            "1/1 [==============================] - 0s 18ms/step - loss: 3.4120 - mae: 3.4120\n",
            "Epoch 81/200\n",
            "1/1 [==============================] - 0s 16ms/step - loss: 3.3956 - mae: 3.3956\n",
            "Epoch 82/200\n",
            "1/1 [==============================] - 0s 17ms/step - loss: 3.3757 - mae: 3.3757\n",
            "Epoch 83/200\n",
            "1/1 [==============================] - 0s 16ms/step - loss: 3.3477 - mae: 3.3477\n",
            "Epoch 84/200\n",
            "1/1 [==============================] - 0s 14ms/step - loss: 3.3362 - mae: 3.3362\n",
            "Epoch 85/200\n",
            "1/1 [==============================] - 0s 18ms/step - loss: 3.3275 - mae: 3.3275\n",
            "Epoch 86/200\n",
            "1/1 [==============================] - 0s 17ms/step - loss: 3.3051 - mae: 3.3051\n",
            "Epoch 87/200\n",
            "1/1 [==============================] - 0s 16ms/step - loss: 3.2856 - mae: 3.2856\n",
            "Epoch 88/200\n",
            "1/1 [==============================] - 0s 16ms/step - loss: 3.2694 - mae: 3.2694\n",
            "Epoch 89/200\n",
            "1/1 [==============================] - 0s 19ms/step - loss: 3.2465 - mae: 3.2465\n",
            "Epoch 90/200\n",
            "1/1 [==============================] - 0s 12ms/step - loss: 3.2267 - mae: 3.2267\n",
            "Epoch 91/200\n",
            "1/1 [==============================] - 0s 10ms/step - loss: 3.2103 - mae: 3.2103\n",
            "Epoch 92/200\n",
            "1/1 [==============================] - 0s 14ms/step - loss: 3.1834 - mae: 3.1834\n",
            "Epoch 93/200\n",
            "1/1 [==============================] - 0s 18ms/step - loss: 3.1620 - mae: 3.1620\n",
            "Epoch 94/200\n",
            "1/1 [==============================] - 0s 18ms/step - loss: 3.1473 - mae: 3.1473\n",
            "Epoch 95/200\n",
            "1/1 [==============================] - 0s 13ms/step - loss: 3.1263 - mae: 3.1263\n",
            "Epoch 96/200\n",
            "1/1 [==============================] - 0s 14ms/step - loss: 3.1041 - mae: 3.1041\n",
            "Epoch 97/200\n",
            "1/1 [==============================] - 0s 27ms/step - loss: 3.0863 - mae: 3.0863\n",
            "Epoch 98/200\n",
            "1/1 [==============================] - 0s 23ms/step - loss: 3.0641 - mae: 3.0641\n",
            "Epoch 99/200\n",
            "1/1 [==============================] - 0s 15ms/step - loss: 3.0412 - mae: 3.0412\n",
            "Epoch 100/200\n",
            "1/1 [==============================] - 0s 17ms/step - loss: 3.0252 - mae: 3.0252\n",
            "Epoch 101/200\n",
            "1/1 [==============================] - 0s 11ms/step - loss: 2.9976 - mae: 2.9976\n",
            "Epoch 102/200\n",
            "1/1 [==============================] - 0s 11ms/step - loss: 2.9595 - mae: 2.9595\n",
            "Epoch 103/200\n",
            "1/1 [==============================] - 0s 11ms/step - loss: 2.9630 - mae: 2.9630\n",
            "Epoch 104/200\n",
            "1/1 [==============================] - 0s 23ms/step - loss: 2.9354 - mae: 2.9354\n",
            "Epoch 105/200\n",
            "1/1 [==============================] - 0s 23ms/step - loss: 2.8779 - mae: 2.8779\n",
            "Epoch 106/200\n",
            "1/1 [==============================] - 0s 18ms/step - loss: 2.8590 - mae: 2.8590\n",
            "Epoch 107/200\n",
            "1/1 [==============================] - 0s 12ms/step - loss: 2.8406 - mae: 2.8406\n",
            "Epoch 108/200\n",
            "1/1 [==============================] - 0s 11ms/step - loss: 2.8252 - mae: 2.8252\n",
            "Epoch 109/200\n",
            "1/1 [==============================] - 0s 11ms/step - loss: 2.7753 - mae: 2.7753\n",
            "Epoch 110/200\n",
            "1/1 [==============================] - 0s 12ms/step - loss: 2.7280 - mae: 2.7280\n",
            "Epoch 111/200\n",
            "1/1 [==============================] - 0s 24ms/step - loss: 2.6679 - mae: 2.6679\n",
            "Epoch 112/200\n",
            "1/1 [==============================] - 0s 24ms/step - loss: 2.6428 - mae: 2.6428\n",
            "Epoch 113/200\n",
            "1/1 [==============================] - 0s 10ms/step - loss: 2.6052 - mae: 2.6052\n",
            "Epoch 114/200\n",
            "1/1 [==============================] - 0s 17ms/step - loss: 2.5228 - mae: 2.5228\n",
            "Epoch 115/200\n",
            "1/1 [==============================] - 0s 16ms/step - loss: 2.4479 - mae: 2.4479\n",
            "Epoch 116/200\n",
            "1/1 [==============================] - 0s 9ms/step - loss: 2.4003 - mae: 2.4003\n",
            "Epoch 117/200\n",
            "1/1 [==============================] - 0s 10ms/step - loss: 2.3272 - mae: 2.3272\n",
            "Epoch 118/200\n",
            "1/1 [==============================] - 0s 10ms/step - loss: 2.2284 - mae: 2.2284\n",
            "Epoch 119/200\n",
            "1/1 [==============================] - 0s 11ms/step - loss: 2.1000 - mae: 2.1000\n",
            "Epoch 120/200\n",
            "1/1 [==============================] - 0s 12ms/step - loss: 2.0172 - mae: 2.0172\n",
            "Epoch 121/200\n",
            "1/1 [==============================] - 0s 11ms/step - loss: 1.9335 - mae: 1.9335\n",
            "Epoch 122/200\n",
            "1/1 [==============================] - 0s 10ms/step - loss: 1.8949 - mae: 1.8949\n",
            "Epoch 123/200\n",
            "1/1 [==============================] - 0s 9ms/step - loss: 1.7888 - mae: 1.7888\n",
            "Epoch 124/200\n",
            "1/1 [==============================] - 0s 11ms/step - loss: 1.7254 - mae: 1.7254\n",
            "Epoch 125/200\n",
            "1/1 [==============================] - 0s 10ms/step - loss: 1.6648 - mae: 1.6648\n",
            "Epoch 126/200\n",
            "1/1 [==============================] - 0s 12ms/step - loss: 1.5770 - mae: 1.5770\n",
            "Epoch 127/200\n",
            "1/1 [==============================] - 0s 11ms/step - loss: 1.4650 - mae: 1.4650\n",
            "Epoch 128/200\n",
            "1/1 [==============================] - 0s 11ms/step - loss: 1.3236 - mae: 1.3236\n",
            "Epoch 129/200\n",
            "1/1 [==============================] - 0s 17ms/step - loss: 1.1765 - mae: 1.1765\n",
            "Epoch 130/200\n",
            "1/1 [==============================] - 0s 25ms/step - loss: 1.1146 - mae: 1.1146\n",
            "Epoch 131/200\n",
            "1/1 [==============================] - 0s 18ms/step - loss: 0.9913 - mae: 0.9913\n",
            "Epoch 132/200\n",
            "1/1 [==============================] - 0s 19ms/step - loss: 0.8157 - mae: 0.8157\n",
            "Epoch 133/200\n",
            "1/1 [==============================] - 0s 16ms/step - loss: 0.7402 - mae: 0.7402\n",
            "Epoch 134/200\n",
            "1/1 [==============================] - 0s 20ms/step - loss: 0.6239 - mae: 0.6239\n",
            "Epoch 135/200\n",
            "1/1 [==============================] - 0s 17ms/step - loss: 0.5655 - mae: 0.5655\n",
            "Epoch 136/200\n",
            "1/1 [==============================] - 0s 13ms/step - loss: 0.5605 - mae: 0.5605\n",
            "Epoch 137/200\n",
            "1/1 [==============================] - 0s 13ms/step - loss: 0.5044 - mae: 0.5044\n",
            "Epoch 138/200\n",
            "1/1 [==============================] - 0s 14ms/step - loss: 0.5781 - mae: 0.5781\n",
            "Epoch 139/200\n",
            "1/1 [==============================] - 0s 10ms/step - loss: 0.4654 - mae: 0.4654\n",
            "Epoch 140/200\n",
            "1/1 [==============================] - 0s 11ms/step - loss: 0.5846 - mae: 0.5846\n",
            "Epoch 141/200\n",
            "1/1 [==============================] - 0s 13ms/step - loss: 0.4719 - mae: 0.4719\n",
            "Epoch 142/200\n",
            "1/1 [==============================] - 0s 18ms/step - loss: 0.5513 - mae: 0.5513\n",
            "Epoch 143/200\n",
            "1/1 [==============================] - 0s 16ms/step - loss: 0.5514 - mae: 0.5514\n",
            "Epoch 144/200\n",
            "1/1 [==============================] - 0s 13ms/step - loss: 0.3830 - mae: 0.3830\n",
            "Epoch 145/200\n",
            "1/1 [==============================] - 0s 16ms/step - loss: 0.5254 - mae: 0.5254\n",
            "Epoch 146/200\n",
            "1/1 [==============================] - 0s 19ms/step - loss: 0.3030 - mae: 0.3030\n",
            "Epoch 147/200\n",
            "1/1 [==============================] - 0s 17ms/step - loss: 0.6889 - mae: 0.6889\n",
            "Epoch 148/200\n",
            "1/1 [==============================] - 0s 14ms/step - loss: 0.7715 - mae: 0.7715\n",
            "Epoch 149/200\n",
            "1/1 [==============================] - 0s 12ms/step - loss: 0.3879 - mae: 0.3879\n",
            "Epoch 150/200\n",
            "1/1 [==============================] - 0s 20ms/step - loss: 0.6525 - mae: 0.6525\n",
            "Epoch 151/200\n",
            "1/1 [==============================] - 0s 20ms/step - loss: 0.8927 - mae: 0.8927\n",
            "Epoch 152/200\n",
            "1/1 [==============================] - 0s 9ms/step - loss: 0.8343 - mae: 0.8343\n",
            "Epoch 153/200\n",
            "1/1 [==============================] - 0s 11ms/step - loss: 0.4961 - mae: 0.4961\n",
            "Epoch 154/200\n",
            "1/1 [==============================] - 0s 11ms/step - loss: 0.5402 - mae: 0.5402\n",
            "Epoch 155/200\n",
            "1/1 [==============================] - 0s 16ms/step - loss: 0.7313 - mae: 0.7313\n",
            "Epoch 156/200\n",
            "1/1 [==============================] - 0s 13ms/step - loss: 0.6354 - mae: 0.6354\n",
            "Epoch 157/200\n",
            "1/1 [==============================] - 0s 27ms/step - loss: 0.3716 - mae: 0.3716\n",
            "Epoch 158/200\n",
            "1/1 [==============================] - 0s 9ms/step - loss: 0.4620 - mae: 0.4620\n",
            "Epoch 159/200\n",
            "1/1 [==============================] - 0s 19ms/step - loss: 0.6379 - mae: 0.6379\n",
            "Epoch 160/200\n",
            "1/1 [==============================] - 0s 14ms/step - loss: 0.5737 - mae: 0.5737\n",
            "Epoch 161/200\n",
            "1/1 [==============================] - 0s 14ms/step - loss: 0.3692 - mae: 0.3692\n",
            "Epoch 162/200\n",
            "1/1 [==============================] - 0s 13ms/step - loss: 0.4031 - mae: 0.4031\n",
            "Epoch 163/200\n",
            "1/1 [==============================] - 0s 16ms/step - loss: 0.4737 - mae: 0.4737\n",
            "Epoch 164/200\n",
            "1/1 [==============================] - 0s 14ms/step - loss: 0.3484 - mae: 0.3484\n",
            "Epoch 165/200\n",
            "1/1 [==============================] - 0s 11ms/step - loss: 0.2872 - mae: 0.2872\n",
            "Epoch 166/200\n",
            "1/1 [==============================] - 0s 11ms/step - loss: 0.4053 - mae: 0.4053\n",
            "Epoch 167/200\n",
            "1/1 [==============================] - 0s 12ms/step - loss: 0.3259 - mae: 0.3259\n",
            "Epoch 168/200\n",
            "1/1 [==============================] - 0s 14ms/step - loss: 0.1816 - mae: 0.1816\n",
            "Epoch 169/200\n",
            "1/1 [==============================] - 0s 29ms/step - loss: 0.2495 - mae: 0.2495\n",
            "Epoch 170/200\n",
            "1/1 [==============================] - 0s 9ms/step - loss: 0.1722 - mae: 0.1722\n",
            "Epoch 171/200\n",
            "1/1 [==============================] - 0s 10ms/step - loss: 0.1932 - mae: 0.1932\n",
            "Epoch 172/200\n",
            "1/1 [==============================] - 0s 22ms/step - loss: 0.0920 - mae: 0.0920\n",
            "Epoch 173/200\n",
            "1/1 [==============================] - 0s 14ms/step - loss: 0.2400 - mae: 0.2400\n",
            "Epoch 174/200\n",
            "1/1 [==============================] - 0s 16ms/step - loss: 0.1863 - mae: 0.1863\n",
            "Epoch 175/200\n",
            "1/1 [==============================] - 0s 16ms/step - loss: 0.1308 - mae: 0.1308\n",
            "Epoch 176/200\n",
            "1/1 [==============================] - 0s 14ms/step - loss: 0.1118 - mae: 0.1118\n",
            "Epoch 177/200\n",
            "1/1 [==============================] - 0s 18ms/step - loss: 0.2257 - mae: 0.2257\n",
            "Epoch 178/200\n",
            "1/1 [==============================] - 0s 11ms/step - loss: 0.2034 - mae: 0.2034\n",
            "Epoch 179/200\n",
            "1/1 [==============================] - 0s 16ms/step - loss: 0.1339 - mae: 0.1339\n",
            "Epoch 180/200\n",
            "1/1 [==============================] - 0s 11ms/step - loss: 0.1696 - mae: 0.1696\n",
            "Epoch 181/200\n",
            "1/1 [==============================] - 0s 21ms/step - loss: 0.2146 - mae: 0.2146\n",
            "Epoch 182/200\n",
            "1/1 [==============================] - 0s 14ms/step - loss: 0.1166 - mae: 0.1166\n",
            "Epoch 183/200\n",
            "1/1 [==============================] - 0s 15ms/step - loss: 0.2362 - mae: 0.2362\n",
            "Epoch 184/200\n",
            "1/1 [==============================] - 0s 13ms/step - loss: 0.2203 - mae: 0.2203\n",
            "Epoch 185/200\n",
            "1/1 [==============================] - 0s 17ms/step - loss: 0.1479 - mae: 0.1479\n",
            "Epoch 186/200\n",
            "1/1 [==============================] - 0s 16ms/step - loss: 0.1993 - mae: 0.1993\n",
            "Epoch 187/200\n",
            "1/1 [==============================] - 0s 9ms/step - loss: 0.1664 - mae: 0.1664\n",
            "Epoch 188/200\n",
            "1/1 [==============================] - 0s 9ms/step - loss: 0.1168 - mae: 0.1168\n",
            "Epoch 189/200\n",
            "1/1 [==============================] - 0s 17ms/step - loss: 0.2070 - mae: 0.2070\n",
            "Epoch 190/200\n",
            "1/1 [==============================] - 0s 18ms/step - loss: 0.2403 - mae: 0.2403\n",
            "Epoch 191/200\n",
            "1/1 [==============================] - 0s 24ms/step - loss: 0.0558 - mae: 0.0558\n",
            "Epoch 192/200\n",
            "1/1 [==============================] - 0s 21ms/step - loss: 0.0851 - mae: 0.0851\n",
            "Epoch 193/200\n",
            "1/1 [==============================] - 0s 15ms/step - loss: 0.0819 - mae: 0.0819\n",
            "Epoch 194/200\n",
            "1/1 [==============================] - 0s 16ms/step - loss: 0.0926 - mae: 0.0926\n",
            "Epoch 195/200\n",
            "1/1 [==============================] - 0s 15ms/step - loss: 0.0868 - mae: 0.0868\n",
            "Epoch 196/200\n",
            "1/1 [==============================] - 0s 13ms/step - loss: 0.0950 - mae: 0.0950\n",
            "Epoch 197/200\n",
            "1/1 [==============================] - 0s 16ms/step - loss: 0.1004 - mae: 0.1004\n",
            "Epoch 198/200\n",
            "1/1 [==============================] - 0s 8ms/step - loss: 0.1687 - mae: 0.1687\n",
            "Epoch 199/200\n",
            "1/1 [==============================] - 0s 10ms/step - loss: 0.1297 - mae: 0.1297\n",
            "Epoch 200/200\n",
            "1/1 [==============================] - 0s 15ms/step - loss: 0.0660 - mae: 0.0660\n"
          ]
        },
        {
          "output_type": "execute_result",
          "data": {
            "text/plain": [
              "<keras.callbacks.History at 0x7efe5f9a7e50>"
            ]
          },
          "metadata": {},
          "execution_count": 37
        }
      ]
    },
    {
      "cell_type": "code",
      "source": [
        "model.predict([17.0])"
      ],
      "metadata": {
        "colab": {
          "base_uri": "https://localhost:8080/"
        },
        "id": "302DMHN5Gd7C",
        "outputId": "5d470819-7ed8-4c2d-b0d3-ffc40525eb33"
      },
      "execution_count": null,
      "outputs": [
        {
          "output_type": "stream",
          "name": "stderr",
          "text": [
            "WARNING:tensorflow:6 out of the last 6 calls to <function Model.make_predict_function.<locals>.predict_function at 0x7efe5f9b5950> triggered tf.function retracing. Tracing is expensive and the excessive number of tracings could be due to (1) creating @tf.function repeatedly in a loop, (2) passing tensors with different shapes, (3) passing Python objects instead of tensors. For (1), please define your @tf.function outside of the loop. For (2), @tf.function has experimental_relax_shapes=True option that relaxes argument shapes that can avoid unnecessary retracing. For (3), please refer to https://www.tensorflow.org/guide/function#controlling_retracing and https://www.tensorflow.org/api_docs/python/tf/function for  more details.\n"
          ]
        },
        {
          "output_type": "execute_result",
          "data": {
            "text/plain": [
              "array([[27.807995]], dtype=float32)"
            ]
          },
          "metadata": {},
          "execution_count": 38
        }
      ]
    },
    {
      "cell_type": "markdown",
      "source": [
        "## Evaluating a model\n",
        "\n",
        "In practice, a typical workflow you will go through when building neural netwroks is: \n",
        "...\n",
        "Build a model --> fit it --> evaluate it --> tweak the model --> fit it --> evaluate it --> tweak the model --> fit it --> evaluate it ...\n",
        "..."
      ],
      "metadata": {
        "id": "WwZLmsf8KIZg"
      }
    },
    {
      "cell_type": "markdown",
      "source": [
        "## when it comes to evaluation: \n",
        "\" Visualize, Visualize, Visualize\"\n",
        "* the data\n",
        "* the model\n",
        "* the training of a model\n",
        "* the predictions of the model\n"
      ],
      "metadata": {
        "id": "BJ-X3kE4Rpz6"
      }
    },
    {
      "cell_type": "code",
      "source": [
        "# make a bigger data set\n",
        "X = tf.range(-100,100,4)\n",
        "X"
      ],
      "metadata": {
        "colab": {
          "base_uri": "https://localhost:8080/"
        },
        "id": "5_sR_SB-RXw5",
        "outputId": "9e176205-cdc5-45bd-d940-a0cf0261492b"
      },
      "execution_count": null,
      "outputs": [
        {
          "output_type": "execute_result",
          "data": {
            "text/plain": [
              "<tf.Tensor: shape=(50,), dtype=int32, numpy=\n",
              "array([-100,  -96,  -92,  -88,  -84,  -80,  -76,  -72,  -68,  -64,  -60,\n",
              "        -56,  -52,  -48,  -44,  -40,  -36,  -32,  -28,  -24,  -20,  -16,\n",
              "        -12,   -8,   -4,    0,    4,    8,   12,   16,   20,   24,   28,\n",
              "         32,   36,   40,   44,   48,   52,   56,   60,   64,   68,   72,\n",
              "         76,   80,   84,   88,   92,   96], dtype=int32)>"
            ]
          },
          "metadata": {},
          "execution_count": 39
        }
      ]
    },
    {
      "cell_type": "code",
      "source": [
        "# Make labels for dataset\n",
        "y = X +10\n",
        "y"
      ],
      "metadata": {
        "colab": {
          "base_uri": "https://localhost:8080/"
        },
        "id": "WFmuCXbcSMNw",
        "outputId": "2b3825fa-12e6-4a89-c7c9-52ea73d8e740"
      },
      "execution_count": null,
      "outputs": [
        {
          "output_type": "execute_result",
          "data": {
            "text/plain": [
              "<tf.Tensor: shape=(50,), dtype=int32, numpy=\n",
              "array([-90, -86, -82, -78, -74, -70, -66, -62, -58, -54, -50, -46, -42,\n",
              "       -38, -34, -30, -26, -22, -18, -14, -10,  -6,  -2,   2,   6,  10,\n",
              "        14,  18,  22,  26,  30,  34,  38,  42,  46,  50,  54,  58,  62,\n",
              "        66,  70,  74,  78,  82,  86,  90,  94,  98, 102, 106], dtype=int32)>"
            ]
          },
          "metadata": {},
          "execution_count": 40
        }
      ]
    },
    {
      "cell_type": "code",
      "source": [
        "# visualise data\n",
        "plt.scatter(X,y)"
      ],
      "metadata": {
        "colab": {
          "base_uri": "https://localhost:8080/",
          "height": 282
        },
        "id": "UN_LqShsSTao",
        "outputId": "477e37d7-2b3b-4a6e-97e0-53ade7f81171"
      },
      "execution_count": null,
      "outputs": [
        {
          "output_type": "execute_result",
          "data": {
            "text/plain": [
              "<matplotlib.collections.PathCollection at 0x7efe5f847690>"
            ]
          },
          "metadata": {},
          "execution_count": 41
        },
        {
          "output_type": "display_data",
          "data": {
            "text/plain": [
              "<Figure size 432x288 with 1 Axes>"
            ],
            "image/png": "[encoded data removed]"
          },
          "metadata": {
            "needs_background": "light"
          }
        }
      ]
    },
    {
      "cell_type": "markdown",
      "source": [
        "### The 3 sets...\n",
        "* training set - the model learns from this data which is typically 70-80 percent of total data you have. \n",
        "* Validation set - the model gets tuned on this data, which is typically 10-15% of the data available.\n",
        "* test set - the model gets evaluated on this data to test what is had learned , this set is typically 10-15% of total data available. "
      ],
      "metadata": {
        "id": "FRtmPY_WS7Eq"
      }
    },
    {
      "cell_type": "code",
      "source": [
        "# check the length of samples\n",
        "len(X)"
      ],
      "metadata": {
        "colab": {
          "base_uri": "https://localhost:8080/"
        },
        "id": "_rmayf6PSl-7",
        "outputId": "ec4d5e93-ed9c-4e1c-e846-e5112f1d584a"
      },
      "execution_count": null,
      "outputs": [
        {
          "output_type": "execute_result",
          "data": {
            "text/plain": [
              "50"
            ]
          },
          "metadata": {},
          "execution_count": 42
        }
      ]
    },
    {
      "cell_type": "code",
      "source": [
        "# Split the data into train and test sets\n",
        "X_train = X[:40]\n",
        "y_train = y[:40]\n",
        "\n",
        "X_test = X[40:]\n",
        "y_test = y[40:]\n",
        "len(X_train), len(X_test\n",
        "                  )"
      ],
      "metadata": {
        "colab": {
          "base_uri": "https://localhost:8080/"
        },
        "id": "dIhkpFCyTu0W",
        "outputId": "b4a63e3c-33a9-43c1-d313-8b479032d32f"
      },
      "execution_count": null,
      "outputs": [
        {
          "output_type": "execute_result",
          "data": {
            "text/plain": [
              "(40, 10)"
            ]
          },
          "metadata": {},
          "execution_count": 43
        }
      ]
    },
    {
      "cell_type": "code",
      "source": [
        "### Visualizing the data\n",
        "plt.figure(figsize= (10,7))\n",
        "# plot training data in blue\n",
        "plt.scatter(X_train, y_train, c =\"b\", label = \" Training data\")\n",
        "# plot the test data in green\n",
        "plt.scatter(X_test, y_test, c = \"g\", label = \" Testing data\")\n",
        "# Show legend\n",
        "plt.legend();"
      ],
      "metadata": {
        "colab": {
          "base_uri": "https://localhost:8080/",
          "height": 428
        },
        "id": "euVADs9nUThG",
        "outputId": "6f182d82-7492-447a-b398-437cebbbd100"
      },
      "execution_count": null,
      "outputs": [
        {
          "output_type": "display_data",
          "data": {
            "text/plain": [
              "<Figure size 720x504 with 1 Axes>"
            ],
            "image/png": "[encoded data removed]"
          },
          "metadata": {
            "needs_background": "light"
          }
        }
      ]
    },
    {
      "cell_type": "code",
      "source": [
        "# Let's have a look at how to build a neural network for the data\n",
        "\n",
        "model = tf.keras.Sequential([\n",
        "    tf.keras.layers.Dense(1)\n",
        "])\n",
        "\n",
        "model.compile(\n",
        "    loss = tf.keras.losses.mae,\n",
        "    optimizer = tf.keras.optimizers.SGD(),\n",
        "    metrics = [\"mae\"]\n",
        ")\n",
        "\n",
        "#model.fit(tf.expand_dims(X_train, axis=-1),y_train, epochs=100)"
      ],
      "metadata": {
        "id": "4af6qndKVs9_"
      },
      "execution_count": null,
      "outputs": []
    },
    {
      "cell_type": "code",
      "source": [
        "model.summary()"
      ],
      "metadata": {
        "colab": {
          "base_uri": "https://localhost:8080/",
          "height": 300
        },
        "id": "vxwWbgAPYHeF",
        "outputId": "bae3c5f1-6f06-4740-be6e-5017db2f3408"
      },
      "execution_count": null,
      "outputs": [
        {
          "output_type": "error",
          "ename": "ValueError",
          "evalue": "ignored",
          "traceback": [
            "\u001b[0;31m---------------------------------------------------------------------------\u001b[0m",
            "\u001b[0;31mValueError\u001b[0m                                Traceback (most recent call last)",
            "\u001b[0;32m<ipython-input-46-5f15418b3570>\u001b[0m in \u001b[0;36m<module>\u001b[0;34m\u001b[0m\n\u001b[0;32m----> 1\u001b[0;31m \u001b[0mmodel\u001b[0m\u001b[0;34m.\u001b[0m\u001b[0msummary\u001b[0m\u001b[0;34m(\u001b[0m\u001b[0;34m)\u001b[0m\u001b[0;34m\u001b[0m\u001b[0;34m\u001b[0m\u001b[0m\n\u001b[0m",
            "\u001b[0;32m/usr/local/lib/python3.7/dist-packages/keras/engine/training.py\u001b[0m in \u001b[0;36msummary\u001b[0;34m(self, line_length, positions, print_fn, expand_nested, show_trainable)\u001b[0m\n\u001b[1;32m   2774\u001b[0m     \u001b[0;32mif\u001b[0m \u001b[0;32mnot\u001b[0m \u001b[0mself\u001b[0m\u001b[0;34m.\u001b[0m\u001b[0mbuilt\u001b[0m\u001b[0;34m:\u001b[0m\u001b[0;34m\u001b[0m\u001b[0;34m\u001b[0m\u001b[0m\n\u001b[1;32m   2775\u001b[0m       raise ValueError(\n\u001b[0;32m-> 2776\u001b[0;31m           \u001b[0;34m'This model has not yet been built. '\u001b[0m\u001b[0;34m\u001b[0m\u001b[0;34m\u001b[0m\u001b[0m\n\u001b[0m\u001b[1;32m   2777\u001b[0m           \u001b[0;34m'Build the model first by calling `build()` or by calling '\u001b[0m\u001b[0;34m\u001b[0m\u001b[0;34m\u001b[0m\u001b[0m\n\u001b[1;32m   2778\u001b[0m           'the model on a batch of data.')\n",
            "\u001b[0;31mValueError\u001b[0m: This model has not yet been built. Build the model first by calling `build()` or by calling the model on a batch of data."
          ]
        }
      ]
    },
    {
      "cell_type": "code",
      "source": [
        "# let's create a model which builds automatically by defining the input shape\n",
        "\n",
        "tf.random.set_seed(42)\n",
        "\n",
        "# Create a model \n",
        "model = tf.keras.Sequential([\n",
        "    tf.keras.layers.Dense(10, input_shape = [1], name = \"input_layer\"),\n",
        "    tf.keras.layers.Dense(1, name = \"output_layer\"),\n",
        "], name = \"model1\")\n",
        " # compile model\n",
        "\n",
        "model.compile(loss = tf.keras.losses.mae,\n",
        "  optimizer = tf.keras.optimizers.SGD(),\n",
        "  metrics = [\"mae\"]\n",
        ")\n",
        " "
      ],
      "metadata": {
        "id": "Nw6QFWzsYXJ1"
      },
      "execution_count": null,
      "outputs": []
    },
    {
      "cell_type": "code",
      "source": [
        "# let's fit model to training data\n",
        "model.fit(tf.expand_dims(X_train, axis=-1), y_train, epochs = 100, verbose = 0)"
      ],
      "metadata": {
        "colab": {
          "base_uri": "https://localhost:8080/"
        },
        "id": "5sGwYzUt5i2g",
        "outputId": "78295fd4-b30a-485c-b7c6-d2faeec7d427"
      },
      "execution_count": null,
      "outputs": [
        {
          "output_type": "execute_result",
          "data": {
            "text/plain": [
              "<keras.callbacks.History at 0x7efe608d1850>"
            ]
          },
          "metadata": {},
          "execution_count": 48
        }
      ]
    },
    {
      "cell_type": "code",
      "source": [
        "model.summary() "
      ],
      "metadata": {
        "colab": {
          "base_uri": "https://localhost:8080/"
        },
        "id": "JMx93D2hZc7C",
        "outputId": "49f53d13-4435-4e02-a35f-d41ff9806354"
      },
      "execution_count": null,
      "outputs": [
        {
          "output_type": "stream",
          "name": "stdout",
          "text": [
            "Model: \"model1\"\n",
            "_________________________________________________________________\n",
            " Layer (type)                Output Shape              Param #   \n",
            "=================================================================\n",
            " input_layer (Dense)         (None, 10)                20        \n",
            "                                                                 \n",
            " output_layer (Dense)        (None, 1)                 11        \n",
            "                                                                 \n",
            "=================================================================\n",
            "Total params: 31\n",
            "Trainable params: 31\n",
            "Non-trainable params: 0\n",
            "_________________________________________________________________\n"
          ]
        }
      ]
    },
    {
      "cell_type": "markdown",
      "source": [
        "* Total params - total number of parameters in the model.\n",
        "* Trainable parameters - parameters that the model can update as it trains.\n",
        "* Non trainable parameters : which model can't update. This is typical when you bring in already learned parameters from other models during transfer learning)"
      ],
      "metadata": {
        "id": "PLcRHnPxZsOd"
      }
    },
    {
      "cell_type": "code",
      "source": [
        "from tensorflow.keras.utils import plot_model\n",
        "plot_model(model = model, show_shapes = True)"
      ],
      "metadata": {
        "colab": {
          "base_uri": "https://localhost:8080/",
          "height": 312
        },
        "id": "UwOEcjfn21Af",
        "outputId": "f0a81675-6d6a-4edd-900a-e1197cd5bf19"
      },
      "execution_count": null,
      "outputs": [
        {
          "output_type": "execute_result",
          "data": {
            "image/png": "[encoded data removed]",
            "text/plain": [
              "<IPython.core.display.Image object>"
            ]
          },
          "metadata": {},
          "execution_count": 50
        }
      ]
    },
    {
      "cell_type": "markdown",
      "source": [
        "### Visualising the model's predictions \n",
        "plotting predictions vs ground truth labels"
      ],
      "metadata": {
        "id": "Oc45ZXET591e"
      }
    },
    {
      "cell_type": "code",
      "source": [
        "# make some predictions\n",
        "y_pred = model.predict(X_test)\n",
        "y_pred"
      ],
      "metadata": {
        "id": "p3kGOZbz6IdY"
      },
      "execution_count": null,
      "outputs": []
    },
    {
      "cell_type": "code",
      "source": [
        "y_test"
      ],
      "metadata": {
        "id": "ONyur55w6xD4"
      },
      "execution_count": null,
      "outputs": []
    },
    {
      "cell_type": "code",
      "source": [
        "# let's create a plotting function\n",
        "def plot_predictions(train_data = X_train,\n",
        "                     train_labels = y_train,\n",
        "                     test_data = X_test,\n",
        "                     test_labels = y_test,\n",
        "                     predictions = y_pred):\n",
        "  \"\"\"\n",
        "  Plots training data, test data and copare the predictions to ground truth labels\n",
        "  \"\"\"\n",
        "  plt.figure(figsize = (10,10))\n",
        "\n",
        "  # plot training data\n",
        "  plt.scatter(train_data, train_labels, c = \"b\", label=\"Training data\")\n",
        "  # plot testing data\n",
        "  plt.scatter(test_data, test_labels, c = \"y\", label =\"Testing data\")\n",
        "  # plot predictions \n",
        "  plt.scatter(test_data, predictions, c =\"r\", label=\"Predictions\")\n",
        "\n",
        "  plt.legend()"
      ],
      "metadata": {
        "id": "T40kCyas60gU"
      },
      "execution_count": null,
      "outputs": []
    },
    {
      "cell_type": "code",
      "source": [
        "plot_predictions(train_data = X_train,\n",
        "                     train_labels = y_train,\n",
        "                     test_data = X_test,\n",
        "                     test_labels = y_test,\n",
        "                     predictions = y_pred)"
      ],
      "metadata": {
        "id": "6bq9GltQ8Ro2"
      },
      "execution_count": null,
      "outputs": []
    },
    {
      "cell_type": "markdown",
      "source": [
        "### Evaluation od model using regression evaluation metrics\n",
        "there are different evaluation metrics to evaluate your model\n",
        "Since we are working on regression problem, two of main metrics:\n",
        "* MAE - mean absolute error, \" On average, how wrong is each of my model's predictions\"\n",
        "* MSE - mean square error, \" square the average errors\"\n"
      ],
      "metadata": {
        "id": "i5Cv8FaS99Un"
      }
    },
    {
      "cell_type": "code",
      "source": [
        "# evaluate the model\n",
        "model.evaluate(X_test, y_test)"
      ],
      "metadata": {
        "id": "zuxIySbd988m"
      },
      "execution_count": null,
      "outputs": []
    },
    {
      "cell_type": "code",
      "source": [
        "y_pred, y_test"
      ],
      "metadata": {
        "id": "Ab71L-KCBHYE"
      },
      "execution_count": null,
      "outputs": []
    },
    {
      "cell_type": "code",
      "source": [
        "# calculate the mean absolute error\n",
        "mae = tf.metrics.mean_absolute_error(y_test, tf.squeeze(y_pred))\n",
        "mae"
      ],
      "metadata": {
        "id": "tMn01ZUMBNNY"
      },
      "execution_count": null,
      "outputs": []
    },
    {
      "cell_type": "code",
      "source": [
        "# calculate the mean squared error\n",
        "mse = tf.metrics.mean_squared_error(y_test, tf.squeeze(y_pred))\n",
        "mse"
      ],
      "metadata": {
        "id": "fe21eFpyDGzV"
      },
      "execution_count": null,
      "outputs": []
    },
    {
      "cell_type": "code",
      "source": [
        "# Make some functions to reuse MAE and MSE\n",
        "def mae(y_true, y_pred):\n",
        "  return tf.metrics.mean_absolute_error(y_true, tf.squeeze(y_pred))\n",
        "\n",
        "def mse(y_true, y_pred):\n",
        "  return tf.metrics.mean_squared_error(y_true, tf.squeeze(y_pred))"
      ],
      "metadata": {
        "id": "tu2NGN0IHzvX"
      },
      "execution_count": null,
      "outputs": []
    },
    {
      "cell_type": "markdown",
      "source": [
        "### Running experiments to improve our model\n",
        "\n",
        "Build a model--> fit it --> evaluate it--> tweak it--> fit it-->evaluate it\n",
        "\n",
        "1. get more data\n",
        "2. make model larger\n",
        "3. train for longer"
      ],
      "metadata": {
        "id": "nOWEJvg9JKzu"
      }
    },
    {
      "cell_type": "code",
      "source": [
        "# Set random seed\n",
        "tf.random.set_seed(42)\n",
        "\n",
        "# create model1\n",
        "model_1 = tf.keras.Sequential([\n",
        "    tf.keras.layers.Dense(1)\n",
        "])\n",
        "\n",
        "# compile model\n",
        "model_1.compile(loss = tf.keras.losses.mae,\n",
        "                optimizer = tf.keras.optimizers.SGD(),\n",
        "                metrics = [\"mae\"])\n",
        "\n",
        "# fit model\n",
        "model_1.fit(tf.expand_dims(X_train, axis=-1),y_train, epochs=100)"
      ],
      "metadata": {
        "id": "avS9DfMXHzZs"
      },
      "execution_count": null,
      "outputs": []
    },
    {
      "cell_type": "code",
      "source": [
        "# make prediction\n",
        "y_pred_1 = model_1.predict(X_test)\n",
        "\n",
        "plot_predictions(predictions = y_pred_1)"
      ],
      "metadata": {
        "id": "5f_J5cSlS6GG"
      },
      "execution_count": null,
      "outputs": []
    },
    {
      "cell_type": "code",
      "source": [
        "# calculate evaluation on model_1\n",
        "mae_1 = mae(y_test, y_pred_1)\n",
        "mse_1 = mse(y_test, y_pred_1)\n",
        "mae_1, mse_1"
      ],
      "metadata": {
        "id": "tQi20qG3Tk-r"
      },
      "execution_count": null,
      "outputs": []
    },
    {
      "cell_type": "markdown",
      "source": [
        "#### Build model_2\n",
        " with 2 layers and 100 epochs"
      ],
      "metadata": {
        "id": "gR01Z_B3USXV"
      }
    },
    {
      "cell_type": "code",
      "source": [
        "# set random seed\n",
        "tf.random.set_seed(42)\n",
        "\n",
        "# create a model_2\n",
        "model_2 = tf.keras.Sequential([\n",
        "    tf.keras.layers.Dense(10),\n",
        "    tf.keras.layers.Dense(1)\n",
        "])\n",
        "\n",
        "# compile the model\n",
        "model_2.compile(loss = tf.keras.losses.mae,\n",
        "                optimizer = tf.keras.optimizers.SGD(),\n",
        "                metrics = [\"mse\"])\n",
        "\n",
        "# fit model\n",
        "model_2.fit(tf.expand_dims(X_train, axis=-1), y_train, epochs =100)"
      ],
      "metadata": {
        "id": "6Pbk9LcNT-Qk"
      },
      "execution_count": null,
      "outputs": []
    },
    {
      "cell_type": "code",
      "source": [
        "# make and plot predictions\n",
        "y_pred_2 = model_2.predict(X_test)\n",
        "\n",
        "plot_predictions(predictions=y_pred_2)"
      ],
      "metadata": {
        "id": "SMOZUEOMVqjT"
      },
      "execution_count": null,
      "outputs": []
    },
    {
      "cell_type": "code",
      "source": [
        "# evaluate model_2\n",
        "mae_2 = mae(y_test, y_pred_2)\n",
        "mse_2 = mse(y_test, y_pred_2)\n",
        "mae_2, mse_2"
      ],
      "metadata": {
        "id": "1L3a848hWC6A"
      },
      "execution_count": null,
      "outputs": []
    },
    {
      "cell_type": "markdown",
      "source": [
        "#### Build model_3\n",
        "2 layers and 500 epochs"
      ],
      "metadata": {
        "id": "hfDBDDU8Wlsq"
      }
    },
    {
      "cell_type": "code",
      "source": [
        "# set random seed\n",
        "tf.random.set_seed(42)\n",
        "\n",
        "# create a model_3\n",
        "model_3 = tf.keras.Sequential([\n",
        "    tf.keras.layers.Dense(10),\n",
        "    tf.keras.layers.Dense(1)\n",
        "])\n",
        "\n",
        "# compile the model\n",
        "model_3.compile(loss = tf.keras.losses.mae,\n",
        "                optimizer = tf.keras.optimizers.SGD(),\n",
        "                metrics = [\"mse\"])\n",
        "\n",
        "# fit model\n",
        "model_3.fit(tf.expand_dims(X_train, axis=-1), y_train, epochs =500, verbose=0)"
      ],
      "metadata": {
        "id": "lpyOUHoHWlDm"
      },
      "execution_count": null,
      "outputs": []
    },
    {
      "cell_type": "code",
      "source": [
        "# make and plot predictions\n",
        "y_pred_3 = model_3.predict(X_test)\n",
        "\n",
        "plot_predictions(predictions=y_pred_3)\n",
        "# this model is overfitting "
      ],
      "metadata": {
        "id": "uDg9PfTeWyw9"
      },
      "execution_count": null,
      "outputs": []
    },
    {
      "cell_type": "code",
      "source": [
        "# evaluate model_3\n",
        "mae_3 = mae(y_test, y_pred_3)\n",
        "mse_3 = mae(y_test, y_pred_3)\n",
        "mae_3, mse_3"
      ],
      "metadata": {
        "id": "dYLueWCXaMRM"
      },
      "execution_count": null,
      "outputs": []
    },
    {
      "cell_type": "markdown",
      "source": [
        "### Comparing tesorflow model experiments results"
      ],
      "metadata": {
        "id": "HqlEaPtiabHl"
      }
    },
    {
      "cell_type": "code",
      "source": [
        "# let's compare our models' results using panda dataframe\n",
        "import pandas as pd\n",
        "model_results = [[\"model_1\", mae_1.numpy(), mse_1.numpy()],\n",
        "                 [\"model_2\", mae_2.numpy(), mse_2.numpy()],\n",
        "                 [\"model_3\", mae_3.numpy(), mse_3.numpy()]]\n",
        "\n",
        "all_results = pd.DataFrame(model_results, columns =[\"model\",\"mae\",\"mse\"])\n",
        "all_results"
      ],
      "metadata": {
        "id": "7Mkvnjemaaz_"
      },
      "execution_count": null,
      "outputs": []
    },
    {
      "cell_type": "markdown",
      "source": [
        "## Model_2 performed best!!"
      ],
      "metadata": {
        "id": "aDtWjYnJb5t6"
      }
    },
    {
      "cell_type": "code",
      "source": [
        "model_2.summary()"
      ],
      "metadata": {
        "id": "WS1tB2AZb_dq"
      },
      "execution_count": null,
      "outputs": []
    },
    {
      "cell_type": "markdown",
      "source": [
        "# A Larger Dataset"
      ],
      "metadata": {
        "id": "VFxPVEQf1L7v"
      }
    },
    {
      "cell_type": "code",
      "source": [
        "# Import required libraries\n",
        "import tensorflow as tf\n",
        "import pandas as pd\n",
        "import matplotlib.pyplot as plt"
      ],
      "metadata": {
        "id": "ZPGgJ01d1K8H"
      },
      "execution_count": null,
      "outputs": []
    },
    {
      "cell_type": "code",
      "source": [
        "# Read insurance dataset\n",
        "insurance = pd.read_csv(\"https://raw.githubusercontent.com/stedy/Machine-Learning-with-R-datasets/master/insurance.csv\")\n",
        "insurance"
      ],
      "metadata": {
        "colab": {
          "base_uri": "https://localhost:8080/",
          "height": 419
        },
        "id": "mOTszvQg1fvu",
        "outputId": "af6d730e-86dd-4ba2-90e1-7d007542c65a"
      },
      "execution_count": null,
      "outputs": [
        {
          "output_type": "execute_result",
          "data": {
            "text/plain": [
              "      age     sex     bmi  children smoker     region      charges\n",
              "0      19  female  27.900         0    yes  southwest  16884.92400\n",
              "1      18    male  33.770         1     no  southeast   1725.55230\n",
              "2      28    male  33.000         3     no  southeast   4449.46200\n",
              "3      33    male  22.705         0     no  northwest  21984.47061\n",
              "4      32    male  28.880         0     no  northwest   3866.85520\n",
              "...   ...     ...     ...       ...    ...        ...          ...\n",
              "1333   50    male  30.970         3     no  northwest  10600.54830\n",
              "1334   18  female  31.920         0     no  northeast   2205.98080\n",
              "1335   18  female  36.850         0     no  southeast   1629.83350\n",
              "1336   21  female  25.800         0     no  southwest   2007.94500\n",
              "1337   61  female  29.070         0    yes  northwest  29141.36030\n",
              "\n",
              "[1338 rows x 7 columns]"
            ],
            "text/html": [
              "\n",
              "  <div id=\"df-212ef9d4-7ceb-428d-88a7-5617ac42768c\">\n",
              "    <div class=\"colab-df-container\">\n",
              "      <div>\n",
              "<style scoped>\n",
              "    .dataframe tbody tr th:only-of-type {\n",
              "        vertical-align: middle;\n",
              "    }\n",
              "\n",
              "    .dataframe tbody tr th {\n",
              "        vertical-align: top;\n",
              "    }\n",
              "\n",
              "    .dataframe thead th {\n",
              "        text-align: right;\n",
              "    }\n",
              "</style>\n",
              "<table border=\"1\" class=\"dataframe\">\n",
              "  <thead>\n",
              "    <tr style=\"text-align: right;\">\n",
              "      <th></th>\n",
              "      <th>age</th>\n",
              "      <th>sex</th>\n",
              "      <th>bmi</th>\n",
              "      <th>children</th>\n",
              "      <th>smoker</th>\n",
              "      <th>region</th>\n",
              "      <th>charges</th>\n",
              "    </tr>\n",
              "  </thead>\n",
              "  <tbody>\n",
              "    <tr>\n",
              "      <th>0</th>\n",
              "      <td>19</td>\n",
              "      <td>female</td>\n",
              "      <td>27.900</td>\n",
              "      <td>0</td>\n",
              "      <td>yes</td>\n",
              "      <td>southwest</td>\n",
              "      <td>16884.92400</td>\n",
              "    </tr>\n",
              "    <tr>\n",
              "      <th>1</th>\n",
              "      <td>18</td>\n",
              "      <td>male</td>\n",
              "      <td>33.770</td>\n",
              "      <td>1</td>\n",
              "      <td>no</td>\n",
              "      <td>southeast</td>\n",
              "      <td>1725.55230</td>\n",
              "    </tr>\n",
              "    <tr>\n",
              "      <th>2</th>\n",
              "      <td>28</td>\n",
              "      <td>male</td>\n",
              "      <td>33.000</td>\n",
              "      <td>3</td>\n",
              "      <td>no</td>\n",
              "      <td>southeast</td>\n",
              "      <td>4449.46200</td>\n",
              "    </tr>\n",
              "    <tr>\n",
              "      <th>3</th>\n",
              "      <td>33</td>\n",
              "      <td>male</td>\n",
              "      <td>22.705</td>\n",
              "      <td>0</td>\n",
              "      <td>no</td>\n",
              "      <td>northwest</td>\n",
              "      <td>21984.47061</td>\n",
              "    </tr>\n",
              "    <tr>\n",
              "      <th>4</th>\n",
              "      <td>32</td>\n",
              "      <td>male</td>\n",
              "      <td>28.880</td>\n",
              "      <td>0</td>\n",
              "      <td>no</td>\n",
              "      <td>northwest</td>\n",
              "      <td>3866.85520</td>\n",
              "    </tr>\n",
              "    <tr>\n",
              "      <th>...</th>\n",
              "      <td>...</td>\n",
              "      <td>...</td>\n",
              "      <td>...</td>\n",
              "      <td>...</td>\n",
              "      <td>...</td>\n",
              "      <td>...</td>\n",
              "      <td>...</td>\n",
              "    </tr>\n",
              "    <tr>\n",
              "      <th>1333</th>\n",
              "      <td>50</td>\n",
              "      <td>male</td>\n",
              "      <td>30.970</td>\n",
              "      <td>3</td>\n",
              "      <td>no</td>\n",
              "      <td>northwest</td>\n",
              "      <td>10600.54830</td>\n",
              "    </tr>\n",
              "    <tr>\n",
              "      <th>1334</th>\n",
              "      <td>18</td>\n",
              "      <td>female</td>\n",
              "      <td>31.920</td>\n",
              "      <td>0</td>\n",
              "      <td>no</td>\n",
              "      <td>northeast</td>\n",
              "      <td>2205.98080</td>\n",
              "    </tr>\n",
              "    <tr>\n",
              "      <th>1335</th>\n",
              "      <td>18</td>\n",
              "      <td>female</td>\n",
              "      <td>36.850</td>\n",
              "      <td>0</td>\n",
              "      <td>no</td>\n",
              "      <td>southeast</td>\n",
              "      <td>1629.83350</td>\n",
              "    </tr>\n",
              "    <tr>\n",
              "      <th>1336</th>\n",
              "      <td>21</td>\n",
              "      <td>female</td>\n",
              "      <td>25.800</td>\n",
              "      <td>0</td>\n",
              "      <td>no</td>\n",
              "      <td>southwest</td>\n",
              "      <td>2007.94500</td>\n",
              "    </tr>\n",
              "    <tr>\n",
              "      <th>1337</th>\n",
              "      <td>61</td>\n",
              "      <td>female</td>\n",
              "      <td>29.070</td>\n",
              "      <td>0</td>\n",
              "      <td>yes</td>\n",
              "      <td>northwest</td>\n",
              "      <td>29141.36030</td>\n",
              "    </tr>\n",
              "  </tbody>\n",
              "</table>\n",
              "<p>1338 rows × 7 columns</p>\n",
              "</div>\n",
              "      <button class=\"colab-df-convert\" onclick=\"convertToInteractive('df-212ef9d4-7ceb-428d-88a7-5617ac42768c')\"\n",
              "              title=\"Convert this dataframe to an interactive table.\"\n",
              "              style=\"display:none;\">\n",
              "        \n",
              "  <svg xmlns=\"http://www.w3.org/2000/svg\" height=\"24px\"viewBox=\"0 0 24 24\"\n",
              "       width=\"24px\">\n",
              "    <path d=\"M0 0h24v24H0V0z\" fill=\"none\"/>\n",
              "    <path d=\"M18.56 5.44l.94 2.06.94-2.06 2.06-.94-2.06-.94-.94-2.06-.94 2.06-2.06.94zm-11 1L8.5 8.5l.94-2.06 2.06-.94-2.06-.94L8.5 2.5l-.94 2.06-2.06.94zm10 10l.94 2.06.94-2.06 2.06-.94-2.06-.94-.94-2.06-.94 2.06-2.06.94z\"/><path d=\"M17.41 7.96l-1.37-1.37c-.4-.4-.92-.59-1.43-.59-.52 0-1.04.2-1.43.59L10.3 9.45l-7.72 7.72c-.78.78-.78 2.05 0 2.83L4 21.41c.39.39.9.59 1.41.59.51 0 1.02-.2 1.41-.59l7.78-7.78 2.81-2.81c.8-.78.8-2.07 0-2.86zM5.41 20L4 18.59l7.72-7.72 1.47 1.35L5.41 20z\"/>\n",
              "  </svg>\n",
              "      </button>\n",
              "      \n",
              "  <style>\n",
              "    .colab-df-container {\n",
              "      display:flex;\n",
              "      flex-wrap:wrap;\n",
              "      gap: 12px;\n",
              "    }\n",
              "\n",
              "    .colab-df-convert {\n",
              "      background-color: #E8F0FE;\n",
              "      border: none;\n",
              "      border-radius: 50%;\n",
              "      cursor: pointer;\n",
              "      display: none;\n",
              "      fill: #1967D2;\n",
              "      height: 32px;\n",
              "      padding: 0 0 0 0;\n",
              "      width: 32px;\n",
              "    }\n",
              "\n",
              "    .colab-df-convert:hover {\n",
              "      background-color: #E2EBFA;\n",
              "      box-shadow: 0px 1px 2px rgba(60, 64, 67, 0.3), 0px 1px 3px 1px rgba(60, 64, 67, 0.15);\n",
              "      fill: #174EA6;\n",
              "    }\n",
              "\n",
              "    [theme=dark] .colab-df-convert {\n",
              "      background-color: #3B4455;\n",
              "      fill: #D2E3FC;\n",
              "    }\n",
              "\n",
              "    [theme=dark] .colab-df-convert:hover {\n",
              "      background-color: #434B5C;\n",
              "      box-shadow: 0px 1px 3px 1px rgba(0, 0, 0, 0.15);\n",
              "      filter: drop-shadow(0px 1px 2px rgba(0, 0, 0, 0.3));\n",
              "      fill: #FFFFFF;\n",
              "    }\n",
              "  </style>\n",
              "\n",
              "      <script>\n",
              "        const buttonEl =\n",
              "          document.querySelector('#df-212ef9d4-7ceb-428d-88a7-5617ac42768c button.colab-df-convert');\n",
              "        buttonEl.style.display =\n",
              "          google.colab.kernel.accessAllowed ? 'block' : 'none';\n",
              "\n",
              "        async function convertToInteractive(key) {\n",
              "          const element = document.querySelector('#df-212ef9d4-7ceb-428d-88a7-5617ac42768c');\n",
              "          const dataTable =\n",
              "            await google.colab.kernel.invokeFunction('convertToInteractive',\n",
              "                                                     [key], {});\n",
              "          if (!dataTable) return;\n",
              "\n",
              "          const docLinkHtml = 'Like what you see? Visit the ' +\n",
              "            '<a target=\"_blank\" href=https://colab.research.google.com/notebooks/data_table.ipynb>data table notebook</a>'\n",
              "            + ' to learn more about interactive tables.';\n",
              "          element.innerHTML = '';\n",
              "          dataTable['output_type'] = 'display_data';\n",
              "          await google.colab.output.renderOutput(dataTable, element);\n",
              "          const docLink = document.createElement('div');\n",
              "          docLink.innerHTML = docLinkHtml;\n",
              "          element.appendChild(docLink);\n",
              "        }\n",
              "      </script>\n",
              "    </div>\n",
              "  </div>\n",
              "  "
            ]
          },
          "metadata": {},
          "execution_count": 52
        }
      ]
    },
    {
      "cell_type": "markdown",
      "source": [
        "dependent variable is charges\n",
        "rest are independent variables"
      ],
      "metadata": {
        "id": "Zu0p0eZK2NaG"
      }
    },
    {
      "cell_type": "code",
      "source": [
        "#one hot encoding - categorical into numerical\n",
        "insurance_one_hot = pd.get_dummies(insurance)\n",
        "insurance_one_hot"
      ],
      "metadata": {
        "colab": {
          "base_uri": "https://localhost:8080/",
          "height": 483
        },
        "id": "7nQV8T0B2UQy",
        "outputId": "cc1625b7-6890-4d5c-90b8-c4e89fefd2e8"
      },
      "execution_count": null,
      "outputs": [
        {
          "output_type": "execute_result",
          "data": {
            "text/plain": [
              "      age     bmi  children      charges  sex_female  sex_male  smoker_no  \\\n",
              "0      19  27.900         0  16884.92400           1         0          0   \n",
              "1      18  33.770         1   1725.55230           0         1          1   \n",
              "2      28  33.000         3   4449.46200           0         1          1   \n",
              "3      33  22.705         0  21984.47061           0         1          1   \n",
              "4      32  28.880         0   3866.85520           0         1          1   \n",
              "...   ...     ...       ...          ...         ...       ...        ...   \n",
              "1333   50  30.970         3  10600.54830           0         1          1   \n",
              "1334   18  31.920         0   2205.98080           1         0          1   \n",
              "1335   18  36.850         0   1629.83350           1         0          1   \n",
              "1336   21  25.800         0   2007.94500           1         0          1   \n",
              "1337   61  29.070         0  29141.36030           1         0          0   \n",
              "\n",
              "      smoker_yes  region_northeast  region_northwest  region_southeast  \\\n",
              "0              1                 0                 0                 0   \n",
              "1              0                 0                 0                 1   \n",
              "2              0                 0                 0                 1   \n",
              "3              0                 0                 1                 0   \n",
              "4              0                 0                 1                 0   \n",
              "...          ...               ...               ...               ...   \n",
              "1333           0                 0                 1                 0   \n",
              "1334           0                 1                 0                 0   \n",
              "1335           0                 0                 0                 1   \n",
              "1336           0                 0                 0                 0   \n",
              "1337           1                 0                 1                 0   \n",
              "\n",
              "      region_southwest  \n",
              "0                    1  \n",
              "1                    0  \n",
              "2                    0  \n",
              "3                    0  \n",
              "4                    0  \n",
              "...                ...  \n",
              "1333                 0  \n",
              "1334                 0  \n",
              "1335                 0  \n",
              "1336                 1  \n",
              "1337                 0  \n",
              "\n",
              "[1338 rows x 12 columns]"
            ],
            "text/html": [
              "\n",
              "  <div id=\"df-13511fbe-bd50-431d-a3f1-16aa543c39b3\">\n",
              "    <div class=\"colab-df-container\">\n",
              "      <div>\n",
              "<style scoped>\n",
              "    .dataframe tbody tr th:only-of-type {\n",
              "        vertical-align: middle;\n",
              "    }\n",
              "\n",
              "    .dataframe tbody tr th {\n",
              "        vertical-align: top;\n",
              "    }\n",
              "\n",
              "    .dataframe thead th {\n",
              "        text-align: right;\n",
              "    }\n",
              "</style>\n",
              "<table border=\"1\" class=\"dataframe\">\n",
              "  <thead>\n",
              "    <tr style=\"text-align: right;\">\n",
              "      <th></th>\n",
              "      <th>age</th>\n",
              "      <th>bmi</th>\n",
              "      <th>children</th>\n",
              "      <th>charges</th>\n",
              "      <th>sex_female</th>\n",
              "      <th>sex_male</th>\n",
              "      <th>smoker_no</th>\n",
              "      <th>smoker_yes</th>\n",
              "      <th>region_northeast</th>\n",
              "      <th>region_northwest</th>\n",
              "      <th>region_southeast</th>\n",
              "      <th>region_southwest</th>\n",
              "    </tr>\n",
              "  </thead>\n",
              "  <tbody>\n",
              "    <tr>\n",
              "      <th>0</th>\n",
              "      <td>19</td>\n",
              "      <td>27.900</td>\n",
              "      <td>0</td>\n",
              "      <td>16884.92400</td>\n",
              "      <td>1</td>\n",
              "      <td>0</td>\n",
              "      <td>0</td>\n",
              "      <td>1</td>\n",
              "      <td>0</td>\n",
              "      <td>0</td>\n",
              "      <td>0</td>\n",
              "      <td>1</td>\n",
              "    </tr>\n",
              "    <tr>\n",
              "      <th>1</th>\n",
              "      <td>18</td>\n",
              "      <td>33.770</td>\n",
              "      <td>1</td>\n",
              "      <td>1725.55230</td>\n",
              "      <td>0</td>\n",
              "      <td>1</td>\n",
              "      <td>1</td>\n",
              "      <td>0</td>\n",
              "      <td>0</td>\n",
              "      <td>0</td>\n",
              "      <td>1</td>\n",
              "      <td>0</td>\n",
              "    </tr>\n",
              "    <tr>\n",
              "      <th>2</th>\n",
              "      <td>28</td>\n",
              "      <td>33.000</td>\n",
              "      <td>3</td>\n",
              "      <td>4449.46200</td>\n",
              "      <td>0</td>\n",
              "      <td>1</td>\n",
              "      <td>1</td>\n",
              "      <td>0</td>\n",
              "      <td>0</td>\n",
              "      <td>0</td>\n",
              "      <td>1</td>\n",
              "      <td>0</td>\n",
              "    </tr>\n",
              "    <tr>\n",
              "      <th>3</th>\n",
              "      <td>33</td>\n",
              "      <td>22.705</td>\n",
              "      <td>0</td>\n",
              "      <td>21984.47061</td>\n",
              "      <td>0</td>\n",
              "      <td>1</td>\n",
              "      <td>1</td>\n",
              "      <td>0</td>\n",
              "      <td>0</td>\n",
              "      <td>1</td>\n",
              "      <td>0</td>\n",
              "      <td>0</td>\n",
              "    </tr>\n",
              "    <tr>\n",
              "      <th>4</th>\n",
              "      <td>32</td>\n",
              "      <td>28.880</td>\n",
              "      <td>0</td>\n",
              "      <td>3866.85520</td>\n",
              "      <td>0</td>\n",
              "      <td>1</td>\n",
              "      <td>1</td>\n",
              "      <td>0</td>\n",
              "      <td>0</td>\n",
              "      <td>1</td>\n",
              "      <td>0</td>\n",
              "      <td>0</td>\n",
              "    </tr>\n",
              "    <tr>\n",
              "      <th>...</th>\n",
              "      <td>...</td>\n",
              "      <td>...</td>\n",
              "      <td>...</td>\n",
              "      <td>...</td>\n",
              "      <td>...</td>\n",
              "      <td>...</td>\n",
              "      <td>...</td>\n",
              "      <td>...</td>\n",
              "      <td>...</td>\n",
              "      <td>...</td>\n",
              "      <td>...</td>\n",
              "      <td>...</td>\n",
              "    </tr>\n",
              "    <tr>\n",
              "      <th>1333</th>\n",
              "      <td>50</td>\n",
              "      <td>30.970</td>\n",
              "      <td>3</td>\n",
              "      <td>10600.54830</td>\n",
              "      <td>0</td>\n",
              "      <td>1</td>\n",
              "      <td>1</td>\n",
              "      <td>0</td>\n",
              "      <td>0</td>\n",
              "      <td>1</td>\n",
              "      <td>0</td>\n",
              "      <td>0</td>\n",
              "    </tr>\n",
              "    <tr>\n",
              "      <th>1334</th>\n",
              "      <td>18</td>\n",
              "      <td>31.920</td>\n",
              "      <td>0</td>\n",
              "      <td>2205.98080</td>\n",
              "      <td>1</td>\n",
              "      <td>0</td>\n",
              "      <td>1</td>\n",
              "      <td>0</td>\n",
              "      <td>1</td>\n",
              "      <td>0</td>\n",
              "      <td>0</td>\n",
              "      <td>0</td>\n",
              "    </tr>\n",
              "    <tr>\n",
              "      <th>1335</th>\n",
              "      <td>18</td>\n",
              "      <td>36.850</td>\n",
              "      <td>0</td>\n",
              "      <td>1629.83350</td>\n",
              "      <td>1</td>\n",
              "      <td>0</td>\n",
              "      <td>1</td>\n",
              "      <td>0</td>\n",
              "      <td>0</td>\n",
              "      <td>0</td>\n",
              "      <td>1</td>\n",
              "      <td>0</td>\n",
              "    </tr>\n",
              "    <tr>\n",
              "      <th>1336</th>\n",
              "      <td>21</td>\n",
              "      <td>25.800</td>\n",
              "      <td>0</td>\n",
              "      <td>2007.94500</td>\n",
              "      <td>1</td>\n",
              "      <td>0</td>\n",
              "      <td>1</td>\n",
              "      <td>0</td>\n",
              "      <td>0</td>\n",
              "      <td>0</td>\n",
              "      <td>0</td>\n",
              "      <td>1</td>\n",
              "    </tr>\n",
              "    <tr>\n",
              "      <th>1337</th>\n",
              "      <td>61</td>\n",
              "      <td>29.070</td>\n",
              "      <td>0</td>\n",
              "      <td>29141.36030</td>\n",
              "      <td>1</td>\n",
              "      <td>0</td>\n",
              "      <td>0</td>\n",
              "      <td>1</td>\n",
              "      <td>0</td>\n",
              "      <td>1</td>\n",
              "      <td>0</td>\n",
              "      <td>0</td>\n",
              "    </tr>\n",
              "  </tbody>\n",
              "</table>\n",
              "<p>1338 rows × 12 columns</p>\n",
              "</div>\n",
              "      <button class=\"colab-df-convert\" onclick=\"convertToInteractive('df-13511fbe-bd50-431d-a3f1-16aa543c39b3')\"\n",
              "              title=\"Convert this dataframe to an interactive table.\"\n",
              "              style=\"display:none;\">\n",
              "        \n",
              "  <svg xmlns=\"http://www.w3.org/2000/svg\" height=\"24px\"viewBox=\"0 0 24 24\"\n",
              "       width=\"24px\">\n",
              "    <path d=\"M0 0h24v24H0V0z\" fill=\"none\"/>\n",
              "    <path d=\"M18.56 5.44l.94 2.06.94-2.06 2.06-.94-2.06-.94-.94-2.06-.94 2.06-2.06.94zm-11 1L8.5 8.5l.94-2.06 2.06-.94-2.06-.94L8.5 2.5l-.94 2.06-2.06.94zm10 10l.94 2.06.94-2.06 2.06-.94-2.06-.94-.94-2.06-.94 2.06-2.06.94z\"/><path d=\"M17.41 7.96l-1.37-1.37c-.4-.4-.92-.59-1.43-.59-.52 0-1.04.2-1.43.59L10.3 9.45l-7.72 7.72c-.78.78-.78 2.05 0 2.83L4 21.41c.39.39.9.59 1.41.59.51 0 1.02-.2 1.41-.59l7.78-7.78 2.81-2.81c.8-.78.8-2.07 0-2.86zM5.41 20L4 18.59l7.72-7.72 1.47 1.35L5.41 20z\"/>\n",
              "  </svg>\n",
              "      </button>\n",
              "      \n",
              "  <style>\n",
              "    .colab-df-container {\n",
              "      display:flex;\n",
              "      flex-wrap:wrap;\n",
              "      gap: 12px;\n",
              "    }\n",
              "\n",
              "    .colab-df-convert {\n",
              "      background-color: #E8F0FE;\n",
              "      border: none;\n",
              "      border-radius: 50%;\n",
              "      cursor: pointer;\n",
              "      display: none;\n",
              "      fill: #1967D2;\n",
              "      height: 32px;\n",
              "      padding: 0 0 0 0;\n",
              "      width: 32px;\n",
              "    }\n",
              "\n",
              "    .colab-df-convert:hover {\n",
              "      background-color: #E2EBFA;\n",
              "      box-shadow: 0px 1px 2px rgba(60, 64, 67, 0.3), 0px 1px 3px 1px rgba(60, 64, 67, 0.15);\n",
              "      fill: #174EA6;\n",
              "    }\n",
              "\n",
              "    [theme=dark] .colab-df-convert {\n",
              "      background-color: #3B4455;\n",
              "      fill: #D2E3FC;\n",
              "    }\n",
              "\n",
              "    [theme=dark] .colab-df-convert:hover {\n",
              "      background-color: #434B5C;\n",
              "      box-shadow: 0px 1px 3px 1px rgba(0, 0, 0, 0.15);\n",
              "      filter: drop-shadow(0px 1px 2px rgba(0, 0, 0, 0.3));\n",
              "      fill: #FFFFFF;\n",
              "    }\n",
              "  </style>\n",
              "\n",
              "      <script>\n",
              "        const buttonEl =\n",
              "          document.querySelector('#df-13511fbe-bd50-431d-a3f1-16aa543c39b3 button.colab-df-convert');\n",
              "        buttonEl.style.display =\n",
              "          google.colab.kernel.accessAllowed ? 'block' : 'none';\n",
              "\n",
              "        async function convertToInteractive(key) {\n",
              "          const element = document.querySelector('#df-13511fbe-bd50-431d-a3f1-16aa543c39b3');\n",
              "          const dataTable =\n",
              "            await google.colab.kernel.invokeFunction('convertToInteractive',\n",
              "                                                     [key], {});\n",
              "          if (!dataTable) return;\n",
              "\n",
              "          const docLinkHtml = 'Like what you see? Visit the ' +\n",
              "            '<a target=\"_blank\" href=https://colab.research.google.com/notebooks/data_table.ipynb>data table notebook</a>'\n",
              "            + ' to learn more about interactive tables.';\n",
              "          element.innerHTML = '';\n",
              "          dataTable['output_type'] = 'display_data';\n",
              "          await google.colab.output.renderOutput(dataTable, element);\n",
              "          const docLink = document.createElement('div');\n",
              "          docLink.innerHTML = docLinkHtml;\n",
              "          element.appendChild(docLink);\n",
              "        }\n",
              "      </script>\n",
              "    </div>\n",
              "  </div>\n",
              "  "
            ]
          },
          "metadata": {},
          "execution_count": 54
        }
      ]
    },
    {
      "cell_type": "code",
      "source": [
        "\n",
        "# Creating training and test sets\n",
        "# Build a neural network(sort of like model_2 above)"
      ],
      "metadata": {
        "id": "XXqHMtt03k-C"
      },
      "execution_count": null,
      "outputs": []
    },
    {
      "cell_type": "code",
      "source": [
        "# Create X & y values (features and labels)\n",
        "X = insurance_one_hot.drop(\"charges\", axis=1)\n",
        "y = insurance_one_hot[\"charges\"]"
      ],
      "metadata": {
        "id": "WrLEtKuM4QSV"
      },
      "execution_count": null,
      "outputs": []
    },
    {
      "cell_type": "code",
      "source": [
        "# View X\n",
        "X.head()"
      ],
      "metadata": {
        "colab": {
          "base_uri": "https://localhost:8080/",
          "height": 268
        },
        "id": "_9IgQvcm54H3",
        "outputId": "c9d72b55-40da-4b67-b050-81cde21c6408"
      },
      "execution_count": null,
      "outputs": [
        {
          "output_type": "execute_result",
          "data": {
            "text/plain": [
              "   age     bmi  children  sex_female  sex_male  smoker_no  smoker_yes  \\\n",
              "0   19  27.900         0           1         0          0           1   \n",
              "1   18  33.770         1           0         1          1           0   \n",
              "2   28  33.000         3           0         1          1           0   \n",
              "3   33  22.705         0           0         1          1           0   \n",
              "4   32  28.880         0           0         1          1           0   \n",
              "\n",
              "   region_northeast  region_northwest  region_southeast  region_southwest  \n",
              "0                 0                 0                 0                 1  \n",
              "1                 0                 0                 1                 0  \n",
              "2                 0                 0                 1                 0  \n",
              "3                 0                 1                 0                 0  \n",
              "4                 0                 1                 0                 0  "
            ],
            "text/html": [
              "\n",
              "  <div id=\"df-cc35bbf3-f8f3-4e3a-a10e-3b57cb030e51\">\n",
              "    <div class=\"colab-df-container\">\n",
              "      <div>\n",
              "<style scoped>\n",
              "    .dataframe tbody tr th:only-of-type {\n",
              "        vertical-align: middle;\n",
              "    }\n",
              "\n",
              "    .dataframe tbody tr th {\n",
              "        vertical-align: top;\n",
              "    }\n",
              "\n",
              "    .dataframe thead th {\n",
              "        text-align: right;\n",
              "    }\n",
              "</style>\n",
              "<table border=\"1\" class=\"dataframe\">\n",
              "  <thead>\n",
              "    <tr style=\"text-align: right;\">\n",
              "      <th></th>\n",
              "      <th>age</th>\n",
              "      <th>bmi</th>\n",
              "      <th>children</th>\n",
              "      <th>sex_female</th>\n",
              "      <th>sex_male</th>\n",
              "      <th>smoker_no</th>\n",
              "      <th>smoker_yes</th>\n",
              "      <th>region_northeast</th>\n",
              "      <th>region_northwest</th>\n",
              "      <th>region_southeast</th>\n",
              "      <th>region_southwest</th>\n",
              "    </tr>\n",
              "  </thead>\n",
              "  <tbody>\n",
              "    <tr>\n",
              "      <th>0</th>\n",
              "      <td>19</td>\n",
              "      <td>27.900</td>\n",
              "      <td>0</td>\n",
              "      <td>1</td>\n",
              "      <td>0</td>\n",
              "      <td>0</td>\n",
              "      <td>1</td>\n",
              "      <td>0</td>\n",
              "      <td>0</td>\n",
              "      <td>0</td>\n",
              "      <td>1</td>\n",
              "    </tr>\n",
              "    <tr>\n",
              "      <th>1</th>\n",
              "      <td>18</td>\n",
              "      <td>33.770</td>\n",
              "      <td>1</td>\n",
              "      <td>0</td>\n",
              "      <td>1</td>\n",
              "      <td>1</td>\n",
              "      <td>0</td>\n",
              "      <td>0</td>\n",
              "      <td>0</td>\n",
              "      <td>1</td>\n",
              "      <td>0</td>\n",
              "    </tr>\n",
              "    <tr>\n",
              "      <th>2</th>\n",
              "      <td>28</td>\n",
              "      <td>33.000</td>\n",
              "      <td>3</td>\n",
              "      <td>0</td>\n",
              "      <td>1</td>\n",
              "      <td>1</td>\n",
              "      <td>0</td>\n",
              "      <td>0</td>\n",
              "      <td>0</td>\n",
              "      <td>1</td>\n",
              "      <td>0</td>\n",
              "    </tr>\n",
              "    <tr>\n",
              "      <th>3</th>\n",
              "      <td>33</td>\n",
              "      <td>22.705</td>\n",
              "      <td>0</td>\n",
              "      <td>0</td>\n",
              "      <td>1</td>\n",
              "      <td>1</td>\n",
              "      <td>0</td>\n",
              "      <td>0</td>\n",
              "      <td>1</td>\n",
              "      <td>0</td>\n",
              "      <td>0</td>\n",
              "    </tr>\n",
              "    <tr>\n",
              "      <th>4</th>\n",
              "      <td>32</td>\n",
              "      <td>28.880</td>\n",
              "      <td>0</td>\n",
              "      <td>0</td>\n",
              "      <td>1</td>\n",
              "      <td>1</td>\n",
              "      <td>0</td>\n",
              "      <td>0</td>\n",
              "      <td>1</td>\n",
              "      <td>0</td>\n",
              "      <td>0</td>\n",
              "    </tr>\n",
              "  </tbody>\n",
              "</table>\n",
              "</div>\n",
              "      <button class=\"colab-df-convert\" onclick=\"convertToInteractive('df-cc35bbf3-f8f3-4e3a-a10e-3b57cb030e51')\"\n",
              "              title=\"Convert this dataframe to an interactive table.\"\n",
              "              style=\"display:none;\">\n",
              "        \n",
              "  <svg xmlns=\"http://www.w3.org/2000/svg\" height=\"24px\"viewBox=\"0 0 24 24\"\n",
              "       width=\"24px\">\n",
              "    <path d=\"M0 0h24v24H0V0z\" fill=\"none\"/>\n",
              "    <path d=\"M18.56 5.44l.94 2.06.94-2.06 2.06-.94-2.06-.94-.94-2.06-.94 2.06-2.06.94zm-11 1L8.5 8.5l.94-2.06 2.06-.94-2.06-.94L8.5 2.5l-.94 2.06-2.06.94zm10 10l.94 2.06.94-2.06 2.06-.94-2.06-.94-.94-2.06-.94 2.06-2.06.94z\"/><path d=\"M17.41 7.96l-1.37-1.37c-.4-.4-.92-.59-1.43-.59-.52 0-1.04.2-1.43.59L10.3 9.45l-7.72 7.72c-.78.78-.78 2.05 0 2.83L4 21.41c.39.39.9.59 1.41.59.51 0 1.02-.2 1.41-.59l7.78-7.78 2.81-2.81c.8-.78.8-2.07 0-2.86zM5.41 20L4 18.59l7.72-7.72 1.47 1.35L5.41 20z\"/>\n",
              "  </svg>\n",
              "      </button>\n",
              "      \n",
              "  <style>\n",
              "    .colab-df-container {\n",
              "      display:flex;\n",
              "      flex-wrap:wrap;\n",
              "      gap: 12px;\n",
              "    }\n",
              "\n",
              "    .colab-df-convert {\n",
              "      background-color: #E8F0FE;\n",
              "      border: none;\n",
              "      border-radius: 50%;\n",
              "      cursor: pointer;\n",
              "      display: none;\n",
              "      fill: #1967D2;\n",
              "      height: 32px;\n",
              "      padding: 0 0 0 0;\n",
              "      width: 32px;\n",
              "    }\n",
              "\n",
              "    .colab-df-convert:hover {\n",
              "      background-color: #E2EBFA;\n",
              "      box-shadow: 0px 1px 2px rgba(60, 64, 67, 0.3), 0px 1px 3px 1px rgba(60, 64, 67, 0.15);\n",
              "      fill: #174EA6;\n",
              "    }\n",
              "\n",
              "    [theme=dark] .colab-df-convert {\n",
              "      background-color: #3B4455;\n",
              "      fill: #D2E3FC;\n",
              "    }\n",
              "\n",
              "    [theme=dark] .colab-df-convert:hover {\n",
              "      background-color: #434B5C;\n",
              "      box-shadow: 0px 1px 3px 1px rgba(0, 0, 0, 0.15);\n",
              "      filter: drop-shadow(0px 1px 2px rgba(0, 0, 0, 0.3));\n",
              "      fill: #FFFFFF;\n",
              "    }\n",
              "  </style>\n",
              "\n",
              "      <script>\n",
              "        const buttonEl =\n",
              "          document.querySelector('#df-cc35bbf3-f8f3-4e3a-a10e-3b57cb030e51 button.colab-df-convert');\n",
              "        buttonEl.style.display =\n",
              "          google.colab.kernel.accessAllowed ? 'block' : 'none';\n",
              "\n",
              "        async function convertToInteractive(key) {\n",
              "          const element = document.querySelector('#df-cc35bbf3-f8f3-4e3a-a10e-3b57cb030e51');\n",
              "          const dataTable =\n",
              "            await google.colab.kernel.invokeFunction('convertToInteractive',\n",
              "                                                     [key], {});\n",
              "          if (!dataTable) return;\n",
              "\n",
              "          const docLinkHtml = 'Like what you see? Visit the ' +\n",
              "            '<a target=\"_blank\" href=https://colab.research.google.com/notebooks/data_table.ipynb>data table notebook</a>'\n",
              "            + ' to learn more about interactive tables.';\n",
              "          element.innerHTML = '';\n",
              "          dataTable['output_type'] = 'display_data';\n",
              "          await google.colab.output.renderOutput(dataTable, element);\n",
              "          const docLink = document.createElement('div');\n",
              "          docLink.innerHTML = docLinkHtml;\n",
              "          element.appendChild(docLink);\n",
              "        }\n",
              "      </script>\n",
              "    </div>\n",
              "  </div>\n",
              "  "
            ]
          },
          "metadata": {},
          "execution_count": 57
        }
      ]
    },
    {
      "cell_type": "code",
      "source": [
        "# View y\n",
        "y.head()"
      ],
      "metadata": {
        "colab": {
          "base_uri": "https://localhost:8080/"
        },
        "id": "Tw1nRjDQ6Blo",
        "outputId": "f3fd0fb7-0ccf-4e2c-cd8e-59413b39a132"
      },
      "execution_count": null,
      "outputs": [
        {
          "output_type": "execute_result",
          "data": {
            "text/plain": [
              "0    16884.92400\n",
              "1     1725.55230\n",
              "2     4449.46200\n",
              "3    21984.47061\n",
              "4     3866.85520\n",
              "Name: charges, dtype: float64"
            ]
          },
          "metadata": {},
          "execution_count": 58
        }
      ]
    },
    {
      "cell_type": "code",
      "source": [
        "# create training and testing datasets using scikit\n",
        "from sklearn.model_selection import train_test_split\n",
        "X_train, X_test, y_train, y_test = train_test_split(X, y, test_size = 0.2, random_state = 42)\n",
        "\n",
        "len(X), len(X_train)\n",
        "                                                \n"
      ],
      "metadata": {
        "colab": {
          "base_uri": "https://localhost:8080/"
        },
        "id": "9LKnzVsp6GAc",
        "outputId": "57f93e17-d7df-4275-d0a2-326c1c2c96fe"
      },
      "execution_count": null,
      "outputs": [
        {
          "output_type": "execute_result",
          "data": {
            "text/plain": [
              "(1338, 1070)"
            ]
          },
          "metadata": {},
          "execution_count": 59
        }
      ]
    },
    {
      "cell_type": "code",
      "source": [
        "# Build a model\n",
        "\n",
        "tf.random.set_seed(42)\n",
        "\n",
        "insurance_model = tf.keras.Sequential([  \n",
        "    tf.keras.layers.Dense(100),    # extra layer\n",
        "    tf.keras.layers.Dense(10),\n",
        "    tf.keras.layers.Dense(1),\n",
        "])\n",
        "\n",
        "insurance_model.compile(loss = tf.keras.losses.mae,\n",
        "                        optimizer = tf.keras.optimizers.Adam(),  # using adam optimizer\n",
        "                        metrics = [\"mae\"])\n",
        "\n",
        "history = insurance_model.fit(X_train,y_train, epochs = 200)"
      ],
      "metadata": {
        "colab": {
          "base_uri": "https://localhost:8080/"
        },
        "id": "vo6Guetn7M1e",
        "outputId": "b932f603-f47e-4c95-f1d3-f4ca4e44122c"
      },
      "execution_count": null,
      "outputs": [
        {
          "output_type": "stream",
          "name": "stdout",
          "text": [
            "Epoch 1/200\n",
            "34/34 [==============================] - 0s 2ms/step - loss: 13273.1602 - mae: 13273.1602\n",
            "Epoch 2/200\n",
            "34/34 [==============================] - 0s 2ms/step - loss: 13104.4297 - mae: 13104.4297\n",
            "Epoch 3/200\n",
            "34/34 [==============================] - 0s 2ms/step - loss: 12749.5420 - mae: 12749.5420\n",
            "Epoch 4/200\n",
            "34/34 [==============================] - 0s 2ms/step - loss: 12055.7500 - mae: 12055.7500\n",
            "Epoch 5/200\n",
            "34/34 [==============================] - 0s 2ms/step - loss: 10905.8154 - mae: 10905.8154\n",
            "Epoch 6/200\n",
            "34/34 [==============================] - 0s 2ms/step - loss: 9457.7217 - mae: 9457.7217\n",
            "Epoch 7/200\n",
            "34/34 [==============================] - 0s 3ms/step - loss: 8147.6543 - mae: 8147.6543\n",
            "Epoch 8/200\n",
            "34/34 [==============================] - 0s 2ms/step - loss: 7528.8413 - mae: 7528.8413\n",
            "Epoch 9/200\n",
            "34/34 [==============================] - 0s 2ms/step - loss: 7429.1528 - mae: 7429.1528\n",
            "Epoch 10/200\n",
            "34/34 [==============================] - 0s 2ms/step - loss: 7409.0811 - mae: 7409.0811\n",
            "Epoch 11/200\n",
            "34/34 [==============================] - 0s 2ms/step - loss: 7390.8042 - mae: 7390.8042\n",
            "Epoch 12/200\n",
            "34/34 [==============================] - 0s 2ms/step - loss: 7368.9170 - mae: 7368.9170\n",
            "Epoch 13/200\n",
            "34/34 [==============================] - 0s 2ms/step - loss: 7348.5190 - mae: 7348.5190\n",
            "Epoch 14/200\n",
            "34/34 [==============================] - 0s 2ms/step - loss: 7326.4893 - mae: 7326.4893\n",
            "Epoch 15/200\n",
            "34/34 [==============================] - 0s 2ms/step - loss: 7307.5811 - mae: 7307.5811\n",
            "Epoch 16/200\n",
            "34/34 [==============================] - 0s 2ms/step - loss: 7285.7734 - mae: 7285.7734\n",
            "Epoch 17/200\n",
            "34/34 [==============================] - 0s 2ms/step - loss: 7265.7104 - mae: 7265.7104\n",
            "Epoch 18/200\n",
            "34/34 [==============================] - 0s 2ms/step - loss: 7242.5488 - mae: 7242.5488\n",
            "Epoch 19/200\n",
            "34/34 [==============================] - 0s 2ms/step - loss: 7220.5068 - mae: 7220.5068\n",
            "Epoch 20/200\n",
            "34/34 [==============================] - 0s 2ms/step - loss: 7197.1978 - mae: 7197.1978\n",
            "Epoch 21/200\n",
            "34/34 [==============================] - 0s 2ms/step - loss: 7179.0195 - mae: 7179.0195\n",
            "Epoch 22/200\n",
            "34/34 [==============================] - 0s 2ms/step - loss: 7151.2104 - mae: 7151.2104\n",
            "Epoch 23/200\n",
            "34/34 [==============================] - 0s 2ms/step - loss: 7126.4639 - mae: 7126.4639\n",
            "Epoch 24/200\n",
            "34/34 [==============================] - 0s 2ms/step - loss: 7101.9199 - mae: 7101.9199\n",
            "Epoch 25/200\n",
            "34/34 [==============================] - 0s 2ms/step - loss: 7084.3379 - mae: 7084.3379\n",
            "Epoch 26/200\n",
            "34/34 [==============================] - 0s 2ms/step - loss: 7052.3291 - mae: 7052.3291\n",
            "Epoch 27/200\n",
            "34/34 [==============================] - 0s 2ms/step - loss: 7024.3511 - mae: 7024.3511\n",
            "Epoch 28/200\n",
            "34/34 [==============================] - 0s 2ms/step - loss: 6996.6963 - mae: 6996.6963\n",
            "Epoch 29/200\n",
            "34/34 [==============================] - 0s 2ms/step - loss: 6969.0112 - mae: 6969.0112\n",
            "Epoch 30/200\n",
            "34/34 [==============================] - 0s 2ms/step - loss: 6942.1899 - mae: 6942.1899\n",
            "Epoch 31/200\n",
            "34/34 [==============================] - 0s 2ms/step - loss: 6911.7280 - mae: 6911.7280\n",
            "Epoch 32/200\n",
            "34/34 [==============================] - 0s 2ms/step - loss: 6884.0205 - mae: 6884.0205\n",
            "Epoch 33/200\n",
            "34/34 [==============================] - 0s 2ms/step - loss: 6853.4648 - mae: 6853.4648\n",
            "Epoch 34/200\n",
            "34/34 [==============================] - 0s 2ms/step - loss: 6823.0674 - mae: 6823.0674\n",
            "Epoch 35/200\n",
            "34/34 [==============================] - 0s 2ms/step - loss: 6789.6855 - mae: 6789.6855\n",
            "Epoch 36/200\n",
            "34/34 [==============================] - 0s 2ms/step - loss: 6755.7646 - mae: 6755.7646\n",
            "Epoch 37/200\n",
            "34/34 [==============================] - 0s 3ms/step - loss: 6720.2026 - mae: 6720.2026\n",
            "Epoch 38/200\n",
            "34/34 [==============================] - 0s 2ms/step - loss: 6689.7158 - mae: 6689.7158\n",
            "Epoch 39/200\n",
            "34/34 [==============================] - 0s 2ms/step - loss: 6652.4609 - mae: 6652.4609\n",
            "Epoch 40/200\n",
            "34/34 [==============================] - 0s 2ms/step - loss: 6618.1016 - mae: 6618.1016\n",
            "Epoch 41/200\n",
            "34/34 [==============================] - 0s 2ms/step - loss: 6585.8633 - mae: 6585.8633\n",
            "Epoch 42/200\n",
            "34/34 [==============================] - 0s 2ms/step - loss: 6559.4956 - mae: 6559.4956\n",
            "Epoch 43/200\n",
            "34/34 [==============================] - 0s 2ms/step - loss: 6530.0439 - mae: 6530.0439\n",
            "Epoch 44/200\n",
            "34/34 [==============================] - 0s 2ms/step - loss: 6506.8066 - mae: 6506.8066\n",
            "Epoch 45/200\n",
            "34/34 [==============================] - 0s 2ms/step - loss: 6493.5718 - mae: 6493.5718\n",
            "Epoch 46/200\n",
            "34/34 [==============================] - 0s 2ms/step - loss: 6475.9258 - mae: 6475.9258\n",
            "Epoch 47/200\n",
            "34/34 [==============================] - 0s 2ms/step - loss: 6458.8979 - mae: 6458.8979\n",
            "Epoch 48/200\n",
            "34/34 [==============================] - 0s 2ms/step - loss: 6445.1494 - mae: 6445.1494\n",
            "Epoch 49/200\n",
            "34/34 [==============================] - 0s 2ms/step - loss: 6430.9639 - mae: 6430.9639\n",
            "Epoch 50/200\n",
            "34/34 [==============================] - 0s 2ms/step - loss: 6417.7510 - mae: 6417.7510\n",
            "Epoch 51/200\n",
            "34/34 [==============================] - 0s 2ms/step - loss: 6403.2759 - mae: 6403.2759\n",
            "Epoch 52/200\n",
            "34/34 [==============================] - 0s 2ms/step - loss: 6392.4141 - mae: 6392.4141\n",
            "Epoch 53/200\n",
            "34/34 [==============================] - 0s 2ms/step - loss: 6378.7451 - mae: 6378.7451\n",
            "Epoch 54/200\n",
            "34/34 [==============================] - 0s 2ms/step - loss: 6364.9131 - mae: 6364.9131\n",
            "Epoch 55/200\n",
            "34/34 [==============================] - 0s 2ms/step - loss: 6351.5273 - mae: 6351.5273\n",
            "Epoch 56/200\n",
            "34/34 [==============================] - 0s 2ms/step - loss: 6337.6602 - mae: 6337.6602\n",
            "Epoch 57/200\n",
            "34/34 [==============================] - 0s 2ms/step - loss: 6324.8369 - mae: 6324.8369\n",
            "Epoch 58/200\n",
            "34/34 [==============================] - 0s 2ms/step - loss: 6310.1943 - mae: 6310.1943\n",
            "Epoch 59/200\n",
            "34/34 [==============================] - 0s 2ms/step - loss: 6295.6035 - mae: 6295.6035\n",
            "Epoch 60/200\n",
            "34/34 [==============================] - 0s 2ms/step - loss: 6284.8696 - mae: 6284.8696\n",
            "Epoch 61/200\n",
            "34/34 [==============================] - 0s 2ms/step - loss: 6265.6411 - mae: 6265.6411\n",
            "Epoch 62/200\n",
            "34/34 [==============================] - 0s 2ms/step - loss: 6253.0112 - mae: 6253.0112\n",
            "Epoch 63/200\n",
            "34/34 [==============================] - 0s 2ms/step - loss: 6234.9292 - mae: 6234.9292\n",
            "Epoch 64/200\n",
            "34/34 [==============================] - 0s 2ms/step - loss: 6218.0435 - mae: 6218.0435\n",
            "Epoch 65/200\n",
            "34/34 [==============================] - 0s 2ms/step - loss: 6201.1899 - mae: 6201.1899\n",
            "Epoch 66/200\n",
            "34/34 [==============================] - 0s 2ms/step - loss: 6183.9590 - mae: 6183.9590\n",
            "Epoch 67/200\n",
            "34/34 [==============================] - 0s 2ms/step - loss: 6171.2993 - mae: 6171.2993\n",
            "Epoch 68/200\n",
            "34/34 [==============================] - 0s 2ms/step - loss: 6148.8398 - mae: 6148.8398\n",
            "Epoch 69/200\n",
            "34/34 [==============================] - 0s 2ms/step - loss: 6132.5981 - mae: 6132.5981\n",
            "Epoch 70/200\n",
            "34/34 [==============================] - 0s 2ms/step - loss: 6112.3853 - mae: 6112.3853\n",
            "Epoch 71/200\n",
            "34/34 [==============================] - 0s 2ms/step - loss: 6092.7202 - mae: 6092.7202\n",
            "Epoch 72/200\n",
            "34/34 [==============================] - 0s 2ms/step - loss: 6073.7422 - mae: 6073.7422\n",
            "Epoch 73/200\n",
            "34/34 [==============================] - 0s 2ms/step - loss: 6059.4873 - mae: 6059.4873\n",
            "Epoch 74/200\n",
            "34/34 [==============================] - 0s 2ms/step - loss: 6031.3848 - mae: 6031.3848\n",
            "Epoch 75/200\n",
            "34/34 [==============================] - 0s 2ms/step - loss: 6010.3350 - mae: 6010.3350\n",
            "Epoch 76/200\n",
            "34/34 [==============================] - 0s 2ms/step - loss: 5995.2178 - mae: 5995.2178\n",
            "Epoch 77/200\n",
            "34/34 [==============================] - 0s 2ms/step - loss: 5963.0723 - mae: 5963.0723\n",
            "Epoch 78/200\n",
            "34/34 [==============================] - 0s 2ms/step - loss: 5940.0605 - mae: 5940.0605\n",
            "Epoch 79/200\n",
            "34/34 [==============================] - 0s 2ms/step - loss: 5915.1064 - mae: 5915.1064\n",
            "Epoch 80/200\n",
            "34/34 [==============================] - 0s 2ms/step - loss: 5887.9990 - mae: 5887.9990\n",
            "Epoch 81/200\n",
            "34/34 [==============================] - 0s 2ms/step - loss: 5861.6992 - mae: 5861.6992\n",
            "Epoch 82/200\n",
            "34/34 [==============================] - 0s 2ms/step - loss: 5834.3066 - mae: 5834.3066\n",
            "Epoch 83/200\n",
            "34/34 [==============================] - 0s 2ms/step - loss: 5805.8237 - mae: 5805.8237\n",
            "Epoch 84/200\n",
            "34/34 [==============================] - 0s 2ms/step - loss: 5772.3232 - mae: 5772.3232\n",
            "Epoch 85/200\n",
            "34/34 [==============================] - 0s 2ms/step - loss: 5745.1514 - mae: 5745.1514\n",
            "Epoch 86/200\n",
            "34/34 [==============================] - 0s 2ms/step - loss: 5711.3477 - mae: 5711.3477\n",
            "Epoch 87/200\n",
            "34/34 [==============================] - 0s 2ms/step - loss: 5674.5215 - mae: 5674.5215\n",
            "Epoch 88/200\n",
            "34/34 [==============================] - 0s 2ms/step - loss: 5639.4927 - mae: 5639.4927\n",
            "Epoch 89/200\n",
            "34/34 [==============================] - 0s 2ms/step - loss: 5600.6655 - mae: 5600.6655\n",
            "Epoch 90/200\n",
            "34/34 [==============================] - 0s 2ms/step - loss: 5559.4326 - mae: 5559.4326\n",
            "Epoch 91/200\n",
            "34/34 [==============================] - 0s 2ms/step - loss: 5523.6187 - mae: 5523.6187\n",
            "Epoch 92/200\n",
            "34/34 [==============================] - 0s 2ms/step - loss: 5474.1250 - mae: 5474.1250\n",
            "Epoch 93/200\n",
            "34/34 [==============================] - 0s 2ms/step - loss: 5432.2656 - mae: 5432.2656\n",
            "Epoch 94/200\n",
            "34/34 [==============================] - 0s 2ms/step - loss: 5386.0527 - mae: 5386.0527\n",
            "Epoch 95/200\n",
            "34/34 [==============================] - 0s 2ms/step - loss: 5333.1812 - mae: 5333.1812\n",
            "Epoch 96/200\n",
            "34/34 [==============================] - 0s 2ms/step - loss: 5288.8159 - mae: 5288.8159\n",
            "Epoch 97/200\n",
            "34/34 [==============================] - 0s 2ms/step - loss: 5234.6792 - mae: 5234.6792\n",
            "Epoch 98/200\n",
            "34/34 [==============================] - 0s 2ms/step - loss: 5170.9360 - mae: 5170.9360\n",
            "Epoch 99/200\n",
            "34/34 [==============================] - 0s 2ms/step - loss: 5112.9443 - mae: 5112.9443\n",
            "Epoch 100/200\n",
            "34/34 [==============================] - 0s 2ms/step - loss: 5059.8643 - mae: 5059.8643\n",
            "Epoch 101/200\n",
            "34/34 [==============================] - 0s 2ms/step - loss: 4987.6191 - mae: 4987.6191\n",
            "Epoch 102/200\n",
            "34/34 [==============================] - 0s 2ms/step - loss: 4915.2905 - mae: 4915.2905\n",
            "Epoch 103/200\n",
            "34/34 [==============================] - 0s 2ms/step - loss: 4847.3604 - mae: 4847.3604\n",
            "Epoch 104/200\n",
            "34/34 [==============================] - 0s 2ms/step - loss: 4768.0151 - mae: 4768.0151\n",
            "Epoch 105/200\n",
            "34/34 [==============================] - 0s 2ms/step - loss: 4683.4727 - mae: 4683.4727\n",
            "Epoch 106/200\n",
            "34/34 [==============================] - 0s 2ms/step - loss: 4600.5054 - mae: 4600.5054\n",
            "Epoch 107/200\n",
            "34/34 [==============================] - 0s 2ms/step - loss: 4513.1436 - mae: 4513.1436\n",
            "Epoch 108/200\n",
            "34/34 [==============================] - 0s 2ms/step - loss: 4422.2983 - mae: 4422.2983\n",
            "Epoch 109/200\n",
            "34/34 [==============================] - 0s 2ms/step - loss: 4339.9600 - mae: 4339.9600\n",
            "Epoch 110/200\n",
            "34/34 [==============================] - 0s 2ms/step - loss: 4254.3916 - mae: 4254.3916\n",
            "Epoch 111/200\n",
            "34/34 [==============================] - 0s 2ms/step - loss: 4173.1797 - mae: 4173.1797\n",
            "Epoch 112/200\n",
            "34/34 [==============================] - 0s 2ms/step - loss: 4102.2944 - mae: 4102.2944\n",
            "Epoch 113/200\n",
            "34/34 [==============================] - 0s 2ms/step - loss: 4031.9590 - mae: 4031.9590\n",
            "Epoch 114/200\n",
            "34/34 [==============================] - 0s 2ms/step - loss: 3986.0220 - mae: 3986.0220\n",
            "Epoch 115/200\n",
            "34/34 [==============================] - 0s 2ms/step - loss: 3943.2346 - mae: 3943.2346\n",
            "Epoch 116/200\n",
            "34/34 [==============================] - 0s 2ms/step - loss: 3918.8977 - mae: 3918.8977\n",
            "Epoch 117/200\n",
            "34/34 [==============================] - 0s 2ms/step - loss: 3895.5610 - mae: 3895.5610\n",
            "Epoch 118/200\n",
            "34/34 [==============================] - 0s 2ms/step - loss: 3869.5679 - mae: 3869.5679\n",
            "Epoch 119/200\n",
            "34/34 [==============================] - 0s 2ms/step - loss: 3850.2136 - mae: 3850.2136\n",
            "Epoch 120/200\n",
            "34/34 [==============================] - 0s 2ms/step - loss: 3834.7349 - mae: 3834.7349\n",
            "Epoch 121/200\n",
            "34/34 [==============================] - 0s 2ms/step - loss: 3827.0952 - mae: 3827.0952\n",
            "Epoch 122/200\n",
            "34/34 [==============================] - 0s 2ms/step - loss: 3821.6382 - mae: 3821.6382\n",
            "Epoch 123/200\n",
            "34/34 [==============================] - 0s 2ms/step - loss: 3813.8315 - mae: 3813.8315\n",
            "Epoch 124/200\n",
            "34/34 [==============================] - 0s 2ms/step - loss: 3805.7307 - mae: 3805.7307\n",
            "Epoch 125/200\n",
            "34/34 [==============================] - 0s 2ms/step - loss: 3794.7085 - mae: 3794.7085\n",
            "Epoch 126/200\n",
            "34/34 [==============================] - 0s 2ms/step - loss: 3804.4946 - mae: 3804.4946\n",
            "Epoch 127/200\n",
            "34/34 [==============================] - 0s 2ms/step - loss: 3796.0596 - mae: 3796.0596\n",
            "Epoch 128/200\n",
            "34/34 [==============================] - 0s 2ms/step - loss: 3791.0422 - mae: 3791.0422\n",
            "Epoch 129/200\n",
            "34/34 [==============================] - 0s 2ms/step - loss: 3800.0696 - mae: 3800.0696\n",
            "Epoch 130/200\n",
            "34/34 [==============================] - 0s 2ms/step - loss: 3788.5005 - mae: 3788.5005\n",
            "Epoch 131/200\n",
            "34/34 [==============================] - 0s 2ms/step - loss: 3780.8442 - mae: 3780.8442\n",
            "Epoch 132/200\n",
            "34/34 [==============================] - 0s 2ms/step - loss: 3774.5413 - mae: 3774.5413\n",
            "Epoch 133/200\n",
            "34/34 [==============================] - 0s 2ms/step - loss: 3771.0156 - mae: 3771.0156\n",
            "Epoch 134/200\n",
            "34/34 [==============================] - 0s 2ms/step - loss: 3769.3762 - mae: 3769.3762\n",
            "Epoch 135/200\n",
            "34/34 [==============================] - 0s 2ms/step - loss: 3766.7612 - mae: 3766.7612\n",
            "Epoch 136/200\n",
            "34/34 [==============================] - 0s 2ms/step - loss: 3765.5510 - mae: 3765.5510\n",
            "Epoch 137/200\n",
            "34/34 [==============================] - 0s 3ms/step - loss: 3774.5034 - mae: 3774.5034\n",
            "Epoch 138/200\n",
            "34/34 [==============================] - 0s 2ms/step - loss: 3785.3909 - mae: 3785.3909\n",
            "Epoch 139/200\n",
            "34/34 [==============================] - 0s 2ms/step - loss: 3761.1299 - mae: 3761.1299\n",
            "Epoch 140/200\n",
            "34/34 [==============================] - 0s 2ms/step - loss: 3764.1753 - mae: 3764.1753\n",
            "Epoch 141/200\n",
            "34/34 [==============================] - 0s 2ms/step - loss: 3763.9250 - mae: 3763.9250\n",
            "Epoch 142/200\n",
            "34/34 [==============================] - 0s 2ms/step - loss: 3762.7959 - mae: 3762.7959\n",
            "Epoch 143/200\n",
            "34/34 [==============================] - 0s 2ms/step - loss: 3754.4397 - mae: 3754.4397\n",
            "Epoch 144/200\n",
            "34/34 [==============================] - 0s 2ms/step - loss: 3750.3347 - mae: 3750.3347\n",
            "Epoch 145/200\n",
            "34/34 [==============================] - 0s 2ms/step - loss: 3750.4006 - mae: 3750.4006\n",
            "Epoch 146/200\n",
            "34/34 [==============================] - 0s 2ms/step - loss: 3755.4736 - mae: 3755.4736\n",
            "Epoch 147/200\n",
            "34/34 [==============================] - 0s 2ms/step - loss: 3750.3223 - mae: 3750.3223\n",
            "Epoch 148/200\n",
            "34/34 [==============================] - 0s 2ms/step - loss: 3758.1089 - mae: 3758.1089\n",
            "Epoch 149/200\n",
            "34/34 [==============================] - 0s 2ms/step - loss: 3743.4858 - mae: 3743.4858\n",
            "Epoch 150/200\n",
            "34/34 [==============================] - 0s 2ms/step - loss: 3738.5342 - mae: 3738.5342\n",
            "Epoch 151/200\n",
            "34/34 [==============================] - 0s 2ms/step - loss: 3740.1384 - mae: 3740.1384\n",
            "Epoch 152/200\n",
            "34/34 [==============================] - 0s 2ms/step - loss: 3742.4954 - mae: 3742.4954\n",
            "Epoch 153/200\n",
            "34/34 [==============================] - 0s 2ms/step - loss: 3744.4395 - mae: 3744.4395\n",
            "Epoch 154/200\n",
            "34/34 [==============================] - 0s 2ms/step - loss: 3737.1826 - mae: 3737.1826\n",
            "Epoch 155/200\n",
            "34/34 [==============================] - 0s 2ms/step - loss: 3737.6541 - mae: 3737.6541\n",
            "Epoch 156/200\n",
            "34/34 [==============================] - 0s 2ms/step - loss: 3737.1663 - mae: 3737.1663\n",
            "Epoch 157/200\n",
            "34/34 [==============================] - 0s 2ms/step - loss: 3733.1101 - mae: 3733.1101\n",
            "Epoch 158/200\n",
            "34/34 [==============================] - 0s 2ms/step - loss: 3729.5813 - mae: 3729.5813\n",
            "Epoch 159/200\n",
            "34/34 [==============================] - 0s 2ms/step - loss: 3725.9053 - mae: 3725.9053\n",
            "Epoch 160/200\n",
            "34/34 [==============================] - 0s 2ms/step - loss: 3733.2822 - mae: 3733.2822\n",
            "Epoch 161/200\n",
            "34/34 [==============================] - 0s 2ms/step - loss: 3728.2559 - mae: 3728.2559\n",
            "Epoch 162/200\n",
            "34/34 [==============================] - 0s 2ms/step - loss: 3724.5825 - mae: 3724.5825\n",
            "Epoch 163/200\n",
            "34/34 [==============================] - 0s 2ms/step - loss: 3723.0806 - mae: 3723.0806\n",
            "Epoch 164/200\n",
            "34/34 [==============================] - 0s 3ms/step - loss: 3726.9475 - mae: 3726.9475\n",
            "Epoch 165/200\n",
            "34/34 [==============================] - 0s 2ms/step - loss: 3716.5430 - mae: 3716.5430\n",
            "Epoch 166/200\n",
            "34/34 [==============================] - 0s 2ms/step - loss: 3721.9155 - mae: 3721.9155\n",
            "Epoch 167/200\n",
            "34/34 [==============================] - 0s 2ms/step - loss: 3721.1814 - mae: 3721.1814\n",
            "Epoch 168/200\n",
            "34/34 [==============================] - 0s 3ms/step - loss: 3715.2458 - mae: 3715.2458\n",
            "Epoch 169/200\n",
            "34/34 [==============================] - 0s 2ms/step - loss: 3713.9756 - mae: 3713.9756\n",
            "Epoch 170/200\n",
            "34/34 [==============================] - 0s 2ms/step - loss: 3707.9922 - mae: 3707.9922\n",
            "Epoch 171/200\n",
            "34/34 [==============================] - 0s 2ms/step - loss: 3707.4158 - mae: 3707.4158\n",
            "Epoch 172/200\n",
            "34/34 [==============================] - 0s 2ms/step - loss: 3710.6833 - mae: 3710.6833\n",
            "Epoch 173/200\n",
            "34/34 [==============================] - 0s 2ms/step - loss: 3703.3618 - mae: 3703.3618\n",
            "Epoch 174/200\n",
            "34/34 [==============================] - 0s 2ms/step - loss: 3710.9385 - mae: 3710.9385\n",
            "Epoch 175/200\n",
            "34/34 [==============================] - 0s 2ms/step - loss: 3713.0417 - mae: 3713.0417\n",
            "Epoch 176/200\n",
            "34/34 [==============================] - 0s 2ms/step - loss: 3705.0571 - mae: 3705.0571\n",
            "Epoch 177/200\n",
            "34/34 [==============================] - 0s 2ms/step - loss: 3698.9333 - mae: 3698.9333\n",
            "Epoch 178/200\n",
            "34/34 [==============================] - 0s 2ms/step - loss: 3697.9983 - mae: 3697.9983\n",
            "Epoch 179/200\n",
            "34/34 [==============================] - 0s 2ms/step - loss: 3704.9150 - mae: 3704.9150\n",
            "Epoch 180/200\n",
            "34/34 [==============================] - 0s 2ms/step - loss: 3710.3679 - mae: 3710.3679\n",
            "Epoch 181/200\n",
            "34/34 [==============================] - 0s 2ms/step - loss: 3696.6482 - mae: 3696.6482\n",
            "Epoch 182/200\n",
            "34/34 [==============================] - 0s 2ms/step - loss: 3692.7329 - mae: 3692.7329\n",
            "Epoch 183/200\n",
            "34/34 [==============================] - 0s 2ms/step - loss: 3691.1655 - mae: 3691.1655\n",
            "Epoch 184/200\n",
            "34/34 [==============================] - 0s 2ms/step - loss: 3699.2437 - mae: 3699.2437\n",
            "Epoch 185/200\n",
            "34/34 [==============================] - 0s 2ms/step - loss: 3693.2480 - mae: 3693.2480\n",
            "Epoch 186/200\n",
            "34/34 [==============================] - 0s 2ms/step - loss: 3696.1389 - mae: 3696.1389\n",
            "Epoch 187/200\n",
            "34/34 [==============================] - 0s 2ms/step - loss: 3687.8640 - mae: 3687.8640\n",
            "Epoch 188/200\n",
            "34/34 [==============================] - 0s 2ms/step - loss: 3693.3562 - mae: 3693.3562\n",
            "Epoch 189/200\n",
            "34/34 [==============================] - 0s 2ms/step - loss: 3682.7324 - mae: 3682.7324\n",
            "Epoch 190/200\n",
            "34/34 [==============================] - 0s 2ms/step - loss: 3683.2891 - mae: 3683.2891\n",
            "Epoch 191/200\n",
            "34/34 [==============================] - 0s 2ms/step - loss: 3697.6536 - mae: 3697.6536\n",
            "Epoch 192/200\n",
            "34/34 [==============================] - 0s 2ms/step - loss: 3684.6665 - mae: 3684.6665\n",
            "Epoch 193/200\n",
            "34/34 [==============================] - 0s 2ms/step - loss: 3675.5154 - mae: 3675.5154\n",
            "Epoch 194/200\n",
            "34/34 [==============================] - 0s 2ms/step - loss: 3676.3923 - mae: 3676.3923\n",
            "Epoch 195/200\n",
            "34/34 [==============================] - 0s 2ms/step - loss: 3672.8452 - mae: 3672.8452\n",
            "Epoch 196/200\n",
            "34/34 [==============================] - 0s 3ms/step - loss: 3682.0283 - mae: 3682.0283\n",
            "Epoch 197/200\n",
            "34/34 [==============================] - 0s 2ms/step - loss: 3665.7961 - mae: 3665.7961\n",
            "Epoch 198/200\n",
            "34/34 [==============================] - 0s 2ms/step - loss: 3671.7419 - mae: 3671.7419\n",
            "Epoch 199/200\n",
            "34/34 [==============================] - 0s 2ms/step - loss: 3680.5464 - mae: 3680.5464\n",
            "Epoch 200/200\n",
            "34/34 [==============================] - 0s 2ms/step - loss: 3665.6401 - mae: 3665.6401\n"
          ]
        }
      ]
    },
    {
      "cell_type": "code",
      "source": [
        "# check the results of insurance model on test data\n",
        "insurance_model.evaluate(X_test, y_test)"
      ],
      "metadata": {
        "colab": {
          "base_uri": "https://localhost:8080/"
        },
        "id": "6Iw8qb6A9Iu3",
        "outputId": "48461cbc-68a0-4838-e850-0c9cd47ac344"
      },
      "execution_count": null,
      "outputs": [
        {
          "output_type": "stream",
          "name": "stdout",
          "text": [
            "9/9 [==============================] - 0s 2ms/step - loss: 3491.2961 - mae: 3491.2961\n"
          ]
        },
        {
          "output_type": "execute_result",
          "data": {
            "text/plain": [
              "[3491.296142578125, 3491.296142578125]"
            ]
          },
          "metadata": {},
          "execution_count": 61
        }
      ]
    },
    {
      "cell_type": "code",
      "source": [
        "# plot history ( also known as training curve)\n",
        "pd.DataFrame(history.history).plot()\n",
        "plt.xlabel(\"epochs\")\n",
        "plt.ylabel(\"loss\")"
      ],
      "metadata": {
        "colab": {
          "base_uri": "https://localhost:8080/",
          "height": 296
        },
        "id": "7ttc7NaI9nWf",
        "outputId": "7cf81f13-2646-4fcd-9bba-b9976121d1de"
      },
      "execution_count": null,
      "outputs": [
        {
          "output_type": "execute_result",
          "data": {
            "text/plain": [
              "Text(0, 0.5, 'loss')"
            ]
          },
          "metadata": {},
          "execution_count": 62
        },
        {
          "output_type": "display_data",
          "data": {
            "text/plain": [
              "<Figure size 432x288 with 1 Axes>"
            ],
            "image/png": "[encoded data removed]"
          },
          "metadata": {
            "needs_background": "light"
          }
        }
      ]
    },
    {
      "cell_type": "markdown",
      "source": [
        "When to stop training - earlystopping callback "
      ],
      "metadata": {
        "id": "HXhlPn3lBp6O"
      }
    },
    {
      "cell_type": "markdown",
      "source": [
        "## Normalization and standardization(Preprocessing data - scale features)\n",
        "In terms of scaling values, neural networks tend to prefer normalization.\n"
      ],
      "metadata": {
        "id": "KPtkML4oBvws"
      }
    },
    {
      "cell_type": "code",
      "source": [
        "import pandas as pd\n",
        "import matplotlib.pyplot as plt\n",
        "import tensorflow as tf\n",
        "\n",
        "insurance = pd.read_csv(\"https://raw.githubusercontent.com/stedy/Machine-Learning-with-R-datasets/master/insurance.csv\")\n",
        "insurance"
      ],
      "metadata": {
        "colab": {
          "base_uri": "https://localhost:8080/",
          "height": 419
        },
        "id": "Pzbm2amkBuea",
        "outputId": "7461b119-29c6-4063-c9d1-ec69584dfb2e"
      },
      "execution_count": null,
      "outputs": [
        {
          "output_type": "execute_result",
          "data": {
            "text/plain": [
              "      age     sex     bmi  children smoker     region      charges\n",
              "0      19  female  27.900         0    yes  southwest  16884.92400\n",
              "1      18    male  33.770         1     no  southeast   1725.55230\n",
              "2      28    male  33.000         3     no  southeast   4449.46200\n",
              "3      33    male  22.705         0     no  northwest  21984.47061\n",
              "4      32    male  28.880         0     no  northwest   3866.85520\n",
              "...   ...     ...     ...       ...    ...        ...          ...\n",
              "1333   50    male  30.970         3     no  northwest  10600.54830\n",
              "1334   18  female  31.920         0     no  northeast   2205.98080\n",
              "1335   18  female  36.850         0     no  southeast   1629.83350\n",
              "1336   21  female  25.800         0     no  southwest   2007.94500\n",
              "1337   61  female  29.070         0    yes  northwest  29141.36030\n",
              "\n",
              "[1338 rows x 7 columns]"
            ],
            "text/html": [
              "\n",
              "  <div id=\"df-65736110-8961-4b49-a6be-af0b3db50c99\">\n",
              "    <div class=\"colab-df-container\">\n",
              "      <div>\n",
              "<style scoped>\n",
              "    .dataframe tbody tr th:only-of-type {\n",
              "        vertical-align: middle;\n",
              "    }\n",
              "\n",
              "    .dataframe tbody tr th {\n",
              "        vertical-align: top;\n",
              "    }\n",
              "\n",
              "    .dataframe thead th {\n",
              "        text-align: right;\n",
              "    }\n",
              "</style>\n",
              "<table border=\"1\" class=\"dataframe\">\n",
              "  <thead>\n",
              "    <tr style=\"text-align: right;\">\n",
              "      <th></th>\n",
              "      <th>age</th>\n",
              "      <th>sex</th>\n",
              "      <th>bmi</th>\n",
              "      <th>children</th>\n",
              "      <th>smoker</th>\n",
              "      <th>region</th>\n",
              "      <th>charges</th>\n",
              "    </tr>\n",
              "  </thead>\n",
              "  <tbody>\n",
              "    <tr>\n",
              "      <th>0</th>\n",
              "      <td>19</td>\n",
              "      <td>female</td>\n",
              "      <td>27.900</td>\n",
              "      <td>0</td>\n",
              "      <td>yes</td>\n",
              "      <td>southwest</td>\n",
              "      <td>16884.92400</td>\n",
              "    </tr>\n",
              "    <tr>\n",
              "      <th>1</th>\n",
              "      <td>18</td>\n",
              "      <td>male</td>\n",
              "      <td>33.770</td>\n",
              "      <td>1</td>\n",
              "      <td>no</td>\n",
              "      <td>southeast</td>\n",
              "      <td>1725.55230</td>\n",
              "    </tr>\n",
              "    <tr>\n",
              "      <th>2</th>\n",
              "      <td>28</td>\n",
              "      <td>male</td>\n",
              "      <td>33.000</td>\n",
              "      <td>3</td>\n",
              "      <td>no</td>\n",
              "      <td>southeast</td>\n",
              "      <td>4449.46200</td>\n",
              "    </tr>\n",
              "    <tr>\n",
              "      <th>3</th>\n",
              "      <td>33</td>\n",
              "      <td>male</td>\n",
              "      <td>22.705</td>\n",
              "      <td>0</td>\n",
              "      <td>no</td>\n",
              "      <td>northwest</td>\n",
              "      <td>21984.47061</td>\n",
              "    </tr>\n",
              "    <tr>\n",
              "      <th>4</th>\n",
              "      <td>32</td>\n",
              "      <td>male</td>\n",
              "      <td>28.880</td>\n",
              "      <td>0</td>\n",
              "      <td>no</td>\n",
              "      <td>northwest</td>\n",
              "      <td>3866.85520</td>\n",
              "    </tr>\n",
              "    <tr>\n",
              "      <th>...</th>\n",
              "      <td>...</td>\n",
              "      <td>...</td>\n",
              "      <td>...</td>\n",
              "      <td>...</td>\n",
              "      <td>...</td>\n",
              "      <td>...</td>\n",
              "      <td>...</td>\n",
              "    </tr>\n",
              "    <tr>\n",
              "      <th>1333</th>\n",
              "      <td>50</td>\n",
              "      <td>male</td>\n",
              "      <td>30.970</td>\n",
              "      <td>3</td>\n",
              "      <td>no</td>\n",
              "      <td>northwest</td>\n",
              "      <td>10600.54830</td>\n",
              "    </tr>\n",
              "    <tr>\n",
              "      <th>1334</th>\n",
              "      <td>18</td>\n",
              "      <td>female</td>\n",
              "      <td>31.920</td>\n",
              "      <td>0</td>\n",
              "      <td>no</td>\n",
              "      <td>northeast</td>\n",
              "      <td>2205.98080</td>\n",
              "    </tr>\n",
              "    <tr>\n",
              "      <th>1335</th>\n",
              "      <td>18</td>\n",
              "      <td>female</td>\n",
              "      <td>36.850</td>\n",
              "      <td>0</td>\n",
              "      <td>no</td>\n",
              "      <td>southeast</td>\n",
              "      <td>1629.83350</td>\n",
              "    </tr>\n",
              "    <tr>\n",
              "      <th>1336</th>\n",
              "      <td>21</td>\n",
              "      <td>female</td>\n",
              "      <td>25.800</td>\n",
              "      <td>0</td>\n",
              "      <td>no</td>\n",
              "      <td>southwest</td>\n",
              "      <td>2007.94500</td>\n",
              "    </tr>\n",
              "    <tr>\n",
              "      <th>1337</th>\n",
              "      <td>61</td>\n",
              "      <td>female</td>\n",
              "      <td>29.070</td>\n",
              "      <td>0</td>\n",
              "      <td>yes</td>\n",
              "      <td>northwest</td>\n",
              "      <td>29141.36030</td>\n",
              "    </tr>\n",
              "  </tbody>\n",
              "</table>\n",
              "<p>1338 rows × 7 columns</p>\n",
              "</div>\n",
              "      <button class=\"colab-df-convert\" onclick=\"convertToInteractive('df-65736110-8961-4b49-a6be-af0b3db50c99')\"\n",
              "              title=\"Convert this dataframe to an interactive table.\"\n",
              "              style=\"display:none;\">\n",
              "        \n",
              "  <svg xmlns=\"http://www.w3.org/2000/svg\" height=\"24px\"viewBox=\"0 0 24 24\"\n",
              "       width=\"24px\">\n",
              "    <path d=\"M0 0h24v24H0V0z\" fill=\"none\"/>\n",
              "    <path d=\"M18.56 5.44l.94 2.06.94-2.06 2.06-.94-2.06-.94-.94-2.06-.94 2.06-2.06.94zm-11 1L8.5 8.5l.94-2.06 2.06-.94-2.06-.94L8.5 2.5l-.94 2.06-2.06.94zm10 10l.94 2.06.94-2.06 2.06-.94-2.06-.94-.94-2.06-.94 2.06-2.06.94z\"/><path d=\"M17.41 7.96l-1.37-1.37c-.4-.4-.92-.59-1.43-.59-.52 0-1.04.2-1.43.59L10.3 9.45l-7.72 7.72c-.78.78-.78 2.05 0 2.83L4 21.41c.39.39.9.59 1.41.59.51 0 1.02-.2 1.41-.59l7.78-7.78 2.81-2.81c.8-.78.8-2.07 0-2.86zM5.41 20L4 18.59l7.72-7.72 1.47 1.35L5.41 20z\"/>\n",
              "  </svg>\n",
              "      </button>\n",
              "      \n",
              "  <style>\n",
              "    .colab-df-container {\n",
              "      display:flex;\n",
              "      flex-wrap:wrap;\n",
              "      gap: 12px;\n",
              "    }\n",
              "\n",
              "    .colab-df-convert {\n",
              "      background-color: #E8F0FE;\n",
              "      border: none;\n",
              "      border-radius: 50%;\n",
              "      cursor: pointer;\n",
              "      display: none;\n",
              "      fill: #1967D2;\n",
              "      height: 32px;\n",
              "      padding: 0 0 0 0;\n",
              "      width: 32px;\n",
              "    }\n",
              "\n",
              "    .colab-df-convert:hover {\n",
              "      background-color: #E2EBFA;\n",
              "      box-shadow: 0px 1px 2px rgba(60, 64, 67, 0.3), 0px 1px 3px 1px rgba(60, 64, 67, 0.15);\n",
              "      fill: #174EA6;\n",
              "    }\n",
              "\n",
              "    [theme=dark] .colab-df-convert {\n",
              "      background-color: #3B4455;\n",
              "      fill: #D2E3FC;\n",
              "    }\n",
              "\n",
              "    [theme=dark] .colab-df-convert:hover {\n",
              "      background-color: #434B5C;\n",
              "      box-shadow: 0px 1px 3px 1px rgba(0, 0, 0, 0.15);\n",
              "      filter: drop-shadow(0px 1px 2px rgba(0, 0, 0, 0.3));\n",
              "      fill: #FFFFFF;\n",
              "    }\n",
              "  </style>\n",
              "\n",
              "      <script>\n",
              "        const buttonEl =\n",
              "          document.querySelector('#df-65736110-8961-4b49-a6be-af0b3db50c99 button.colab-df-convert');\n",
              "        buttonEl.style.display =\n",
              "          google.colab.kernel.accessAllowed ? 'block' : 'none';\n",
              "\n",
              "        async function convertToInteractive(key) {\n",
              "          const element = document.querySelector('#df-65736110-8961-4b49-a6be-af0b3db50c99');\n",
              "          const dataTable =\n",
              "            await google.colab.kernel.invokeFunction('convertToInteractive',\n",
              "                                                     [key], {});\n",
              "          if (!dataTable) return;\n",
              "\n",
              "          const docLinkHtml = 'Like what you see? Visit the ' +\n",
              "            '<a target=\"_blank\" href=https://colab.research.google.com/notebooks/data_table.ipynb>data table notebook</a>'\n",
              "            + ' to learn more about interactive tables.';\n",
              "          element.innerHTML = '';\n",
              "          dataTable['output_type'] = 'display_data';\n",
              "          await google.colab.output.renderOutput(dataTable, element);\n",
              "          const docLink = document.createElement('div');\n",
              "          docLink.innerHTML = docLinkHtml;\n",
              "          element.appendChild(docLink);\n",
              "        }\n",
              "      </script>\n",
              "    </div>\n",
              "  </div>\n",
              "  "
            ]
          },
          "metadata": {},
          "execution_count": 63
        }
      ]
    },
    {
      "cell_type": "code",
      "source": [
        "# To prepare dats we use scikit learn lib\n",
        "from sklearn.compose import make_column_transformer\n",
        "from sklearn.preprocessing import MinMaxScaler, OneHotEncoder\n",
        "\n",
        "# Create a column transformer\n",
        "ct = make_column_transformer(\n",
        "    (MinMaxScaler(), [\"age\",\"bmi\",\"children\"]),   # turn all values in columns between 0 and 1\n",
        "    (OneHotEncoder(handle_unknown = \"ignore\"), [\"sex\",\"smoker\",\"region\"]) \n",
        ")\n",
        "\n",
        "X = insurance.drop(\"charges\", axis=1)\n",
        "y = insurance[\"charges\"]\n",
        "\n",
        "X_train, X_test, y_train, y_test = train_test_split(X,y, test_size=0.2, random_state=42)\n",
        "\n",
        "ct.fit(X_train)\n",
        "\n",
        "X_train_normal = ct.transform(X_train)\n",
        "X_test_normal = ct.transform(X_test)"
      ],
      "metadata": {
        "id": "mdnqracEIJNL"
      },
      "execution_count": null,
      "outputs": []
    },
    {
      "cell_type": "code",
      "source": [
        "# see what data looks like now\n",
        "X_train.loc[0]"
      ],
      "metadata": {
        "colab": {
          "base_uri": "https://localhost:8080/"
        },
        "id": "y7NlRtHRCUVJ",
        "outputId": "7d3e772a-feb5-4a0e-f853-53912d3e14a1"
      },
      "execution_count": null,
      "outputs": [
        {
          "output_type": "execute_result",
          "data": {
            "text/plain": [
              "age                19\n",
              "sex            female\n",
              "bmi              27.9\n",
              "children            0\n",
              "smoker            yes\n",
              "region      southwest\n",
              "Name: 0, dtype: object"
            ]
          },
          "metadata": {},
          "execution_count": 70
        }
      ]
    },
    {
      "cell_type": "code",
      "source": [
        "X_train_normal[0]\n"
      ],
      "metadata": {
        "colab": {
          "base_uri": "https://localhost:8080/"
        },
        "id": "7hq7CLdxCbZQ",
        "outputId": "aa3d7a91-a39e-4ad8-a6c6-279fedfaea17"
      },
      "execution_count": null,
      "outputs": [
        {
          "output_type": "execute_result",
          "data": {
            "text/plain": [
              "array([[0.60869565, 0.10734463, 0.4       , ..., 1.        , 0.        ,\n",
              "        0.        ],\n",
              "       [0.63043478, 0.22491256, 0.        , ..., 0.        , 0.        ,\n",
              "        0.        ],\n",
              "       [0.73913043, 0.23944041, 0.        , ..., 0.        , 1.        ,\n",
              "        0.        ],\n",
              "       ...,\n",
              "       [0.86956522, 0.24791499, 0.        , ..., 0.        , 0.        ,\n",
              "        0.        ],\n",
              "       [0.41304348, 0.85122411, 0.4       , ..., 0.        , 0.        ,\n",
              "        1.        ],\n",
              "       [0.80434783, 0.37503363, 0.        , ..., 0.        , 0.        ,\n",
              "        1.        ]])"
            ]
          },
          "metadata": {},
          "execution_count": 72
        }
      ]
    },
    {
      "cell_type": "code",
      "source": [
        "X_train.shape, X_train_normal.shape"
      ],
      "metadata": {
        "colab": {
          "base_uri": "https://localhost:8080/"
        },
        "id": "em1bL0wfCrj_",
        "outputId": "85459811-a364-4a44-a77a-26cabf0edcb1"
      },
      "execution_count": null,
      "outputs": [
        {
          "output_type": "execute_result",
          "data": {
            "text/plain": [
              "((1070, 6), (1070, 11))"
            ]
          },
          "metadata": {},
          "execution_count": 73
        }
      ]
    },
    {
      "cell_type": "markdown",
      "source": [
        "Data has been normalised. Now build a neural network to fit on this normalised data."
      ],
      "metadata": {
        "id": "Y-wIDxKaC0gY"
      }
    },
    {
      "cell_type": "code",
      "source": [
        "tf.random.set_seed(42)\n",
        "\n",
        "insurance_model_1 = tf.keras.Sequential([\n",
        "    tf.keras.layers.Dense(1000),\n",
        "    tf.keras.layers.Dense(500),\n",
        "    tf.keras.layers.Dense(100),\n",
        "    tf.keras.layers.Dense(1)\n",
        "])\n",
        "\n",
        "insurance_model_1.compile(loss = tf.keras.losses.mae,\n",
        "                          optimizer = tf.keras.optimizers.Adam(learning_rate = 0.001),\n",
        "                          metrics = [\"mae\"])\n",
        "\n",
        "insurance_model_1.fit(X_train_normal, y_train, epochs=300)"
      ],
      "metadata": {
        "colab": {
          "base_uri": "https://localhost:8080/"
        },
        "id": "EGWMwM1VC8Iu",
        "outputId": "0250d4f3-48e9-4c1a-ef5c-00ba43ee514c"
      },
      "execution_count": null,
      "outputs": [
        {
          "output_type": "stream",
          "name": "stdout",
          "text": [
            "Epoch 1/300\n",
            "34/34 [==============================] - 1s 8ms/step - loss: 12849.3057 - mae: 12849.3057\n",
            "Epoch 2/300\n",
            "34/34 [==============================] - 0s 9ms/step - loss: 8458.1904 - mae: 8458.1904\n",
            "Epoch 3/300\n",
            "34/34 [==============================] - 0s 10ms/step - loss: 7401.2744 - mae: 7401.2744\n",
            "Epoch 4/300\n",
            "34/34 [==============================] - 0s 9ms/step - loss: 6246.9731 - mae: 6246.9731\n",
            "Epoch 5/300\n",
            "34/34 [==============================] - 0s 9ms/step - loss: 4320.8379 - mae: 4320.8379\n",
            "Epoch 6/300\n",
            "34/34 [==============================] - 0s 10ms/step - loss: 3662.1116 - mae: 3662.1116\n",
            "Epoch 7/300\n",
            "34/34 [==============================] - 0s 9ms/step - loss: 3625.6978 - mae: 3625.6978\n",
            "Epoch 8/300\n",
            "34/34 [==============================] - 0s 9ms/step - loss: 3625.5027 - mae: 3625.5027\n",
            "Epoch 9/300\n",
            "34/34 [==============================] - 0s 10ms/step - loss: 3583.6277 - mae: 3583.6277\n",
            "Epoch 10/300\n",
            "34/34 [==============================] - 0s 9ms/step - loss: 3551.6868 - mae: 3551.6868\n",
            "Epoch 11/300\n",
            "34/34 [==============================] - 0s 9ms/step - loss: 3518.1060 - mae: 3518.1060\n",
            "Epoch 12/300\n",
            "34/34 [==============================] - 0s 10ms/step - loss: 3535.4209 - mae: 3535.4209\n",
            "Epoch 13/300\n",
            "34/34 [==============================] - 0s 9ms/step - loss: 3496.1609 - mae: 3496.1609\n",
            "Epoch 14/300\n",
            "34/34 [==============================] - 0s 9ms/step - loss: 3554.7842 - mae: 3554.7842\n",
            "Epoch 15/300\n",
            "34/34 [==============================] - 0s 9ms/step - loss: 3531.4592 - mae: 3531.4592\n",
            "Epoch 16/300\n",
            "34/34 [==============================] - 0s 9ms/step - loss: 3507.6069 - mae: 3507.6069\n",
            "Epoch 17/300\n",
            "34/34 [==============================] - 0s 9ms/step - loss: 3528.6323 - mae: 3528.6323\n",
            "Epoch 18/300\n",
            "34/34 [==============================] - 0s 10ms/step - loss: 3501.7915 - mae: 3501.7915\n",
            "Epoch 19/300\n",
            "34/34 [==============================] - 0s 9ms/step - loss: 3559.4358 - mae: 3559.4358\n",
            "Epoch 20/300\n",
            "34/34 [==============================] - 0s 9ms/step - loss: 3514.1624 - mae: 3514.1624\n",
            "Epoch 21/300\n",
            "34/34 [==============================] - 0s 9ms/step - loss: 3510.4924 - mae: 3510.4924\n",
            "Epoch 22/300\n",
            "34/34 [==============================] - 0s 10ms/step - loss: 3512.9333 - mae: 3512.9333\n",
            "Epoch 23/300\n",
            "34/34 [==============================] - 0s 9ms/step - loss: 3514.8547 - mae: 3514.8547\n",
            "Epoch 24/300\n",
            "34/34 [==============================] - 0s 9ms/step - loss: 3532.7344 - mae: 3532.7344\n",
            "Epoch 25/300\n",
            "34/34 [==============================] - 0s 9ms/step - loss: 3569.8286 - mae: 3569.8286\n",
            "Epoch 26/300\n",
            "34/34 [==============================] - 0s 9ms/step - loss: 3547.8801 - mae: 3547.8801\n",
            "Epoch 27/300\n",
            "34/34 [==============================] - 0s 9ms/step - loss: 3530.9321 - mae: 3530.9321\n",
            "Epoch 28/300\n",
            "34/34 [==============================] - 0s 10ms/step - loss: 3548.1250 - mae: 3548.1250\n",
            "Epoch 29/300\n",
            "34/34 [==============================] - 0s 9ms/step - loss: 3527.6035 - mae: 3527.6035\n",
            "Epoch 30/300\n",
            "34/34 [==============================] - 0s 10ms/step - loss: 3495.6873 - mae: 3495.6873\n",
            "Epoch 31/300\n",
            "34/34 [==============================] - 0s 10ms/step - loss: 3508.9790 - mae: 3508.9790\n",
            "Epoch 32/300\n",
            "34/34 [==============================] - 0s 9ms/step - loss: 3532.0728 - mae: 3532.0728\n",
            "Epoch 33/300\n",
            "34/34 [==============================] - 0s 9ms/step - loss: 3521.4165 - mae: 3521.4165\n",
            "Epoch 34/300\n",
            "34/34 [==============================] - 0s 9ms/step - loss: 3536.2571 - mae: 3536.2571\n",
            "Epoch 35/300\n",
            "34/34 [==============================] - 0s 9ms/step - loss: 3491.3940 - mae: 3491.3940\n",
            "Epoch 36/300\n",
            "34/34 [==============================] - 0s 9ms/step - loss: 3532.7781 - mae: 3532.7781\n",
            "Epoch 37/300\n",
            "34/34 [==============================] - 0s 9ms/step - loss: 3493.9189 - mae: 3493.9189\n",
            "Epoch 38/300\n",
            "34/34 [==============================] - 0s 9ms/step - loss: 3529.4163 - mae: 3529.4163\n",
            "Epoch 39/300\n",
            "34/34 [==============================] - 0s 9ms/step - loss: 3508.9614 - mae: 3508.9614\n",
            "Epoch 40/300\n",
            "34/34 [==============================] - 0s 9ms/step - loss: 3539.2456 - mae: 3539.2456\n",
            "Epoch 41/300\n",
            "34/34 [==============================] - 0s 9ms/step - loss: 3512.9136 - mae: 3512.9136\n",
            "Epoch 42/300\n",
            "34/34 [==============================] - 0s 9ms/step - loss: 3519.8293 - mae: 3519.8293\n",
            "Epoch 43/300\n",
            "34/34 [==============================] - 0s 9ms/step - loss: 3504.6096 - mae: 3504.6096\n",
            "Epoch 44/300\n",
            "34/34 [==============================] - 0s 10ms/step - loss: 3520.0085 - mae: 3520.0085\n",
            "Epoch 45/300\n",
            "34/34 [==============================] - 0s 9ms/step - loss: 3487.1121 - mae: 3487.1121\n",
            "Epoch 46/300\n",
            "34/34 [==============================] - 0s 9ms/step - loss: 3522.3914 - mae: 3522.3914\n",
            "Epoch 47/300\n",
            "34/34 [==============================] - 0s 10ms/step - loss: 3522.6516 - mae: 3522.6516\n",
            "Epoch 48/300\n",
            "34/34 [==============================] - 0s 9ms/step - loss: 3506.4158 - mae: 3506.4158\n",
            "Epoch 49/300\n",
            "34/34 [==============================] - 0s 9ms/step - loss: 3518.6621 - mae: 3518.6621\n",
            "Epoch 50/300\n",
            "34/34 [==============================] - 0s 9ms/step - loss: 3509.2893 - mae: 3509.2893\n",
            "Epoch 51/300\n",
            "34/34 [==============================] - 0s 9ms/step - loss: 3503.0950 - mae: 3503.0950\n",
            "Epoch 52/300\n",
            "34/34 [==============================] - 0s 9ms/step - loss: 3508.1650 - mae: 3508.1650\n",
            "Epoch 53/300\n",
            "34/34 [==============================] - 0s 10ms/step - loss: 3516.6729 - mae: 3516.6729\n",
            "Epoch 54/300\n",
            "34/34 [==============================] - 0s 9ms/step - loss: 3526.1917 - mae: 3526.1917\n",
            "Epoch 55/300\n",
            "34/34 [==============================] - 0s 9ms/step - loss: 3551.9292 - mae: 3551.9292\n",
            "Epoch 56/300\n",
            "34/34 [==============================] - 0s 9ms/step - loss: 3507.9209 - mae: 3507.9209\n",
            "Epoch 57/300\n",
            "34/34 [==============================] - 0s 9ms/step - loss: 3514.2200 - mae: 3514.2200\n",
            "Epoch 58/300\n",
            "34/34 [==============================] - 0s 10ms/step - loss: 3512.6230 - mae: 3512.6230\n",
            "Epoch 59/300\n",
            "34/34 [==============================] - 0s 10ms/step - loss: 3494.3591 - mae: 3494.3591\n",
            "Epoch 60/300\n",
            "34/34 [==============================] - 0s 9ms/step - loss: 3524.4590 - mae: 3524.4590\n",
            "Epoch 61/300\n",
            "34/34 [==============================] - 0s 9ms/step - loss: 3515.1135 - mae: 3515.1135\n",
            "Epoch 62/300\n",
            "34/34 [==============================] - 0s 9ms/step - loss: 3529.6101 - mae: 3529.6101\n",
            "Epoch 63/300\n",
            "34/34 [==============================] - 0s 10ms/step - loss: 3503.9133 - mae: 3503.9133\n",
            "Epoch 64/300\n",
            "34/34 [==============================] - 0s 9ms/step - loss: 3494.6599 - mae: 3494.6599\n",
            "Epoch 65/300\n",
            "34/34 [==============================] - 0s 9ms/step - loss: 3507.1606 - mae: 3507.1606\n",
            "Epoch 66/300\n",
            "34/34 [==============================] - 0s 9ms/step - loss: 3511.6772 - mae: 3511.6772\n",
            "Epoch 67/300\n",
            "34/34 [==============================] - 0s 9ms/step - loss: 3517.9810 - mae: 3517.9810\n",
            "Epoch 68/300\n",
            "34/34 [==============================] - 0s 8ms/step - loss: 3496.0046 - mae: 3496.0046\n",
            "Epoch 69/300\n",
            "34/34 [==============================] - 0s 9ms/step - loss: 3500.2764 - mae: 3500.2764\n",
            "Epoch 70/300\n",
            "34/34 [==============================] - 0s 9ms/step - loss: 3510.0657 - mae: 3510.0657\n",
            "Epoch 71/300\n",
            "34/34 [==============================] - 0s 9ms/step - loss: 3500.1689 - mae: 3500.1689\n",
            "Epoch 72/300\n",
            "34/34 [==============================] - 0s 9ms/step - loss: 3497.3777 - mae: 3497.3777\n",
            "Epoch 73/300\n",
            "34/34 [==============================] - 0s 9ms/step - loss: 3547.8291 - mae: 3547.8291\n",
            "Epoch 74/300\n",
            "34/34 [==============================] - 0s 9ms/step - loss: 3519.6367 - mae: 3519.6367\n",
            "Epoch 75/300\n",
            "34/34 [==============================] - 0s 9ms/step - loss: 3494.1094 - mae: 3494.1094\n",
            "Epoch 76/300\n",
            "34/34 [==============================] - 0s 10ms/step - loss: 3525.5596 - mae: 3525.5596\n",
            "Epoch 77/300\n",
            "34/34 [==============================] - 0s 9ms/step - loss: 3502.0337 - mae: 3502.0337\n",
            "Epoch 78/300\n",
            "34/34 [==============================] - 0s 9ms/step - loss: 3500.7708 - mae: 3500.7708\n",
            "Epoch 79/300\n",
            "34/34 [==============================] - 0s 9ms/step - loss: 3525.1794 - mae: 3525.1794\n",
            "Epoch 80/300\n",
            "34/34 [==============================] - 0s 9ms/step - loss: 3525.1843 - mae: 3525.1843\n",
            "Epoch 81/300\n",
            "34/34 [==============================] - 0s 9ms/step - loss: 3528.6326 - mae: 3528.6326\n",
            "Epoch 82/300\n",
            "34/34 [==============================] - 0s 9ms/step - loss: 3510.2834 - mae: 3510.2834\n",
            "Epoch 83/300\n",
            "34/34 [==============================] - 0s 9ms/step - loss: 3514.6416 - mae: 3514.6416\n",
            "Epoch 84/300\n",
            "34/34 [==============================] - 0s 9ms/step - loss: 3546.9927 - mae: 3546.9927\n",
            "Epoch 85/300\n",
            "34/34 [==============================] - 0s 9ms/step - loss: 3511.2695 - mae: 3511.2695\n",
            "Epoch 86/300\n",
            "34/34 [==============================] - 0s 9ms/step - loss: 3509.3247 - mae: 3509.3247\n",
            "Epoch 87/300\n",
            "34/34 [==============================] - 0s 9ms/step - loss: 3496.8789 - mae: 3496.8789\n",
            "Epoch 88/300\n",
            "34/34 [==============================] - 0s 9ms/step - loss: 3496.8152 - mae: 3496.8152\n",
            "Epoch 89/300\n",
            "34/34 [==============================] - 0s 9ms/step - loss: 3507.6946 - mae: 3507.6946\n",
            "Epoch 90/300\n",
            "34/34 [==============================] - 0s 9ms/step - loss: 3506.9941 - mae: 3506.9941\n",
            "Epoch 91/300\n",
            "34/34 [==============================] - 0s 9ms/step - loss: 3507.2012 - mae: 3507.2012\n",
            "Epoch 92/300\n",
            "34/34 [==============================] - 0s 9ms/step - loss: 3546.7676 - mae: 3546.7676\n",
            "Epoch 93/300\n",
            "34/34 [==============================] - 0s 9ms/step - loss: 3515.7827 - mae: 3515.7827\n",
            "Epoch 94/300\n",
            "34/34 [==============================] - 0s 9ms/step - loss: 3504.6880 - mae: 3504.6880\n",
            "Epoch 95/300\n",
            "34/34 [==============================] - 0s 9ms/step - loss: 3511.4490 - mae: 3511.4490\n",
            "Epoch 96/300\n",
            "34/34 [==============================] - 0s 9ms/step - loss: 3511.1606 - mae: 3511.1606\n",
            "Epoch 97/300\n",
            "34/34 [==============================] - 0s 9ms/step - loss: 3526.0222 - mae: 3526.0222\n",
            "Epoch 98/300\n",
            "34/34 [==============================] - 0s 9ms/step - loss: 3497.4287 - mae: 3497.4287\n",
            "Epoch 99/300\n",
            "34/34 [==============================] - 0s 9ms/step - loss: 3538.7473 - mae: 3538.7473\n",
            "Epoch 100/300\n",
            "34/34 [==============================] - 0s 9ms/step - loss: 3503.6423 - mae: 3503.6423\n",
            "Epoch 101/300\n",
            "34/34 [==============================] - 0s 9ms/step - loss: 3494.3958 - mae: 3494.3958\n",
            "Epoch 102/300\n",
            "34/34 [==============================] - 0s 10ms/step - loss: 3526.7690 - mae: 3526.7690\n",
            "Epoch 103/300\n",
            "34/34 [==============================] - 0s 9ms/step - loss: 3517.3979 - mae: 3517.3979\n",
            "Epoch 104/300\n",
            "34/34 [==============================] - 0s 9ms/step - loss: 3505.4878 - mae: 3505.4878\n",
            "Epoch 105/300\n",
            "34/34 [==============================] - 0s 9ms/step - loss: 3535.6572 - mae: 3535.6572\n",
            "Epoch 106/300\n",
            "34/34 [==============================] - 0s 9ms/step - loss: 3499.8562 - mae: 3499.8562\n",
            "Epoch 107/300\n",
            "34/34 [==============================] - 0s 8ms/step - loss: 3501.1475 - mae: 3501.1475\n",
            "Epoch 108/300\n",
            "34/34 [==============================] - 0s 9ms/step - loss: 3498.7314 - mae: 3498.7314\n",
            "Epoch 109/300\n",
            "34/34 [==============================] - 0s 9ms/step - loss: 3532.9429 - mae: 3532.9429\n",
            "Epoch 110/300\n",
            "34/34 [==============================] - 0s 9ms/step - loss: 3505.8940 - mae: 3505.8940\n",
            "Epoch 111/300\n",
            "34/34 [==============================] - 0s 10ms/step - loss: 3535.6592 - mae: 3535.6592\n",
            "Epoch 112/300\n",
            "34/34 [==============================] - 0s 9ms/step - loss: 3512.3323 - mae: 3512.3323\n",
            "Epoch 113/300\n",
            "34/34 [==============================] - 0s 9ms/step - loss: 3549.1223 - mae: 3549.1223\n",
            "Epoch 114/300\n",
            "34/34 [==============================] - 0s 9ms/step - loss: 3516.2009 - mae: 3516.2009\n",
            "Epoch 115/300\n",
            "34/34 [==============================] - 0s 9ms/step - loss: 3504.8201 - mae: 3504.8201\n",
            "Epoch 116/300\n",
            "34/34 [==============================] - 0s 9ms/step - loss: 3547.3955 - mae: 3547.3955\n",
            "Epoch 117/300\n",
            "34/34 [==============================] - 0s 9ms/step - loss: 3511.2856 - mae: 3511.2856\n",
            "Epoch 118/300\n",
            "34/34 [==============================] - 0s 9ms/step - loss: 3492.0784 - mae: 3492.0784\n",
            "Epoch 119/300\n",
            "34/34 [==============================] - 0s 9ms/step - loss: 3492.8718 - mae: 3492.8718\n",
            "Epoch 120/300\n",
            "34/34 [==============================] - 0s 9ms/step - loss: 3488.3267 - mae: 3488.3267\n",
            "Epoch 121/300\n",
            "34/34 [==============================] - 0s 10ms/step - loss: 3544.2417 - mae: 3544.2417\n",
            "Epoch 122/300\n",
            "34/34 [==============================] - 0s 9ms/step - loss: 3504.2585 - mae: 3504.2585\n",
            "Epoch 123/300\n",
            "34/34 [==============================] - 0s 8ms/step - loss: 3525.2979 - mae: 3525.2979\n",
            "Epoch 124/300\n",
            "34/34 [==============================] - 0s 9ms/step - loss: 3520.3257 - mae: 3520.3257\n",
            "Epoch 125/300\n",
            "34/34 [==============================] - 0s 9ms/step - loss: 3490.3765 - mae: 3490.3765\n",
            "Epoch 126/300\n",
            "34/34 [==============================] - 0s 9ms/step - loss: 3542.2925 - mae: 3542.2925\n",
            "Epoch 127/300\n",
            "34/34 [==============================] - 0s 9ms/step - loss: 3495.6677 - mae: 3495.6677\n",
            "Epoch 128/300\n",
            "34/34 [==============================] - 0s 9ms/step - loss: 3524.3191 - mae: 3524.3191\n",
            "Epoch 129/300\n",
            "34/34 [==============================] - 0s 9ms/step - loss: 3526.5288 - mae: 3526.5288\n",
            "Epoch 130/300\n",
            "34/34 [==============================] - 0s 9ms/step - loss: 3549.2971 - mae: 3549.2971\n",
            "Epoch 131/300\n",
            "34/34 [==============================] - 0s 9ms/step - loss: 3489.5186 - mae: 3489.5186\n",
            "Epoch 132/300\n",
            "34/34 [==============================] - 0s 9ms/step - loss: 3520.2151 - mae: 3520.2151\n",
            "Epoch 133/300\n",
            "34/34 [==============================] - 0s 8ms/step - loss: 3502.6799 - mae: 3502.6799\n",
            "Epoch 134/300\n",
            "34/34 [==============================] - 0s 9ms/step - loss: 3505.5308 - mae: 3505.5308\n",
            "Epoch 135/300\n",
            "34/34 [==============================] - 0s 9ms/step - loss: 3543.4648 - mae: 3543.4648\n",
            "Epoch 136/300\n",
            "34/34 [==============================] - 0s 9ms/step - loss: 3519.5842 - mae: 3519.5842\n",
            "Epoch 137/300\n",
            "34/34 [==============================] - 0s 9ms/step - loss: 3504.7117 - mae: 3504.7117\n",
            "Epoch 138/300\n",
            "34/34 [==============================] - 0s 9ms/step - loss: 3524.3384 - mae: 3524.3384\n",
            "Epoch 139/300\n",
            "34/34 [==============================] - 0s 9ms/step - loss: 3520.6433 - mae: 3520.6433\n",
            "Epoch 140/300\n",
            "34/34 [==============================] - 0s 10ms/step - loss: 3513.8499 - mae: 3513.8499\n",
            "Epoch 141/300\n",
            "34/34 [==============================] - 0s 9ms/step - loss: 3537.2058 - mae: 3537.2058\n",
            "Epoch 142/300\n",
            "34/34 [==============================] - 0s 10ms/step - loss: 3519.8416 - mae: 3519.8416\n",
            "Epoch 143/300\n",
            "34/34 [==============================] - 0s 10ms/step - loss: 3516.3777 - mae: 3516.3777\n",
            "Epoch 144/300\n",
            "34/34 [==============================] - 0s 9ms/step - loss: 3508.4075 - mae: 3508.4075\n",
            "Epoch 145/300\n",
            "34/34 [==============================] - 0s 9ms/step - loss: 3509.0024 - mae: 3509.0024\n",
            "Epoch 146/300\n",
            "34/34 [==============================] - 0s 9ms/step - loss: 3546.8235 - mae: 3546.8235\n",
            "Epoch 147/300\n",
            "34/34 [==============================] - 0s 9ms/step - loss: 3555.3564 - mae: 3555.3564\n",
            "Epoch 148/300\n",
            "34/34 [==============================] - 0s 9ms/step - loss: 3538.9397 - mae: 3538.9397\n",
            "Epoch 149/300\n",
            "34/34 [==============================] - 0s 9ms/step - loss: 3504.2441 - mae: 3504.2441\n",
            "Epoch 150/300\n",
            "34/34 [==============================] - 0s 10ms/step - loss: 3490.9932 - mae: 3490.9932\n",
            "Epoch 151/300\n",
            "34/34 [==============================] - 0s 9ms/step - loss: 3517.8799 - mae: 3517.8799\n",
            "Epoch 152/300\n",
            "34/34 [==============================] - 0s 9ms/step - loss: 3530.2937 - mae: 3530.2937\n",
            "Epoch 153/300\n",
            "34/34 [==============================] - 0s 10ms/step - loss: 3505.6174 - mae: 3505.6174\n",
            "Epoch 154/300\n",
            "34/34 [==============================] - 0s 9ms/step - loss: 3513.7039 - mae: 3513.7039\n",
            "Epoch 155/300\n",
            "34/34 [==============================] - 0s 9ms/step - loss: 3523.6035 - mae: 3523.6035\n",
            "Epoch 156/300\n",
            "34/34 [==============================] - 0s 9ms/step - loss: 3507.7839 - mae: 3507.7839\n",
            "Epoch 157/300\n",
            "34/34 [==============================] - 0s 9ms/step - loss: 3513.2727 - mae: 3513.2727\n",
            "Epoch 158/300\n",
            "34/34 [==============================] - 0s 8ms/step - loss: 3510.9844 - mae: 3510.9844\n",
            "Epoch 159/300\n",
            "34/34 [==============================] - 0s 9ms/step - loss: 3493.4897 - mae: 3493.4897\n",
            "Epoch 160/300\n",
            "34/34 [==============================] - 0s 10ms/step - loss: 3543.2136 - mae: 3543.2136\n",
            "Epoch 161/300\n",
            "34/34 [==============================] - 0s 9ms/step - loss: 3508.3972 - mae: 3508.3972\n",
            "Epoch 162/300\n",
            "34/34 [==============================] - 0s 9ms/step - loss: 3492.3384 - mae: 3492.3384\n",
            "Epoch 163/300\n",
            "34/34 [==============================] - 0s 9ms/step - loss: 3511.0137 - mae: 3511.0137\n",
            "Epoch 164/300\n",
            "34/34 [==============================] - 0s 9ms/step - loss: 3543.9634 - mae: 3543.9634\n",
            "Epoch 165/300\n",
            "34/34 [==============================] - 0s 10ms/step - loss: 3497.4868 - mae: 3497.4868\n",
            "Epoch 166/300\n",
            "34/34 [==============================] - 0s 9ms/step - loss: 3502.8467 - mae: 3502.8467\n",
            "Epoch 167/300\n",
            "34/34 [==============================] - 0s 9ms/step - loss: 3514.5894 - mae: 3514.5894\n",
            "Epoch 168/300\n",
            "34/34 [==============================] - 0s 9ms/step - loss: 3509.6978 - mae: 3509.6978\n",
            "Epoch 169/300\n",
            "34/34 [==============================] - 0s 9ms/step - loss: 3504.9792 - mae: 3504.9792\n",
            "Epoch 170/300\n",
            "34/34 [==============================] - 0s 9ms/step - loss: 3508.3262 - mae: 3508.3262\n",
            "Epoch 171/300\n",
            "34/34 [==============================] - 0s 9ms/step - loss: 3505.4858 - mae: 3505.4858\n",
            "Epoch 172/300\n",
            "34/34 [==============================] - 0s 10ms/step - loss: 3540.2593 - mae: 3540.2593\n",
            "Epoch 173/300\n",
            "34/34 [==============================] - 0s 9ms/step - loss: 3532.4473 - mae: 3532.4473\n",
            "Epoch 174/300\n",
            "34/34 [==============================] - 0s 9ms/step - loss: 3511.1777 - mae: 3511.1777\n",
            "Epoch 175/300\n",
            "34/34 [==============================] - 0s 9ms/step - loss: 3499.3271 - mae: 3499.3271\n",
            "Epoch 176/300\n",
            "34/34 [==============================] - 0s 9ms/step - loss: 3517.9128 - mae: 3517.9128\n",
            "Epoch 177/300\n",
            "34/34 [==============================] - 0s 9ms/step - loss: 3524.0571 - mae: 3524.0571\n",
            "Epoch 178/300\n",
            "34/34 [==============================] - 0s 9ms/step - loss: 3489.7915 - mae: 3489.7915\n",
            "Epoch 179/300\n",
            "34/34 [==============================] - 0s 9ms/step - loss: 3545.3481 - mae: 3545.3481\n",
            "Epoch 180/300\n",
            "34/34 [==============================] - 0s 9ms/step - loss: 3514.4438 - mae: 3514.4438\n",
            "Epoch 181/300\n",
            "34/34 [==============================] - 0s 9ms/step - loss: 3510.1323 - mae: 3510.1323\n",
            "Epoch 182/300\n",
            "34/34 [==============================] - 0s 9ms/step - loss: 3514.6636 - mae: 3514.6636\n",
            "Epoch 183/300\n",
            "34/34 [==============================] - 0s 9ms/step - loss: 3498.4436 - mae: 3498.4436\n",
            "Epoch 184/300\n",
            "34/34 [==============================] - 0s 9ms/step - loss: 3517.3738 - mae: 3517.3738\n",
            "Epoch 185/300\n",
            "34/34 [==============================] - 0s 10ms/step - loss: 3524.6628 - mae: 3524.6628\n",
            "Epoch 186/300\n",
            "34/34 [==============================] - 0s 9ms/step - loss: 3535.4290 - mae: 3535.4290\n",
            "Epoch 187/300\n",
            "34/34 [==============================] - 0s 9ms/step - loss: 3507.1326 - mae: 3507.1326\n",
            "Epoch 188/300\n",
            "34/34 [==============================] - 0s 9ms/step - loss: 3499.0366 - mae: 3499.0366\n",
            "Epoch 189/300\n",
            "34/34 [==============================] - 0s 9ms/step - loss: 3515.0093 - mae: 3515.0093\n",
            "Epoch 190/300\n",
            "34/34 [==============================] - 0s 9ms/step - loss: 3501.9390 - mae: 3501.9390\n",
            "Epoch 191/300\n",
            "34/34 [==============================] - 0s 10ms/step - loss: 3543.8655 - mae: 3543.8655\n",
            "Epoch 192/300\n",
            "34/34 [==============================] - 0s 9ms/step - loss: 3542.4573 - mae: 3542.4573\n",
            "Epoch 193/300\n",
            "34/34 [==============================] - 0s 9ms/step - loss: 3513.4863 - mae: 3513.4863\n",
            "Epoch 194/300\n",
            "34/34 [==============================] - 0s 10ms/step - loss: 3505.1357 - mae: 3505.1357\n",
            "Epoch 195/300\n",
            "34/34 [==============================] - 0s 9ms/step - loss: 3498.1689 - mae: 3498.1689\n",
            "Epoch 196/300\n",
            "34/34 [==============================] - 0s 9ms/step - loss: 3531.0061 - mae: 3531.0061\n",
            "Epoch 197/300\n",
            "34/34 [==============================] - 0s 9ms/step - loss: 3533.3545 - mae: 3533.3545\n",
            "Epoch 198/300\n",
            "34/34 [==============================] - 0s 9ms/step - loss: 3531.3396 - mae: 3531.3396\n",
            "Epoch 199/300\n",
            "34/34 [==============================] - 0s 9ms/step - loss: 3518.6831 - mae: 3518.6831\n",
            "Epoch 200/300\n",
            "34/34 [==============================] - 0s 9ms/step - loss: 3490.8887 - mae: 3490.8887\n",
            "Epoch 201/300\n",
            "34/34 [==============================] - 0s 9ms/step - loss: 3509.1646 - mae: 3509.1646\n",
            "Epoch 202/300\n",
            "34/34 [==============================] - 0s 9ms/step - loss: 3508.3518 - mae: 3508.3518\n",
            "Epoch 203/300\n",
            "34/34 [==============================] - 0s 9ms/step - loss: 3497.0466 - mae: 3497.0466\n",
            "Epoch 204/300\n",
            "34/34 [==============================] - 0s 10ms/step - loss: 3500.4138 - mae: 3500.4138\n",
            "Epoch 205/300\n",
            "34/34 [==============================] - 0s 9ms/step - loss: 3496.7034 - mae: 3496.7034\n",
            "Epoch 206/300\n",
            "34/34 [==============================] - 0s 9ms/step - loss: 3512.3540 - mae: 3512.3540\n",
            "Epoch 207/300\n",
            "34/34 [==============================] - 0s 10ms/step - loss: 3530.4556 - mae: 3530.4556\n",
            "Epoch 208/300\n",
            "34/34 [==============================] - 0s 9ms/step - loss: 3507.3062 - mae: 3507.3062\n",
            "Epoch 209/300\n",
            "34/34 [==============================] - 0s 10ms/step - loss: 3516.3848 - mae: 3516.3848\n",
            "Epoch 210/300\n",
            "34/34 [==============================] - 0s 10ms/step - loss: 3506.9070 - mae: 3506.9070\n",
            "Epoch 211/300\n",
            "34/34 [==============================] - 0s 9ms/step - loss: 3504.7212 - mae: 3504.7212\n",
            "Epoch 212/300\n",
            "34/34 [==============================] - 0s 9ms/step - loss: 3510.5173 - mae: 3510.5173\n",
            "Epoch 213/300\n",
            "34/34 [==============================] - 0s 9ms/step - loss: 3548.1470 - mae: 3548.1470\n",
            "Epoch 214/300\n",
            "34/34 [==============================] - 0s 9ms/step - loss: 3516.7263 - mae: 3516.7263\n",
            "Epoch 215/300\n",
            "34/34 [==============================] - 0s 9ms/step - loss: 3612.8940 - mae: 3612.8940\n",
            "Epoch 216/300\n",
            "34/34 [==============================] - 0s 9ms/step - loss: 3522.4233 - mae: 3522.4233\n",
            "Epoch 217/300\n",
            "34/34 [==============================] - 0s 10ms/step - loss: 3488.5400 - mae: 3488.5400\n",
            "Epoch 218/300\n",
            "34/34 [==============================] - 0s 9ms/step - loss: 3529.0730 - mae: 3529.0730\n",
            "Epoch 219/300\n",
            "34/34 [==============================] - 0s 9ms/step - loss: 3522.9973 - mae: 3522.9973\n",
            "Epoch 220/300\n",
            "34/34 [==============================] - 0s 9ms/step - loss: 3519.0591 - mae: 3519.0591\n",
            "Epoch 221/300\n",
            "34/34 [==============================] - 0s 9ms/step - loss: 3541.0129 - mae: 3541.0129\n",
            "Epoch 222/300\n",
            "34/34 [==============================] - 0s 9ms/step - loss: 3544.7817 - mae: 3544.7817\n",
            "Epoch 223/300\n",
            "34/34 [==============================] - 0s 10ms/step - loss: 3537.4983 - mae: 3537.4983\n",
            "Epoch 224/300\n",
            "34/34 [==============================] - 0s 9ms/step - loss: 3524.7400 - mae: 3524.7400\n",
            "Epoch 225/300\n",
            "34/34 [==============================] - 0s 9ms/step - loss: 3501.2971 - mae: 3501.2971\n",
            "Epoch 226/300\n",
            "34/34 [==============================] - 0s 9ms/step - loss: 3509.2678 - mae: 3509.2678\n",
            "Epoch 227/300\n",
            "34/34 [==============================] - 0s 9ms/step - loss: 3505.1150 - mae: 3505.1150\n",
            "Epoch 228/300\n",
            "34/34 [==============================] - 0s 9ms/step - loss: 3495.7590 - mae: 3495.7590\n",
            "Epoch 229/300\n",
            "34/34 [==============================] - 0s 9ms/step - loss: 3506.1997 - mae: 3506.1997\n",
            "Epoch 230/300\n",
            "34/34 [==============================] - 0s 9ms/step - loss: 3517.7778 - mae: 3517.7778\n",
            "Epoch 231/300\n",
            "34/34 [==============================] - 0s 9ms/step - loss: 3498.9688 - mae: 3498.9688\n",
            "Epoch 232/300\n",
            "34/34 [==============================] - 0s 9ms/step - loss: 3497.3013 - mae: 3497.3013\n",
            "Epoch 233/300\n",
            "34/34 [==============================] - 0s 9ms/step - loss: 3497.2112 - mae: 3497.2112\n",
            "Epoch 234/300\n",
            "34/34 [==============================] - 0s 9ms/step - loss: 3505.3086 - mae: 3505.3086\n",
            "Epoch 235/300\n",
            "34/34 [==============================] - 0s 9ms/step - loss: 3519.8840 - mae: 3519.8840\n",
            "Epoch 236/300\n",
            "34/34 [==============================] - 0s 10ms/step - loss: 3524.0305 - mae: 3524.0305\n",
            "Epoch 237/300\n",
            "34/34 [==============================] - 0s 9ms/step - loss: 3531.4172 - mae: 3531.4172\n",
            "Epoch 238/300\n",
            "34/34 [==============================] - 0s 9ms/step - loss: 3510.7820 - mae: 3510.7820\n",
            "Epoch 239/300\n",
            "34/34 [==============================] - 0s 10ms/step - loss: 3507.0559 - mae: 3507.0559\n",
            "Epoch 240/300\n",
            "34/34 [==============================] - 0s 9ms/step - loss: 3533.5564 - mae: 3533.5564\n",
            "Epoch 241/300\n",
            "34/34 [==============================] - 0s 9ms/step - loss: 3492.7776 - mae: 3492.7776\n",
            "Epoch 242/300\n",
            "34/34 [==============================] - 0s 9ms/step - loss: 3507.4822 - mae: 3507.4822\n",
            "Epoch 243/300\n",
            "34/34 [==============================] - 0s 9ms/step - loss: 3517.0347 - mae: 3517.0347\n",
            "Epoch 244/300\n",
            "34/34 [==============================] - 0s 10ms/step - loss: 3510.6934 - mae: 3510.6934\n",
            "Epoch 245/300\n",
            "34/34 [==============================] - 0s 10ms/step - loss: 3544.8660 - mae: 3544.8660\n",
            "Epoch 246/300\n",
            "34/34 [==============================] - 0s 9ms/step - loss: 3520.9177 - mae: 3520.9177\n",
            "Epoch 247/300\n",
            "34/34 [==============================] - 0s 9ms/step - loss: 3517.4592 - mae: 3517.4592\n",
            "Epoch 248/300\n",
            "34/34 [==============================] - 0s 9ms/step - loss: 3532.1396 - mae: 3532.1396\n",
            "Epoch 249/300\n",
            "34/34 [==============================] - 0s 9ms/step - loss: 3520.0896 - mae: 3520.0896\n",
            "Epoch 250/300\n",
            "34/34 [==============================] - 0s 9ms/step - loss: 3522.1064 - mae: 3522.1064\n",
            "Epoch 251/300\n",
            "34/34 [==============================] - 0s 10ms/step - loss: 3501.0276 - mae: 3501.0276\n",
            "Epoch 252/300\n",
            "34/34 [==============================] - 0s 9ms/step - loss: 3521.7837 - mae: 3521.7837\n",
            "Epoch 253/300\n",
            "34/34 [==============================] - 0s 9ms/step - loss: 3511.7693 - mae: 3511.7693\n",
            "Epoch 254/300\n",
            "34/34 [==============================] - 0s 9ms/step - loss: 3511.8779 - mae: 3511.8779\n",
            "Epoch 255/300\n",
            "34/34 [==============================] - 0s 10ms/step - loss: 3496.3967 - mae: 3496.3967\n",
            "Epoch 256/300\n",
            "34/34 [==============================] - 0s 9ms/step - loss: 3488.4277 - mae: 3488.4277\n",
            "Epoch 257/300\n",
            "34/34 [==============================] - 0s 10ms/step - loss: 3502.4224 - mae: 3502.4224\n",
            "Epoch 258/300\n",
            "34/34 [==============================] - 0s 10ms/step - loss: 3529.6565 - mae: 3529.6565\n",
            "Epoch 259/300\n",
            "34/34 [==============================] - 0s 9ms/step - loss: 3515.8411 - mae: 3515.8411\n",
            "Epoch 260/300\n",
            "34/34 [==============================] - 0s 9ms/step - loss: 3502.6404 - mae: 3502.6404\n",
            "Epoch 261/300\n",
            "34/34 [==============================] - 0s 9ms/step - loss: 3523.5273 - mae: 3523.5273\n",
            "Epoch 262/300\n",
            "34/34 [==============================] - 0s 9ms/step - loss: 3503.3169 - mae: 3503.3169\n",
            "Epoch 263/300\n",
            "34/34 [==============================] - 0s 9ms/step - loss: 3526.9060 - mae: 3526.9060\n",
            "Epoch 264/300\n",
            "34/34 [==============================] - 0s 10ms/step - loss: 3526.3655 - mae: 3526.3655\n",
            "Epoch 265/300\n",
            "34/34 [==============================] - 0s 9ms/step - loss: 3507.7163 - mae: 3507.7163\n",
            "Epoch 266/300\n",
            "34/34 [==============================] - 0s 9ms/step - loss: 3523.5430 - mae: 3523.5430\n",
            "Epoch 267/300\n",
            "34/34 [==============================] - 0s 10ms/step - loss: 3499.4597 - mae: 3499.4597\n",
            "Epoch 268/300\n",
            "34/34 [==============================] - 0s 9ms/step - loss: 3491.8049 - mae: 3491.8049\n",
            "Epoch 269/300\n",
            "34/34 [==============================] - 0s 10ms/step - loss: 3518.2227 - mae: 3518.2227\n",
            "Epoch 270/300\n",
            "34/34 [==============================] - 0s 10ms/step - loss: 3509.1230 - mae: 3509.1230\n",
            "Epoch 271/300\n",
            "34/34 [==============================] - 0s 10ms/step - loss: 3494.2656 - mae: 3494.2656\n",
            "Epoch 272/300\n",
            "34/34 [==============================] - 0s 9ms/step - loss: 3499.0896 - mae: 3499.0896\n",
            "Epoch 273/300\n",
            "34/34 [==============================] - 0s 9ms/step - loss: 3515.6250 - mae: 3515.6250\n",
            "Epoch 274/300\n",
            "34/34 [==============================] - 0s 9ms/step - loss: 3520.5291 - mae: 3520.5291\n",
            "Epoch 275/300\n",
            "34/34 [==============================] - 0s 9ms/step - loss: 3513.8608 - mae: 3513.8608\n",
            "Epoch 276/300\n",
            "34/34 [==============================] - 0s 10ms/step - loss: 3510.2449 - mae: 3510.2449\n",
            "Epoch 277/300\n",
            "34/34 [==============================] - 0s 9ms/step - loss: 3502.4507 - mae: 3502.4507\n",
            "Epoch 278/300\n",
            "34/34 [==============================] - 0s 10ms/step - loss: 3496.0552 - mae: 3496.0552\n",
            "Epoch 279/300\n",
            "34/34 [==============================] - 0s 11ms/step - loss: 3505.7109 - mae: 3505.7109\n",
            "Epoch 280/300\n",
            "34/34 [==============================] - 0s 9ms/step - loss: 3511.6677 - mae: 3511.6677\n",
            "Epoch 281/300\n",
            "34/34 [==============================] - 0s 9ms/step - loss: 3519.2061 - mae: 3519.2061\n",
            "Epoch 282/300\n",
            "34/34 [==============================] - 0s 9ms/step - loss: 3501.6262 - mae: 3501.6262\n",
            "Epoch 283/300\n",
            "34/34 [==============================] - 0s 9ms/step - loss: 3514.2546 - mae: 3514.2546\n",
            "Epoch 284/300\n",
            "34/34 [==============================] - 0s 9ms/step - loss: 3501.9802 - mae: 3501.9802\n",
            "Epoch 285/300\n",
            "34/34 [==============================] - 0s 9ms/step - loss: 3511.9077 - mae: 3511.9077\n",
            "Epoch 286/300\n",
            "34/34 [==============================] - 0s 9ms/step - loss: 3521.3826 - mae: 3521.3826\n",
            "Epoch 287/300\n",
            "34/34 [==============================] - 0s 9ms/step - loss: 3547.1724 - mae: 3547.1724\n",
            "Epoch 288/300\n",
            "34/34 [==============================] - 0s 10ms/step - loss: 3498.2644 - mae: 3498.2644\n",
            "Epoch 289/300\n",
            "34/34 [==============================] - 0s 10ms/step - loss: 3503.9294 - mae: 3503.9294\n",
            "Epoch 290/300\n",
            "34/34 [==============================] - 0s 9ms/step - loss: 3522.5518 - mae: 3522.5518\n",
            "Epoch 291/300\n",
            "34/34 [==============================] - 0s 9ms/step - loss: 3510.9841 - mae: 3510.9841\n",
            "Epoch 292/300\n",
            "34/34 [==============================] - 0s 9ms/step - loss: 3536.1587 - mae: 3536.1587\n",
            "Epoch 293/300\n",
            "34/34 [==============================] - 0s 9ms/step - loss: 3496.6790 - mae: 3496.6790\n",
            "Epoch 294/300\n",
            "34/34 [==============================] - 0s 9ms/step - loss: 3505.9526 - mae: 3505.9526\n",
            "Epoch 295/300\n",
            "34/34 [==============================] - 0s 9ms/step - loss: 3506.6377 - mae: 3506.6377\n",
            "Epoch 296/300\n",
            "34/34 [==============================] - 0s 9ms/step - loss: 3500.7642 - mae: 3500.7642\n",
            "Epoch 297/300\n",
            "34/34 [==============================] - 0s 10ms/step - loss: 3520.4172 - mae: 3520.4172\n",
            "Epoch 298/300\n",
            "34/34 [==============================] - 0s 10ms/step - loss: 3491.1072 - mae: 3491.1072\n",
            "Epoch 299/300\n",
            "34/34 [==============================] - 0s 9ms/step - loss: 3513.6523 - mae: 3513.6523\n",
            "Epoch 300/300\n",
            "34/34 [==============================] - 0s 9ms/step - loss: 3517.1331 - mae: 3517.1331\n"
          ]
        },
        {
          "output_type": "execute_result",
          "data": {
            "text/plain": [
              "<keras.callbacks.History at 0x7efe600e37d0>"
            ]
          },
          "metadata": {},
          "execution_count": 81
        }
      ]
    },
    {
      "cell_type": "code",
      "source": [
        "# Evaluate\n",
        "insurance_model_1.evaluate(X_test_normal, y_test)"
      ],
      "metadata": {
        "colab": {
          "base_uri": "https://localhost:8080/"
        },
        "id": "9FZuRn5rEN_a",
        "outputId": "385a9396-5fe6-40a5-c090-406655ab15ff"
      },
      "execution_count": null,
      "outputs": [
        {
          "output_type": "stream",
          "name": "stdout",
          "text": [
            "9/9 [==============================] - 0s 3ms/step - loss: 3159.1399 - mae: 3159.1399\n"
          ]
        },
        {
          "output_type": "execute_result",
          "data": {
            "text/plain": [
              "[3159.139892578125, 3159.139892578125]"
            ]
          },
          "metadata": {},
          "execution_count": 82
        }
      ]
    },
    {
      "cell_type": "code",
      "source": [
        "X_train[\"age\"].plot(kind=\"hist\")"
      ],
      "metadata": {
        "colab": {
          "base_uri": "https://localhost:8080/",
          "height": 282
        },
        "id": "zoyUbb3ZBKNF",
        "outputId": "662abe09-797c-453c-a85d-ec5af696e31b"
      },
      "execution_count": null,
      "outputs": [
        {
          "output_type": "execute_result",
          "data": {
            "text/plain": [
              "<matplotlib.axes._subplots.AxesSubplot at 0x7efe5f208810>"
            ]
          },
          "metadata": {},
          "execution_count": 69
        },
        {
          "output_type": "display_data",
          "data": {
            "text/plain": [
              "<Figure size 432x288 with 1 Axes>"
            ],
            "image/png": "[encoded data removed]"
          },
          "metadata": {
            "needs_background": "light"
          }
        }
      ]
    }
  ]
}