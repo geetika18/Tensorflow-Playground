{
  "nbformat": 4,
  "nbformat_minor": 0,
  "metadata": {
    "colab": {
      "provenance": [],
      "authorship_tag": "ABX9TyOp12gGmCXdZ76OGwrMwmkP",
      "include_colab_link": true
    },
    "kernelspec": {
      "name": "python3",
      "display_name": "Python 3"
    },
    "language_info": {
      "name": "python"
    }
  },
  "cells": [
    {
      "cell_type": "markdown",
      "metadata": {
        "id": "view-in-github",
        "colab_type": "text"
      },
      "source": [
        "<a href=\"https://colab.research.google.com/github/geetika18/Tensorflow-Playground/blob/main/01_Neural_network_regression_with_tensorflow.ipynb\" target=\"_parent\"><img src=\"https://colab.research.google.com/assets/colab-badge.svg\" alt=\"Open In Colab\"/></a>"
      ]
    },
    {
      "cell_type": "markdown",
      "source": [
        "# Introduction to Regression with Neural Networks in Tensorflow\n",
        "Predicting a numerical variable based on some other combinations of variables. "
      ],
      "metadata": {
        "id": "KsMn6lLvaUz4"
      }
    },
    {
      "cell_type": "code",
      "execution_count": 2,
      "metadata": {
        "colab": {
          "base_uri": "https://localhost:8080/"
        },
        "id": "jbIleyv-XbRP",
        "outputId": "2f993088-9e52-498d-c80d-8a1a56315f42"
      },
      "outputs": [
        {
          "output_type": "stream",
          "name": "stdout",
          "text": [
            "2.8.2\n"
          ]
        }
      ],
      "source": [
        "# Import tensorflow\n",
        "import tensorflow as tf\n",
        "print(tf.__version__)"
      ]
    },
    {
      "cell_type": "markdown",
      "source": [
        "## Creating some data to view and fit"
      ],
      "metadata": {
        "id": "808pD1N_brQz"
      }
    },
    {
      "cell_type": "code",
      "source": [
        "import numpy as np\n",
        "import matplotlib.pyplot as plt\n",
        "\n",
        "# Create Features\n",
        "\n",
        "X = np.array([-7.0, -4.0, -1.0, 2.0, 5.0, 8.0, 11.0, 14.0])\n",
        "\n",
        "#create labels\n",
        "y = np.array([3.0, 6.0, 9.0, 12.0, 15.0, 18.0, 21.0, 24.0])\n",
        "\n",
        "# Visualize it\n",
        "plt.scatter(X,y)"
      ],
      "metadata": {
        "colab": {
          "base_uri": "https://localhost:8080/",
          "height": 286
        },
        "id": "wy7JfcLybq2x",
        "outputId": "bfe316ad-65fb-4890-9d6a-712acf2fba99"
      },
      "execution_count": 3,
      "outputs": [
        {
          "output_type": "execute_result",
          "data": {
            "text/plain": [
              "<matplotlib.collections.PathCollection at 0x7f41d8fd6ad0>"
            ]
          },
          "metadata": {},
          "execution_count": 3
        },
        {
          "output_type": "display_data",
          "data": {
            "text/plain": [
              "<Figure size 432x288 with 1 Axes>"
            ],
            "image/png": "[encoded data removed]"
          },
          "metadata": {
            "needs_background": "light"
          }
        }
      ]
    },
    {
      "cell_type": "code",
      "source": [
        "y == X +10 "
      ],
      "metadata": {
        "colab": {
          "base_uri": "https://localhost:8080/"
        },
        "id": "EQnOF0gGc7MH",
        "outputId": "75f22940-813f-4c84-b287-442de5069bd2"
      },
      "execution_count": 4,
      "outputs": [
        {
          "output_type": "execute_result",
          "data": {
            "text/plain": [
              "array([ True,  True,  True,  True,  True,  True,  True,  True])"
            ]
          },
          "metadata": {},
          "execution_count": 4
        }
      ]
    },
    {
      "cell_type": "markdown",
      "source": [
        "## Input and output shapes"
      ],
      "metadata": {
        "id": "gw--JY-KdNSV"
      }
    },
    {
      "cell_type": "code",
      "source": [
        "# Create a demo tensor for our housing price prediction problem\n",
        "house_info = tf.constant([\"bedroom\", \"bathroom\", \"garage\"])\n",
        "house_price = tf.constant([939700])\n",
        "house_info, house_price"
      ],
      "metadata": {
        "colab": {
          "base_uri": "https://localhost:8080/"
        },
        "id": "7AyXeWTKdDTG",
        "outputId": "aa429b99-d3a9-4627-f0cc-82d55e88c262"
      },
      "execution_count": 5,
      "outputs": [
        {
          "output_type": "execute_result",
          "data": {
            "text/plain": [
              "(<tf.Tensor: shape=(3,), dtype=string, numpy=array([b'bedroom', b'bathroom', b'garage'], dtype=object)>,\n",
              " <tf.Tensor: shape=(1,), dtype=int32, numpy=array([939700], dtype=int32)>)"
            ]
          },
          "metadata": {},
          "execution_count": 5
        }
      ]
    },
    {
      "cell_type": "code",
      "source": [
        "input_shape = X.shape\n",
        "output_shape = y.shape\n",
        "input_shape, output_shape"
      ],
      "metadata": {
        "colab": {
          "base_uri": "https://localhost:8080/"
        },
        "id": "NcXjQ3p9dwjF",
        "outputId": "52f54065-d67f-4052-c376-31ec9d9e4517"
      },
      "execution_count": 6,
      "outputs": [
        {
          "output_type": "execute_result",
          "data": {
            "text/plain": [
              "((8,), (8,))"
            ]
          },
          "metadata": {},
          "execution_count": 6
        }
      ]
    },
    {
      "cell_type": "code",
      "source": [
        "X = tf.constant(X)\n",
        "y = tf.constant(y)\n",
        "X,y"
      ],
      "metadata": {
        "colab": {
          "base_uri": "https://localhost:8080/"
        },
        "id": "92B_TlN_35D8",
        "outputId": "1f9e64b0-55ab-4bc1-a8b5-17828ee49107"
      },
      "execution_count": 7,
      "outputs": [
        {
          "output_type": "execute_result",
          "data": {
            "text/plain": [
              "(<tf.Tensor: shape=(8,), dtype=float64, numpy=array([-7., -4., -1.,  2.,  5.,  8., 11., 14.])>,\n",
              " <tf.Tensor: shape=(8,), dtype=float64, numpy=array([ 3.,  6.,  9., 12., 15., 18., 21., 24.])>)"
            ]
          },
          "metadata": {},
          "execution_count": 7
        }
      ]
    },
    {
      "cell_type": "code",
      "source": [
        "input_shape = X[0].shape\n",
        "output_shape = y[0].shape\n",
        "input_shape, output_shape"
      ],
      "metadata": {
        "colab": {
          "base_uri": "https://localhost:8080/"
        },
        "id": "CRcYhb-y4Uc0",
        "outputId": "5e138690-741d-4e49-88c4-039bc8c62342"
      },
      "execution_count": 9,
      "outputs": [
        {
          "output_type": "execute_result",
          "data": {
            "text/plain": [
              "(TensorShape([]), TensorShape([]))"
            ]
          },
          "metadata": {},
          "execution_count": 9
        }
      ]
    },
    {
      "cell_type": "code",
      "source": [
        "plt.scatter(X,y)"
      ],
      "metadata": {
        "colab": {
          "base_uri": "https://localhost:8080/",
          "height": 286
        },
        "id": "R9qfX_Pf5Fxv",
        "outputId": "89d08ccc-2b21-4edf-dfcc-ca5bc0ba7f6a"
      },
      "execution_count": 10,
      "outputs": [
        {
          "output_type": "execute_result",
          "data": {
            "text/plain": [
              "<matplotlib.collections.PathCollection at 0x7f41d3fcda10>"
            ]
          },
          "metadata": {},
          "execution_count": 10
        },
        {
          "output_type": "display_data",
          "data": {
            "text/plain": [
              "<Figure size 432x288 with 1 Axes>"
            ],
            "image/png": "[encoded data removed]"
          },
          "metadata": {
            "needs_background": "light"
          }
        }
      ]
    },
    {
      "cell_type": "markdown",
      "source": [
        "## steps in modelling with tensorflow\n",
        "1. **creating a model** - define the input and putput layers as well as hidden layers of a deep learning model.\n",
        "2. **compiling the model** - define a loss function(function which tells how wrong model is) and the optimiser( tells our model how to improve the patterns its learning) and evaluation metrics(what we can use to interpret the performance of our model).\n",
        "3. **fitting a model** - letting the model try to find patterns between X & y(features and labels).\n"
      ],
      "metadata": {
        "id": "85vBcuoi5Oh-"
      }
    },
    {
      "cell_type": "code",
      "source": [
        "# set random seed\n",
        "tf.random.set_seed(42)\n",
        "\n",
        "# 1. creating a model\n",
        "model = tf.keras.Sequential([\n",
        "    tf.keras.layers.Dense(1)\n",
        "])\n",
        "\n",
        "# 2. compile the model\n",
        "model.compile( loss = tf.keras.losses.mae, # mae = mean absolute error\n",
        "              optimizer = tf.keras.optimizers.SGD(), #sgd is short for stochastic gradient descent\n",
        "              metrics = [\"mae\"])\n",
        "\n",
        "# 3. fit model\n",
        "model.fit(tf.expand_dims(X, axis=-1),y, epochs = 5) # epochs - how many times the model will go through all of the training examples"
      ],
      "metadata": {
        "colab": {
          "base_uri": "https://localhost:8080/"
        },
        "id": "6aHWHzIR5KyN",
        "outputId": "d9e83780-231b-4a22-e308-22039259a5a4"
      },
      "execution_count": 19,
      "outputs": [
        {
          "output_type": "stream",
          "name": "stdout",
          "text": [
            "Epoch 1/5\n",
            "1/1 [==============================] - 0s 347ms/step - loss: 11.5048 - mae: 11.5048\n",
            "Epoch 2/5\n",
            "1/1 [==============================] - 0s 8ms/step - loss: 11.3723 - mae: 11.3723\n",
            "Epoch 3/5\n",
            "1/1 [==============================] - 0s 13ms/step - loss: 11.2398 - mae: 11.2398\n",
            "Epoch 4/5\n",
            "1/1 [==============================] - 0s 12ms/step - loss: 11.1073 - mae: 11.1073\n",
            "Epoch 5/5\n",
            "1/1 [==============================] - 0s 8ms/step - loss: 10.9748 - mae: 10.9748\n"
          ]
        },
        {
          "output_type": "execute_result",
          "data": {
            "text/plain": [
              "<keras.callbacks.History at 0x7f41d0f45f50>"
            ]
          },
          "metadata": {},
          "execution_count": 19
        }
      ]
    },
    {
      "cell_type": "code",
      "source": [
        "# Check out X and y\n",
        "X, y"
      ],
      "metadata": {
        "colab": {
          "base_uri": "https://localhost:8080/"
        },
        "id": "78oW0O3P-PVL",
        "outputId": "a1fa4d1a-0803-48c0-8180-8f4236f0a1c4"
      },
      "execution_count": 20,
      "outputs": [
        {
          "output_type": "execute_result",
          "data": {
            "text/plain": [
              "(<tf.Tensor: shape=(8,), dtype=float64, numpy=array([-7., -4., -1.,  2.,  5.,  8., 11., 14.])>,\n",
              " <tf.Tensor: shape=(8,), dtype=float64, numpy=array([ 3.,  6.,  9., 12., 15., 18., 21., 24.])>)"
            ]
          },
          "metadata": {},
          "execution_count": 20
        }
      ]
    },
    {
      "cell_type": "code",
      "source": [
        "# Making a prediction using the model above\n",
        "model.predict([17.0])"
      ],
      "metadata": {
        "colab": {
          "base_uri": "https://localhost:8080/"
        },
        "id": "ffOLR3rk-UGH",
        "outputId": "3209e63c-af2a-4e5d-d3dd-2d84d637495f"
      },
      "execution_count": 21,
      "outputs": [
        {
          "output_type": "execute_result",
          "data": {
            "text/plain": [
              "array([[12.716021]], dtype=float32)"
            ]
          },
          "metadata": {},
          "execution_count": 21
        }
      ]
    },
    {
      "cell_type": "code",
      "source": [
        "# Improve the model - let's rebuild teh model\n",
        "\n",
        "# 1. creating a model\n",
        "model = tf.keras.Sequential([\n",
        "    tf.keras.layers.Dense(1)\n",
        "])\n",
        "\n",
        "# 2. compile the model\n",
        "model.compile( loss = tf.keras.losses.mae, # mae = mean absolute error\n",
        "              optimizer = tf.keras.optimizers.SGD(), #sgd is short for stochastic gradient descent\n",
        "              metrics = [\"mae\"])\n",
        "\n",
        "# 3. fit model\n",
        "model.fit(tf.expand_dims(X, axis=-1),y, epochs = 100) # epochs - how many times the model will go through all of the training examples"
      ],
      "metadata": {
        "colab": {
          "base_uri": "https://localhost:8080/"
        },
        "id": "DsR2u8V1As5W",
        "outputId": "4a7bcb90-60ae-4c87-ce8b-946a45797fc0"
      },
      "execution_count": 26,
      "outputs": [
        {
          "output_type": "stream",
          "name": "stdout",
          "text": [
            "Epoch 1/100\n",
            "1/1 [==============================] - 0s 308ms/step - loss: 9.8244 - mae: 9.8244\n",
            "Epoch 2/100\n",
            "1/1 [==============================] - 0s 9ms/step - loss: 9.6919 - mae: 9.6919\n",
            "Epoch 3/100\n",
            "1/1 [==============================] - 0s 10ms/step - loss: 9.5594 - mae: 9.5594\n",
            "Epoch 4/100\n",
            "1/1 [==============================] - 0s 10ms/step - loss: 9.4269 - mae: 9.4269\n",
            "Epoch 5/100\n",
            "1/1 [==============================] - 0s 8ms/step - loss: 9.2944 - mae: 9.2944\n",
            "Epoch 6/100\n",
            "1/1 [==============================] - 0s 6ms/step - loss: 9.1619 - mae: 9.1619\n",
            "Epoch 7/100\n",
            "1/1 [==============================] - 0s 8ms/step - loss: 9.0294 - mae: 9.0294\n",
            "Epoch 8/100\n",
            "1/1 [==============================] - 0s 9ms/step - loss: 8.8969 - mae: 8.8969\n",
            "Epoch 9/100\n",
            "1/1 [==============================] - 0s 7ms/step - loss: 8.7644 - mae: 8.7644\n",
            "Epoch 10/100\n",
            "1/1 [==============================] - 0s 7ms/step - loss: 8.6319 - mae: 8.6319\n",
            "Epoch 11/100\n",
            "1/1 [==============================] - 0s 7ms/step - loss: 8.4994 - mae: 8.4994\n",
            "Epoch 12/100\n",
            "1/1 [==============================] - 0s 7ms/step - loss: 8.3669 - mae: 8.3669\n",
            "Epoch 13/100\n",
            "1/1 [==============================] - 0s 8ms/step - loss: 8.2344 - mae: 8.2344\n",
            "Epoch 14/100\n",
            "1/1 [==============================] - 0s 7ms/step - loss: 8.1019 - mae: 8.1019\n",
            "Epoch 15/100\n",
            "1/1 [==============================] - 0s 8ms/step - loss: 7.9694 - mae: 7.9694\n",
            "Epoch 16/100\n",
            "1/1 [==============================] - 0s 7ms/step - loss: 7.8369 - mae: 7.8369\n",
            "Epoch 17/100\n",
            "1/1 [==============================] - 0s 8ms/step - loss: 7.7044 - mae: 7.7044\n",
            "Epoch 18/100\n",
            "1/1 [==============================] - 0s 8ms/step - loss: 7.5719 - mae: 7.5719\n",
            "Epoch 19/100\n",
            "1/1 [==============================] - 0s 7ms/step - loss: 7.4394 - mae: 7.4394\n",
            "Epoch 20/100\n",
            "1/1 [==============================] - 0s 8ms/step - loss: 7.3575 - mae: 7.3575\n",
            "Epoch 21/100\n",
            "1/1 [==============================] - 0s 7ms/step - loss: 7.3519 - mae: 7.3519\n",
            "Epoch 22/100\n",
            "1/1 [==============================] - 0s 9ms/step - loss: 7.3463 - mae: 7.3463\n",
            "Epoch 23/100\n",
            "1/1 [==============================] - 0s 8ms/step - loss: 7.3406 - mae: 7.3406\n",
            "Epoch 24/100\n",
            "1/1 [==============================] - 0s 9ms/step - loss: 7.3350 - mae: 7.3350\n",
            "Epoch 25/100\n",
            "1/1 [==============================] - 0s 15ms/step - loss: 7.3294 - mae: 7.3294\n",
            "Epoch 26/100\n",
            "1/1 [==============================] - 0s 12ms/step - loss: 7.3238 - mae: 7.3238\n",
            "Epoch 27/100\n",
            "1/1 [==============================] - 0s 10ms/step - loss: 7.3181 - mae: 7.3181\n",
            "Epoch 28/100\n",
            "1/1 [==============================] - 0s 16ms/step - loss: 7.3125 - mae: 7.3125\n",
            "Epoch 29/100\n",
            "1/1 [==============================] - 0s 13ms/step - loss: 7.3069 - mae: 7.3069\n",
            "Epoch 30/100\n",
            "1/1 [==============================] - 0s 7ms/step - loss: 7.3012 - mae: 7.3012\n",
            "Epoch 31/100\n",
            "1/1 [==============================] - 0s 8ms/step - loss: 7.2956 - mae: 7.2956\n",
            "Epoch 32/100\n",
            "1/1 [==============================] - 0s 10ms/step - loss: 7.2900 - mae: 7.2900\n",
            "Epoch 33/100\n",
            "1/1 [==============================] - 0s 8ms/step - loss: 7.2844 - mae: 7.2844\n",
            "Epoch 34/100\n",
            "1/1 [==============================] - 0s 11ms/step - loss: 7.2787 - mae: 7.2787\n",
            "Epoch 35/100\n",
            "1/1 [==============================] - 0s 9ms/step - loss: 7.2731 - mae: 7.2731\n",
            "Epoch 36/100\n",
            "1/1 [==============================] - 0s 10ms/step - loss: 7.2675 - mae: 7.2675\n",
            "Epoch 37/100\n",
            "1/1 [==============================] - 0s 10ms/step - loss: 7.2619 - mae: 7.2619\n",
            "Epoch 38/100\n",
            "1/1 [==============================] - 0s 8ms/step - loss: 7.2562 - mae: 7.2562\n",
            "Epoch 39/100\n",
            "1/1 [==============================] - 0s 9ms/step - loss: 7.2506 - mae: 7.2506\n",
            "Epoch 40/100\n",
            "1/1 [==============================] - 0s 7ms/step - loss: 7.2450 - mae: 7.2450\n",
            "Epoch 41/100\n",
            "1/1 [==============================] - 0s 7ms/step - loss: 7.2394 - mae: 7.2394\n",
            "Epoch 42/100\n",
            "1/1 [==============================] - 0s 7ms/step - loss: 7.2338 - mae: 7.2338\n",
            "Epoch 43/100\n",
            "1/1 [==============================] - 0s 8ms/step - loss: 7.2281 - mae: 7.2281\n",
            "Epoch 44/100\n",
            "1/1 [==============================] - 0s 7ms/step - loss: 7.2225 - mae: 7.2225\n",
            "Epoch 45/100\n",
            "1/1 [==============================] - 0s 9ms/step - loss: 7.2169 - mae: 7.2169\n",
            "Epoch 46/100\n",
            "1/1 [==============================] - 0s 8ms/step - loss: 7.2113 - mae: 7.2113\n",
            "Epoch 47/100\n",
            "1/1 [==============================] - 0s 8ms/step - loss: 7.2056 - mae: 7.2056\n",
            "Epoch 48/100\n",
            "1/1 [==============================] - 0s 9ms/step - loss: 7.2000 - mae: 7.2000\n",
            "Epoch 49/100\n",
            "1/1 [==============================] - 0s 7ms/step - loss: 7.1944 - mae: 7.1944\n",
            "Epoch 50/100\n",
            "1/1 [==============================] - 0s 7ms/step - loss: 7.1888 - mae: 7.1888\n",
            "Epoch 51/100\n",
            "1/1 [==============================] - 0s 8ms/step - loss: 7.1831 - mae: 7.1831\n",
            "Epoch 52/100\n",
            "1/1 [==============================] - 0s 7ms/step - loss: 7.1775 - mae: 7.1775\n",
            "Epoch 53/100\n",
            "1/1 [==============================] - 0s 7ms/step - loss: 7.1719 - mae: 7.1719\n",
            "Epoch 54/100\n",
            "1/1 [==============================] - 0s 7ms/step - loss: 7.1663 - mae: 7.1663\n",
            "Epoch 55/100\n",
            "1/1 [==============================] - 0s 8ms/step - loss: 7.1606 - mae: 7.1606\n",
            "Epoch 56/100\n",
            "1/1 [==============================] - 0s 8ms/step - loss: 7.1550 - mae: 7.1550\n",
            "Epoch 57/100\n",
            "1/1 [==============================] - 0s 7ms/step - loss: 7.1494 - mae: 7.1494\n",
            "Epoch 58/100\n",
            "1/1 [==============================] - 0s 8ms/step - loss: 7.1438 - mae: 7.1438\n",
            "Epoch 59/100\n",
            "1/1 [==============================] - 0s 8ms/step - loss: 7.1381 - mae: 7.1381\n",
            "Epoch 60/100\n",
            "1/1 [==============================] - 0s 7ms/step - loss: 7.1325 - mae: 7.1325\n",
            "Epoch 61/100\n",
            "1/1 [==============================] - 0s 7ms/step - loss: 7.1269 - mae: 7.1269\n",
            "Epoch 62/100\n",
            "1/1 [==============================] - 0s 7ms/step - loss: 7.1213 - mae: 7.1213\n",
            "Epoch 63/100\n",
            "1/1 [==============================] - 0s 7ms/step - loss: 7.1156 - mae: 7.1156\n",
            "Epoch 64/100\n",
            "1/1 [==============================] - 0s 7ms/step - loss: 7.1100 - mae: 7.1100\n",
            "Epoch 65/100\n",
            "1/1 [==============================] - 0s 7ms/step - loss: 7.1044 - mae: 7.1044\n",
            "Epoch 66/100\n",
            "1/1 [==============================] - 0s 8ms/step - loss: 7.0988 - mae: 7.0988\n",
            "Epoch 67/100\n",
            "1/1 [==============================] - 0s 7ms/step - loss: 7.0931 - mae: 7.0931\n",
            "Epoch 68/100\n",
            "1/1 [==============================] - 0s 7ms/step - loss: 7.0875 - mae: 7.0875\n",
            "Epoch 69/100\n",
            "1/1 [==============================] - 0s 7ms/step - loss: 7.0819 - mae: 7.0819\n",
            "Epoch 70/100\n",
            "1/1 [==============================] - 0s 9ms/step - loss: 7.0763 - mae: 7.0763\n",
            "Epoch 71/100\n",
            "1/1 [==============================] - 0s 7ms/step - loss: 7.0706 - mae: 7.0706\n",
            "Epoch 72/100\n",
            "1/1 [==============================] - 0s 8ms/step - loss: 7.0650 - mae: 7.0650\n",
            "Epoch 73/100\n",
            "1/1 [==============================] - 0s 8ms/step - loss: 7.0594 - mae: 7.0594\n",
            "Epoch 74/100\n",
            "1/1 [==============================] - 0s 8ms/step - loss: 7.0538 - mae: 7.0538\n",
            "Epoch 75/100\n",
            "1/1 [==============================] - 0s 7ms/step - loss: 7.0481 - mae: 7.0481\n",
            "Epoch 76/100\n",
            "1/1 [==============================] - 0s 8ms/step - loss: 7.0425 - mae: 7.0425\n",
            "Epoch 77/100\n",
            "1/1 [==============================] - 0s 8ms/step - loss: 7.0369 - mae: 7.0369\n",
            "Epoch 78/100\n",
            "1/1 [==============================] - 0s 9ms/step - loss: 7.0313 - mae: 7.0313\n",
            "Epoch 79/100\n",
            "1/1 [==============================] - 0s 8ms/step - loss: 7.0256 - mae: 7.0256\n",
            "Epoch 80/100\n",
            "1/1 [==============================] - 0s 8ms/step - loss: 7.0200 - mae: 7.0200\n",
            "Epoch 81/100\n",
            "1/1 [==============================] - 0s 8ms/step - loss: 7.0144 - mae: 7.0144\n",
            "Epoch 82/100\n",
            "1/1 [==============================] - 0s 7ms/step - loss: 7.0088 - mae: 7.0088\n",
            "Epoch 83/100\n",
            "1/1 [==============================] - 0s 8ms/step - loss: 7.0031 - mae: 7.0031\n",
            "Epoch 84/100\n",
            "1/1 [==============================] - 0s 9ms/step - loss: 6.9975 - mae: 6.9975\n",
            "Epoch 85/100\n",
            "1/1 [==============================] - 0s 8ms/step - loss: 6.9919 - mae: 6.9919\n",
            "Epoch 86/100\n",
            "1/1 [==============================] - 0s 7ms/step - loss: 6.9863 - mae: 6.9863\n",
            "Epoch 87/100\n",
            "1/1 [==============================] - 0s 8ms/step - loss: 6.9806 - mae: 6.9806\n",
            "Epoch 88/100\n",
            "1/1 [==============================] - 0s 8ms/step - loss: 6.9750 - mae: 6.9750\n",
            "Epoch 89/100\n",
            "1/1 [==============================] - 0s 8ms/step - loss: 6.9694 - mae: 6.9694\n",
            "Epoch 90/100\n",
            "1/1 [==============================] - 0s 9ms/step - loss: 6.9638 - mae: 6.9638\n",
            "Epoch 91/100\n",
            "1/1 [==============================] - 0s 9ms/step - loss: 6.9581 - mae: 6.9581\n",
            "Epoch 92/100\n",
            "1/1 [==============================] - 0s 8ms/step - loss: 6.9525 - mae: 6.9525\n",
            "Epoch 93/100\n",
            "1/1 [==============================] - 0s 8ms/step - loss: 6.9469 - mae: 6.9469\n",
            "Epoch 94/100\n",
            "1/1 [==============================] - 0s 9ms/step - loss: 6.9413 - mae: 6.9413\n",
            "Epoch 95/100\n",
            "1/1 [==============================] - 0s 8ms/step - loss: 6.9356 - mae: 6.9356\n",
            "Epoch 96/100\n",
            "1/1 [==============================] - 0s 8ms/step - loss: 6.9300 - mae: 6.9300\n",
            "Epoch 97/100\n",
            "1/1 [==============================] - 0s 8ms/step - loss: 6.9244 - mae: 6.9244\n",
            "Epoch 98/100\n",
            "1/1 [==============================] - 0s 9ms/step - loss: 6.9188 - mae: 6.9188\n",
            "Epoch 99/100\n",
            "1/1 [==============================] - 0s 12ms/step - loss: 6.9131 - mae: 6.9131\n",
            "Epoch 100/100\n",
            "1/1 [==============================] - 0s 12ms/step - loss: 6.9075 - mae: 6.9075\n"
          ]
        },
        {
          "output_type": "execute_result",
          "data": {
            "text/plain": [
              "<keras.callbacks.History at 0x7f41d1cbd4d0>"
            ]
          },
          "metadata": {},
          "execution_count": 26
        }
      ]
    },
    {
      "cell_type": "code",
      "source": [
        "model.predict([17.0]) "
      ],
      "metadata": {
        "colab": {
          "base_uri": "https://localhost:8080/"
        },
        "id": "mPkAuZyFEFJg",
        "outputId": "a2f5c78b-4d5c-4726-d94a-f5475c2a4a41"
      },
      "execution_count": 28,
      "outputs": [
        {
          "output_type": "execute_result",
          "data": {
            "text/plain": [
              "array([[29.955261]], dtype=float32)"
            ]
          },
          "metadata": {},
          "execution_count": 28
        }
      ]
    },
    {
      "cell_type": "code",
      "source": [
        "# improve model again \n",
        "model = tf.keras.Sequential([\n",
        "      tf.keras.layers.Dense(100, activation = \"relu\"),\n",
        "      tf.keras.layers.Dense(100, activation = \"relu\"),\n",
        "      tf.keras.layers.Dense(100, activation = \"relu\"),\n",
        "      tf.keras.layers.Dense(1)\n",
        "  ])\n",
        "\n",
        "model.compile(loss = tf.keras.losses.mae,\n",
        "                optimizer = tf.keras.optimizers.Adam(learning_rate = 0.001),\n",
        "                metrics = [\"mae\"])\n",
        "  \n",
        "model.fit(tf.expand_dims(X, axis=-1),y, epochs = 200)"
      ],
      "metadata": {
        "colab": {
          "base_uri": "https://localhost:8080/"
        },
        "id": "FZg-UZx-EySo",
        "outputId": "ee6357e0-c566-47ff-dda5-e901c108c95e"
      },
      "execution_count": 44,
      "outputs": [
        {
          "output_type": "stream",
          "name": "stdout",
          "text": [
            "Epoch 1/200\n",
            "1/1 [==============================] - 1s 799ms/step - loss: 13.0194 - mae: 13.0194\n",
            "Epoch 2/200\n",
            "1/1 [==============================] - 0s 10ms/step - loss: 12.7441 - mae: 12.7441\n",
            "Epoch 3/200\n",
            "1/1 [==============================] - 0s 8ms/step - loss: 12.4703 - mae: 12.4703\n",
            "Epoch 4/200\n",
            "1/1 [==============================] - 0s 8ms/step - loss: 12.2000 - mae: 12.2000\n",
            "Epoch 5/200\n",
            "1/1 [==============================] - 0s 8ms/step - loss: 11.9219 - mae: 11.9219\n",
            "Epoch 6/200\n",
            "1/1 [==============================] - 0s 9ms/step - loss: 11.6391 - mae: 11.6391\n",
            "Epoch 7/200\n",
            "1/1 [==============================] - 0s 8ms/step - loss: 11.3398 - mae: 11.3398\n",
            "Epoch 8/200\n",
            "1/1 [==============================] - 0s 9ms/step - loss: 11.0894 - mae: 11.0894\n",
            "Epoch 9/200\n",
            "1/1 [==============================] - 0s 10ms/step - loss: 10.8641 - mae: 10.8641\n",
            "Epoch 10/200\n",
            "1/1 [==============================] - 0s 9ms/step - loss: 10.6322 - mae: 10.6322\n",
            "Epoch 11/200\n",
            "1/1 [==============================] - 0s 9ms/step - loss: 10.3806 - mae: 10.3806\n",
            "Epoch 12/200\n",
            "1/1 [==============================] - 0s 9ms/step - loss: 10.1175 - mae: 10.1175\n",
            "Epoch 13/200\n",
            "1/1 [==============================] - 0s 9ms/step - loss: 9.8357 - mae: 9.8357\n",
            "Epoch 14/200\n",
            "1/1 [==============================] - 0s 9ms/step - loss: 9.5310 - mae: 9.5310\n",
            "Epoch 15/200\n",
            "1/1 [==============================] - 0s 9ms/step - loss: 9.1988 - mae: 9.1988\n",
            "Epoch 16/200\n",
            "1/1 [==============================] - 0s 8ms/step - loss: 8.8403 - mae: 8.8403\n",
            "Epoch 17/200\n",
            "1/1 [==============================] - 0s 9ms/step - loss: 8.4545 - mae: 8.4545\n",
            "Epoch 18/200\n",
            "1/1 [==============================] - 0s 8ms/step - loss: 8.0398 - mae: 8.0398\n",
            "Epoch 19/200\n",
            "1/1 [==============================] - 0s 8ms/step - loss: 7.5971 - mae: 7.5971\n",
            "Epoch 20/200\n",
            "1/1 [==============================] - 0s 7ms/step - loss: 7.1231 - mae: 7.1231\n",
            "Epoch 21/200\n",
            "1/1 [==============================] - 0s 8ms/step - loss: 6.6158 - mae: 6.6158\n",
            "Epoch 22/200\n",
            "1/1 [==============================] - 0s 9ms/step - loss: 6.0742 - mae: 6.0742\n",
            "Epoch 23/200\n",
            "1/1 [==============================] - 0s 8ms/step - loss: 5.4954 - mae: 5.4954\n",
            "Epoch 24/200\n",
            "1/1 [==============================] - 0s 8ms/step - loss: 4.8768 - mae: 4.8768\n",
            "Epoch 25/200\n",
            "1/1 [==============================] - 0s 8ms/step - loss: 4.2167 - mae: 4.2167\n",
            "Epoch 26/200\n",
            "1/1 [==============================] - 0s 8ms/step - loss: 3.9659 - mae: 3.9659\n",
            "Epoch 27/200\n",
            "1/1 [==============================] - 0s 8ms/step - loss: 3.9738 - mae: 3.9738\n",
            "Epoch 28/200\n",
            "1/1 [==============================] - 0s 9ms/step - loss: 4.1129 - mae: 4.1129\n",
            "Epoch 29/200\n",
            "1/1 [==============================] - 0s 8ms/step - loss: 4.2437 - mae: 4.2437\n",
            "Epoch 30/200\n",
            "1/1 [==============================] - 0s 8ms/step - loss: 4.4942 - mae: 4.4942\n",
            "Epoch 31/200\n",
            "1/1 [==============================] - 0s 8ms/step - loss: 4.6546 - mae: 4.6546\n",
            "Epoch 32/200\n",
            "1/1 [==============================] - 0s 8ms/step - loss: 4.7342 - mae: 4.7342\n",
            "Epoch 33/200\n",
            "1/1 [==============================] - 0s 8ms/step - loss: 4.7389 - mae: 4.7389\n",
            "Epoch 34/200\n",
            "1/1 [==============================] - 0s 8ms/step - loss: 4.6822 - mae: 4.6822\n",
            "Epoch 35/200\n",
            "1/1 [==============================] - 0s 8ms/step - loss: 4.5712 - mae: 4.5712\n",
            "Epoch 36/200\n",
            "1/1 [==============================] - 0s 8ms/step - loss: 4.4143 - mae: 4.4143\n",
            "Epoch 37/200\n",
            "1/1 [==============================] - 0s 9ms/step - loss: 4.2219 - mae: 4.2219\n",
            "Epoch 38/200\n",
            "1/1 [==============================] - 0s 9ms/step - loss: 4.0730 - mae: 4.0730\n",
            "Epoch 39/200\n",
            "1/1 [==============================] - 0s 10ms/step - loss: 3.9853 - mae: 3.9853\n",
            "Epoch 40/200\n",
            "1/1 [==============================] - 0s 11ms/step - loss: 3.8987 - mae: 3.8987\n",
            "Epoch 41/200\n",
            "1/1 [==============================] - 0s 11ms/step - loss: 3.8176 - mae: 3.8176\n",
            "Epoch 42/200\n",
            "1/1 [==============================] - 0s 11ms/step - loss: 3.7364 - mae: 3.7364\n",
            "Epoch 43/200\n",
            "1/1 [==============================] - 0s 12ms/step - loss: 3.7334 - mae: 3.7334\n",
            "Epoch 44/200\n",
            "1/1 [==============================] - 0s 14ms/step - loss: 3.7896 - mae: 3.7896\n",
            "Epoch 45/200\n",
            "1/1 [==============================] - 0s 11ms/step - loss: 3.8253 - mae: 3.8253\n",
            "Epoch 46/200\n",
            "1/1 [==============================] - 0s 10ms/step - loss: 3.8450 - mae: 3.8450\n",
            "Epoch 47/200\n",
            "1/1 [==============================] - 0s 9ms/step - loss: 3.8789 - mae: 3.8789\n",
            "Epoch 48/200\n",
            "1/1 [==============================] - 0s 11ms/step - loss: 3.8593 - mae: 3.8593\n",
            "Epoch 49/200\n",
            "1/1 [==============================] - 0s 11ms/step - loss: 3.8291 - mae: 3.8291\n",
            "Epoch 50/200\n",
            "1/1 [==============================] - 0s 10ms/step - loss: 3.8010 - mae: 3.8010\n",
            "Epoch 51/200\n",
            "1/1 [==============================] - 0s 12ms/step - loss: 3.7615 - mae: 3.7615\n",
            "Epoch 52/200\n",
            "1/1 [==============================] - 0s 22ms/step - loss: 3.7108 - mae: 3.7108\n",
            "Epoch 53/200\n",
            "1/1 [==============================] - 0s 13ms/step - loss: 3.6485 - mae: 3.6485\n",
            "Epoch 54/200\n",
            "1/1 [==============================] - 0s 10ms/step - loss: 3.5988 - mae: 3.5988\n",
            "Epoch 55/200\n",
            "1/1 [==============================] - 0s 11ms/step - loss: 3.6225 - mae: 3.6225\n",
            "Epoch 56/200\n",
            "1/1 [==============================] - 0s 10ms/step - loss: 3.6348 - mae: 3.6348\n",
            "Epoch 57/200\n",
            "1/1 [==============================] - 0s 10ms/step - loss: 3.6361 - mae: 3.6361\n",
            "Epoch 58/200\n",
            "1/1 [==============================] - 0s 10ms/step - loss: 3.6277 - mae: 3.6277\n",
            "Epoch 59/200\n",
            "1/1 [==============================] - 0s 10ms/step - loss: 3.6112 - mae: 3.6112\n",
            "Epoch 60/200\n",
            "1/1 [==============================] - 0s 9ms/step - loss: 3.5865 - mae: 3.5865\n",
            "Epoch 61/200\n",
            "1/1 [==============================] - 0s 10ms/step - loss: 3.5558 - mae: 3.5558\n",
            "Epoch 62/200\n",
            "1/1 [==============================] - 0s 11ms/step - loss: 3.5170 - mae: 3.5170\n",
            "Epoch 63/200\n",
            "1/1 [==============================] - 0s 10ms/step - loss: 3.4731 - mae: 3.4731\n",
            "Epoch 64/200\n",
            "1/1 [==============================] - 0s 14ms/step - loss: 3.4956 - mae: 3.4956\n",
            "Epoch 65/200\n",
            "1/1 [==============================] - 0s 11ms/step - loss: 3.5291 - mae: 3.5291\n",
            "Epoch 66/200\n",
            "1/1 [==============================] - 0s 12ms/step - loss: 3.5001 - mae: 3.5001\n",
            "Epoch 67/200\n",
            "1/1 [==============================] - 0s 12ms/step - loss: 3.4778 - mae: 3.4778\n",
            "Epoch 68/200\n",
            "1/1 [==============================] - 0s 12ms/step - loss: 3.4411 - mae: 3.4411\n",
            "Epoch 69/200\n",
            "1/1 [==============================] - 0s 12ms/step - loss: 3.4168 - mae: 3.4168\n",
            "Epoch 70/200\n",
            "1/1 [==============================] - 0s 11ms/step - loss: 3.4262 - mae: 3.4262\n",
            "Epoch 71/200\n",
            "1/1 [==============================] - 0s 10ms/step - loss: 3.4240 - mae: 3.4240\n",
            "Epoch 72/200\n",
            "1/1 [==============================] - 0s 12ms/step - loss: 3.4111 - mae: 3.4111\n",
            "Epoch 73/200\n",
            "1/1 [==============================] - 0s 15ms/step - loss: 3.3885 - mae: 3.3885\n",
            "Epoch 74/200\n",
            "1/1 [==============================] - 0s 12ms/step - loss: 3.3570 - mae: 3.3570\n",
            "Epoch 75/200\n",
            "1/1 [==============================] - 0s 12ms/step - loss: 3.3235 - mae: 3.3235\n",
            "Epoch 76/200\n",
            "1/1 [==============================] - 0s 11ms/step - loss: 3.3121 - mae: 3.3121\n",
            "Epoch 77/200\n",
            "1/1 [==============================] - 0s 11ms/step - loss: 3.2787 - mae: 3.2787\n",
            "Epoch 78/200\n",
            "1/1 [==============================] - 0s 10ms/step - loss: 3.2720 - mae: 3.2720\n",
            "Epoch 79/200\n",
            "1/1 [==============================] - 0s 11ms/step - loss: 3.2594 - mae: 3.2594\n",
            "Epoch 80/200\n",
            "1/1 [==============================] - 0s 11ms/step - loss: 3.2362 - mae: 3.2362\n",
            "Epoch 81/200\n",
            "1/1 [==============================] - 0s 13ms/step - loss: 3.2042 - mae: 3.2042\n",
            "Epoch 82/200\n",
            "1/1 [==============================] - 0s 12ms/step - loss: 3.1675 - mae: 3.1675\n",
            "Epoch 83/200\n",
            "1/1 [==============================] - 0s 12ms/step - loss: 3.1593 - mae: 3.1593\n",
            "Epoch 84/200\n",
            "1/1 [==============================] - 0s 16ms/step - loss: 3.1467 - mae: 3.1467\n",
            "Epoch 85/200\n",
            "1/1 [==============================] - 0s 18ms/step - loss: 3.1059 - mae: 3.1059\n",
            "Epoch 86/200\n",
            "1/1 [==============================] - 0s 10ms/step - loss: 3.0831 - mae: 3.0831\n",
            "Epoch 87/200\n",
            "1/1 [==============================] - 0s 13ms/step - loss: 3.0749 - mae: 3.0749\n",
            "Epoch 88/200\n",
            "1/1 [==============================] - 0s 12ms/step - loss: 3.0506 - mae: 3.0506\n",
            "Epoch 89/200\n",
            "1/1 [==============================] - 0s 13ms/step - loss: 3.0121 - mae: 3.0121\n",
            "Epoch 90/200\n",
            "1/1 [==============================] - 0s 13ms/step - loss: 2.9801 - mae: 2.9801\n",
            "Epoch 91/200\n",
            "1/1 [==============================] - 0s 11ms/step - loss: 2.9146 - mae: 2.9146\n",
            "Epoch 92/200\n",
            "1/1 [==============================] - 0s 12ms/step - loss: 2.8895 - mae: 2.8895\n",
            "Epoch 93/200\n",
            "1/1 [==============================] - 0s 10ms/step - loss: 2.8702 - mae: 2.8702\n",
            "Epoch 94/200\n",
            "1/1 [==============================] - 0s 11ms/step - loss: 2.8362 - mae: 2.8362\n",
            "Epoch 95/200\n",
            "1/1 [==============================] - 0s 9ms/step - loss: 2.8022 - mae: 2.8022\n",
            "Epoch 96/200\n",
            "1/1 [==============================] - 0s 9ms/step - loss: 2.7582 - mae: 2.7582\n",
            "Epoch 97/200\n",
            "1/1 [==============================] - 0s 10ms/step - loss: 2.7439 - mae: 2.7439\n",
            "Epoch 98/200\n",
            "1/1 [==============================] - 0s 10ms/step - loss: 2.6886 - mae: 2.6886\n",
            "Epoch 99/200\n",
            "1/1 [==============================] - 0s 9ms/step - loss: 2.6632 - mae: 2.6632\n",
            "Epoch 100/200\n",
            "1/1 [==============================] - 0s 9ms/step - loss: 2.6389 - mae: 2.6389\n",
            "Epoch 101/200\n",
            "1/1 [==============================] - 0s 10ms/step - loss: 2.6018 - mae: 2.6018\n",
            "Epoch 102/200\n",
            "1/1 [==============================] - 0s 11ms/step - loss: 2.5481 - mae: 2.5481\n",
            "Epoch 103/200\n",
            "1/1 [==============================] - 0s 11ms/step - loss: 2.4771 - mae: 2.4771\n",
            "Epoch 104/200\n",
            "1/1 [==============================] - 0s 10ms/step - loss: 2.4727 - mae: 2.4727\n",
            "Epoch 105/200\n",
            "1/1 [==============================] - 0s 11ms/step - loss: 2.4108 - mae: 2.4108\n",
            "Epoch 106/200\n",
            "1/1 [==============================] - 0s 12ms/step - loss: 2.2892 - mae: 2.2892\n",
            "Epoch 107/200\n",
            "1/1 [==============================] - 0s 13ms/step - loss: 2.2781 - mae: 2.2781\n",
            "Epoch 108/200\n",
            "1/1 [==============================] - 0s 11ms/step - loss: 2.2500 - mae: 2.2500\n",
            "Epoch 109/200\n",
            "1/1 [==============================] - 0s 10ms/step - loss: 2.2219 - mae: 2.2219\n",
            "Epoch 110/200\n",
            "1/1 [==============================] - 0s 11ms/step - loss: 2.1399 - mae: 2.1399\n",
            "Epoch 111/200\n",
            "1/1 [==============================] - 0s 11ms/step - loss: 2.0605 - mae: 2.0605\n",
            "Epoch 112/200\n",
            "1/1 [==============================] - 0s 10ms/step - loss: 1.9606 - mae: 1.9606\n",
            "Epoch 113/200\n",
            "1/1 [==============================] - 0s 9ms/step - loss: 1.8559 - mae: 1.8559\n",
            "Epoch 114/200\n",
            "1/1 [==============================] - 0s 11ms/step - loss: 1.8339 - mae: 1.8339\n",
            "Epoch 115/200\n",
            "1/1 [==============================] - 0s 13ms/step - loss: 1.7650 - mae: 1.7650\n",
            "Epoch 116/200\n",
            "1/1 [==============================] - 0s 11ms/step - loss: 1.6047 - mae: 1.6047\n",
            "Epoch 117/200\n",
            "1/1 [==============================] - 0s 16ms/step - loss: 1.5648 - mae: 1.5648\n",
            "Epoch 118/200\n",
            "1/1 [==============================] - 0s 12ms/step - loss: 1.5206 - mae: 1.5206\n",
            "Epoch 119/200\n",
            "1/1 [==============================] - 0s 11ms/step - loss: 1.4514 - mae: 1.4514\n",
            "Epoch 120/200\n",
            "1/1 [==============================] - 0s 12ms/step - loss: 1.3554 - mae: 1.3554\n",
            "Epoch 121/200\n",
            "1/1 [==============================] - 0s 11ms/step - loss: 1.2394 - mae: 1.2394\n",
            "Epoch 122/200\n",
            "1/1 [==============================] - 0s 11ms/step - loss: 1.1617 - mae: 1.1617\n",
            "Epoch 123/200\n",
            "1/1 [==============================] - 0s 15ms/step - loss: 1.0096 - mae: 1.0096\n",
            "Epoch 124/200\n",
            "1/1 [==============================] - 0s 10ms/step - loss: 0.9166 - mae: 0.9166\n",
            "Epoch 125/200\n",
            "1/1 [==============================] - 0s 12ms/step - loss: 0.8308 - mae: 0.8308\n",
            "Epoch 126/200\n",
            "1/1 [==============================] - 0s 11ms/step - loss: 0.7610 - mae: 0.7610\n",
            "Epoch 127/200\n",
            "1/1 [==============================] - 0s 11ms/step - loss: 0.7407 - mae: 0.7407\n",
            "Epoch 128/200\n",
            "1/1 [==============================] - 0s 11ms/step - loss: 0.6641 - mae: 0.6641\n",
            "Epoch 129/200\n",
            "1/1 [==============================] - 0s 11ms/step - loss: 0.6204 - mae: 0.6204\n",
            "Epoch 130/200\n",
            "1/1 [==============================] - 0s 10ms/step - loss: 0.6338 - mae: 0.6338\n",
            "Epoch 131/200\n",
            "1/1 [==============================] - 0s 10ms/step - loss: 0.5583 - mae: 0.5583\n",
            "Epoch 132/200\n",
            "1/1 [==============================] - 0s 11ms/step - loss: 0.5888 - mae: 0.5888\n",
            "Epoch 133/200\n",
            "1/1 [==============================] - 0s 14ms/step - loss: 0.5200 - mae: 0.5200\n",
            "Epoch 134/200\n",
            "1/1 [==============================] - 0s 11ms/step - loss: 0.5234 - mae: 0.5234\n",
            "Epoch 135/200\n",
            "1/1 [==============================] - 0s 12ms/step - loss: 0.5113 - mae: 0.5113\n",
            "Epoch 136/200\n",
            "1/1 [==============================] - 0s 15ms/step - loss: 0.4352 - mae: 0.4352\n",
            "Epoch 137/200\n",
            "1/1 [==============================] - 0s 12ms/step - loss: 0.4441 - mae: 0.4441\n",
            "Epoch 138/200\n",
            "1/1 [==============================] - 0s 12ms/step - loss: 0.4995 - mae: 0.4995\n",
            "Epoch 139/200\n",
            "1/1 [==============================] - 0s 12ms/step - loss: 0.3871 - mae: 0.3871\n",
            "Epoch 140/200\n",
            "1/1 [==============================] - 0s 12ms/step - loss: 0.3292 - mae: 0.3292\n",
            "Epoch 141/200\n",
            "1/1 [==============================] - 0s 11ms/step - loss: 0.3718 - mae: 0.3718\n",
            "Epoch 142/200\n",
            "1/1 [==============================] - 0s 15ms/step - loss: 0.4952 - mae: 0.4952\n",
            "Epoch 143/200\n",
            "1/1 [==============================] - 0s 15ms/step - loss: 0.3055 - mae: 0.3055\n",
            "Epoch 144/200\n",
            "1/1 [==============================] - 0s 15ms/step - loss: 0.7222 - mae: 0.7222\n",
            "Epoch 145/200\n",
            "1/1 [==============================] - 0s 12ms/step - loss: 0.7627 - mae: 0.7627\n",
            "Epoch 146/200\n",
            "1/1 [==============================] - 0s 22ms/step - loss: 0.4045 - mae: 0.4045\n",
            "Epoch 147/200\n",
            "1/1 [==============================] - 0s 18ms/step - loss: 0.7942 - mae: 0.7942\n",
            "Epoch 148/200\n",
            "1/1 [==============================] - 0s 15ms/step - loss: 1.0340 - mae: 1.0340\n",
            "Epoch 149/200\n",
            "1/1 [==============================] - 0s 20ms/step - loss: 0.7929 - mae: 0.7929\n",
            "Epoch 150/200\n",
            "1/1 [==============================] - 0s 11ms/step - loss: 0.2852 - mae: 0.2852\n",
            "Epoch 151/200\n",
            "1/1 [==============================] - 0s 12ms/step - loss: 0.5951 - mae: 0.5951\n",
            "Epoch 152/200\n",
            "1/1 [==============================] - 0s 12ms/step - loss: 0.6190 - mae: 0.6190\n",
            "Epoch 153/200\n",
            "1/1 [==============================] - 0s 11ms/step - loss: 0.3703 - mae: 0.3703\n",
            "Epoch 154/200\n",
            "1/1 [==============================] - 0s 12ms/step - loss: 0.5344 - mae: 0.5344\n",
            "Epoch 155/200\n",
            "1/1 [==============================] - 0s 11ms/step - loss: 0.6745 - mae: 0.6745\n",
            "Epoch 156/200\n",
            "1/1 [==============================] - 0s 11ms/step - loss: 0.5068 - mae: 0.5068\n",
            "Epoch 157/200\n",
            "1/1 [==============================] - 0s 23ms/step - loss: 0.3085 - mae: 0.3085\n",
            "Epoch 158/200\n",
            "1/1 [==============================] - 0s 12ms/step - loss: 0.4747 - mae: 0.4747\n",
            "Epoch 159/200\n",
            "1/1 [==============================] - 0s 11ms/step - loss: 0.4416 - mae: 0.4416\n",
            "Epoch 160/200\n",
            "1/1 [==============================] - 0s 13ms/step - loss: 0.2791 - mae: 0.2791\n",
            "Epoch 161/200\n",
            "1/1 [==============================] - 0s 12ms/step - loss: 0.4174 - mae: 0.4174\n",
            "Epoch 162/200\n",
            "1/1 [==============================] - 0s 11ms/step - loss: 0.4794 - mae: 0.4794\n",
            "Epoch 163/200\n",
            "1/1 [==============================] - 0s 11ms/step - loss: 0.3556 - mae: 0.3556\n",
            "Epoch 164/200\n",
            "1/1 [==============================] - 0s 15ms/step - loss: 0.2922 - mae: 0.2922\n",
            "Epoch 165/200\n",
            "1/1 [==============================] - 0s 325ms/step - loss: 0.3910 - mae: 0.3910\n",
            "Epoch 166/200\n",
            "1/1 [==============================] - 0s 9ms/step - loss: 0.3015 - mae: 0.3015\n",
            "Epoch 167/200\n",
            "1/1 [==============================] - 0s 9ms/step - loss: 0.2834 - mae: 0.2834\n",
            "Epoch 168/200\n",
            "1/1 [==============================] - 0s 9ms/step - loss: 0.3222 - mae: 0.3222\n",
            "Epoch 169/200\n",
            "1/1 [==============================] - 0s 10ms/step - loss: 0.3520 - mae: 0.3520\n",
            "Epoch 170/200\n",
            "1/1 [==============================] - 0s 10ms/step - loss: 0.2688 - mae: 0.2688\n",
            "Epoch 171/200\n",
            "1/1 [==============================] - 0s 9ms/step - loss: 0.2749 - mae: 0.2749\n",
            "Epoch 172/200\n",
            "1/1 [==============================] - 0s 10ms/step - loss: 0.1930 - mae: 0.1930\n",
            "Epoch 173/200\n",
            "1/1 [==============================] - 0s 10ms/step - loss: 0.2205 - mae: 0.2205\n",
            "Epoch 174/200\n",
            "1/1 [==============================] - 0s 9ms/step - loss: 0.2094 - mae: 0.2094\n",
            "Epoch 175/200\n",
            "1/1 [==============================] - 0s 12ms/step - loss: 0.1860 - mae: 0.1860\n",
            "Epoch 176/200\n",
            "1/1 [==============================] - 0s 10ms/step - loss: 0.1707 - mae: 0.1707\n",
            "Epoch 177/200\n",
            "1/1 [==============================] - 0s 10ms/step - loss: 0.1575 - mae: 0.1575\n",
            "Epoch 178/200\n",
            "1/1 [==============================] - 0s 11ms/step - loss: 0.1124 - mae: 0.1124\n",
            "Epoch 179/200\n",
            "1/1 [==============================] - 0s 11ms/step - loss: 0.1067 - mae: 0.1067\n",
            "Epoch 180/200\n",
            "1/1 [==============================] - 0s 10ms/step - loss: 0.0819 - mae: 0.0819\n",
            "Epoch 181/200\n",
            "1/1 [==============================] - 0s 10ms/step - loss: 0.0688 - mae: 0.0688\n",
            "Epoch 182/200\n",
            "1/1 [==============================] - 0s 9ms/step - loss: 0.2324 - mae: 0.2324\n",
            "Epoch 183/200\n",
            "1/1 [==============================] - 0s 9ms/step - loss: 0.1782 - mae: 0.1782\n",
            "Epoch 184/200\n",
            "1/1 [==============================] - 0s 14ms/step - loss: 0.2722 - mae: 0.2722\n",
            "Epoch 185/200\n",
            "1/1 [==============================] - 0s 12ms/step - loss: 0.2590 - mae: 0.2590\n",
            "Epoch 186/200\n",
            "1/1 [==============================] - 0s 9ms/step - loss: 0.1100 - mae: 0.1100\n",
            "Epoch 187/200\n",
            "1/1 [==============================] - 0s 10ms/step - loss: 0.1643 - mae: 0.1643\n",
            "Epoch 188/200\n",
            "1/1 [==============================] - 0s 9ms/step - loss: 0.0365 - mae: 0.0365\n",
            "Epoch 189/200\n",
            "1/1 [==============================] - 0s 10ms/step - loss: 0.1207 - mae: 0.1207\n",
            "Epoch 190/200\n",
            "1/1 [==============================] - 0s 16ms/step - loss: 0.1213 - mae: 0.1213\n",
            "Epoch 191/200\n",
            "1/1 [==============================] - 0s 14ms/step - loss: 0.0745 - mae: 0.0745\n",
            "Epoch 192/200\n",
            "1/1 [==============================] - 0s 17ms/step - loss: 0.1600 - mae: 0.1600\n",
            "Epoch 193/200\n",
            "1/1 [==============================] - 0s 18ms/step - loss: 0.0714 - mae: 0.0714\n",
            "Epoch 194/200\n",
            "1/1 [==============================] - 0s 11ms/step - loss: 0.1081 - mae: 0.1081\n",
            "Epoch 195/200\n",
            "1/1 [==============================] - 0s 12ms/step - loss: 0.1235 - mae: 0.1235\n",
            "Epoch 196/200\n",
            "1/1 [==============================] - 0s 11ms/step - loss: 0.0364 - mae: 0.0364\n",
            "Epoch 197/200\n",
            "1/1 [==============================] - 0s 10ms/step - loss: 0.1008 - mae: 0.1008\n",
            "Epoch 198/200\n",
            "1/1 [==============================] - 0s 9ms/step - loss: 0.1015 - mae: 0.1015\n",
            "Epoch 199/200\n",
            "1/1 [==============================] - 0s 8ms/step - loss: 0.0635 - mae: 0.0635\n",
            "Epoch 200/200\n",
            "1/1 [==============================] - 0s 8ms/step - loss: 0.2303 - mae: 0.2303\n"
          ]
        },
        {
          "output_type": "execute_result",
          "data": {
            "text/plain": [
              "<keras.callbacks.History at 0x7f41c8a2e590>"
            ]
          },
          "metadata": {},
          "execution_count": 44
        }
      ]
    },
    {
      "cell_type": "code",
      "source": [
        "model.predict([17.0])"
      ],
      "metadata": {
        "colab": {
          "base_uri": "https://localhost:8080/"
        },
        "id": "302DMHN5Gd7C",
        "outputId": "afcc65c6-9df5-4681-831f-9b8f28fa4feb"
      },
      "execution_count": 45,
      "outputs": [
        {
          "output_type": "execute_result",
          "data": {
            "text/plain": [
              "array([[27.716743]], dtype=float32)"
            ]
          },
          "metadata": {},
          "execution_count": 45
        }
      ]
    },
    {
      "cell_type": "markdown",
      "source": [
        "## Evaluating a model\n",
        "\n",
        "In practice, a typical workflow you will go through when building neural netwroks is: \n",
        "...\n",
        "Build a model --> fit it --> evaluate it --> tweak the model --> fit it --> evaluate it --> tweak the model --> fit it --> evaluate it ...\n",
        "..."
      ],
      "metadata": {
        "id": "WwZLmsf8KIZg"
      }
    },
    {
      "cell_type": "markdown",
      "source": [
        "## when it comes to evaluation: \n",
        "\" Visualize, Visualize, Visualize\"\n",
        "* the data\n",
        "* the model\n",
        "* the training of a model\n",
        "* the predictions of the model\n"
      ],
      "metadata": {
        "id": "BJ-X3kE4Rpz6"
      }
    },
    {
      "cell_type": "code",
      "source": [
        "# make a bigger data set\n",
        "X = tf.range(-100,100,4)\n",
        "X"
      ],
      "metadata": {
        "colab": {
          "base_uri": "https://localhost:8080/"
        },
        "id": "5_sR_SB-RXw5",
        "outputId": "d41fd6ee-3473-4af4-fd4f-9474b3c56707"
      },
      "execution_count": 46,
      "outputs": [
        {
          "output_type": "execute_result",
          "data": {
            "text/plain": [
              "<tf.Tensor: shape=(50,), dtype=int32, numpy=\n",
              "array([-100,  -96,  -92,  -88,  -84,  -80,  -76,  -72,  -68,  -64,  -60,\n",
              "        -56,  -52,  -48,  -44,  -40,  -36,  -32,  -28,  -24,  -20,  -16,\n",
              "        -12,   -8,   -4,    0,    4,    8,   12,   16,   20,   24,   28,\n",
              "         32,   36,   40,   44,   48,   52,   56,   60,   64,   68,   72,\n",
              "         76,   80,   84,   88,   92,   96], dtype=int32)>"
            ]
          },
          "metadata": {},
          "execution_count": 46
        }
      ]
    },
    {
      "cell_type": "code",
      "source": [
        "# Make labels for dataset\n",
        "y = X +10\n",
        "y"
      ],
      "metadata": {
        "colab": {
          "base_uri": "https://localhost:8080/"
        },
        "id": "WFmuCXbcSMNw",
        "outputId": "ca724e14-d193-48ed-ac15-70b2d53785ec"
      },
      "execution_count": 47,
      "outputs": [
        {
          "output_type": "execute_result",
          "data": {
            "text/plain": [
              "<tf.Tensor: shape=(50,), dtype=int32, numpy=\n",
              "array([-90, -86, -82, -78, -74, -70, -66, -62, -58, -54, -50, -46, -42,\n",
              "       -38, -34, -30, -26, -22, -18, -14, -10,  -6,  -2,   2,   6,  10,\n",
              "        14,  18,  22,  26,  30,  34,  38,  42,  46,  50,  54,  58,  62,\n",
              "        66,  70,  74,  78,  82,  86,  90,  94,  98, 102, 106], dtype=int32)>"
            ]
          },
          "metadata": {},
          "execution_count": 47
        }
      ]
    },
    {
      "cell_type": "code",
      "source": [
        "# visualise data\n",
        "plt.scatter(X,y)"
      ],
      "metadata": {
        "colab": {
          "base_uri": "https://localhost:8080/",
          "height": 282
        },
        "id": "UN_LqShsSTao",
        "outputId": "0d11033e-cf68-4a4b-dc9b-b8f609ea0b26"
      },
      "execution_count": 49,
      "outputs": [
        {
          "output_type": "execute_result",
          "data": {
            "text/plain": [
              "<matplotlib.collections.PathCollection at 0x7f41d200ff10>"
            ]
          },
          "metadata": {},
          "execution_count": 49
        },
        {
          "output_type": "display_data",
          "data": {
            "text/plain": [
              "<Figure size 432x288 with 1 Axes>"
            ],
            "image/png": "[encoded data removed]"
          },
          "metadata": {
            "needs_background": "light"
          }
        }
      ]
    },
    {
      "cell_type": "markdown",
      "source": [
        "### The 3 sets...\n",
        "* training set - the model learns from this data which is typically 70-80 percent of total data you have. \n",
        "* Validation set - the model gets tuned on this data, which is typically 10-15% of the data available.\n",
        "* test set - the model gets evaluated on this data to test what is had learned , this set is typically 10-15% of total data available. "
      ],
      "metadata": {
        "id": "FRtmPY_WS7Eq"
      }
    },
    {
      "cell_type": "code",
      "source": [
        "# check the length of samples\n",
        "len(X)"
      ],
      "metadata": {
        "colab": {
          "base_uri": "https://localhost:8080/"
        },
        "id": "_rmayf6PSl-7",
        "outputId": "e72f55dd-b05c-4a13-de26-ac9e827fb4d9"
      },
      "execution_count": 50,
      "outputs": [
        {
          "output_type": "execute_result",
          "data": {
            "text/plain": [
              "50"
            ]
          },
          "metadata": {},
          "execution_count": 50
        }
      ]
    },
    {
      "cell_type": "code",
      "source": [
        "# Split the data into train and test sets\n",
        "X_train = X[:40]\n",
        "y_train = y[:40]\n",
        "\n",
        "X_test = X[40:]\n",
        "y_test = y[40:]\n",
        "len(X_train), len(X_test\n",
        "                  )"
      ],
      "metadata": {
        "colab": {
          "base_uri": "https://localhost:8080/"
        },
        "id": "dIhkpFCyTu0W",
        "outputId": "ce54a69d-a7a0-43dc-af47-577f66feb2b6"
      },
      "execution_count": 52,
      "outputs": [
        {
          "output_type": "execute_result",
          "data": {
            "text/plain": [
              "(40, 10)"
            ]
          },
          "metadata": {},
          "execution_count": 52
        }
      ]
    },
    {
      "cell_type": "code",
      "source": [
        "### Visualizing the data\n",
        "plt.figure(figsize= (10,7))\n",
        "# plot training data in blue\n",
        "plt.scatter(X_train, y_train, c =\"b\", label = \" Training data\")\n",
        "# plot the test data in green\n",
        "plt.scatter(X_test, y_test, c = \"g\", label = \" Testing data\")\n",
        "# Show legend\n",
        "plt.legend();"
      ],
      "metadata": {
        "colab": {
          "base_uri": "https://localhost:8080/",
          "height": 428
        },
        "id": "euVADs9nUThG",
        "outputId": "7b923b24-9da0-4cca-bc83-1d6f14765d70"
      },
      "execution_count": 59,
      "outputs": [
        {
          "output_type": "display_data",
          "data": {
            "text/plain": [
              "<Figure size 720x504 with 1 Axes>"
            ],
            "image/png": "[encoded data removed]"
          },
          "metadata": {
            "needs_background": "light"
          }
        }
      ]
    },
    {
      "cell_type": "code",
      "source": [],
      "metadata": {
        "id": "4af6qndKVs9_"
      },
      "execution_count": null,
      "outputs": []
    }
  ]
}