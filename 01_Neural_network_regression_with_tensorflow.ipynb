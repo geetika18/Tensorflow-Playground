{
  "nbformat": 4,
  "nbformat_minor": 0,
  "metadata": {
    "colab": {
      "provenance": [],
      "authorship_tag": "ABX9TyMBVSFF5P9O1QSMFLXtpPQr",
      "include_colab_link": true
    },
    "kernelspec": {
      "name": "python3",
      "display_name": "Python 3"
    },
    "language_info": {
      "name": "python"
    }
  },
  "cells": [
    {
      "cell_type": "markdown",
      "metadata": {
        "id": "view-in-github",
        "colab_type": "text"
      },
      "source": [
        "<a href=\"https://colab.research.google.com/github/geetika18/Tensorflow-Playground/blob/main/01_Neural_network_regression_with_tensorflow.ipynb\" target=\"_parent\"><img src=\"https://colab.research.google.com/assets/colab-badge.svg\" alt=\"Open In Colab\"/></a>"
      ]
    },
    {
      "cell_type": "markdown",
      "source": [
        "# Introduction to Regression with Neural Networks in Tensorflow\n",
        "Predicting a numerical variable based on some other combinations of variables. "
      ],
      "metadata": {
        "id": "KsMn6lLvaUz4"
      }
    },
    {
      "cell_type": "code",
      "execution_count": 86,
      "metadata": {
        "colab": {
          "base_uri": "https://localhost:8080/"
        },
        "id": "jbIleyv-XbRP",
        "outputId": "3e5cae6d-09bd-484b-ed4b-b4abb017f1dd"
      },
      "outputs": [
        {
          "output_type": "stream",
          "name": "stdout",
          "text": [
            "2.8.2\n"
          ]
        }
      ],
      "source": [
        "# Import tensorflow\n",
        "import tensorflow as tf\n",
        "print(tf.__version__)"
      ]
    },
    {
      "cell_type": "markdown",
      "source": [
        "## Creating some data to view and fit"
      ],
      "metadata": {
        "id": "808pD1N_brQz"
      }
    },
    {
      "cell_type": "code",
      "source": [
        "import numpy as np\n",
        "import matplotlib.pyplot as plt\n",
        "\n",
        "# Create Features\n",
        "\n",
        "X = np.array([-7.0, -4.0, -1.0, 2.0, 5.0, 8.0, 11.0, 14.0])\n",
        "\n",
        "#create labels\n",
        "y = np.array([3.0, 6.0, 9.0, 12.0, 15.0, 18.0, 21.0, 24.0])\n",
        "\n",
        "# Visualize it\n",
        "plt.scatter(X,y)"
      ],
      "metadata": {
        "colab": {
          "base_uri": "https://localhost:8080/",
          "height": 286
        },
        "id": "wy7JfcLybq2x",
        "outputId": "c7f045b8-0868-4124-a59d-6112ebc27158"
      },
      "execution_count": 87,
      "outputs": [
        {
          "output_type": "execute_result",
          "data": {
            "text/plain": [
              "<matplotlib.collections.PathCollection at 0x7f41d156cf10>"
            ]
          },
          "metadata": {},
          "execution_count": 87
        },
        {
          "output_type": "display_data",
          "data": {
            "text/plain": [
              "<Figure size 432x288 with 1 Axes>"
            ],
            "image/png": "[encoded data removed]"
          },
          "metadata": {
            "needs_background": "light"
          }
        }
      ]
    },
    {
      "cell_type": "code",
      "source": [
        "y == X +10 "
      ],
      "metadata": {
        "colab": {
          "base_uri": "https://localhost:8080/"
        },
        "id": "EQnOF0gGc7MH",
        "outputId": "eaeb34ad-bf4b-43bb-c00c-57213abc4c39"
      },
      "execution_count": 88,
      "outputs": [
        {
          "output_type": "execute_result",
          "data": {
            "text/plain": [
              "array([ True,  True,  True,  True,  True,  True,  True,  True])"
            ]
          },
          "metadata": {},
          "execution_count": 88
        }
      ]
    },
    {
      "cell_type": "markdown",
      "source": [
        "## Input and output shapes"
      ],
      "metadata": {
        "id": "gw--JY-KdNSV"
      }
    },
    {
      "cell_type": "code",
      "source": [
        "# Create a demo tensor for our housing price prediction problem\n",
        "house_info = tf.constant([\"bedroom\", \"bathroom\", \"garage\"])\n",
        "house_price = tf.constant([939700])\n",
        "house_info, house_price"
      ],
      "metadata": {
        "colab": {
          "base_uri": "https://localhost:8080/"
        },
        "id": "7AyXeWTKdDTG",
        "outputId": "c03cbed4-5356-4e99-d5fc-785ffb56b57a"
      },
      "execution_count": 89,
      "outputs": [
        {
          "output_type": "execute_result",
          "data": {
            "text/plain": [
              "(<tf.Tensor: shape=(3,), dtype=string, numpy=array([b'bedroom', b'bathroom', b'garage'], dtype=object)>,\n",
              " <tf.Tensor: shape=(1,), dtype=int32, numpy=array([939700], dtype=int32)>)"
            ]
          },
          "metadata": {},
          "execution_count": 89
        }
      ]
    },
    {
      "cell_type": "code",
      "source": [
        "input_shape = X.shape\n",
        "output_shape = y.shape\n",
        "input_shape, output_shape"
      ],
      "metadata": {
        "colab": {
          "base_uri": "https://localhost:8080/"
        },
        "id": "NcXjQ3p9dwjF",
        "outputId": "65ded85e-dbc7-4a28-d7e1-57431882546b"
      },
      "execution_count": 90,
      "outputs": [
        {
          "output_type": "execute_result",
          "data": {
            "text/plain": [
              "((8,), (8,))"
            ]
          },
          "metadata": {},
          "execution_count": 90
        }
      ]
    },
    {
      "cell_type": "code",
      "source": [
        "X = tf.constant(X)\n",
        "y = tf.constant(y)\n",
        "X,y"
      ],
      "metadata": {
        "colab": {
          "base_uri": "https://localhost:8080/"
        },
        "id": "92B_TlN_35D8",
        "outputId": "2eb7c4a2-c3c2-4d1e-d994-8e9da322d1de"
      },
      "execution_count": 91,
      "outputs": [
        {
          "output_type": "execute_result",
          "data": {
            "text/plain": [
              "(<tf.Tensor: shape=(8,), dtype=float64, numpy=array([-7., -4., -1.,  2.,  5.,  8., 11., 14.])>,\n",
              " <tf.Tensor: shape=(8,), dtype=float64, numpy=array([ 3.,  6.,  9., 12., 15., 18., 21., 24.])>)"
            ]
          },
          "metadata": {},
          "execution_count": 91
        }
      ]
    },
    {
      "cell_type": "code",
      "source": [
        "input_shape = X[0].shape\n",
        "output_shape = y[0].shape\n",
        "input_shape, output_shape"
      ],
      "metadata": {
        "colab": {
          "base_uri": "https://localhost:8080/"
        },
        "id": "CRcYhb-y4Uc0",
        "outputId": "ec8f67b1-c6fb-47ec-c64b-a0ec54707423"
      },
      "execution_count": 92,
      "outputs": [
        {
          "output_type": "execute_result",
          "data": {
            "text/plain": [
              "(TensorShape([]), TensorShape([]))"
            ]
          },
          "metadata": {},
          "execution_count": 92
        }
      ]
    },
    {
      "cell_type": "code",
      "source": [
        "plt.scatter(X,y)"
      ],
      "metadata": {
        "colab": {
          "base_uri": "https://localhost:8080/",
          "height": 286
        },
        "id": "R9qfX_Pf5Fxv",
        "outputId": "f817e332-dd07-49ea-e1f8-9094469cf317"
      },
      "execution_count": 93,
      "outputs": [
        {
          "output_type": "execute_result",
          "data": {
            "text/plain": [
              "<matplotlib.collections.PathCollection at 0x7f41d15e9610>"
            ]
          },
          "metadata": {},
          "execution_count": 93
        },
        {
          "output_type": "display_data",
          "data": {
            "text/plain": [
              "<Figure size 432x288 with 1 Axes>"
            ],
            "image/png": "[encoded data removed]"
          },
          "metadata": {
            "needs_background": "light"
          }
        }
      ]
    },
    {
      "cell_type": "markdown",
      "source": [
        "## steps in modelling with tensorflow\n",
        "1. **creating a model** - define the input and putput layers as well as hidden layers of a deep learning model.\n",
        "2. **compiling the model** - define a loss function(function which tells how wrong model is) and the optimiser( tells our model how to improve the patterns its learning) and evaluation metrics(what we can use to interpret the performance of our model).\n",
        "3. **fitting a model** - letting the model try to find patterns between X & y(features and labels).\n"
      ],
      "metadata": {
        "id": "85vBcuoi5Oh-"
      }
    },
    {
      "cell_type": "code",
      "source": [
        "# set random seed\n",
        "tf.random.set_seed(42)\n",
        "\n",
        "# 1. creating a model\n",
        "model = tf.keras.Sequential([\n",
        "    tf.keras.layers.Dense(1)\n",
        "])\n",
        "\n",
        "# 2. compile the model\n",
        "model.compile( loss = tf.keras.losses.mae, # mae = mean absolute error\n",
        "              optimizer = tf.keras.optimizers.SGD(), #sgd is short for stochastic gradient descent\n",
        "              metrics = [\"mae\"])\n",
        "\n",
        "# 3. fit model\n",
        "model.fit(tf.expand_dims(X, axis=-1),y, epochs = 5) # epochs - how many times the model will go through all of the training examples"
      ],
      "metadata": {
        "colab": {
          "base_uri": "https://localhost:8080/"
        },
        "id": "6aHWHzIR5KyN",
        "outputId": "bcea8af1-b14a-4d4c-a6b9-45ca8b916eae"
      },
      "execution_count": 94,
      "outputs": [
        {
          "output_type": "stream",
          "name": "stdout",
          "text": [
            "Epoch 1/5\n",
            "1/1 [==============================] - 0s 344ms/step - loss: 11.5048 - mae: 11.5048\n",
            "Epoch 2/5\n",
            "1/1 [==============================] - 0s 8ms/step - loss: 11.3723 - mae: 11.3723\n",
            "Epoch 3/5\n",
            "1/1 [==============================] - 0s 8ms/step - loss: 11.2398 - mae: 11.2398\n",
            "Epoch 4/5\n",
            "1/1 [==============================] - 0s 7ms/step - loss: 11.1073 - mae: 11.1073\n",
            "Epoch 5/5\n",
            "1/1 [==============================] - 0s 7ms/step - loss: 10.9748 - mae: 10.9748\n"
          ]
        },
        {
          "output_type": "execute_result",
          "data": {
            "text/plain": [
              "<keras.callbacks.History at 0x7f41d14eb3d0>"
            ]
          },
          "metadata": {},
          "execution_count": 94
        }
      ]
    },
    {
      "cell_type": "code",
      "source": [
        "# Check out X and y\n",
        "X, y"
      ],
      "metadata": {
        "colab": {
          "base_uri": "https://localhost:8080/"
        },
        "id": "78oW0O3P-PVL",
        "outputId": "90f40e36-2966-466b-bea3-743b595f05ac"
      },
      "execution_count": 95,
      "outputs": [
        {
          "output_type": "execute_result",
          "data": {
            "text/plain": [
              "(<tf.Tensor: shape=(8,), dtype=float64, numpy=array([-7., -4., -1.,  2.,  5.,  8., 11., 14.])>,\n",
              " <tf.Tensor: shape=(8,), dtype=float64, numpy=array([ 3.,  6.,  9., 12., 15., 18., 21., 24.])>)"
            ]
          },
          "metadata": {},
          "execution_count": 95
        }
      ]
    },
    {
      "cell_type": "code",
      "source": [
        "# Making a prediction using the model above\n",
        "model.predict([17.0])"
      ],
      "metadata": {
        "colab": {
          "base_uri": "https://localhost:8080/"
        },
        "id": "ffOLR3rk-UGH",
        "outputId": "4ba30e22-8fff-4957-aa62-c7a27747a4ac"
      },
      "execution_count": 96,
      "outputs": [
        {
          "output_type": "execute_result",
          "data": {
            "text/plain": [
              "array([[12.716021]], dtype=float32)"
            ]
          },
          "metadata": {},
          "execution_count": 96
        }
      ]
    },
    {
      "cell_type": "code",
      "source": [
        "# Improve the model - let's rebuild teh model\n",
        "\n",
        "# 1. creating a model\n",
        "model = tf.keras.Sequential([\n",
        "    tf.keras.layers.Dense(1)\n",
        "])\n",
        "\n",
        "# 2. compile the model\n",
        "model.compile( loss = tf.keras.losses.mae, # mae = mean absolute error\n",
        "              optimizer = tf.keras.optimizers.SGD(), #sgd is short for stochastic gradient descent\n",
        "              metrics = [\"mae\"])\n",
        "\n",
        "# 3. fit model\n",
        "model.fit(tf.expand_dims(X, axis=-1),y, epochs = 100) # epochs - how many times the model will go through all of the training examples"
      ],
      "metadata": {
        "colab": {
          "base_uri": "https://localhost:8080/"
        },
        "id": "DsR2u8V1As5W",
        "outputId": "3acea979-e560-426d-fe46-eb8cd2bcadf4"
      },
      "execution_count": 97,
      "outputs": [
        {
          "output_type": "stream",
          "name": "stdout",
          "text": [
            "Epoch 1/100\n",
            "1/1 [==============================] - 0s 346ms/step - loss: 11.2219 - mae: 11.2219\n",
            "Epoch 2/100\n",
            "1/1 [==============================] - 0s 12ms/step - loss: 11.0894 - mae: 11.0894\n",
            "Epoch 3/100\n",
            "1/1 [==============================] - 0s 10ms/step - loss: 10.9569 - mae: 10.9569\n",
            "Epoch 4/100\n",
            "1/1 [==============================] - 0s 10ms/step - loss: 10.8244 - mae: 10.8244\n",
            "Epoch 5/100\n",
            "1/1 [==============================] - 0s 11ms/step - loss: 10.6919 - mae: 10.6919\n",
            "Epoch 6/100\n",
            "1/1 [==============================] - 0s 11ms/step - loss: 10.5594 - mae: 10.5594\n",
            "Epoch 7/100\n",
            "1/1 [==============================] - 0s 10ms/step - loss: 10.4269 - mae: 10.4269\n",
            "Epoch 8/100\n",
            "1/1 [==============================] - 0s 12ms/step - loss: 10.2944 - mae: 10.2944\n",
            "Epoch 9/100\n",
            "1/1 [==============================] - 0s 10ms/step - loss: 10.1619 - mae: 10.1619\n",
            "Epoch 10/100\n",
            "1/1 [==============================] - 0s 11ms/step - loss: 10.0294 - mae: 10.0294\n",
            "Epoch 11/100\n",
            "1/1 [==============================] - 0s 8ms/step - loss: 9.8969 - mae: 9.8969\n",
            "Epoch 12/100\n",
            "1/1 [==============================] - 0s 11ms/step - loss: 9.7644 - mae: 9.7644\n",
            "Epoch 13/100\n",
            "1/1 [==============================] - 0s 12ms/step - loss: 9.6319 - mae: 9.6319\n",
            "Epoch 14/100\n",
            "1/1 [==============================] - 0s 9ms/step - loss: 9.4994 - mae: 9.4994\n",
            "Epoch 15/100\n",
            "1/1 [==============================] - 0s 8ms/step - loss: 9.3669 - mae: 9.3669\n",
            "Epoch 16/100\n",
            "1/1 [==============================] - 0s 7ms/step - loss: 9.2344 - mae: 9.2344\n",
            "Epoch 17/100\n",
            "1/1 [==============================] - 0s 7ms/step - loss: 9.1019 - mae: 9.1019\n",
            "Epoch 18/100\n",
            "1/1 [==============================] - 0s 8ms/step - loss: 8.9694 - mae: 8.9694\n",
            "Epoch 19/100\n",
            "1/1 [==============================] - 0s 8ms/step - loss: 8.8369 - mae: 8.8369\n",
            "Epoch 20/100\n",
            "1/1 [==============================] - 0s 7ms/step - loss: 8.7044 - mae: 8.7044\n",
            "Epoch 21/100\n",
            "1/1 [==============================] - 0s 8ms/step - loss: 8.5719 - mae: 8.5719\n",
            "Epoch 22/100\n",
            "1/1 [==============================] - 0s 7ms/step - loss: 8.4394 - mae: 8.4394\n",
            "Epoch 23/100\n",
            "1/1 [==============================] - 0s 9ms/step - loss: 8.3069 - mae: 8.3069\n",
            "Epoch 24/100\n",
            "1/1 [==============================] - 0s 9ms/step - loss: 8.1744 - mae: 8.1744\n",
            "Epoch 25/100\n",
            "1/1 [==============================] - 0s 8ms/step - loss: 8.0419 - mae: 8.0419\n",
            "Epoch 26/100\n",
            "1/1 [==============================] - 0s 7ms/step - loss: 7.9094 - mae: 7.9094\n",
            "Epoch 27/100\n",
            "1/1 [==============================] - 0s 7ms/step - loss: 7.7769 - mae: 7.7769\n",
            "Epoch 28/100\n",
            "1/1 [==============================] - 0s 7ms/step - loss: 7.6444 - mae: 7.6444\n",
            "Epoch 29/100\n",
            "1/1 [==============================] - 0s 8ms/step - loss: 7.5119 - mae: 7.5119\n",
            "Epoch 30/100\n",
            "1/1 [==============================] - 0s 8ms/step - loss: 7.3794 - mae: 7.3794\n",
            "Epoch 31/100\n",
            "1/1 [==============================] - 0s 8ms/step - loss: 7.2750 - mae: 7.2750\n",
            "Epoch 32/100\n",
            "1/1 [==============================] - 0s 13ms/step - loss: 7.2694 - mae: 7.2694\n",
            "Epoch 33/100\n",
            "1/1 [==============================] - 0s 8ms/step - loss: 7.2638 - mae: 7.2638\n",
            "Epoch 34/100\n",
            "1/1 [==============================] - 0s 8ms/step - loss: 7.2581 - mae: 7.2581\n",
            "Epoch 35/100\n",
            "1/1 [==============================] - 0s 13ms/step - loss: 7.2525 - mae: 7.2525\n",
            "Epoch 36/100\n",
            "1/1 [==============================] - 0s 10ms/step - loss: 7.2469 - mae: 7.2469\n",
            "Epoch 37/100\n",
            "1/1 [==============================] - 0s 7ms/step - loss: 7.2412 - mae: 7.2412\n",
            "Epoch 38/100\n",
            "1/1 [==============================] - 0s 8ms/step - loss: 7.2356 - mae: 7.2356\n",
            "Epoch 39/100\n",
            "1/1 [==============================] - 0s 7ms/step - loss: 7.2300 - mae: 7.2300\n",
            "Epoch 40/100\n",
            "1/1 [==============================] - 0s 7ms/step - loss: 7.2244 - mae: 7.2244\n",
            "Epoch 41/100\n",
            "1/1 [==============================] - 0s 7ms/step - loss: 7.2188 - mae: 7.2188\n",
            "Epoch 42/100\n",
            "1/1 [==============================] - 0s 7ms/step - loss: 7.2131 - mae: 7.2131\n",
            "Epoch 43/100\n",
            "1/1 [==============================] - 0s 7ms/step - loss: 7.2075 - mae: 7.2075\n",
            "Epoch 44/100\n",
            "1/1 [==============================] - 0s 7ms/step - loss: 7.2019 - mae: 7.2019\n",
            "Epoch 45/100\n",
            "1/1 [==============================] - 0s 7ms/step - loss: 7.1962 - mae: 7.1962\n",
            "Epoch 46/100\n",
            "1/1 [==============================] - 0s 7ms/step - loss: 7.1906 - mae: 7.1906\n",
            "Epoch 47/100\n",
            "1/1 [==============================] - 0s 7ms/step - loss: 7.1850 - mae: 7.1850\n",
            "Epoch 48/100\n",
            "1/1 [==============================] - 0s 7ms/step - loss: 7.1794 - mae: 7.1794\n",
            "Epoch 49/100\n",
            "1/1 [==============================] - 0s 8ms/step - loss: 7.1737 - mae: 7.1737\n",
            "Epoch 50/100\n",
            "1/1 [==============================] - 0s 8ms/step - loss: 7.1681 - mae: 7.1681\n",
            "Epoch 51/100\n",
            "1/1 [==============================] - 0s 8ms/step - loss: 7.1625 - mae: 7.1625\n",
            "Epoch 52/100\n",
            "1/1 [==============================] - 0s 8ms/step - loss: 7.1569 - mae: 7.1569\n",
            "Epoch 53/100\n",
            "1/1 [==============================] - 0s 8ms/step - loss: 7.1512 - mae: 7.1512\n",
            "Epoch 54/100\n",
            "1/1 [==============================] - 0s 8ms/step - loss: 7.1456 - mae: 7.1456\n",
            "Epoch 55/100\n",
            "1/1 [==============================] - 0s 9ms/step - loss: 7.1400 - mae: 7.1400\n",
            "Epoch 56/100\n",
            "1/1 [==============================] - 0s 9ms/step - loss: 7.1344 - mae: 7.1344\n",
            "Epoch 57/100\n",
            "1/1 [==============================] - 0s 8ms/step - loss: 7.1287 - mae: 7.1287\n",
            "Epoch 58/100\n",
            "1/1 [==============================] - 0s 8ms/step - loss: 7.1231 - mae: 7.1231\n",
            "Epoch 59/100\n",
            "1/1 [==============================] - 0s 8ms/step - loss: 7.1175 - mae: 7.1175\n",
            "Epoch 60/100\n",
            "1/1 [==============================] - 0s 10ms/step - loss: 7.1119 - mae: 7.1119\n",
            "Epoch 61/100\n",
            "1/1 [==============================] - 0s 10ms/step - loss: 7.1062 - mae: 7.1062\n",
            "Epoch 62/100\n",
            "1/1 [==============================] - 0s 9ms/step - loss: 7.1006 - mae: 7.1006\n",
            "Epoch 63/100\n",
            "1/1 [==============================] - 0s 9ms/step - loss: 7.0950 - mae: 7.0950\n",
            "Epoch 64/100\n",
            "1/1 [==============================] - 0s 9ms/step - loss: 7.0894 - mae: 7.0894\n",
            "Epoch 65/100\n",
            "1/1 [==============================] - 0s 10ms/step - loss: 7.0838 - mae: 7.0838\n",
            "Epoch 66/100\n",
            "1/1 [==============================] - 0s 11ms/step - loss: 7.0781 - mae: 7.0781\n",
            "Epoch 67/100\n",
            "1/1 [==============================] - 0s 11ms/step - loss: 7.0725 - mae: 7.0725\n",
            "Epoch 68/100\n",
            "1/1 [==============================] - 0s 10ms/step - loss: 7.0669 - mae: 7.0669\n",
            "Epoch 69/100\n",
            "1/1 [==============================] - 0s 10ms/step - loss: 7.0613 - mae: 7.0613\n",
            "Epoch 70/100\n",
            "1/1 [==============================] - 0s 9ms/step - loss: 7.0556 - mae: 7.0556\n",
            "Epoch 71/100\n",
            "1/1 [==============================] - 0s 12ms/step - loss: 7.0500 - mae: 7.0500\n",
            "Epoch 72/100\n",
            "1/1 [==============================] - 0s 11ms/step - loss: 7.0444 - mae: 7.0444\n",
            "Epoch 73/100\n",
            "1/1 [==============================] - 0s 9ms/step - loss: 7.0388 - mae: 7.0388\n",
            "Epoch 74/100\n",
            "1/1 [==============================] - 0s 9ms/step - loss: 7.0331 - mae: 7.0331\n",
            "Epoch 75/100\n",
            "1/1 [==============================] - 0s 9ms/step - loss: 7.0275 - mae: 7.0275\n",
            "Epoch 76/100\n",
            "1/1 [==============================] - 0s 9ms/step - loss: 7.0219 - mae: 7.0219\n",
            "Epoch 77/100\n",
            "1/1 [==============================] - 0s 9ms/step - loss: 7.0163 - mae: 7.0163\n",
            "Epoch 78/100\n",
            "1/1 [==============================] - 0s 9ms/step - loss: 7.0106 - mae: 7.0106\n",
            "Epoch 79/100\n",
            "1/1 [==============================] - 0s 7ms/step - loss: 7.0050 - mae: 7.0050\n",
            "Epoch 80/100\n",
            "1/1 [==============================] - 0s 8ms/step - loss: 6.9994 - mae: 6.9994\n",
            "Epoch 81/100\n",
            "1/1 [==============================] - 0s 8ms/step - loss: 6.9938 - mae: 6.9938\n",
            "Epoch 82/100\n",
            "1/1 [==============================] - 0s 8ms/step - loss: 6.9881 - mae: 6.9881\n",
            "Epoch 83/100\n",
            "1/1 [==============================] - 0s 9ms/step - loss: 6.9825 - mae: 6.9825\n",
            "Epoch 84/100\n",
            "1/1 [==============================] - 0s 9ms/step - loss: 6.9769 - mae: 6.9769\n",
            "Epoch 85/100\n",
            "1/1 [==============================] - 0s 8ms/step - loss: 6.9713 - mae: 6.9713\n",
            "Epoch 86/100\n",
            "1/1 [==============================] - 0s 18ms/step - loss: 6.9656 - mae: 6.9656\n",
            "Epoch 87/100\n",
            "1/1 [==============================] - 0s 10ms/step - loss: 6.9600 - mae: 6.9600\n",
            "Epoch 88/100\n",
            "1/1 [==============================] - 0s 10ms/step - loss: 6.9544 - mae: 6.9544\n",
            "Epoch 89/100\n",
            "1/1 [==============================] - 0s 9ms/step - loss: 6.9488 - mae: 6.9488\n",
            "Epoch 90/100\n",
            "1/1 [==============================] - 0s 10ms/step - loss: 6.9431 - mae: 6.9431\n",
            "Epoch 91/100\n",
            "1/1 [==============================] - 0s 13ms/step - loss: 6.9375 - mae: 6.9375\n",
            "Epoch 92/100\n",
            "1/1 [==============================] - 0s 7ms/step - loss: 6.9319 - mae: 6.9319\n",
            "Epoch 93/100\n",
            "1/1 [==============================] - 0s 9ms/step - loss: 6.9263 - mae: 6.9263\n",
            "Epoch 94/100\n",
            "1/1 [==============================] - 0s 16ms/step - loss: 6.9206 - mae: 6.9206\n",
            "Epoch 95/100\n",
            "1/1 [==============================] - 0s 11ms/step - loss: 6.9150 - mae: 6.9150\n",
            "Epoch 96/100\n",
            "1/1 [==============================] - 0s 10ms/step - loss: 6.9094 - mae: 6.9094\n",
            "Epoch 97/100\n",
            "1/1 [==============================] - 0s 11ms/step - loss: 6.9038 - mae: 6.9038\n",
            "Epoch 98/100\n",
            "1/1 [==============================] - 0s 7ms/step - loss: 6.8981 - mae: 6.8981\n",
            "Epoch 99/100\n",
            "1/1 [==============================] - 0s 7ms/step - loss: 6.8925 - mae: 6.8925\n",
            "Epoch 100/100\n",
            "1/1 [==============================] - 0s 7ms/step - loss: 6.8869 - mae: 6.8869\n"
          ]
        },
        {
          "output_type": "execute_result",
          "data": {
            "text/plain": [
              "<keras.callbacks.History at 0x7f41d1464ed0>"
            ]
          },
          "metadata": {},
          "execution_count": 97
        }
      ]
    },
    {
      "cell_type": "code",
      "source": [
        "model.predict([17.0]) "
      ],
      "metadata": {
        "colab": {
          "base_uri": "https://localhost:8080/"
        },
        "id": "mPkAuZyFEFJg",
        "outputId": "5abbbe79-2d96-485b-d8cb-f89b07ea5aa5"
      },
      "execution_count": 98,
      "outputs": [
        {
          "output_type": "execute_result",
          "data": {
            "text/plain": [
              "array([[29.739855]], dtype=float32)"
            ]
          },
          "metadata": {},
          "execution_count": 98
        }
      ]
    },
    {
      "cell_type": "code",
      "source": [
        "# improve model again \n",
        "model = tf.keras.Sequential([\n",
        "      tf.keras.layers.Dense(100, activation = \"relu\"),\n",
        "      tf.keras.layers.Dense(100, activation = \"relu\"),\n",
        "      tf.keras.layers.Dense(100, activation = \"relu\"),\n",
        "      tf.keras.layers.Dense(1)\n",
        "  ])\n",
        "\n",
        "model.compile(loss = tf.keras.losses.mae,\n",
        "                optimizer = tf.keras.optimizers.Adam(learning_rate = 0.001),\n",
        "                metrics = [\"mae\"])\n",
        "  \n",
        "model.fit(tf.expand_dims(X, axis=-1),y, epochs = 200)"
      ],
      "metadata": {
        "colab": {
          "base_uri": "https://localhost:8080/"
        },
        "id": "FZg-UZx-EySo",
        "outputId": "64d628bb-7aa3-4228-d2c1-54c25a8716e0"
      },
      "execution_count": 99,
      "outputs": [
        {
          "output_type": "stream",
          "name": "stdout",
          "text": [
            "Epoch 1/200\n",
            "1/1 [==============================] - 1s 747ms/step - loss: 12.9513 - mae: 12.9513\n",
            "Epoch 2/200\n",
            "1/1 [==============================] - 0s 13ms/step - loss: 12.5285 - mae: 12.5285\n",
            "Epoch 3/200\n",
            "1/1 [==============================] - 0s 20ms/step - loss: 12.1098 - mae: 12.1098\n",
            "Epoch 4/200\n",
            "1/1 [==============================] - 0s 24ms/step - loss: 11.6979 - mae: 11.6979\n",
            "Epoch 5/200\n",
            "1/1 [==============================] - 0s 10ms/step - loss: 11.2893 - mae: 11.2893\n",
            "Epoch 6/200\n",
            "1/1 [==============================] - 0s 19ms/step - loss: 10.8902 - mae: 10.8902\n",
            "Epoch 7/200\n",
            "1/1 [==============================] - 0s 9ms/step - loss: 10.5068 - mae: 10.5068\n",
            "Epoch 8/200\n",
            "1/1 [==============================] - 0s 8ms/step - loss: 10.1209 - mae: 10.1209\n",
            "Epoch 9/200\n",
            "1/1 [==============================] - 0s 9ms/step - loss: 9.7311 - mae: 9.7311\n",
            "Epoch 10/200\n",
            "1/1 [==============================] - 0s 11ms/step - loss: 9.3167 - mae: 9.3167\n",
            "Epoch 11/200\n",
            "1/1 [==============================] - 0s 10ms/step - loss: 8.8797 - mae: 8.8797\n",
            "Epoch 12/200\n",
            "1/1 [==============================] - 0s 9ms/step - loss: 8.4478 - mae: 8.4478\n",
            "Epoch 13/200\n",
            "1/1 [==============================] - 0s 9ms/step - loss: 8.0554 - mae: 8.0554\n",
            "Epoch 14/200\n",
            "1/1 [==============================] - 0s 10ms/step - loss: 7.6417 - mae: 7.6417\n",
            "Epoch 15/200\n",
            "1/1 [==============================] - 0s 9ms/step - loss: 7.2037 - mae: 7.2037\n",
            "Epoch 16/200\n",
            "1/1 [==============================] - 0s 13ms/step - loss: 6.7338 - mae: 6.7338\n",
            "Epoch 17/200\n",
            "1/1 [==============================] - 0s 9ms/step - loss: 6.2391 - mae: 6.2391\n",
            "Epoch 18/200\n",
            "1/1 [==============================] - 0s 10ms/step - loss: 5.7124 - mae: 5.7124\n",
            "Epoch 19/200\n",
            "1/1 [==============================] - 0s 10ms/step - loss: 5.1505 - mae: 5.1505\n",
            "Epoch 20/200\n",
            "1/1 [==============================] - 0s 12ms/step - loss: 4.5515 - mae: 4.5515\n",
            "Epoch 21/200\n",
            "1/1 [==============================] - 0s 13ms/step - loss: 4.1226 - mae: 4.1226\n",
            "Epoch 22/200\n",
            "1/1 [==============================] - 0s 10ms/step - loss: 3.9248 - mae: 3.9248\n",
            "Epoch 23/200\n",
            "1/1 [==============================] - 0s 12ms/step - loss: 4.0670 - mae: 4.0670\n",
            "Epoch 24/200\n",
            "1/1 [==============================] - 0s 11ms/step - loss: 4.1968 - mae: 4.1968\n",
            "Epoch 25/200\n",
            "1/1 [==============================] - 0s 14ms/step - loss: 4.3344 - mae: 4.3344\n",
            "Epoch 26/200\n",
            "1/1 [==============================] - 0s 14ms/step - loss: 4.5500 - mae: 4.5500\n",
            "Epoch 27/200\n",
            "1/1 [==============================] - 0s 13ms/step - loss: 4.6800 - mae: 4.6800\n",
            "Epoch 28/200\n",
            "1/1 [==============================] - 0s 18ms/step - loss: 4.7330 - mae: 4.7330\n",
            "Epoch 29/200\n",
            "1/1 [==============================] - 0s 13ms/step - loss: 4.7179 - mae: 4.7179\n",
            "Epoch 30/200\n",
            "1/1 [==============================] - 0s 12ms/step - loss: 4.6452 - mae: 4.6452\n",
            "Epoch 31/200\n",
            "1/1 [==============================] - 0s 12ms/step - loss: 4.5235 - mae: 4.5235\n",
            "Epoch 32/200\n",
            "1/1 [==============================] - 0s 12ms/step - loss: 4.3622 - mae: 4.3622\n",
            "Epoch 33/200\n",
            "1/1 [==============================] - 0s 11ms/step - loss: 4.2044 - mae: 4.2044\n",
            "Epoch 34/200\n",
            "1/1 [==============================] - 0s 11ms/step - loss: 4.1277 - mae: 4.1277\n",
            "Epoch 35/200\n",
            "1/1 [==============================] - 0s 10ms/step - loss: 4.0525 - mae: 4.0525\n",
            "Epoch 36/200\n",
            "1/1 [==============================] - 0s 10ms/step - loss: 3.9784 - mae: 3.9784\n",
            "Epoch 37/200\n",
            "1/1 [==============================] - 0s 11ms/step - loss: 3.9052 - mae: 3.9052\n",
            "Epoch 38/200\n",
            "1/1 [==============================] - 0s 11ms/step - loss: 3.8333 - mae: 3.8333\n",
            "Epoch 39/200\n",
            "1/1 [==============================] - 0s 11ms/step - loss: 3.8401 - mae: 3.8401\n",
            "Epoch 40/200\n",
            "1/1 [==============================] - 0s 11ms/step - loss: 3.8941 - mae: 3.8941\n",
            "Epoch 41/200\n",
            "1/1 [==============================] - 0s 15ms/step - loss: 3.9317 - mae: 3.9317\n",
            "Epoch 42/200\n",
            "1/1 [==============================] - 0s 12ms/step - loss: 3.9546 - mae: 3.9546\n",
            "Epoch 43/200\n",
            "1/1 [==============================] - 0s 12ms/step - loss: 3.9649 - mae: 3.9649\n",
            "Epoch 44/200\n",
            "1/1 [==============================] - 0s 14ms/step - loss: 3.9633 - mae: 3.9633\n",
            "Epoch 45/200\n",
            "1/1 [==============================] - 0s 13ms/step - loss: 3.9511 - mae: 3.9511\n",
            "Epoch 46/200\n",
            "1/1 [==============================] - 0s 15ms/step - loss: 3.9296 - mae: 3.9296\n",
            "Epoch 47/200\n",
            "1/1 [==============================] - 0s 18ms/step - loss: 3.8990 - mae: 3.8990\n",
            "Epoch 48/200\n",
            "1/1 [==============================] - 0s 10ms/step - loss: 3.8589 - mae: 3.8589\n",
            "Epoch 49/200\n",
            "1/1 [==============================] - 0s 11ms/step - loss: 3.8110 - mae: 3.8110\n",
            "Epoch 50/200\n",
            "1/1 [==============================] - 0s 12ms/step - loss: 3.7558 - mae: 3.7558\n",
            "Epoch 51/200\n",
            "1/1 [==============================] - 0s 13ms/step - loss: 3.6930 - mae: 3.6930\n",
            "Epoch 52/200\n",
            "1/1 [==============================] - 0s 12ms/step - loss: 3.7065 - mae: 3.7065\n",
            "Epoch 53/200\n",
            "1/1 [==============================] - 0s 12ms/step - loss: 3.7302 - mae: 3.7302\n",
            "Epoch 54/200\n",
            "1/1 [==============================] - 0s 11ms/step - loss: 3.7500 - mae: 3.7500\n",
            "Epoch 55/200\n",
            "1/1 [==============================] - 0s 11ms/step - loss: 3.7534 - mae: 3.7534\n",
            "Epoch 56/200\n",
            "1/1 [==============================] - 0s 11ms/step - loss: 3.7540 - mae: 3.7540\n",
            "Epoch 57/200\n",
            "1/1 [==============================] - 0s 11ms/step - loss: 3.7465 - mae: 3.7465\n",
            "Epoch 58/200\n",
            "1/1 [==============================] - 0s 12ms/step - loss: 3.7322 - mae: 3.7322\n",
            "Epoch 59/200\n",
            "1/1 [==============================] - 0s 12ms/step - loss: 3.7112 - mae: 3.7112\n",
            "Epoch 60/200\n",
            "1/1 [==============================] - 0s 12ms/step - loss: 3.6847 - mae: 3.6847\n",
            "Epoch 61/200\n",
            "1/1 [==============================] - 0s 11ms/step - loss: 3.6529 - mae: 3.6529\n",
            "Epoch 62/200\n",
            "1/1 [==============================] - 0s 11ms/step - loss: 3.6281 - mae: 3.6281\n",
            "Epoch 63/200\n",
            "1/1 [==============================] - 0s 12ms/step - loss: 3.5796 - mae: 3.5796\n",
            "Epoch 64/200\n",
            "1/1 [==============================] - 0s 14ms/step - loss: 3.6103 - mae: 3.6103\n",
            "Epoch 65/200\n",
            "1/1 [==============================] - 0s 11ms/step - loss: 3.6314 - mae: 3.6314\n",
            "Epoch 66/200\n",
            "1/1 [==============================] - 0s 10ms/step - loss: 3.6358 - mae: 3.6358\n",
            "Epoch 67/200\n",
            "1/1 [==============================] - 0s 10ms/step - loss: 3.6249 - mae: 3.6249\n",
            "Epoch 68/200\n",
            "1/1 [==============================] - 0s 10ms/step - loss: 3.5999 - mae: 3.5999\n",
            "Epoch 69/200\n",
            "1/1 [==============================] - 0s 10ms/step - loss: 3.5609 - mae: 3.5609\n",
            "Epoch 70/200\n",
            "1/1 [==============================] - 0s 11ms/step - loss: 3.5099 - mae: 3.5099\n",
            "Epoch 71/200\n",
            "1/1 [==============================] - 0s 11ms/step - loss: 3.5159 - mae: 3.5159\n",
            "Epoch 72/200\n",
            "1/1 [==============================] - 0s 11ms/step - loss: 3.5175 - mae: 3.5175\n",
            "Epoch 73/200\n",
            "1/1 [==============================] - 0s 12ms/step - loss: 3.5069 - mae: 3.5069\n",
            "Epoch 74/200\n",
            "1/1 [==============================] - 0s 11ms/step - loss: 3.4920 - mae: 3.4920\n",
            "Epoch 75/200\n",
            "1/1 [==============================] - 0s 11ms/step - loss: 3.4704 - mae: 3.4704\n",
            "Epoch 76/200\n",
            "1/1 [==============================] - 0s 12ms/step - loss: 3.4534 - mae: 3.4534\n",
            "Epoch 77/200\n",
            "1/1 [==============================] - 0s 12ms/step - loss: 3.4483 - mae: 3.4483\n",
            "Epoch 78/200\n",
            "1/1 [==============================] - 0s 11ms/step - loss: 3.4268 - mae: 3.4268\n",
            "Epoch 79/200\n",
            "1/1 [==============================] - 0s 17ms/step - loss: 3.4194 - mae: 3.4194\n",
            "Epoch 80/200\n",
            "1/1 [==============================] - 0s 11ms/step - loss: 3.4120 - mae: 3.4120\n",
            "Epoch 81/200\n",
            "1/1 [==============================] - 0s 10ms/step - loss: 3.3956 - mae: 3.3956\n",
            "Epoch 82/200\n",
            "1/1 [==============================] - 0s 10ms/step - loss: 3.3757 - mae: 3.3757\n",
            "Epoch 83/200\n",
            "1/1 [==============================] - 0s 10ms/step - loss: 3.3477 - mae: 3.3477\n",
            "Epoch 84/200\n",
            "1/1 [==============================] - 0s 11ms/step - loss: 3.3362 - mae: 3.3362\n",
            "Epoch 85/200\n",
            "1/1 [==============================] - 0s 11ms/step - loss: 3.3275 - mae: 3.3275\n",
            "Epoch 86/200\n",
            "1/1 [==============================] - 0s 10ms/step - loss: 3.3051 - mae: 3.3051\n",
            "Epoch 87/200\n",
            "1/1 [==============================] - 0s 12ms/step - loss: 3.2856 - mae: 3.2856\n",
            "Epoch 88/200\n",
            "1/1 [==============================] - 0s 14ms/step - loss: 3.2694 - mae: 3.2694\n",
            "Epoch 89/200\n",
            "1/1 [==============================] - 0s 14ms/step - loss: 3.2465 - mae: 3.2465\n",
            "Epoch 90/200\n",
            "1/1 [==============================] - 0s 11ms/step - loss: 3.2267 - mae: 3.2267\n",
            "Epoch 91/200\n",
            "1/1 [==============================] - 0s 11ms/step - loss: 3.2103 - mae: 3.2103\n",
            "Epoch 92/200\n",
            "1/1 [==============================] - 0s 10ms/step - loss: 3.1834 - mae: 3.1834\n",
            "Epoch 93/200\n",
            "1/1 [==============================] - 0s 11ms/step - loss: 3.1620 - mae: 3.1620\n",
            "Epoch 94/200\n",
            "1/1 [==============================] - 0s 11ms/step - loss: 3.1473 - mae: 3.1473\n",
            "Epoch 95/200\n",
            "1/1 [==============================] - 0s 11ms/step - loss: 3.1263 - mae: 3.1263\n",
            "Epoch 96/200\n",
            "1/1 [==============================] - 0s 11ms/step - loss: 3.1041 - mae: 3.1041\n",
            "Epoch 97/200\n",
            "1/1 [==============================] - 0s 12ms/step - loss: 3.0863 - mae: 3.0863\n",
            "Epoch 98/200\n",
            "1/1 [==============================] - 0s 11ms/step - loss: 3.0641 - mae: 3.0641\n",
            "Epoch 99/200\n",
            "1/1 [==============================] - 0s 10ms/step - loss: 3.0412 - mae: 3.0412\n",
            "Epoch 100/200\n",
            "1/1 [==============================] - 0s 8ms/step - loss: 3.0252 - mae: 3.0252\n",
            "Epoch 101/200\n",
            "1/1 [==============================] - 0s 9ms/step - loss: 2.9976 - mae: 2.9976\n",
            "Epoch 102/200\n",
            "1/1 [==============================] - 0s 8ms/step - loss: 2.9595 - mae: 2.9595\n",
            "Epoch 103/200\n",
            "1/1 [==============================] - 0s 10ms/step - loss: 2.9630 - mae: 2.9630\n",
            "Epoch 104/200\n",
            "1/1 [==============================] - 0s 9ms/step - loss: 2.9354 - mae: 2.9354\n",
            "Epoch 105/200\n",
            "1/1 [==============================] - 0s 9ms/step - loss: 2.8779 - mae: 2.8779\n",
            "Epoch 106/200\n",
            "1/1 [==============================] - 0s 10ms/step - loss: 2.8590 - mae: 2.8590\n",
            "Epoch 107/200\n",
            "1/1 [==============================] - 0s 9ms/step - loss: 2.8406 - mae: 2.8406\n",
            "Epoch 108/200\n",
            "1/1 [==============================] - 0s 9ms/step - loss: 2.8252 - mae: 2.8252\n",
            "Epoch 109/200\n",
            "1/1 [==============================] - 0s 9ms/step - loss: 2.7753 - mae: 2.7753\n",
            "Epoch 110/200\n",
            "1/1 [==============================] - 0s 8ms/step - loss: 2.7280 - mae: 2.7280\n",
            "Epoch 111/200\n",
            "1/1 [==============================] - 0s 8ms/step - loss: 2.6679 - mae: 2.6679\n",
            "Epoch 112/200\n",
            "1/1 [==============================] - 0s 8ms/step - loss: 2.6428 - mae: 2.6428\n",
            "Epoch 113/200\n",
            "1/1 [==============================] - 0s 8ms/step - loss: 2.6052 - mae: 2.6052\n",
            "Epoch 114/200\n",
            "1/1 [==============================] - 0s 8ms/step - loss: 2.5228 - mae: 2.5228\n",
            "Epoch 115/200\n",
            "1/1 [==============================] - 0s 9ms/step - loss: 2.4479 - mae: 2.4479\n",
            "Epoch 116/200\n",
            "1/1 [==============================] - 0s 11ms/step - loss: 2.4003 - mae: 2.4003\n",
            "Epoch 117/200\n",
            "1/1 [==============================] - 0s 10ms/step - loss: 2.3272 - mae: 2.3272\n",
            "Epoch 118/200\n",
            "1/1 [==============================] - 0s 8ms/step - loss: 2.2284 - mae: 2.2284\n",
            "Epoch 119/200\n",
            "1/1 [==============================] - 0s 9ms/step - loss: 2.1000 - mae: 2.1000\n",
            "Epoch 120/200\n",
            "1/1 [==============================] - 0s 7ms/step - loss: 2.0172 - mae: 2.0172\n",
            "Epoch 121/200\n",
            "1/1 [==============================] - 0s 7ms/step - loss: 1.9335 - mae: 1.9335\n",
            "Epoch 122/200\n",
            "1/1 [==============================] - 0s 7ms/step - loss: 1.8949 - mae: 1.8949\n",
            "Epoch 123/200\n",
            "1/1 [==============================] - 0s 7ms/step - loss: 1.7888 - mae: 1.7888\n",
            "Epoch 124/200\n",
            "1/1 [==============================] - 0s 13ms/step - loss: 1.7254 - mae: 1.7254\n",
            "Epoch 125/200\n",
            "1/1 [==============================] - 0s 7ms/step - loss: 1.6648 - mae: 1.6648\n",
            "Epoch 126/200\n",
            "1/1 [==============================] - 0s 7ms/step - loss: 1.5770 - mae: 1.5770\n",
            "Epoch 127/200\n",
            "1/1 [==============================] - 0s 7ms/step - loss: 1.4650 - mae: 1.4650\n",
            "Epoch 128/200\n",
            "1/1 [==============================] - 0s 7ms/step - loss: 1.3236 - mae: 1.3236\n",
            "Epoch 129/200\n",
            "1/1 [==============================] - 0s 7ms/step - loss: 1.1765 - mae: 1.1765\n",
            "Epoch 130/200\n",
            "1/1 [==============================] - 0s 7ms/step - loss: 1.1146 - mae: 1.1146\n",
            "Epoch 131/200\n",
            "1/1 [==============================] - 0s 7ms/step - loss: 0.9913 - mae: 0.9913\n",
            "Epoch 132/200\n",
            "1/1 [==============================] - 0s 8ms/step - loss: 0.8157 - mae: 0.8157\n",
            "Epoch 133/200\n",
            "1/1 [==============================] - 0s 7ms/step - loss: 0.7402 - mae: 0.7402\n",
            "Epoch 134/200\n",
            "1/1 [==============================] - 0s 8ms/step - loss: 0.6239 - mae: 0.6239\n",
            "Epoch 135/200\n",
            "1/1 [==============================] - 0s 7ms/step - loss: 0.5655 - mae: 0.5655\n",
            "Epoch 136/200\n",
            "1/1 [==============================] - 0s 7ms/step - loss: 0.5605 - mae: 0.5605\n",
            "Epoch 137/200\n",
            "1/1 [==============================] - 0s 7ms/step - loss: 0.5044 - mae: 0.5044\n",
            "Epoch 138/200\n",
            "1/1 [==============================] - 0s 7ms/step - loss: 0.5781 - mae: 0.5781\n",
            "Epoch 139/200\n",
            "1/1 [==============================] - 0s 8ms/step - loss: 0.4654 - mae: 0.4654\n",
            "Epoch 140/200\n",
            "1/1 [==============================] - 0s 7ms/step - loss: 0.5846 - mae: 0.5846\n",
            "Epoch 141/200\n",
            "1/1 [==============================] - 0s 8ms/step - loss: 0.4719 - mae: 0.4719\n",
            "Epoch 142/200\n",
            "1/1 [==============================] - 0s 9ms/step - loss: 0.5513 - mae: 0.5513\n",
            "Epoch 143/200\n",
            "1/1 [==============================] - 0s 9ms/step - loss: 0.5514 - mae: 0.5514\n",
            "Epoch 144/200\n",
            "1/1 [==============================] - 0s 11ms/step - loss: 0.3830 - mae: 0.3830\n",
            "Epoch 145/200\n",
            "1/1 [==============================] - 0s 11ms/step - loss: 0.5254 - mae: 0.5254\n",
            "Epoch 146/200\n",
            "1/1 [==============================] - 0s 12ms/step - loss: 0.3030 - mae: 0.3030\n",
            "Epoch 147/200\n",
            "1/1 [==============================] - 0s 11ms/step - loss: 0.6889 - mae: 0.6889\n",
            "Epoch 148/200\n",
            "1/1 [==============================] - 0s 12ms/step - loss: 0.7715 - mae: 0.7715\n",
            "Epoch 149/200\n",
            "1/1 [==============================] - 0s 11ms/step - loss: 0.3879 - mae: 0.3879\n",
            "Epoch 150/200\n",
            "1/1 [==============================] - 0s 262ms/step - loss: 0.6525 - mae: 0.6525\n",
            "Epoch 151/200\n",
            "1/1 [==============================] - 0s 9ms/step - loss: 0.8927 - mae: 0.8927\n",
            "Epoch 152/200\n",
            "1/1 [==============================] - 0s 17ms/step - loss: 0.8343 - mae: 0.8343\n",
            "Epoch 153/200\n",
            "1/1 [==============================] - 0s 14ms/step - loss: 0.4961 - mae: 0.4961\n",
            "Epoch 154/200\n",
            "1/1 [==============================] - 0s 20ms/step - loss: 0.5402 - mae: 0.5402\n",
            "Epoch 155/200\n",
            "1/1 [==============================] - 0s 22ms/step - loss: 0.7313 - mae: 0.7313\n",
            "Epoch 156/200\n",
            "1/1 [==============================] - 0s 16ms/step - loss: 0.6354 - mae: 0.6354\n",
            "Epoch 157/200\n",
            "1/1 [==============================] - 0s 19ms/step - loss: 0.3716 - mae: 0.3716\n",
            "Epoch 158/200\n",
            "1/1 [==============================] - 0s 16ms/step - loss: 0.4620 - mae: 0.4620\n",
            "Epoch 159/200\n",
            "1/1 [==============================] - 0s 18ms/step - loss: 0.6379 - mae: 0.6379\n",
            "Epoch 160/200\n",
            "1/1 [==============================] - 0s 15ms/step - loss: 0.5737 - mae: 0.5737\n",
            "Epoch 161/200\n",
            "1/1 [==============================] - 0s 18ms/step - loss: 0.3692 - mae: 0.3692\n",
            "Epoch 162/200\n",
            "1/1 [==============================] - 0s 13ms/step - loss: 0.4031 - mae: 0.4031\n",
            "Epoch 163/200\n",
            "1/1 [==============================] - 0s 11ms/step - loss: 0.4737 - mae: 0.4737\n",
            "Epoch 164/200\n",
            "1/1 [==============================] - 0s 9ms/step - loss: 0.3484 - mae: 0.3484\n",
            "Epoch 165/200\n",
            "1/1 [==============================] - 0s 8ms/step - loss: 0.2872 - mae: 0.2872\n",
            "Epoch 166/200\n",
            "1/1 [==============================] - 0s 26ms/step - loss: 0.4053 - mae: 0.4053\n",
            "Epoch 167/200\n",
            "1/1 [==============================] - 0s 14ms/step - loss: 0.3259 - mae: 0.3259\n",
            "Epoch 168/200\n",
            "1/1 [==============================] - 0s 13ms/step - loss: 0.1816 - mae: 0.1816\n",
            "Epoch 169/200\n",
            "1/1 [==============================] - 0s 10ms/step - loss: 0.2495 - mae: 0.2495\n",
            "Epoch 170/200\n",
            "1/1 [==============================] - 0s 9ms/step - loss: 0.1722 - mae: 0.1722\n",
            "Epoch 171/200\n",
            "1/1 [==============================] - 0s 9ms/step - loss: 0.1932 - mae: 0.1932\n",
            "Epoch 172/200\n",
            "1/1 [==============================] - 0s 9ms/step - loss: 0.0920 - mae: 0.0920\n",
            "Epoch 173/200\n",
            "1/1 [==============================] - 0s 10ms/step - loss: 0.2400 - mae: 0.2400\n",
            "Epoch 174/200\n",
            "1/1 [==============================] - 0s 10ms/step - loss: 0.1863 - mae: 0.1863\n",
            "Epoch 175/200\n",
            "1/1 [==============================] - 0s 12ms/step - loss: 0.1308 - mae: 0.1308\n",
            "Epoch 176/200\n",
            "1/1 [==============================] - 0s 11ms/step - loss: 0.1118 - mae: 0.1118\n",
            "Epoch 177/200\n",
            "1/1 [==============================] - 0s 10ms/step - loss: 0.2257 - mae: 0.2257\n",
            "Epoch 178/200\n",
            "1/1 [==============================] - 0s 11ms/step - loss: 0.2034 - mae: 0.2034\n",
            "Epoch 179/200\n",
            "1/1 [==============================] - 0s 9ms/step - loss: 0.1339 - mae: 0.1339\n",
            "Epoch 180/200\n",
            "1/1 [==============================] - 0s 9ms/step - loss: 0.1696 - mae: 0.1696\n",
            "Epoch 181/200\n",
            "1/1 [==============================] - 0s 12ms/step - loss: 0.2146 - mae: 0.2146\n",
            "Epoch 182/200\n",
            "1/1 [==============================] - 0s 10ms/step - loss: 0.1166 - mae: 0.1166\n",
            "Epoch 183/200\n",
            "1/1 [==============================] - 0s 11ms/step - loss: 0.2362 - mae: 0.2362\n",
            "Epoch 184/200\n",
            "1/1 [==============================] - 0s 10ms/step - loss: 0.2203 - mae: 0.2203\n",
            "Epoch 185/200\n",
            "1/1 [==============================] - 0s 10ms/step - loss: 0.1479 - mae: 0.1479\n",
            "Epoch 186/200\n",
            "1/1 [==============================] - 0s 10ms/step - loss: 0.1993 - mae: 0.1993\n",
            "Epoch 187/200\n",
            "1/1 [==============================] - 0s 10ms/step - loss: 0.1664 - mae: 0.1664\n",
            "Epoch 188/200\n",
            "1/1 [==============================] - 0s 15ms/step - loss: 0.1168 - mae: 0.1168\n",
            "Epoch 189/200\n",
            "1/1 [==============================] - 0s 10ms/step - loss: 0.2070 - mae: 0.2070\n",
            "Epoch 190/200\n",
            "1/1 [==============================] - 0s 10ms/step - loss: 0.2403 - mae: 0.2403\n",
            "Epoch 191/200\n",
            "1/1 [==============================] - 0s 10ms/step - loss: 0.0558 - mae: 0.0558\n",
            "Epoch 192/200\n",
            "1/1 [==============================] - 0s 10ms/step - loss: 0.0851 - mae: 0.0851\n",
            "Epoch 193/200\n",
            "1/1 [==============================] - 0s 10ms/step - loss: 0.0819 - mae: 0.0819\n",
            "Epoch 194/200\n",
            "1/1 [==============================] - 0s 11ms/step - loss: 0.0926 - mae: 0.0926\n",
            "Epoch 195/200\n",
            "1/1 [==============================] - 0s 11ms/step - loss: 0.0868 - mae: 0.0868\n",
            "Epoch 196/200\n",
            "1/1 [==============================] - 0s 12ms/step - loss: 0.0950 - mae: 0.0950\n",
            "Epoch 197/200\n",
            "1/1 [==============================] - 0s 12ms/step - loss: 0.1004 - mae: 0.1004\n",
            "Epoch 198/200\n",
            "1/1 [==============================] - 0s 11ms/step - loss: 0.1687 - mae: 0.1687\n",
            "Epoch 199/200\n",
            "1/1 [==============================] - 0s 10ms/step - loss: 0.1297 - mae: 0.1297\n",
            "Epoch 200/200\n",
            "1/1 [==============================] - 0s 10ms/step - loss: 0.0660 - mae: 0.0660\n"
          ]
        },
        {
          "output_type": "execute_result",
          "data": {
            "text/plain": [
              "<keras.callbacks.History at 0x7f41d1333250>"
            ]
          },
          "metadata": {},
          "execution_count": 99
        }
      ]
    },
    {
      "cell_type": "code",
      "source": [
        "model.predict([17.0])"
      ],
      "metadata": {
        "colab": {
          "base_uri": "https://localhost:8080/"
        },
        "id": "302DMHN5Gd7C",
        "outputId": "1f475d29-59b1-4291-c4f8-228c4fa9307d"
      },
      "execution_count": 100,
      "outputs": [
        {
          "output_type": "execute_result",
          "data": {
            "text/plain": [
              "array([[27.807995]], dtype=float32)"
            ]
          },
          "metadata": {},
          "execution_count": 100
        }
      ]
    },
    {
      "cell_type": "markdown",
      "source": [
        "## Evaluating a model\n",
        "\n",
        "In practice, a typical workflow you will go through when building neural netwroks is: \n",
        "...\n",
        "Build a model --> fit it --> evaluate it --> tweak the model --> fit it --> evaluate it --> tweak the model --> fit it --> evaluate it ...\n",
        "..."
      ],
      "metadata": {
        "id": "WwZLmsf8KIZg"
      }
    },
    {
      "cell_type": "markdown",
      "source": [
        "## when it comes to evaluation: \n",
        "\" Visualize, Visualize, Visualize\"\n",
        "* the data\n",
        "* the model\n",
        "* the training of a model\n",
        "* the predictions of the model\n"
      ],
      "metadata": {
        "id": "BJ-X3kE4Rpz6"
      }
    },
    {
      "cell_type": "code",
      "source": [
        "# make a bigger data set\n",
        "X = tf.range(-100,100,4)\n",
        "X"
      ],
      "metadata": {
        "colab": {
          "base_uri": "https://localhost:8080/"
        },
        "id": "5_sR_SB-RXw5",
        "outputId": "3150377d-eddf-450f-81a5-9cec39bfe7cd"
      },
      "execution_count": 101,
      "outputs": [
        {
          "output_type": "execute_result",
          "data": {
            "text/plain": [
              "<tf.Tensor: shape=(50,), dtype=int32, numpy=\n",
              "array([-100,  -96,  -92,  -88,  -84,  -80,  -76,  -72,  -68,  -64,  -60,\n",
              "        -56,  -52,  -48,  -44,  -40,  -36,  -32,  -28,  -24,  -20,  -16,\n",
              "        -12,   -8,   -4,    0,    4,    8,   12,   16,   20,   24,   28,\n",
              "         32,   36,   40,   44,   48,   52,   56,   60,   64,   68,   72,\n",
              "         76,   80,   84,   88,   92,   96], dtype=int32)>"
            ]
          },
          "metadata": {},
          "execution_count": 101
        }
      ]
    },
    {
      "cell_type": "code",
      "source": [
        "# Make labels for dataset\n",
        "y = X +10\n",
        "y"
      ],
      "metadata": {
        "colab": {
          "base_uri": "https://localhost:8080/"
        },
        "id": "WFmuCXbcSMNw",
        "outputId": "8819ee1c-4dbc-437c-a073-a773e482e70e"
      },
      "execution_count": 102,
      "outputs": [
        {
          "output_type": "execute_result",
          "data": {
            "text/plain": [
              "<tf.Tensor: shape=(50,), dtype=int32, numpy=\n",
              "array([-90, -86, -82, -78, -74, -70, -66, -62, -58, -54, -50, -46, -42,\n",
              "       -38, -34, -30, -26, -22, -18, -14, -10,  -6,  -2,   2,   6,  10,\n",
              "        14,  18,  22,  26,  30,  34,  38,  42,  46,  50,  54,  58,  62,\n",
              "        66,  70,  74,  78,  82,  86,  90,  94,  98, 102, 106], dtype=int32)>"
            ]
          },
          "metadata": {},
          "execution_count": 102
        }
      ]
    },
    {
      "cell_type": "code",
      "source": [
        "# visualise data\n",
        "plt.scatter(X,y)"
      ],
      "metadata": {
        "colab": {
          "base_uri": "https://localhost:8080/",
          "height": 282
        },
        "id": "UN_LqShsSTao",
        "outputId": "be06f0ed-ecd3-4420-e4d6-b82e7718c299"
      },
      "execution_count": 103,
      "outputs": [
        {
          "output_type": "execute_result",
          "data": {
            "text/plain": [
              "<matplotlib.collections.PathCollection at 0x7f41d15e16d0>"
            ]
          },
          "metadata": {},
          "execution_count": 103
        },
        {
          "output_type": "display_data",
          "data": {
            "text/plain": [
              "<Figure size 432x288 with 1 Axes>"
            ],
            "image/png": "[encoded data removed]"
          },
          "metadata": {
            "needs_background": "light"
          }
        }
      ]
    },
    {
      "cell_type": "markdown",
      "source": [
        "### The 3 sets...\n",
        "* training set - the model learns from this data which is typically 70-80 percent of total data you have. \n",
        "* Validation set - the model gets tuned on this data, which is typically 10-15% of the data available.\n",
        "* test set - the model gets evaluated on this data to test what is had learned , this set is typically 10-15% of total data available. "
      ],
      "metadata": {
        "id": "FRtmPY_WS7Eq"
      }
    },
    {
      "cell_type": "code",
      "source": [
        "# check the length of samples\n",
        "len(X)"
      ],
      "metadata": {
        "colab": {
          "base_uri": "https://localhost:8080/"
        },
        "id": "_rmayf6PSl-7",
        "outputId": "992e51f2-e7e1-4f4e-86bb-632161731852"
      },
      "execution_count": 104,
      "outputs": [
        {
          "output_type": "execute_result",
          "data": {
            "text/plain": [
              "50"
            ]
          },
          "metadata": {},
          "execution_count": 104
        }
      ]
    },
    {
      "cell_type": "code",
      "source": [
        "# Split the data into train and test sets\n",
        "X_train = X[:40]\n",
        "y_train = y[:40]\n",
        "\n",
        "X_test = X[40:]\n",
        "y_test = y[40:]\n",
        "len(X_train), len(X_test\n",
        "                  )"
      ],
      "metadata": {
        "colab": {
          "base_uri": "https://localhost:8080/"
        },
        "id": "dIhkpFCyTu0W",
        "outputId": "a18099ee-3949-4abd-cfc3-3cb472ca50db"
      },
      "execution_count": 105,
      "outputs": [
        {
          "output_type": "execute_result",
          "data": {
            "text/plain": [
              "(40, 10)"
            ]
          },
          "metadata": {},
          "execution_count": 105
        }
      ]
    },
    {
      "cell_type": "code",
      "source": [
        "### Visualizing the data\n",
        "plt.figure(figsize= (10,7))\n",
        "# plot training data in blue\n",
        "plt.scatter(X_train, y_train, c =\"b\", label = \" Training data\")\n",
        "# plot the test data in green\n",
        "plt.scatter(X_test, y_test, c = \"g\", label = \" Testing data\")\n",
        "# Show legend\n",
        "plt.legend();"
      ],
      "metadata": {
        "colab": {
          "base_uri": "https://localhost:8080/",
          "height": 428
        },
        "id": "euVADs9nUThG",
        "outputId": "186ec68a-1a14-4bd0-88d1-acd82415ab76"
      },
      "execution_count": 106,
      "outputs": [
        {
          "output_type": "display_data",
          "data": {
            "text/plain": [
              "<Figure size 720x504 with 1 Axes>"
            ],
            "image/png": "[encoded data removed]"
          },
          "metadata": {
            "needs_background": "light"
          }
        }
      ]
    },
    {
      "cell_type": "code",
      "source": [
        "# Let's have a look at how to build a neural network for the data\n",
        "\n",
        "model = tf.keras.Sequential([\n",
        "    tf.keras.layers.Dense(1)\n",
        "])\n",
        "\n",
        "model.compile(\n",
        "    loss = tf.keras.losses.mae,\n",
        "    optimizer = tf.keras.optimizers.SGD(),\n",
        "    metrics = [\"mae\"]\n",
        ")\n",
        "\n",
        "#model.fit(tf.expand_dims(X_train, axis=-1),y_train, epochs=100)"
      ],
      "metadata": {
        "id": "4af6qndKVs9_"
      },
      "execution_count": 107,
      "outputs": []
    },
    {
      "cell_type": "code",
      "source": [
        "model.summary()"
      ],
      "metadata": {
        "colab": {
          "base_uri": "https://localhost:8080/",
          "height": 300
        },
        "id": "vxwWbgAPYHeF",
        "outputId": "3ec12bce-cc51-4262-8d4b-6bd22cbed91d"
      },
      "execution_count": 108,
      "outputs": [
        {
          "output_type": "error",
          "ename": "ValueError",
          "evalue": "ignored",
          "traceback": [
            "\u001b[0;31m---------------------------------------------------------------------------\u001b[0m",
            "\u001b[0;31mValueError\u001b[0m                                Traceback (most recent call last)",
            "\u001b[0;32m<ipython-input-108-5f15418b3570>\u001b[0m in \u001b[0;36m<module>\u001b[0;34m\u001b[0m\n\u001b[0;32m----> 1\u001b[0;31m \u001b[0mmodel\u001b[0m\u001b[0;34m.\u001b[0m\u001b[0msummary\u001b[0m\u001b[0;34m(\u001b[0m\u001b[0;34m)\u001b[0m\u001b[0;34m\u001b[0m\u001b[0;34m\u001b[0m\u001b[0m\n\u001b[0m",
            "\u001b[0;32m/usr/local/lib/python3.7/dist-packages/keras/engine/training.py\u001b[0m in \u001b[0;36msummary\u001b[0;34m(self, line_length, positions, print_fn, expand_nested, show_trainable)\u001b[0m\n\u001b[1;32m   2774\u001b[0m     \u001b[0;32mif\u001b[0m \u001b[0;32mnot\u001b[0m \u001b[0mself\u001b[0m\u001b[0;34m.\u001b[0m\u001b[0mbuilt\u001b[0m\u001b[0;34m:\u001b[0m\u001b[0;34m\u001b[0m\u001b[0;34m\u001b[0m\u001b[0m\n\u001b[1;32m   2775\u001b[0m       raise ValueError(\n\u001b[0;32m-> 2776\u001b[0;31m           \u001b[0;34m'This model has not yet been built. '\u001b[0m\u001b[0;34m\u001b[0m\u001b[0;34m\u001b[0m\u001b[0m\n\u001b[0m\u001b[1;32m   2777\u001b[0m           \u001b[0;34m'Build the model first by calling `build()` or by calling '\u001b[0m\u001b[0;34m\u001b[0m\u001b[0;34m\u001b[0m\u001b[0m\n\u001b[1;32m   2778\u001b[0m           'the model on a batch of data.')\n",
            "\u001b[0;31mValueError\u001b[0m: This model has not yet been built. Build the model first by calling `build()` or by calling the model on a batch of data."
          ]
        }
      ]
    },
    {
      "cell_type": "code",
      "source": [
        "# let's create a model which builds automatically by defining the input shape\n",
        "\n",
        "tf.random.set_seed(42)\n",
        "\n",
        "# Create a model \n",
        "model = tf.keras.Sequential([\n",
        "    tf.keras.layers.Dense(10, input_shape = [1], name = \"input_layer\"),\n",
        "    tf.keras.layers.Dense(1, name = \"output_layer\"),\n",
        "], name = \"model1\")\n",
        " # compile model\n",
        "\n",
        "model.compile(loss = tf.keras.losses.mae,\n",
        "  optimizer = tf.keras.optimizers.SGD(),\n",
        "  metrics = [\"mae\"]\n",
        ")\n",
        " "
      ],
      "metadata": {
        "id": "Nw6QFWzsYXJ1"
      },
      "execution_count": 110,
      "outputs": []
    },
    {
      "cell_type": "code",
      "source": [
        "# let's fit model to training data\n",
        "model.fit(tf.expand_dims(X_train, axis=-1), y_train, epochs = 100, verbose = 0)"
      ],
      "metadata": {
        "colab": {
          "base_uri": "https://localhost:8080/"
        },
        "id": "5sGwYzUt5i2g",
        "outputId": "d72ff46a-3985-4e0d-d7f9-d3ea477422d0"
      },
      "execution_count": 114,
      "outputs": [
        {
          "output_type": "execute_result",
          "data": {
            "text/plain": [
              "<keras.callbacks.History at 0x7f41d1aa50d0>"
            ]
          },
          "metadata": {},
          "execution_count": 114
        }
      ]
    },
    {
      "cell_type": "code",
      "source": [
        "model.summary() "
      ],
      "metadata": {
        "colab": {
          "base_uri": "https://localhost:8080/"
        },
        "id": "JMx93D2hZc7C",
        "outputId": "81f91c50-3b0b-4166-9ff2-43b516226268"
      },
      "execution_count": 115,
      "outputs": [
        {
          "output_type": "stream",
          "name": "stdout",
          "text": [
            "Model: \"model1\"\n",
            "_________________________________________________________________\n",
            " Layer (type)                Output Shape              Param #   \n",
            "=================================================================\n",
            " input_layer (Dense)         (None, 10)                20        \n",
            "                                                                 \n",
            " output_layer (Dense)        (None, 1)                 11        \n",
            "                                                                 \n",
            "=================================================================\n",
            "Total params: 31\n",
            "Trainable params: 31\n",
            "Non-trainable params: 0\n",
            "_________________________________________________________________\n"
          ]
        }
      ]
    },
    {
      "cell_type": "markdown",
      "source": [
        "* Total params - total number of parameters in the model.\n",
        "* Trainable parameters - parameters that the model can update as it trains.\n",
        "* Non trainable parameters : which model can't update. This is typical when you bring in already learned parameters from other models during transfer learning)"
      ],
      "metadata": {
        "id": "PLcRHnPxZsOd"
      }
    },
    {
      "cell_type": "code",
      "source": [
        "from tensorflow.keras.utils import plot_model\n",
        "plot_model(model = model, show_shapes = True)"
      ],
      "metadata": {
        "colab": {
          "base_uri": "https://localhost:8080/",
          "height": 312
        },
        "id": "UwOEcjfn21Af",
        "outputId": "91000943-c44a-4ccd-d355-14580c987fdf"
      },
      "execution_count": 116,
      "outputs": [
        {
          "output_type": "execute_result",
          "data": {
            "image/png": "[encoded data removed]",
            "text/plain": [
              "<IPython.core.display.Image object>"
            ]
          },
          "metadata": {},
          "execution_count": 116
        }
      ]
    },
    {
      "cell_type": "markdown",
      "source": [
        "### Visualising the model's predictions \n",
        "plotting predictions vs ground truth labels"
      ],
      "metadata": {
        "id": "Oc45ZXET591e"
      }
    },
    {
      "cell_type": "code",
      "source": [
        "# make some predictions\n",
        "y_pred = model.predict(X_test)\n",
        "y_pred"
      ],
      "metadata": {
        "colab": {
          "base_uri": "https://localhost:8080/"
        },
        "id": "p3kGOZbz6IdY",
        "outputId": "e1400911-8984-4cb0-f841-873b530a6dc6"
      },
      "execution_count": 117,
      "outputs": [
        {
          "output_type": "execute_result",
          "data": {
            "text/plain": [
              "array([[ 70.55218 ],\n",
              "       [ 75.13991 ],\n",
              "       [ 79.72763 ],\n",
              "       [ 84.31535 ],\n",
              "       [ 88.903076],\n",
              "       [ 93.49081 ],\n",
              "       [ 98.07853 ],\n",
              "       [102.66625 ],\n",
              "       [107.253975],\n",
              "       [111.8417  ]], dtype=float32)"
            ]
          },
          "metadata": {},
          "execution_count": 117
        }
      ]
    },
    {
      "cell_type": "code",
      "source": [
        "y_test"
      ],
      "metadata": {
        "colab": {
          "base_uri": "https://localhost:8080/"
        },
        "id": "ONyur55w6xD4",
        "outputId": "50590b1c-d131-4967-91bb-0542a964d6ea"
      },
      "execution_count": 118,
      "outputs": [
        {
          "output_type": "execute_result",
          "data": {
            "text/plain": [
              "<tf.Tensor: shape=(10,), dtype=int32, numpy=array([ 70,  74,  78,  82,  86,  90,  94,  98, 102, 106], dtype=int32)>"
            ]
          },
          "metadata": {},
          "execution_count": 118
        }
      ]
    },
    {
      "cell_type": "code",
      "source": [
        "# let's create a plotting function\n",
        "def plot_predictions(train_data = X_train,\n",
        "                     train_labels = y_train,\n",
        "                     test_data = X_test,\n",
        "                     test_labels = y_test,\n",
        "                     predictions = y_pred):\n",
        "  \"\"\"\n",
        "  Plots training data, test data and copare the predictions to ground truth labels\n",
        "  \"\"\"\n",
        "  plt.figure(figsize = (10,10))\n",
        "\n",
        "  # plot training data\n",
        "  plt.scatter(train_data, train_labels, c = \"b\", label=\"Training data\")\n",
        "  # plot testing data\n",
        "  plt.scatter(test_data, test_labels, c = \"y\", label =\"Testing data\")\n",
        "  # plot predictions \n",
        "  plt.scatter(test_data, predictions, c =\"r\", label=\"Predictions\")\n",
        "\n",
        "  plt.legend()"
      ],
      "metadata": {
        "id": "T40kCyas60gU"
      },
      "execution_count": 121,
      "outputs": []
    },
    {
      "cell_type": "code",
      "source": [
        "plot_predictions(train_data = X_train,\n",
        "                     train_labels = y_train,\n",
        "                     test_data = X_test,\n",
        "                     test_labels = y_test,\n",
        "                     predictions = y_pred)"
      ],
      "metadata": {
        "colab": {
          "base_uri": "https://localhost:8080/",
          "height": 592
        },
        "id": "6bq9GltQ8Ro2",
        "outputId": "796df348-cf00-43a8-b1a3-fa5e5486a875"
      },
      "execution_count": 123,
      "outputs": [
        {
          "output_type": "display_data",
          "data": {
            "text/plain": [
              "<Figure size 720x720 with 1 Axes>"
            ],
            "image/png": "[encoded data removed]"
          },
          "metadata": {
            "needs_background": "light"
          }
        }
      ]
    },
    {
      "cell_type": "markdown",
      "source": [
        "### Evaluation od model using regression evaluation metrics\n",
        "there are different evaluation metrics to evaluate your model\n",
        "Since we are working on regression problem, two of main metrics:\n",
        "* MAE - mean absolute error, \" On average, how wrong is each of my model's predictions\"\n",
        "* MSE - mean square error, \" square the average errors\"\n"
      ],
      "metadata": {
        "id": "i5Cv8FaS99Un"
      }
    },
    {
      "cell_type": "code",
      "source": [
        "# evaluate the model\n",
        "model.evaluate(X_test, y_test)"
      ],
      "metadata": {
        "colab": {
          "base_uri": "https://localhost:8080/"
        },
        "id": "zuxIySbd988m",
        "outputId": "25c0b28d-3f79-4e5c-dd1d-5474218c3c08"
      },
      "execution_count": 124,
      "outputs": [
        {
          "output_type": "stream",
          "name": "stdout",
          "text": [
            "1/1 [==============================] - 0s 275ms/step - loss: 3.1969 - mae: 3.1969\n"
          ]
        },
        {
          "output_type": "execute_result",
          "data": {
            "text/plain": [
              "[3.196942090988159, 3.196942090988159]"
            ]
          },
          "metadata": {},
          "execution_count": 124
        }
      ]
    },
    {
      "cell_type": "code",
      "source": [
        "y_pred, y_test"
      ],
      "metadata": {
        "colab": {
          "base_uri": "https://localhost:8080/"
        },
        "id": "Ab71L-KCBHYE",
        "outputId": "d6fbcd28-900c-4308-9ec9-1cf8907de097"
      },
      "execution_count": 125,
      "outputs": [
        {
          "output_type": "execute_result",
          "data": {
            "text/plain": [
              "(array([[ 70.55218 ],\n",
              "        [ 75.13991 ],\n",
              "        [ 79.72763 ],\n",
              "        [ 84.31535 ],\n",
              "        [ 88.903076],\n",
              "        [ 93.49081 ],\n",
              "        [ 98.07853 ],\n",
              "        [102.66625 ],\n",
              "        [107.253975],\n",
              "        [111.8417  ]], dtype=float32),\n",
              " <tf.Tensor: shape=(10,), dtype=int32, numpy=array([ 70,  74,  78,  82,  86,  90,  94,  98, 102, 106], dtype=int32)>)"
            ]
          },
          "metadata": {},
          "execution_count": 125
        }
      ]
    },
    {
      "cell_type": "code",
      "source": [
        "# calculate the mean absolute error\n",
        "mae = tf.metrics.mean_absolute_error(y_test, tf.squeeze(y_pred))\n",
        "mae"
      ],
      "metadata": {
        "colab": {
          "base_uri": "https://localhost:8080/"
        },
        "id": "tMn01ZUMBNNY",
        "outputId": "8c326860-5897-43c1-af6b-4d7a7ff86787"
      },
      "execution_count": 131,
      "outputs": [
        {
          "output_type": "execute_result",
          "data": {
            "text/plain": [
              "<tf.Tensor: shape=(), dtype=float32, numpy=3.1969407>"
            ]
          },
          "metadata": {},
          "execution_count": 131
        }
      ]
    },
    {
      "cell_type": "code",
      "source": [
        "# calculate the mean squared error\n",
        "mse = tf.metrics.mean_squared_error(y_test, tf.squeeze(y_pred))\n",
        "mse"
      ],
      "metadata": {
        "colab": {
          "base_uri": "https://localhost:8080/"
        },
        "id": "fe21eFpyDGzV",
        "outputId": "6842a974-ffcc-4023-9079-6770fdac5be1"
      },
      "execution_count": 136,
      "outputs": [
        {
          "output_type": "execute_result",
          "data": {
            "text/plain": [
              "<tf.Tensor: shape=(), dtype=float32, numpy=13.070143>"
            ]
          },
          "metadata": {},
          "execution_count": 136
        }
      ]
    },
    {
      "cell_type": "code",
      "source": [
        "# Make some functions to reuse MAE and MSE\n",
        "def mae(y_true, y_pred):\n",
        "  return tf.metrics.mean_absolute_error(y_true, tf.squeeze(y_pred))\n",
        "\n",
        "def mse(y_true, y_pred):\n",
        "  return tf.metrics.mean_squared_error(y_true, tf.squeeze(y_pred))"
      ],
      "metadata": {
        "id": "tu2NGN0IHzvX"
      },
      "execution_count": 144,
      "outputs": []
    },
    {
      "cell_type": "markdown",
      "source": [
        "### Running experiments to improve our model\n",
        "\n",
        "Build a model--> fit it --> evaluate it--> tweak it--> fit it-->evaluate it\n",
        "\n",
        "1. get more data\n",
        "2. make model larger\n",
        "3. train for longer"
      ],
      "metadata": {
        "id": "nOWEJvg9JKzu"
      }
    },
    {
      "cell_type": "code",
      "source": [
        "# Set random seed\n",
        "tf.random.set_seed(42)\n",
        "\n",
        "# create model1\n",
        "model_1 = tf.keras.Sequential([\n",
        "    tf.keras.layers.Dense(1)\n",
        "])\n",
        "\n",
        "# compile model\n",
        "model_1.compile(loss = tf.keras.losses.mae,\n",
        "                optimizer = tf.keras.optimizers.SGD(),\n",
        "                metrics = [\"mae\"])\n",
        "\n",
        "# fit model\n",
        "model_1.fit(tf.expand_dims(X_train, axis=-1),y_train, epochs=100)"
      ],
      "metadata": {
        "colab": {
          "base_uri": "https://localhost:8080/"
        },
        "id": "avS9DfMXHzZs",
        "outputId": "17db2786-f10d-4f0d-f83a-3e4a93e9dfb2"
      },
      "execution_count": 139,
      "outputs": [
        {
          "output_type": "stream",
          "name": "stdout",
          "text": [
            "Epoch 1/100\n",
            "2/2 [==============================] - 1s 7ms/step - loss: 15.9024 - mae: 15.9024\n",
            "Epoch 2/100\n",
            "2/2 [==============================] - 0s 9ms/step - loss: 11.2837 - mae: 11.2837\n",
            "Epoch 3/100\n",
            "2/2 [==============================] - 0s 8ms/step - loss: 11.1074 - mae: 11.1074\n",
            "Epoch 4/100\n",
            "2/2 [==============================] - 0s 6ms/step - loss: 9.2991 - mae: 9.2991\n",
            "Epoch 5/100\n",
            "2/2 [==============================] - 0s 9ms/step - loss: 10.1677 - mae: 10.1677\n",
            "Epoch 6/100\n",
            "2/2 [==============================] - 0s 8ms/step - loss: 9.4303 - mae: 9.4303\n",
            "Epoch 7/100\n",
            "2/2 [==============================] - 0s 7ms/step - loss: 8.5704 - mae: 8.5704\n",
            "Epoch 8/100\n",
            "2/2 [==============================] - 0s 10ms/step - loss: 9.0442 - mae: 9.0442\n",
            "Epoch 9/100\n",
            "2/2 [==============================] - 0s 8ms/step - loss: 18.7517 - mae: 18.7517\n",
            "Epoch 10/100\n",
            "2/2 [==============================] - 0s 9ms/step - loss: 10.1142 - mae: 10.1142\n",
            "Epoch 11/100\n",
            "2/2 [==============================] - 0s 9ms/step - loss: 8.3980 - mae: 8.3980\n",
            "Epoch 12/100\n",
            "2/2 [==============================] - 0s 6ms/step - loss: 10.6639 - mae: 10.6639\n",
            "Epoch 13/100\n",
            "2/2 [==============================] - 0s 6ms/step - loss: 9.7977 - mae: 9.7977\n",
            "Epoch 14/100\n",
            "2/2 [==============================] - 0s 7ms/step - loss: 16.0103 - mae: 16.0103\n",
            "Epoch 15/100\n",
            "2/2 [==============================] - 0s 4ms/step - loss: 11.4068 - mae: 11.4068\n",
            "Epoch 16/100\n",
            "2/2 [==============================] - 0s 5ms/step - loss: 8.5393 - mae: 8.5393\n",
            "Epoch 17/100\n",
            "2/2 [==============================] - 0s 5ms/step - loss: 13.6348 - mae: 13.6348\n",
            "Epoch 18/100\n",
            "2/2 [==============================] - 0s 5ms/step - loss: 11.4629 - mae: 11.4629\n",
            "Epoch 19/100\n",
            "2/2 [==============================] - 0s 5ms/step - loss: 17.9148 - mae: 17.9148\n",
            "Epoch 20/100\n",
            "2/2 [==============================] - 0s 5ms/step - loss: 15.0494 - mae: 15.0494\n",
            "Epoch 21/100\n",
            "2/2 [==============================] - 0s 6ms/step - loss: 11.0216 - mae: 11.0216\n",
            "Epoch 22/100\n",
            "2/2 [==============================] - 0s 7ms/step - loss: 8.1558 - mae: 8.1558\n",
            "Epoch 23/100\n",
            "2/2 [==============================] - 0s 5ms/step - loss: 9.5138 - mae: 9.5138\n",
            "Epoch 24/100\n",
            "2/2 [==============================] - 0s 6ms/step - loss: 7.6617 - mae: 7.6617\n",
            "Epoch 25/100\n",
            "2/2 [==============================] - 0s 11ms/step - loss: 13.1859 - mae: 13.1859\n",
            "Epoch 26/100\n",
            "2/2 [==============================] - 0s 5ms/step - loss: 16.4211 - mae: 16.4211\n",
            "Epoch 27/100\n",
            "2/2 [==============================] - 0s 6ms/step - loss: 13.1660 - mae: 13.1660\n",
            "Epoch 28/100\n",
            "2/2 [==============================] - 0s 3ms/step - loss: 14.2559 - mae: 14.2559\n",
            "Epoch 29/100\n",
            "2/2 [==============================] - 0s 6ms/step - loss: 10.0670 - mae: 10.0670\n",
            "Epoch 30/100\n",
            "2/2 [==============================] - 0s 6ms/step - loss: 16.3409 - mae: 16.3409\n",
            "Epoch 31/100\n",
            "2/2 [==============================] - 0s 5ms/step - loss: 23.6444 - mae: 23.6444\n",
            "Epoch 32/100\n",
            "2/2 [==============================] - 0s 5ms/step - loss: 7.6215 - mae: 7.6215\n",
            "Epoch 33/100\n",
            "2/2 [==============================] - 0s 7ms/step - loss: 9.3221 - mae: 9.3221\n",
            "Epoch 34/100\n",
            "2/2 [==============================] - 0s 6ms/step - loss: 13.7313 - mae: 13.7313\n",
            "Epoch 35/100\n",
            "2/2 [==============================] - 0s 4ms/step - loss: 11.1276 - mae: 11.1276\n",
            "Epoch 36/100\n",
            "2/2 [==============================] - 0s 6ms/step - loss: 13.3222 - mae: 13.3222\n",
            "Epoch 37/100\n",
            "2/2 [==============================] - 0s 6ms/step - loss: 9.4763 - mae: 9.4763\n",
            "Epoch 38/100\n",
            "2/2 [==============================] - 0s 9ms/step - loss: 10.1381 - mae: 10.1381\n",
            "Epoch 39/100\n",
            "2/2 [==============================] - 0s 18ms/step - loss: 10.1793 - mae: 10.1793\n",
            "Epoch 40/100\n",
            "2/2 [==============================] - 0s 6ms/step - loss: 10.9137 - mae: 10.9137\n",
            "Epoch 41/100\n",
            "2/2 [==============================] - 0s 12ms/step - loss: 7.9063 - mae: 7.9063\n",
            "Epoch 42/100\n",
            "2/2 [==============================] - 0s 6ms/step - loss: 10.0914 - mae: 10.0914\n",
            "Epoch 43/100\n",
            "2/2 [==============================] - 0s 5ms/step - loss: 8.7006 - mae: 8.7006\n",
            "Epoch 44/100\n",
            "2/2 [==============================] - 0s 5ms/step - loss: 12.2047 - mae: 12.2047\n",
            "Epoch 45/100\n",
            "2/2 [==============================] - 0s 4ms/step - loss: 13.7970 - mae: 13.7970\n",
            "Epoch 46/100\n",
            "2/2 [==============================] - 0s 5ms/step - loss: 8.4687 - mae: 8.4687\n",
            "Epoch 47/100\n",
            "2/2 [==============================] - 0s 6ms/step - loss: 9.1330 - mae: 9.1330\n",
            "Epoch 48/100\n",
            "2/2 [==============================] - 0s 6ms/step - loss: 10.6190 - mae: 10.6190\n",
            "Epoch 49/100\n",
            "2/2 [==============================] - 0s 8ms/step - loss: 7.7503 - mae: 7.7503\n",
            "Epoch 50/100\n",
            "2/2 [==============================] - 0s 6ms/step - loss: 9.5407 - mae: 9.5407\n",
            "Epoch 51/100\n",
            "2/2 [==============================] - 0s 12ms/step - loss: 9.1584 - mae: 9.1584\n",
            "Epoch 52/100\n",
            "2/2 [==============================] - 0s 14ms/step - loss: 16.3630 - mae: 16.3630\n",
            "Epoch 53/100\n",
            "2/2 [==============================] - 0s 5ms/step - loss: 14.1299 - mae: 14.1299\n",
            "Epoch 54/100\n",
            "2/2 [==============================] - 0s 4ms/step - loss: 21.1247 - mae: 21.1247\n",
            "Epoch 55/100\n",
            "2/2 [==============================] - 0s 6ms/step - loss: 16.3961 - mae: 16.3961\n",
            "Epoch 56/100\n",
            "2/2 [==============================] - 0s 6ms/step - loss: 9.9806 - mae: 9.9806\n",
            "Epoch 57/100\n",
            "2/2 [==============================] - 0s 11ms/step - loss: 9.9606 - mae: 9.9606\n",
            "Epoch 58/100\n",
            "2/2 [==============================] - 0s 8ms/step - loss: 9.2209 - mae: 9.2209\n",
            "Epoch 59/100\n",
            "2/2 [==============================] - 0s 9ms/step - loss: 8.4239 - mae: 8.4239\n",
            "Epoch 60/100\n",
            "2/2 [==============================] - 0s 19ms/step - loss: 9.4869 - mae: 9.4869\n",
            "Epoch 61/100\n",
            "2/2 [==============================] - 0s 7ms/step - loss: 11.4355 - mae: 11.4355\n",
            "Epoch 62/100\n",
            "2/2 [==============================] - 0s 14ms/step - loss: 11.6887 - mae: 11.6887\n",
            "Epoch 63/100\n",
            "2/2 [==============================] - 0s 12ms/step - loss: 7.0838 - mae: 7.0838\n",
            "Epoch 64/100\n",
            "2/2 [==============================] - 0s 15ms/step - loss: 16.9675 - mae: 16.9675\n",
            "Epoch 65/100\n",
            "2/2 [==============================] - 0s 11ms/step - loss: 12.4599 - mae: 12.4599\n",
            "Epoch 66/100\n",
            "2/2 [==============================] - 0s 6ms/step - loss: 13.0184 - mae: 13.0184\n",
            "Epoch 67/100\n",
            "2/2 [==============================] - 0s 11ms/step - loss: 8.0600 - mae: 8.0600\n",
            "Epoch 68/100\n",
            "2/2 [==============================] - 0s 12ms/step - loss: 10.1888 - mae: 10.1888\n",
            "Epoch 69/100\n",
            "2/2 [==============================] - 0s 14ms/step - loss: 12.3633 - mae: 12.3633\n",
            "Epoch 70/100\n",
            "2/2 [==============================] - 0s 8ms/step - loss: 9.0516 - mae: 9.0516\n",
            "Epoch 71/100\n",
            "2/2 [==============================] - 0s 8ms/step - loss: 10.0378 - mae: 10.0378\n",
            "Epoch 72/100\n",
            "2/2 [==============================] - 0s 12ms/step - loss: 10.0516 - mae: 10.0516\n",
            "Epoch 73/100\n",
            "2/2 [==============================] - 0s 14ms/step - loss: 12.6151 - mae: 12.6151\n",
            "Epoch 74/100\n",
            "2/2 [==============================] - 0s 8ms/step - loss: 10.3819 - mae: 10.3819\n",
            "Epoch 75/100\n",
            "2/2 [==============================] - 0s 8ms/step - loss: 9.7229 - mae: 9.7229\n",
            "Epoch 76/100\n",
            "2/2 [==============================] - 0s 9ms/step - loss: 11.2252 - mae: 11.2252\n",
            "Epoch 77/100\n",
            "2/2 [==============================] - 0s 9ms/step - loss: 8.3642 - mae: 8.3642\n",
            "Epoch 78/100\n",
            "2/2 [==============================] - 0s 10ms/step - loss: 9.1274 - mae: 9.1274\n",
            "Epoch 79/100\n",
            "2/2 [==============================] - 0s 7ms/step - loss: 19.5039 - mae: 19.5039\n",
            "Epoch 80/100\n",
            "2/2 [==============================] - 0s 12ms/step - loss: 14.8945 - mae: 14.8945\n",
            "Epoch 81/100\n",
            "2/2 [==============================] - 0s 9ms/step - loss: 9.0034 - mae: 9.0034\n",
            "Epoch 82/100\n",
            "2/2 [==============================] - 0s 9ms/step - loss: 13.0206 - mae: 13.0206\n",
            "Epoch 83/100\n",
            "2/2 [==============================] - 0s 11ms/step - loss: 7.9299 - mae: 7.9299\n",
            "Epoch 84/100\n",
            "2/2 [==============================] - 0s 5ms/step - loss: 7.6872 - mae: 7.6872\n",
            "Epoch 85/100\n",
            "2/2 [==============================] - 0s 12ms/step - loss: 10.0328 - mae: 10.0328\n",
            "Epoch 86/100\n",
            "2/2 [==============================] - 0s 15ms/step - loss: 9.2433 - mae: 9.2433\n",
            "Epoch 87/100\n",
            "2/2 [==============================] - 0s 8ms/step - loss: 12.0209 - mae: 12.0209\n",
            "Epoch 88/100\n",
            "2/2 [==============================] - 0s 7ms/step - loss: 10.6389 - mae: 10.6389\n",
            "Epoch 89/100\n",
            "2/2 [==============================] - 0s 6ms/step - loss: 7.2667 - mae: 7.2667\n",
            "Epoch 90/100\n",
            "2/2 [==============================] - 0s 13ms/step - loss: 12.7786 - mae: 12.7786\n",
            "Epoch 91/100\n",
            "2/2 [==============================] - 0s 7ms/step - loss: 7.3481 - mae: 7.3481\n",
            "Epoch 92/100\n",
            "2/2 [==============================] - 0s 14ms/step - loss: 7.7175 - mae: 7.7175\n",
            "Epoch 93/100\n",
            "2/2 [==============================] - 0s 11ms/step - loss: 7.1263 - mae: 7.1263\n",
            "Epoch 94/100\n",
            "2/2 [==============================] - 0s 10ms/step - loss: 12.6190 - mae: 12.6190\n",
            "Epoch 95/100\n",
            "2/2 [==============================] - 0s 10ms/step - loss: 10.0912 - mae: 10.0912\n",
            "Epoch 96/100\n",
            "2/2 [==============================] - 0s 10ms/step - loss: 9.3558 - mae: 9.3558\n",
            "Epoch 97/100\n",
            "2/2 [==============================] - 0s 15ms/step - loss: 12.6834 - mae: 12.6834\n",
            "Epoch 98/100\n",
            "2/2 [==============================] - 0s 15ms/step - loss: 8.6762 - mae: 8.6762\n",
            "Epoch 99/100\n",
            "2/2 [==============================] - 0s 11ms/step - loss: 9.4693 - mae: 9.4693\n",
            "Epoch 100/100\n",
            "2/2 [==============================] - 0s 8ms/step - loss: 8.7067 - mae: 8.7067\n"
          ]
        },
        {
          "output_type": "execute_result",
          "data": {
            "text/plain": [
              "<keras.callbacks.History at 0x7f41ce5d00d0>"
            ]
          },
          "metadata": {},
          "execution_count": 139
        }
      ]
    },
    {
      "cell_type": "code",
      "source": [
        "# make prediction\n",
        "y_pred_1 = model_1.predict(X_test)\n",
        "\n",
        "plot_predictions(predictions = y_pred_1)"
      ],
      "metadata": {
        "colab": {
          "base_uri": "https://localhost:8080/",
          "height": 592
        },
        "id": "5f_J5cSlS6GG",
        "outputId": "05b042cc-7058-4dc3-e10f-dab59d7a5f37"
      },
      "execution_count": 141,
      "outputs": [
        {
          "output_type": "display_data",
          "data": {
            "text/plain": [
              "<Figure size 720x720 with 1 Axes>"
            ],
            "image/png": "[encoded data removed]"
          },
          "metadata": {
            "needs_background": "light"
          }
        }
      ]
    },
    {
      "cell_type": "code",
      "source": [
        "# calculate evaluation on model_1\n",
        "mae_1 = mae(y_test, y_pred_1)\n",
        "mse_1 = mse(y_test, y_pred_1)\n",
        "mae_1, mse_1"
      ],
      "metadata": {
        "colab": {
          "base_uri": "https://localhost:8080/"
        },
        "id": "tQi20qG3Tk-r",
        "outputId": "d4ab1257-bf3f-4d64-ac17-80f74dde7a2b"
      },
      "execution_count": 145,
      "outputs": [
        {
          "output_type": "execute_result",
          "data": {
            "text/plain": [
              "(<tf.Tensor: shape=(), dtype=float32, numpy=18.745327>,\n",
              " <tf.Tensor: shape=(), dtype=float32, numpy=353.57336>)"
            ]
          },
          "metadata": {},
          "execution_count": 145
        }
      ]
    },
    {
      "cell_type": "markdown",
      "source": [
        "#### Build model_2\n",
        " with 2 layers and 100 epochs"
      ],
      "metadata": {
        "id": "gR01Z_B3USXV"
      }
    },
    {
      "cell_type": "code",
      "source": [
        "# set random seed\n",
        "tf.random.set_seed(42)\n",
        "\n",
        "# create a model_2\n",
        "model_2 = tf.keras.Sequential([\n",
        "    tf.keras.layers.Dense(10),\n",
        "    tf.keras.layers.Dense(1)\n",
        "])\n",
        "\n",
        "# compile the model\n",
        "model_2.compile(loss = tf.keras.losses.mae,\n",
        "                optimizer = tf.keras.optimizers.SGD(),\n",
        "                metrics = [\"mse\"])\n",
        "\n",
        "# fit model\n",
        "model_2.fit(tf.expand_dims(X_train, axis=-1), y_train, epochs =100)"
      ],
      "metadata": {
        "colab": {
          "base_uri": "https://localhost:8080/"
        },
        "id": "6Pbk9LcNT-Qk",
        "outputId": "f7f1f624-4283-4e5f-81f5-3f13c30290f5"
      },
      "execution_count": 149,
      "outputs": [
        {
          "output_type": "stream",
          "name": "stdout",
          "text": [
            "Epoch 1/100\n",
            "2/2 [==============================] - 0s 8ms/step - loss: 27.4058 - mse: 1084.1482\n",
            "Epoch 2/100\n",
            "2/2 [==============================] - 0s 13ms/step - loss: 24.6339 - mse: 777.9203\n",
            "Epoch 3/100\n",
            "2/2 [==============================] - 0s 7ms/step - loss: 29.8935 - mse: 1334.8955\n",
            "Epoch 4/100\n",
            "2/2 [==============================] - 0s 7ms/step - loss: 27.4055 - mse: 1106.8035\n",
            "Epoch 5/100\n",
            "2/2 [==============================] - 0s 8ms/step - loss: 14.9463 - mse: 281.1077\n",
            "Epoch 6/100\n",
            "2/2 [==============================] - 0s 4ms/step - loss: 11.8819 - mse: 168.6621\n",
            "Epoch 7/100\n",
            "2/2 [==============================] - 0s 5ms/step - loss: 11.1988 - mse: 151.3509\n",
            "Epoch 8/100\n",
            "2/2 [==============================] - 0s 5ms/step - loss: 11.0910 - mse: 160.3745\n",
            "Epoch 9/100\n",
            "2/2 [==============================] - 0s 5ms/step - loss: 40.4763 - mse: 2586.0090\n",
            "Epoch 10/100\n",
            "2/2 [==============================] - 0s 5ms/step - loss: 27.8688 - mse: 1094.4382\n",
            "Epoch 11/100\n",
            "2/2 [==============================] - 0s 5ms/step - loss: 10.2473 - mse: 147.9359\n",
            "Epoch 12/100\n",
            "2/2 [==============================] - 0s 5ms/step - loss: 25.2803 - mse: 890.3867\n",
            "Epoch 13/100\n",
            "2/2 [==============================] - 0s 5ms/step - loss: 16.9897 - mse: 399.9678\n",
            "Epoch 14/100\n",
            "2/2 [==============================] - 0s 4ms/step - loss: 25.9217 - mse: 1049.5515\n",
            "Epoch 15/100\n",
            "2/2 [==============================] - 0s 8ms/step - loss: 17.9948 - mse: 450.2580\n",
            "Epoch 16/100\n",
            "2/2 [==============================] - 0s 6ms/step - loss: 7.3510 - mse: 80.6206\n",
            "Epoch 17/100\n",
            "2/2 [==============================] - 0s 5ms/step - loss: 10.8636 - mse: 174.7868\n",
            "Epoch 18/100\n",
            "2/2 [==============================] - 0s 4ms/step - loss: 19.5304 - mse: 565.8053\n",
            "Epoch 19/100\n",
            "2/2 [==============================] - 0s 7ms/step - loss: 10.3469 - mse: 167.7749\n",
            "Epoch 20/100\n",
            "2/2 [==============================] - 0s 5ms/step - loss: 17.6985 - mse: 455.7096\n",
            "Epoch 21/100\n",
            "2/2 [==============================] - 0s 5ms/step - loss: 15.8984 - mse: 347.1929\n",
            "Epoch 22/100\n",
            "2/2 [==============================] - 0s 6ms/step - loss: 14.1991 - mse: 285.1767\n",
            "Epoch 23/100\n",
            "2/2 [==============================] - 0s 4ms/step - loss: 8.7720 - mse: 91.7852\n",
            "Epoch 24/100\n",
            "2/2 [==============================] - 0s 5ms/step - loss: 11.0570 - mse: 153.7430\n",
            "Epoch 25/100\n",
            "2/2 [==============================] - 0s 14ms/step - loss: 12.6838 - mse: 233.2949\n",
            "Epoch 26/100\n",
            "2/2 [==============================] - 0s 6ms/step - loss: 26.1877 - mse: 1024.6091\n",
            "Epoch 27/100\n",
            "2/2 [==============================] - 0s 6ms/step - loss: 11.7432 - mse: 194.8454\n",
            "Epoch 28/100\n",
            "2/2 [==============================] - 0s 6ms/step - loss: 22.8730 - mse: 835.6074\n",
            "Epoch 29/100\n",
            "2/2 [==============================] - 0s 5ms/step - loss: 9.2459 - mse: 96.7786\n",
            "Epoch 30/100\n",
            "2/2 [==============================] - 0s 8ms/step - loss: 29.2641 - mse: 1535.1349\n",
            "Epoch 31/100\n",
            "2/2 [==============================] - 0s 6ms/step - loss: 53.0225 - mse: 5030.2988\n",
            "Epoch 32/100\n",
            "2/2 [==============================] - 0s 7ms/step - loss: 11.9951 - mse: 211.7025\n",
            "Epoch 33/100\n",
            "2/2 [==============================] - 0s 7ms/step - loss: 15.6357 - mse: 337.3666\n",
            "Epoch 34/100\n",
            "2/2 [==============================] - 0s 6ms/step - loss: 12.6925 - mse: 214.4823\n",
            "Epoch 35/100\n",
            "2/2 [==============================] - 0s 5ms/step - loss: 9.2398 - mse: 92.9126\n",
            "Epoch 36/100\n",
            "2/2 [==============================] - 0s 5ms/step - loss: 16.6497 - mse: 403.6573\n",
            "Epoch 37/100\n",
            "2/2 [==============================] - 0s 7ms/step - loss: 11.0382 - mse: 192.3919\n",
            "Epoch 38/100\n",
            "2/2 [==============================] - 0s 4ms/step - loss: 18.1634 - mse: 433.6717\n",
            "Epoch 39/100\n",
            "2/2 [==============================] - 0s 7ms/step - loss: 19.1013 - mse: 529.6439\n",
            "Epoch 40/100\n",
            "2/2 [==============================] - 0s 11ms/step - loss: 20.4324 - mse: 610.1324\n",
            "Epoch 41/100\n",
            "2/2 [==============================] - 0s 3ms/step - loss: 14.9102 - mse: 279.6183\n",
            "Epoch 42/100\n",
            "2/2 [==============================] - 0s 6ms/step - loss: 12.2809 - mse: 186.6180\n",
            "Epoch 43/100\n",
            "2/2 [==============================] - 0s 8ms/step - loss: 10.7333 - mse: 167.0952\n",
            "Epoch 44/100\n",
            "2/2 [==============================] - 0s 4ms/step - loss: 23.0260 - mse: 830.4244\n",
            "Epoch 45/100\n",
            "2/2 [==============================] - 0s 4ms/step - loss: 10.3897 - mse: 128.9549\n",
            "Epoch 46/100\n",
            "2/2 [==============================] - 0s 3ms/step - loss: 11.7904 - mse: 181.9212\n",
            "Epoch 47/100\n",
            "2/2 [==============================] - 0s 9ms/step - loss: 9.6438 - mse: 153.8708\n",
            "Epoch 48/100\n",
            "2/2 [==============================] - 0s 4ms/step - loss: 17.2335 - mse: 402.8494\n",
            "Epoch 49/100\n",
            "2/2 [==============================] - 0s 5ms/step - loss: 9.5729 - mse: 99.8337\n",
            "Epoch 50/100\n",
            "2/2 [==============================] - 0s 5ms/step - loss: 13.8185 - mse: 260.3670\n",
            "Epoch 51/100\n",
            "2/2 [==============================] - 0s 5ms/step - loss: 11.5958 - mse: 154.7956\n",
            "Epoch 52/100\n",
            "2/2 [==============================] - 0s 6ms/step - loss: 30.5538 - mse: 1613.0886\n",
            "Epoch 53/100\n",
            "2/2 [==============================] - 0s 18ms/step - loss: 14.3541 - mse: 302.5293\n",
            "Epoch 54/100\n",
            "2/2 [==============================] - 0s 5ms/step - loss: 23.9713 - mse: 859.3983\n",
            "Epoch 55/100\n",
            "2/2 [==============================] - 0s 5ms/step - loss: 23.1938 - mse: 805.5452\n",
            "Epoch 56/100\n",
            "2/2 [==============================] - 0s 5ms/step - loss: 10.8837 - mse: 170.9834\n",
            "Epoch 57/100\n",
            "2/2 [==============================] - 0s 6ms/step - loss: 12.7445 - mse: 198.7015\n",
            "Epoch 58/100\n",
            "2/2 [==============================] - 0s 6ms/step - loss: 9.5995 - mse: 102.5890\n",
            "Epoch 59/100\n",
            "2/2 [==============================] - 0s 7ms/step - loss: 12.5172 - mse: 216.3367\n",
            "Epoch 60/100\n",
            "2/2 [==============================] - 0s 4ms/step - loss: 12.3200 - mse: 208.6371\n",
            "Epoch 61/100\n",
            "2/2 [==============================] - 0s 6ms/step - loss: 17.4604 - mse: 428.6393\n",
            "Epoch 62/100\n",
            "2/2 [==============================] - 0s 5ms/step - loss: 10.6052 - mse: 136.9777\n",
            "Epoch 63/100\n",
            "2/2 [==============================] - 0s 11ms/step - loss: 10.4893 - mse: 152.4555\n",
            "Epoch 64/100\n",
            "2/2 [==============================] - 0s 13ms/step - loss: 24.8450 - mse: 911.7511\n",
            "Epoch 65/100\n",
            "2/2 [==============================] - 0s 5ms/step - loss: 10.6761 - mse: 142.7374\n",
            "Epoch 66/100\n",
            "2/2 [==============================] - 0s 17ms/step - loss: 21.7809 - mse: 704.4492\n",
            "Epoch 67/100\n",
            "2/2 [==============================] - 0s 14ms/step - loss: 10.7136 - mse: 136.0194\n",
            "Epoch 68/100\n",
            "2/2 [==============================] - 0s 6ms/step - loss: 10.6397 - mse: 149.2300\n",
            "Epoch 69/100\n",
            "2/2 [==============================] - 0s 10ms/step - loss: 22.6914 - mse: 742.1761\n",
            "Epoch 70/100\n",
            "2/2 [==============================] - 0s 8ms/step - loss: 9.3316 - mse: 166.1628\n",
            "Epoch 71/100\n",
            "2/2 [==============================] - 0s 5ms/step - loss: 15.4355 - mse: 323.0843\n",
            "Epoch 72/100\n",
            "2/2 [==============================] - 0s 5ms/step - loss: 6.7437 - mse: 67.0210\n",
            "Epoch 73/100\n",
            "2/2 [==============================] - 0s 8ms/step - loss: 11.6891 - mse: 183.7296\n",
            "Epoch 74/100\n",
            "2/2 [==============================] - 0s 6ms/step - loss: 24.0400 - mse: 908.8992\n",
            "Epoch 75/100\n",
            "2/2 [==============================] - 0s 5ms/step - loss: 9.5896 - mse: 149.3948\n",
            "Epoch 76/100\n",
            "2/2 [==============================] - 0s 8ms/step - loss: 12.4371 - mse: 188.3310\n",
            "Epoch 77/100\n",
            "2/2 [==============================] - 0s 5ms/step - loss: 16.6489 - mse: 429.2708\n",
            "Epoch 78/100\n",
            "2/2 [==============================] - 0s 5ms/step - loss: 9.0614 - mse: 95.4870\n",
            "Epoch 79/100\n",
            "2/2 [==============================] - 0s 5ms/step - loss: 23.9675 - mse: 864.0864\n",
            "Epoch 80/100\n",
            "2/2 [==============================] - 0s 6ms/step - loss: 26.7463 - mse: 1104.4032\n",
            "Epoch 81/100\n",
            "2/2 [==============================] - 0s 5ms/step - loss: 11.6714 - mse: 170.7055\n",
            "Epoch 82/100\n",
            "2/2 [==============================] - 0s 8ms/step - loss: 12.0228 - mse: 211.9191\n",
            "Epoch 83/100\n",
            "2/2 [==============================] - 0s 6ms/step - loss: 17.4218 - mse: 395.5589\n",
            "Epoch 84/100\n",
            "2/2 [==============================] - 0s 5ms/step - loss: 7.2629 - mse: 73.0935\n",
            "Epoch 85/100\n",
            "2/2 [==============================] - 0s 7ms/step - loss: 14.9650 - mse: 312.8361\n",
            "Epoch 86/100\n",
            "2/2 [==============================] - 0s 5ms/step - loss: 15.2862 - mse: 315.3605\n",
            "Epoch 87/100\n",
            "2/2 [==============================] - 0s 5ms/step - loss: 19.1086 - mse: 521.2534\n",
            "Epoch 88/100\n",
            "2/2 [==============================] - 0s 8ms/step - loss: 29.8229 - mse: 1287.1907\n",
            "Epoch 89/100\n",
            "2/2 [==============================] - 0s 5ms/step - loss: 10.1742 - mse: 124.1342\n",
            "Epoch 90/100\n",
            "2/2 [==============================] - 0s 5ms/step - loss: 21.5240 - mse: 663.8611\n",
            "Epoch 91/100\n",
            "2/2 [==============================] - 0s 7ms/step - loss: 10.5716 - mse: 161.7467\n",
            "Epoch 92/100\n",
            "2/2 [==============================] - 0s 9ms/step - loss: 18.3977 - mse: 464.1326\n",
            "Epoch 93/100\n",
            "2/2 [==============================] - 0s 6ms/step - loss: 7.4138 - mse: 81.9820\n",
            "Epoch 94/100\n",
            "2/2 [==============================] - 0s 6ms/step - loss: 17.7380 - mse: 445.7379\n",
            "Epoch 95/100\n",
            "2/2 [==============================] - 0s 5ms/step - loss: 11.1144 - mse: 164.0820\n",
            "Epoch 96/100\n",
            "2/2 [==============================] - 0s 6ms/step - loss: 19.4346 - mse: 510.5842\n",
            "Epoch 97/100\n",
            "2/2 [==============================] - 0s 5ms/step - loss: 12.1593 - mse: 209.9755\n",
            "Epoch 98/100\n",
            "2/2 [==============================] - 0s 6ms/step - loss: 11.5653 - mse: 169.4052\n",
            "Epoch 99/100\n",
            "2/2 [==============================] - 0s 6ms/step - loss: 13.8827 - mse: 265.4630\n",
            "Epoch 100/100\n",
            "2/2 [==============================] - 0s 7ms/step - loss: 20.2277 - mse: 608.8218\n"
          ]
        },
        {
          "output_type": "execute_result",
          "data": {
            "text/plain": [
              "<keras.callbacks.History at 0x7f41d1559a90>"
            ]
          },
          "metadata": {},
          "execution_count": 149
        }
      ]
    },
    {
      "cell_type": "code",
      "source": [
        "# make and plot predictions\n",
        "y_pred_2 = model_2.predict(X_test)\n",
        "\n",
        "plot_predictions(predictions=y_pred_2)"
      ],
      "metadata": {
        "colab": {
          "base_uri": "https://localhost:8080/",
          "height": 592
        },
        "id": "SMOZUEOMVqjT",
        "outputId": "5e528de6-df26-4325-e58c-fd9fce1249d3"
      },
      "execution_count": 151,
      "outputs": [
        {
          "output_type": "display_data",
          "data": {
            "text/plain": [
              "<Figure size 720x720 with 1 Axes>"
            ],
            "image/png": "[encoded data removed]"
          },
          "metadata": {
            "needs_background": "light"
          }
        }
      ]
    },
    {
      "cell_type": "code",
      "source": [
        "# evaluate model_2\n",
        "mae_2 = mae(y_test, y_pred_2)\n",
        "mse_2 = mse(y_test, y_pred_2)\n",
        "mae_2, mse_2"
      ],
      "metadata": {
        "colab": {
          "base_uri": "https://localhost:8080/"
        },
        "id": "1L3a848hWC6A",
        "outputId": "2ca345a8-9ff2-4d22-eb2d-77213b657fa9"
      },
      "execution_count": 155,
      "outputs": [
        {
          "output_type": "execute_result",
          "data": {
            "text/plain": [
              "(<tf.Tensor: shape=(), dtype=float32, numpy=3.1969407>,\n",
              " <tf.Tensor: shape=(), dtype=float32, numpy=13.070143>)"
            ]
          },
          "metadata": {},
          "execution_count": 155
        }
      ]
    },
    {
      "cell_type": "markdown",
      "source": [
        "#### Build model_3\n",
        "2 layers and 500 epochs"
      ],
      "metadata": {
        "id": "hfDBDDU8Wlsq"
      }
    },
    {
      "cell_type": "code",
      "source": [
        "# set random seed\n",
        "tf.random.set_seed(42)\n",
        "\n",
        "# create a model_3\n",
        "model_3 = tf.keras.Sequential([\n",
        "    tf.keras.layers.Dense(10),\n",
        "    tf.keras.layers.Dense(1)\n",
        "])\n",
        "\n",
        "# compile the model\n",
        "model_3.compile(loss = tf.keras.losses.mae,\n",
        "                optimizer = tf.keras.optimizers.SGD(),\n",
        "                metrics = [\"mse\"])\n",
        "\n",
        "# fit model\n",
        "model_3.fit(tf.expand_dims(X_train, axis=-1), y_train, epochs =500, verbose=0)"
      ],
      "metadata": {
        "colab": {
          "base_uri": "https://localhost:8080/"
        },
        "id": "lpyOUHoHWlDm",
        "outputId": "81c5c15a-e48c-42c7-baf5-b8c1a012ea2b"
      },
      "execution_count": 158,
      "outputs": [
        {
          "output_type": "execute_result",
          "data": {
            "text/plain": [
              "<keras.callbacks.History at 0x7f41cf5f4a50>"
            ]
          },
          "metadata": {},
          "execution_count": 158
        }
      ]
    },
    {
      "cell_type": "code",
      "source": [
        "# make and plot predictions\n",
        "y_pred_3 = model_3.predict(X_test)\n",
        "\n",
        "plot_predictions(predictions=y_pred_3)\n",
        "# this model is overfitting "
      ],
      "metadata": {
        "colab": {
          "base_uri": "https://localhost:8080/",
          "height": 592
        },
        "id": "uDg9PfTeWyw9",
        "outputId": "40ea0d63-02b1-4337-d5ed-4b14d2ea6aa3"
      },
      "execution_count": 159,
      "outputs": [
        {
          "output_type": "display_data",
          "data": {
            "text/plain": [
              "<Figure size 720x720 with 1 Axes>"
            ],
            "image/png": "[encoded data removed]"
          },
          "metadata": {
            "needs_background": "light"
          }
        }
      ]
    },
    {
      "cell_type": "code",
      "source": [
        "# evaluate model_3\n",
        "mae_3 = mae(y_test, y_pred_3)\n",
        "mse_3 = mae(y_test, y_pred_3)\n",
        "mae_3, mse_3"
      ],
      "metadata": {
        "colab": {
          "base_uri": "https://localhost:8080/"
        },
        "id": "dYLueWCXaMRM",
        "outputId": "fcaa4e58-3a83-43cb-f991-b832496ea3d2"
      },
      "execution_count": 160,
      "outputs": [
        {
          "output_type": "execute_result",
          "data": {
            "text/plain": [
              "(<tf.Tensor: shape=(), dtype=float32, numpy=68.713615>,\n",
              " <tf.Tensor: shape=(), dtype=float32, numpy=68.713615>)"
            ]
          },
          "metadata": {},
          "execution_count": 160
        }
      ]
    },
    {
      "cell_type": "markdown",
      "source": [
        "### Comparing tesorflow model experiments results"
      ],
      "metadata": {
        "id": "HqlEaPtiabHl"
      }
    },
    {
      "cell_type": "code",
      "source": [
        "# let's compare our models' results using panda dataframe\n",
        "import pandas as pd\n",
        "model_results = [[\"model_1\", mae_1.numpy(), mse_1.numpy()],\n",
        "                 [\"model_2\", mae_2.numpy(), mse_2.numpy()],\n",
        "                 [\"model_3\", mae_3.numpy(), mse_3.numpy()]]\n",
        "\n",
        "all_results = pd.DataFrame(model_results, columns =[\"model\",\"mae\",\"mse\"])\n",
        "all_results"
      ],
      "metadata": {
        "colab": {
          "base_uri": "https://localhost:8080/",
          "height": 173
        },
        "id": "7Mkvnjemaaz_",
        "outputId": "939b963a-5c75-47a1-831a-e652ab574570"
      },
      "execution_count": 162,
      "outputs": [
        {
          "output_type": "execute_result",
          "data": {
            "text/plain": [
              "     model        mae         mse\n",
              "0  model_1  18.745327  353.573364\n",
              "1  model_2   3.196941   13.070143\n",
              "2  model_3  68.713615   68.713615"
            ],
            "text/html": [
              "\n",
              "  <div id=\"df-99061980-eddc-46f1-8bcf-e46f82d75205\">\n",
              "    <div class=\"colab-df-container\">\n",
              "      <div>\n",
              "<style scoped>\n",
              "    .dataframe tbody tr th:only-of-type {\n",
              "        vertical-align: middle;\n",
              "    }\n",
              "\n",
              "    .dataframe tbody tr th {\n",
              "        vertical-align: top;\n",
              "    }\n",
              "\n",
              "    .dataframe thead th {\n",
              "        text-align: right;\n",
              "    }\n",
              "</style>\n",
              "<table border=\"1\" class=\"dataframe\">\n",
              "  <thead>\n",
              "    <tr style=\"text-align: right;\">\n",
              "      <th></th>\n",
              "      <th>model</th>\n",
              "      <th>mae</th>\n",
              "      <th>mse</th>\n",
              "    </tr>\n",
              "  </thead>\n",
              "  <tbody>\n",
              "    <tr>\n",
              "      <th>0</th>\n",
              "      <td>model_1</td>\n",
              "      <td>18.745327</td>\n",
              "      <td>353.573364</td>\n",
              "    </tr>\n",
              "    <tr>\n",
              "      <th>1</th>\n",
              "      <td>model_2</td>\n",
              "      <td>3.196941</td>\n",
              "      <td>13.070143</td>\n",
              "    </tr>\n",
              "    <tr>\n",
              "      <th>2</th>\n",
              "      <td>model_3</td>\n",
              "      <td>68.713615</td>\n",
              "      <td>68.713615</td>\n",
              "    </tr>\n",
              "  </tbody>\n",
              "</table>\n",
              "</div>\n",
              "      <button class=\"colab-df-convert\" onclick=\"convertToInteractive('df-99061980-eddc-46f1-8bcf-e46f82d75205')\"\n",
              "              title=\"Convert this dataframe to an interactive table.\"\n",
              "              style=\"display:none;\">\n",
              "        \n",
              "  <svg xmlns=\"http://www.w3.org/2000/svg\" height=\"24px\"viewBox=\"0 0 24 24\"\n",
              "       width=\"24px\">\n",
              "    <path d=\"M0 0h24v24H0V0z\" fill=\"none\"/>\n",
              "    <path d=\"M18.56 5.44l.94 2.06.94-2.06 2.06-.94-2.06-.94-.94-2.06-.94 2.06-2.06.94zm-11 1L8.5 8.5l.94-2.06 2.06-.94-2.06-.94L8.5 2.5l-.94 2.06-2.06.94zm10 10l.94 2.06.94-2.06 2.06-.94-2.06-.94-.94-2.06-.94 2.06-2.06.94z\"/><path d=\"M17.41 7.96l-1.37-1.37c-.4-.4-.92-.59-1.43-.59-.52 0-1.04.2-1.43.59L10.3 9.45l-7.72 7.72c-.78.78-.78 2.05 0 2.83L4 21.41c.39.39.9.59 1.41.59.51 0 1.02-.2 1.41-.59l7.78-7.78 2.81-2.81c.8-.78.8-2.07 0-2.86zM5.41 20L4 18.59l7.72-7.72 1.47 1.35L5.41 20z\"/>\n",
              "  </svg>\n",
              "      </button>\n",
              "      \n",
              "  <style>\n",
              "    .colab-df-container {\n",
              "      display:flex;\n",
              "      flex-wrap:wrap;\n",
              "      gap: 12px;\n",
              "    }\n",
              "\n",
              "    .colab-df-convert {\n",
              "      background-color: #E8F0FE;\n",
              "      border: none;\n",
              "      border-radius: 50%;\n",
              "      cursor: pointer;\n",
              "      display: none;\n",
              "      fill: #1967D2;\n",
              "      height: 32px;\n",
              "      padding: 0 0 0 0;\n",
              "      width: 32px;\n",
              "    }\n",
              "\n",
              "    .colab-df-convert:hover {\n",
              "      background-color: #E2EBFA;\n",
              "      box-shadow: 0px 1px 2px rgba(60, 64, 67, 0.3), 0px 1px 3px 1px rgba(60, 64, 67, 0.15);\n",
              "      fill: #174EA6;\n",
              "    }\n",
              "\n",
              "    [theme=dark] .colab-df-convert {\n",
              "      background-color: #3B4455;\n",
              "      fill: #D2E3FC;\n",
              "    }\n",
              "\n",
              "    [theme=dark] .colab-df-convert:hover {\n",
              "      background-color: #434B5C;\n",
              "      box-shadow: 0px 1px 3px 1px rgba(0, 0, 0, 0.15);\n",
              "      filter: drop-shadow(0px 1px 2px rgba(0, 0, 0, 0.3));\n",
              "      fill: #FFFFFF;\n",
              "    }\n",
              "  </style>\n",
              "\n",
              "      <script>\n",
              "        const buttonEl =\n",
              "          document.querySelector('#df-99061980-eddc-46f1-8bcf-e46f82d75205 button.colab-df-convert');\n",
              "        buttonEl.style.display =\n",
              "          google.colab.kernel.accessAllowed ? 'block' : 'none';\n",
              "\n",
              "        async function convertToInteractive(key) {\n",
              "          const element = document.querySelector('#df-99061980-eddc-46f1-8bcf-e46f82d75205');\n",
              "          const dataTable =\n",
              "            await google.colab.kernel.invokeFunction('convertToInteractive',\n",
              "                                                     [key], {});\n",
              "          if (!dataTable) return;\n",
              "\n",
              "          const docLinkHtml = 'Like what you see? Visit the ' +\n",
              "            '<a target=\"_blank\" href=https://colab.research.google.com/notebooks/data_table.ipynb>data table notebook</a>'\n",
              "            + ' to learn more about interactive tables.';\n",
              "          element.innerHTML = '';\n",
              "          dataTable['output_type'] = 'display_data';\n",
              "          await google.colab.output.renderOutput(dataTable, element);\n",
              "          const docLink = document.createElement('div');\n",
              "          docLink.innerHTML = docLinkHtml;\n",
              "          element.appendChild(docLink);\n",
              "        }\n",
              "      </script>\n",
              "    </div>\n",
              "  </div>\n",
              "  "
            ]
          },
          "metadata": {},
          "execution_count": 162
        }
      ]
    },
    {
      "cell_type": "markdown",
      "source": [
        "## Model_2 performed best!!"
      ],
      "metadata": {
        "id": "aDtWjYnJb5t6"
      }
    },
    {
      "cell_type": "code",
      "source": [
        "model_2.summary()"
      ],
      "metadata": {
        "colab": {
          "base_uri": "https://localhost:8080/"
        },
        "id": "WS1tB2AZb_dq",
        "outputId": "c8514f71-ef0c-465d-f886-5a4d6f7a351c"
      },
      "execution_count": 163,
      "outputs": [
        {
          "output_type": "stream",
          "name": "stdout",
          "text": [
            "Model: \"sequential_34\"\n",
            "_________________________________________________________________\n",
            " Layer (type)                Output Shape              Param #   \n",
            "=================================================================\n",
            " dense_60 (Dense)            (None, 10)                20        \n",
            "                                                                 \n",
            " dense_61 (Dense)            (None, 1)                 11        \n",
            "                                                                 \n",
            "=================================================================\n",
            "Total params: 31\n",
            "Trainable params: 31\n",
            "Non-trainable params: 0\n",
            "_________________________________________________________________\n"
          ]
        }
      ]
    }
  ]
}