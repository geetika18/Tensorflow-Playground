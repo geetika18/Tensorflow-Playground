{
  "nbformat": 4,
  "nbformat_minor": 0,
  "metadata": {
    "colab": {
      "provenance": [],
      "authorship_tag": "ABX9TyO4eQGHPsYLRguTnreY1eff",
      "include_colab_link": true
    },
    "kernelspec": {
      "name": "python3",
      "display_name": "Python 3"
    },
    "language_info": {
      "name": "python"
    }
  },
  "cells": [
    {
      "cell_type": "markdown",
      "metadata": {
        "id": "view-in-github",
        "colab_type": "text"
      },
      "source": [
        "<a href=\"https://colab.research.google.com/github/geetika18/Tensorflow-Playground/blob/main/02_Neural_Network_Classification_with_Tensorflow.ipynb\" target=\"_parent\"><img src=\"https://colab.research.google.com/assets/colab-badge.svg\" alt=\"Open In Colab\"/></a>"
      ]
    },
    {
      "cell_type": "markdown",
      "source": [
        "A classification is where you try to classify something as one thing or another\n",
        "A few types\n",
        "* Binary classification \n",
        "* Multiclass classification\n",
        "* Multilabel classification"
      ],
      "metadata": {
        "id": "AlBORby1lTio"
      }
    },
    {
      "cell_type": "markdown",
      "source": [
        "## Creating data to view and fit\n"
      ],
      "metadata": {
        "id": "h3HIX_ImlrCz"
      }
    },
    {
      "cell_type": "code",
      "execution_count": 2,
      "metadata": {
        "id": "AFeD2m_wgmt2"
      },
      "outputs": [],
      "source": [
        "from sklearn.datasets import make_circles\n",
        "\n",
        "# make 1000 examples\n",
        "n_samples = 1000\n",
        "\n",
        "# Create circles\n",
        "X,y = make_circles(n_samples,\n",
        "                   noise=0.03,\n",
        "                   random_state=42)"
      ]
    },
    {
      "cell_type": "code",
      "source": [
        "# Check out features\n",
        "X\n"
      ],
      "metadata": {
        "colab": {
          "base_uri": "https://localhost:8080/"
        },
        "id": "vwNWlLMJmPzW",
        "outputId": "b9625313-c877-45a0-cd4f-ebc7a133f06e"
      },
      "execution_count": 3,
      "outputs": [
        {
          "output_type": "execute_result",
          "data": {
            "text/plain": [
              "array([[ 0.75424625,  0.23148074],\n",
              "       [-0.75615888,  0.15325888],\n",
              "       [-0.81539193,  0.17328203],\n",
              "       ...,\n",
              "       [-0.13690036, -0.81001183],\n",
              "       [ 0.67036156, -0.76750154],\n",
              "       [ 0.28105665,  0.96382443]])"
            ]
          },
          "metadata": {},
          "execution_count": 3
        }
      ]
    },
    {
      "cell_type": "code",
      "source": [
        "# check the labels\n",
        "y"
      ],
      "metadata": {
        "colab": {
          "base_uri": "https://localhost:8080/"
        },
        "id": "3gZ-R_OxmhmK",
        "outputId": "b9378966-be89-49cf-bf49-a94ec4414ab1"
      },
      "execution_count": 4,
      "outputs": [
        {
          "output_type": "execute_result",
          "data": {
            "text/plain": [
              "array([1, 1, 1, 1, 0, 1, 1, 1, 1, 0, 1, 0, 1, 1, 1, 1, 0, 1, 1, 0, 1, 0,\n",
              "       0, 1, 0, 0, 0, 1, 1, 1, 0, 0, 1, 0, 0, 0, 1, 1, 1, 0, 0, 0, 0, 1,\n",
              "       0, 0, 1, 1, 0, 1, 1, 1, 0, 1, 0, 0, 1, 0, 0, 1, 0, 0, 1, 0, 1, 1,\n",
              "       1, 1, 0, 1, 0, 0, 1, 1, 0, 0, 1, 0, 1, 0, 1, 0, 0, 0, 0, 1, 1, 1,\n",
              "       1, 0, 0, 0, 1, 0, 1, 0, 1, 0, 0, 1, 1, 0, 1, 0, 1, 1, 1, 1, 0, 1,\n",
              "       1, 1, 1, 1, 0, 0, 0, 1, 1, 0, 1, 0, 1, 0, 0, 1, 1, 0, 1, 1, 1, 1,\n",
              "       0, 1, 1, 0, 0, 0, 0, 0, 0, 0, 1, 0, 1, 1, 1, 0, 1, 0, 1, 0, 1, 0,\n",
              "       1, 0, 0, 1, 0, 1, 1, 1, 1, 1, 1, 1, 0, 1, 0, 0, 0, 0, 0, 1, 0, 0,\n",
              "       0, 0, 1, 1, 0, 1, 0, 1, 1, 0, 0, 0, 1, 1, 1, 1, 1, 0, 0, 0, 0, 0,\n",
              "       1, 0, 0, 1, 1, 1, 1, 1, 0, 1, 0, 1, 0, 0, 1, 1, 1, 0, 1, 0, 1, 1,\n",
              "       0, 1, 1, 0, 1, 0, 1, 0, 1, 1, 0, 1, 0, 1, 0, 0, 0, 1, 0, 0, 0, 0,\n",
              "       1, 1, 0, 0, 0, 0, 0, 0, 0, 1, 1, 1, 0, 0, 1, 1, 1, 0, 1, 0, 0, 0,\n",
              "       0, 1, 1, 0, 1, 0, 0, 0, 1, 0, 1, 0, 0, 1, 0, 1, 1, 1, 0, 0, 0, 1,\n",
              "       0, 0, 0, 1, 1, 1, 1, 0, 0, 0, 1, 0, 0, 0, 1, 0, 0, 0, 1, 1, 0, 1,\n",
              "       1, 1, 1, 1, 1, 1, 0, 0, 0, 0, 1, 0, 0, 0, 0, 1, 1, 1, 0, 0, 1, 0,\n",
              "       1, 0, 1, 1, 0, 0, 1, 1, 1, 1, 0, 0, 0, 0, 0, 0, 1, 1, 0, 1, 0, 0,\n",
              "       1, 0, 0, 0, 0, 0, 0, 0, 0, 1, 0, 0, 0, 0, 1, 0, 0, 1, 0, 1, 0, 0,\n",
              "       0, 1, 0, 0, 1, 1, 0, 0, 1, 0, 0, 1, 1, 0, 1, 1, 0, 0, 1, 0, 1, 0,\n",
              "       0, 0, 1, 1, 0, 0, 1, 1, 1, 1, 1, 0, 0, 1, 1, 1, 1, 0, 1, 1, 1, 1,\n",
              "       1, 0, 0, 1, 0, 1, 0, 0, 0, 0, 1, 0, 0, 0, 0, 0, 0, 0, 0, 0, 1, 1,\n",
              "       0, 1, 1, 1, 1, 1, 1, 0, 1, 1, 1, 1, 0, 0, 0, 1, 1, 1, 0, 0, 0, 0,\n",
              "       1, 1, 0, 0, 0, 0, 1, 0, 0, 0, 1, 0, 0, 1, 1, 1, 1, 1, 1, 0, 0, 0,\n",
              "       1, 0, 0, 0, 0, 0, 1, 1, 1, 0, 0, 0, 0, 0, 1, 1, 1, 0, 0, 1, 1, 1,\n",
              "       1, 0, 1, 1, 0, 1, 0, 0, 0, 1, 0, 0, 1, 0, 0, 1, 1, 0, 0, 1, 1, 0,\n",
              "       1, 0, 1, 0, 1, 0, 1, 0, 0, 0, 1, 0, 0, 0, 0, 0, 0, 1, 1, 1, 1, 0,\n",
              "       0, 0, 1, 0, 1, 1, 0, 0, 0, 0, 0, 1, 1, 1, 0, 0, 1, 0, 0, 1, 0, 0,\n",
              "       1, 0, 0, 1, 0, 0, 0, 1, 0, 0, 1, 1, 1, 0, 1, 1, 0, 0, 0, 1, 1, 1,\n",
              "       1, 0, 0, 1, 1, 1, 0, 0, 0, 0, 1, 1, 0, 0, 1, 1, 0, 0, 1, 1, 1, 1,\n",
              "       1, 1, 1, 0, 1, 0, 1, 0, 0, 1, 0, 1, 1, 1, 1, 0, 0, 1, 1, 0, 0, 1,\n",
              "       0, 1, 0, 0, 0, 1, 0, 0, 1, 1, 1, 1, 0, 1, 1, 1, 1, 1, 1, 1, 0, 1,\n",
              "       0, 1, 1, 1, 0, 0, 1, 0, 0, 0, 1, 1, 1, 1, 0, 0, 0, 0, 1, 0, 1, 1,\n",
              "       1, 0, 1, 0, 0, 1, 0, 0, 1, 1, 1, 1, 1, 0, 1, 0, 0, 0, 1, 1, 1, 1,\n",
              "       1, 0, 0, 0, 1, 1, 1, 1, 0, 0, 0, 0, 0, 1, 1, 0, 1, 0, 1, 0, 0, 0,\n",
              "       0, 0, 0, 0, 0, 0, 1, 1, 1, 1, 1, 0, 1, 0, 1, 1, 1, 1, 0, 1, 1, 1,\n",
              "       1, 1, 1, 1, 1, 0, 1, 1, 0, 1, 0, 0, 0, 1, 0, 1, 1, 1, 0, 1, 1, 0,\n",
              "       1, 1, 0, 1, 0, 1, 1, 0, 0, 1, 1, 1, 0, 0, 0, 0, 1, 1, 0, 0, 1, 1,\n",
              "       1, 1, 1, 1, 1, 1, 1, 1, 1, 1, 1, 1, 0, 0, 1, 0, 1, 0, 1, 0, 1, 1,\n",
              "       1, 1, 1, 1, 0, 1, 0, 1, 1, 1, 0, 1, 1, 0, 0, 1, 0, 1, 1, 0, 0, 1,\n",
              "       1, 1, 1, 1, 1, 1, 1, 0, 1, 1, 1, 0, 1, 0, 0, 1, 1, 0, 0, 0, 1, 0,\n",
              "       0, 1, 0, 0, 0, 1, 0, 1, 0, 0, 0, 0, 1, 0, 1, 1, 1, 1, 0, 1, 0, 0,\n",
              "       0, 0, 0, 0, 1, 0, 1, 0, 1, 0, 1, 1, 1, 0, 1, 0, 1, 0, 0, 1, 1, 1,\n",
              "       0, 0, 0, 1, 1, 0, 1, 0, 1, 1, 0, 1, 0, 0, 1, 1, 1, 0, 0, 0, 1, 1,\n",
              "       0, 0, 0, 0, 0, 1, 1, 0, 1, 0, 0, 0, 1, 0, 0, 0, 1, 1, 1, 1, 0, 1,\n",
              "       1, 1, 0, 1, 1, 1, 1, 0, 1, 1, 0, 1, 1, 0, 0, 1, 1, 1, 0, 0, 0, 0,\n",
              "       0, 0, 1, 0, 0, 1, 0, 0, 0, 1, 0, 1, 0, 1, 1, 0, 0, 0, 0, 0, 0, 0,\n",
              "       0, 1, 0, 1, 0, 0, 0, 1, 0, 0])"
            ]
          },
          "metadata": {},
          "execution_count": 4
        }
      ]
    },
    {
      "cell_type": "code",
      "source": [
        "# Visualize data\n",
        "import pandas as pd\n",
        "circles = pd.DataFrame({\"X0\":X[:,0], \"X1\":X[:,1], \"label\":y})\n",
        "circles"
      ],
      "metadata": {
        "colab": {
          "base_uri": "https://localhost:8080/",
          "height": 419
        },
        "id": "8j3CErSgmryO",
        "outputId": "c7f449fa-9afd-4b58-ea4c-015006fc1364"
      },
      "execution_count": 5,
      "outputs": [
        {
          "output_type": "execute_result",
          "data": {
            "text/plain": [
              "           X0        X1  label\n",
              "0    0.754246  0.231481      1\n",
              "1   -0.756159  0.153259      1\n",
              "2   -0.815392  0.173282      1\n",
              "3   -0.393731  0.692883      1\n",
              "4    0.442208 -0.896723      0\n",
              "..        ...       ...    ...\n",
              "995  0.244054  0.944125      0\n",
              "996 -0.978655 -0.272373      0\n",
              "997 -0.136900 -0.810012      1\n",
              "998  0.670362 -0.767502      0\n",
              "999  0.281057  0.963824      0\n",
              "\n",
              "[1000 rows x 3 columns]"
            ],
            "text/html": [
              "\n",
              "  <div id=\"df-9eded92c-a12b-44dd-b0ba-b71a69850363\">\n",
              "    <div class=\"colab-df-container\">\n",
              "      <div>\n",
              "<style scoped>\n",
              "    .dataframe tbody tr th:only-of-type {\n",
              "        vertical-align: middle;\n",
              "    }\n",
              "\n",
              "    .dataframe tbody tr th {\n",
              "        vertical-align: top;\n",
              "    }\n",
              "\n",
              "    .dataframe thead th {\n",
              "        text-align: right;\n",
              "    }\n",
              "</style>\n",
              "<table border=\"1\" class=\"dataframe\">\n",
              "  <thead>\n",
              "    <tr style=\"text-align: right;\">\n",
              "      <th></th>\n",
              "      <th>X0</th>\n",
              "      <th>X1</th>\n",
              "      <th>label</th>\n",
              "    </tr>\n",
              "  </thead>\n",
              "  <tbody>\n",
              "    <tr>\n",
              "      <th>0</th>\n",
              "      <td>0.754246</td>\n",
              "      <td>0.231481</td>\n",
              "      <td>1</td>\n",
              "    </tr>\n",
              "    <tr>\n",
              "      <th>1</th>\n",
              "      <td>-0.756159</td>\n",
              "      <td>0.153259</td>\n",
              "      <td>1</td>\n",
              "    </tr>\n",
              "    <tr>\n",
              "      <th>2</th>\n",
              "      <td>-0.815392</td>\n",
              "      <td>0.173282</td>\n",
              "      <td>1</td>\n",
              "    </tr>\n",
              "    <tr>\n",
              "      <th>3</th>\n",
              "      <td>-0.393731</td>\n",
              "      <td>0.692883</td>\n",
              "      <td>1</td>\n",
              "    </tr>\n",
              "    <tr>\n",
              "      <th>4</th>\n",
              "      <td>0.442208</td>\n",
              "      <td>-0.896723</td>\n",
              "      <td>0</td>\n",
              "    </tr>\n",
              "    <tr>\n",
              "      <th>...</th>\n",
              "      <td>...</td>\n",
              "      <td>...</td>\n",
              "      <td>...</td>\n",
              "    </tr>\n",
              "    <tr>\n",
              "      <th>995</th>\n",
              "      <td>0.244054</td>\n",
              "      <td>0.944125</td>\n",
              "      <td>0</td>\n",
              "    </tr>\n",
              "    <tr>\n",
              "      <th>996</th>\n",
              "      <td>-0.978655</td>\n",
              "      <td>-0.272373</td>\n",
              "      <td>0</td>\n",
              "    </tr>\n",
              "    <tr>\n",
              "      <th>997</th>\n",
              "      <td>-0.136900</td>\n",
              "      <td>-0.810012</td>\n",
              "      <td>1</td>\n",
              "    </tr>\n",
              "    <tr>\n",
              "      <th>998</th>\n",
              "      <td>0.670362</td>\n",
              "      <td>-0.767502</td>\n",
              "      <td>0</td>\n",
              "    </tr>\n",
              "    <tr>\n",
              "      <th>999</th>\n",
              "      <td>0.281057</td>\n",
              "      <td>0.963824</td>\n",
              "      <td>0</td>\n",
              "    </tr>\n",
              "  </tbody>\n",
              "</table>\n",
              "<p>1000 rows × 3 columns</p>\n",
              "</div>\n",
              "      <button class=\"colab-df-convert\" onclick=\"convertToInteractive('df-9eded92c-a12b-44dd-b0ba-b71a69850363')\"\n",
              "              title=\"Convert this dataframe to an interactive table.\"\n",
              "              style=\"display:none;\">\n",
              "        \n",
              "  <svg xmlns=\"http://www.w3.org/2000/svg\" height=\"24px\"viewBox=\"0 0 24 24\"\n",
              "       width=\"24px\">\n",
              "    <path d=\"M0 0h24v24H0V0z\" fill=\"none\"/>\n",
              "    <path d=\"M18.56 5.44l.94 2.06.94-2.06 2.06-.94-2.06-.94-.94-2.06-.94 2.06-2.06.94zm-11 1L8.5 8.5l.94-2.06 2.06-.94-2.06-.94L8.5 2.5l-.94 2.06-2.06.94zm10 10l.94 2.06.94-2.06 2.06-.94-2.06-.94-.94-2.06-.94 2.06-2.06.94z\"/><path d=\"M17.41 7.96l-1.37-1.37c-.4-.4-.92-.59-1.43-.59-.52 0-1.04.2-1.43.59L10.3 9.45l-7.72 7.72c-.78.78-.78 2.05 0 2.83L4 21.41c.39.39.9.59 1.41.59.51 0 1.02-.2 1.41-.59l7.78-7.78 2.81-2.81c.8-.78.8-2.07 0-2.86zM5.41 20L4 18.59l7.72-7.72 1.47 1.35L5.41 20z\"/>\n",
              "  </svg>\n",
              "      </button>\n",
              "      \n",
              "  <style>\n",
              "    .colab-df-container {\n",
              "      display:flex;\n",
              "      flex-wrap:wrap;\n",
              "      gap: 12px;\n",
              "    }\n",
              "\n",
              "    .colab-df-convert {\n",
              "      background-color: #E8F0FE;\n",
              "      border: none;\n",
              "      border-radius: 50%;\n",
              "      cursor: pointer;\n",
              "      display: none;\n",
              "      fill: #1967D2;\n",
              "      height: 32px;\n",
              "      padding: 0 0 0 0;\n",
              "      width: 32px;\n",
              "    }\n",
              "\n",
              "    .colab-df-convert:hover {\n",
              "      background-color: #E2EBFA;\n",
              "      box-shadow: 0px 1px 2px rgba(60, 64, 67, 0.3), 0px 1px 3px 1px rgba(60, 64, 67, 0.15);\n",
              "      fill: #174EA6;\n",
              "    }\n",
              "\n",
              "    [theme=dark] .colab-df-convert {\n",
              "      background-color: #3B4455;\n",
              "      fill: #D2E3FC;\n",
              "    }\n",
              "\n",
              "    [theme=dark] .colab-df-convert:hover {\n",
              "      background-color: #434B5C;\n",
              "      box-shadow: 0px 1px 3px 1px rgba(0, 0, 0, 0.15);\n",
              "      filter: drop-shadow(0px 1px 2px rgba(0, 0, 0, 0.3));\n",
              "      fill: #FFFFFF;\n",
              "    }\n",
              "  </style>\n",
              "\n",
              "      <script>\n",
              "        const buttonEl =\n",
              "          document.querySelector('#df-9eded92c-a12b-44dd-b0ba-b71a69850363 button.colab-df-convert');\n",
              "        buttonEl.style.display =\n",
              "          google.colab.kernel.accessAllowed ? 'block' : 'none';\n",
              "\n",
              "        async function convertToInteractive(key) {\n",
              "          const element = document.querySelector('#df-9eded92c-a12b-44dd-b0ba-b71a69850363');\n",
              "          const dataTable =\n",
              "            await google.colab.kernel.invokeFunction('convertToInteractive',\n",
              "                                                     [key], {});\n",
              "          if (!dataTable) return;\n",
              "\n",
              "          const docLinkHtml = 'Like what you see? Visit the ' +\n",
              "            '<a target=\"_blank\" href=https://colab.research.google.com/notebooks/data_table.ipynb>data table notebook</a>'\n",
              "            + ' to learn more about interactive tables.';\n",
              "          element.innerHTML = '';\n",
              "          dataTable['output_type'] = 'display_data';\n",
              "          await google.colab.output.renderOutput(dataTable, element);\n",
              "          const docLink = document.createElement('div');\n",
              "          docLink.innerHTML = docLinkHtml;\n",
              "          element.appendChild(docLink);\n",
              "        }\n",
              "      </script>\n",
              "    </div>\n",
              "  </div>\n",
              "  "
            ]
          },
          "metadata": {},
          "execution_count": 5
        }
      ]
    },
    {
      "cell_type": "code",
      "source": [
        "# Visualize with a plot\n",
        "import matplotlib.pyplot as plt\n",
        "plt.scatter(X[:,0], X[:,1], c=y, cmap=plt.cm.RdYlBu)\n",
        "\n"
      ],
      "metadata": {
        "colab": {
          "base_uri": "https://localhost:8080/",
          "height": 282
        },
        "id": "Novv_pzEnhRH",
        "outputId": "abb781de-2668-411f-ce9b-3fd9f9de0caa"
      },
      "execution_count": 6,
      "outputs": [
        {
          "output_type": "execute_result",
          "data": {
            "text/plain": [
              "<matplotlib.collections.PathCollection at 0x7f61c8195690>"
            ]
          },
          "metadata": {},
          "execution_count": 6
        },
        {
          "output_type": "display_data",
          "data": {
            "text/plain": [
              "<Figure size 432x288 with 1 Axes>"
            ],
            "image/png": "[encoded data removed]"
          },
          "metadata": {
            "needs_background": "light"
          }
        }
      ]
    },
    {
      "cell_type": "code",
      "source": [
        "# Input and output shapes\n",
        "X.shape, y.shape"
      ],
      "metadata": {
        "colab": {
          "base_uri": "https://localhost:8080/"
        },
        "id": "lCYeVIVWpMdT",
        "outputId": "b5935c3a-246c-4edc-8705-4424cb700766"
      },
      "execution_count": 7,
      "outputs": [
        {
          "output_type": "execute_result",
          "data": {
            "text/plain": [
              "((1000, 2), (1000,))"
            ]
          },
          "metadata": {},
          "execution_count": 7
        }
      ]
    },
    {
      "cell_type": "markdown",
      "source": [
        "## Steps in modelling\n",
        "\n",
        "1. Create or import a model\n",
        "2. compile the model\n",
        "3. Fit the model\n",
        "4. Evaluate the model\n",
        "5. Tweak\n",
        "6. Evaluate"
      ],
      "metadata": {
        "id": "TJUIEqPQpmua"
      }
    },
    {
      "cell_type": "code",
      "source": [
        "import tensorflow as tf\n",
        "tf.random.set_seed(42)\n",
        "\n",
        "# Create the model\n",
        "model_1 = tf.keras.Sequential([\n",
        "    tf.keras.layers.Dense(1)\n",
        "])\n",
        "\n",
        "model_1.compile(loss = tf.keras.losses.BinaryCrossentropy(),\n",
        "                optimizer = tf.keras.optimizers.SGD(),\n",
        "                metrics = [\"accuracy\"])\n",
        "\n",
        "model_1.fit(X,y,epochs=100, verbose=0)"
      ],
      "metadata": {
        "colab": {
          "base_uri": "https://localhost:8080/"
        },
        "id": "QQWOthgUpU0p",
        "outputId": "f95d563d-734c-4bc4-ac67-272e16bc1360"
      },
      "execution_count": 8,
      "outputs": [
        {
          "output_type": "execute_result",
          "data": {
            "text/plain": [
              "<keras.callbacks.History at 0x7f6163e50290>"
            ]
          },
          "metadata": {},
          "execution_count": 8
        }
      ]
    },
    {
      "cell_type": "code",
      "source": [
        "model_1.evaluate(X,y)"
      ],
      "metadata": {
        "colab": {
          "base_uri": "https://localhost:8080/"
        },
        "id": "XTRxDitOsoqB",
        "outputId": "74668a6c-0584-4fac-bfec-7d8d8fe23880"
      },
      "execution_count": 9,
      "outputs": [
        {
          "output_type": "stream",
          "name": "stdout",
          "text": [
            "32/32 [==============================] - 0s 1ms/step - loss: 0.6932 - accuracy: 0.5000\n"
          ]
        },
        {
          "output_type": "execute_result",
          "data": {
            "text/plain": [
              "[0.693244993686676, 0.5]"
            ]
          },
          "metadata": {},
          "execution_count": 9
        }
      ]
    },
    {
      "cell_type": "markdown",
      "source": [
        "Accuracy rate is only 50%. There let's make our model better by adding one more layer."
      ],
      "metadata": {
        "id": "mKziz25rs0dG"
      }
    },
    {
      "cell_type": "code",
      "source": [
        "tf.random.set_seed(42)\n",
        "\n",
        "model_2 = tf.keras.Sequential([\n",
        "    tf.keras.layers.Dense(100),\n",
        "    tf.keras.layers.Dense(1)\n",
        "])\n",
        "\n",
        "model_2.compile(loss = tf.keras.losses.BinaryCrossentropy(),\n",
        "                optimizer = tf.keras.optimizers.Adam(),\n",
        "                metrics = [\"accuracy\"])\n",
        "\n",
        "model_2.fit(X,y,epochs=100, verbose =0)\n",
        "\n",
        "model_2.evaluate(X,y)"
      ],
      "metadata": {
        "colab": {
          "base_uri": "https://localhost:8080/"
        },
        "id": "iKKIU_bysyUz",
        "outputId": "09b026f3-11d2-41e1-9661-c45ce1139b78"
      },
      "execution_count": 10,
      "outputs": [
        {
          "output_type": "stream",
          "name": "stdout",
          "text": [
            "32/32 [==============================] - 0s 977us/step - loss: 0.6944 - accuracy: 0.5100\n"
          ]
        },
        {
          "output_type": "execute_result",
          "data": {
            "text/plain": [
              "[0.6944003105163574, 0.5099999904632568]"
            ]
          },
          "metadata": {},
          "execution_count": 10
        }
      ]
    },
    {
      "cell_type": "markdown",
      "source": [
        "## Improving the model"
      ],
      "metadata": {
        "id": "xLJPz1vMtpHd"
      }
    },
    {
      "cell_type": "code",
      "source": [
        "circles[\"label\"].value_counts() \n"
      ],
      "metadata": {
        "colab": {
          "base_uri": "https://localhost:8080/"
        },
        "id": "tvjjWiM0t01F",
        "outputId": "dab5fe81-384f-4615-9459-c88ebf905878"
      },
      "execution_count": 11,
      "outputs": [
        {
          "output_type": "execute_result",
          "data": {
            "text/plain": [
              "1    500\n",
              "0    500\n",
              "Name: label, dtype: int64"
            ]
          },
          "metadata": {},
          "execution_count": 11
        }
      ]
    },
    {
      "cell_type": "code",
      "source": [
        "tf.random.set_seed(42)\n",
        "\n",
        "model_3 = tf.keras.Sequential([\n",
        "      tf.keras.layers.Dense(100),\n",
        "      tf.keras.layers.Dense(10),\n",
        "      tf.keras.layers.Dense(1)\n",
        "])\n",
        "\n",
        "model_3.compile(loss = tf.keras.losses.BinaryCrossentropy(),\n",
        "                optimizer = tf.keras.optimizers.Adam(),\n",
        "                metrics = [\"accuracy\"])\n",
        "\n",
        "model_3.fit(X,y, epochs = 100, verbose=0)\n",
        "\n",
        "model_3.evaluate(X,y)"
      ],
      "metadata": {
        "colab": {
          "base_uri": "https://localhost:8080/"
        },
        "id": "H7s4tDKGt-rS",
        "outputId": "8c6d5682-739f-47f0-807a-07dd36d79a51"
      },
      "execution_count": 12,
      "outputs": [
        {
          "output_type": "stream",
          "name": "stdout",
          "text": [
            "32/32 [==============================] - 0s 1ms/step - loss: 0.6980 - accuracy: 0.5080\n"
          ]
        },
        {
          "output_type": "execute_result",
          "data": {
            "text/plain": [
              "[0.6980254054069519, 0.5080000162124634]"
            ]
          },
          "metadata": {},
          "execution_count": 12
        }
      ]
    },
    {
      "cell_type": "markdown",
      "source": [
        "## Plot decision boundary\n",
        "To visualize our model's predictions\n",
        "* Take in a trained model, features X and y\n",
        "* Create a meshgrid of different X values\n",
        "* Make predictions across the meshgrid\n",
        "* Plot the predictions as well as a line between zones(where each unique class falls)"
      ],
      "metadata": {
        "id": "fGj1IqLY6rwP"
      }
    },
    {
      "cell_type": "code",
      "source": [
        "import numpy as np\n",
        "\n",
        "def plot_decision_boundary(model,X,y):\n",
        "  \"\"\"\n",
        "  Plots the decision boundary created by a model predicting on X\n",
        "  \"\"\"\n",
        "  # Define the axis boundaries of the plot and create a meshgrid\n",
        "\n",
        "  x_min, x_max = X[:,0].min()- 0.1, X[:,0].max()+0.1\n",
        "  y_min, y_max = X[:,1].min() - 0.1, X[:,1].max() + 0.1\n",
        "\n",
        "  xx, yy = np.meshgrid(np.linspace(x_min, x_max, 100),\n",
        "                       np.linspace(y_min, y_max, 100))\n",
        "  \n",
        "  x_in = np.c_[xx.ravel(), yy.ravel()] #stack 2D arrays together\n",
        "\n",
        "  y_pred = model.predict(x_in)\n",
        "\n",
        "  #check for multiclass\n",
        "\n",
        "  if len(y_pred[0])> 1:\n",
        "    print(\"multi-class prediction\")\n",
        "    y_pred = np.argmax(y-pred,axis=1).reshape(xx.shape)\n",
        "  else:\n",
        "    print(\"doing binary classification\")\n",
        "    y_pred = np.round(y_pred).reshape(xx.shape)\n",
        "  \n",
        "  #plot the boundary\n",
        "  plt.contourf(xx,yy,y_pred, cmap=plt.cm.RdYlBu, alpha=0.7)\n",
        "  plt.scatter(X[:,0],X[:,1], c=y, s=40, cmap=plt.cm.RdYlBu)\n",
        "  plt.xlim(xx.min(),xx.max())\n",
        "  plt.ylim(yy.min(),yy.max())\n",
        "\n"
      ],
      "metadata": {
        "id": "FoCIiand6vNS"
      },
      "execution_count": 13,
      "outputs": []
    },
    {
      "cell_type": "code",
      "source": [
        "# checkout predictions\n",
        "plot_decision_boundary(model = model_3,\n",
        "                       X=X,\n",
        "                       y=y)"
      ],
      "metadata": {
        "colab": {
          "base_uri": "https://localhost:8080/",
          "height": 282
        },
        "id": "0SyYhn5MQT6L",
        "outputId": "e31c9a3d-06b5-464a-bcc4-6481277bb8c5"
      },
      "execution_count": 14,
      "outputs": [
        {
          "output_type": "stream",
          "name": "stdout",
          "text": [
            "doing binary classification\n"
          ]
        },
        {
          "output_type": "display_data",
          "data": {
            "text/plain": [
              "<Figure size 432x288 with 1 Axes>"
            ],
            "image/png": "[encoded data removed]"
          },
          "metadata": {
            "needs_background": "light"
          }
        }
      ]
    },
    {
      "cell_type": "code",
      "source": [
        "# Let's see if our model works for a regression problem\n",
        "tf.random.set_seed(42)\n",
        "\n",
        "X_regression = tf.range(0,1000,5)\n",
        "y_regression = tf.range(100,1100,5) # y = X+100\n",
        "\n",
        "# split the data in training and testing \n",
        "X_reg_train = X_regression[:150]\n",
        "X_reg_test = X_regression[150:]\n",
        "y_reg_train = y_regression[:150]\n",
        "y_reg_test = y_regression[150:]\n",
        "\n",
        "# fit the model\n",
        "#model_3.fit(tf.expand_dims(X_reg_train,axis=-1), y_reg_train, epochs = 100)"
      ],
      "metadata": {
        "id": "nmuiKhn7S5qe"
      },
      "execution_count": 15,
      "outputs": []
    },
    {
      "cell_type": "markdown",
      "source": [
        "we compiled the model for binary classification but we are working on regression so lets change the model to suit our data\n"
      ],
      "metadata": {
        "id": "pWvk1fuOU7U1"
      }
    },
    {
      "cell_type": "code",
      "source": [
        "tf.random.set_seed(42)\n",
        "\n",
        "model_4 = tf.keras.Sequential([\n",
        "      tf.keras.layers.Dense(100),\n",
        "      tf.keras.layers.Dense(10),\n",
        "      tf.keras.layers.Dense(1)\n",
        "])\n",
        "\n",
        "model_4.compile(loss = tf.keras.losses.mae,\n",
        "                optimizer = tf.keras.optimizers.Adam(),\n",
        "                metrics = [\"mae\"])\n",
        "\n",
        "model_4.fit(tf.expand_dims(X_reg_train, axis=-1), y_reg_train, epochs=100)"
      ],
      "metadata": {
        "colab": {
          "base_uri": "https://localhost:8080/"
        },
        "id": "Tdl20YUAVDYm",
        "outputId": "e0b7a815-a011-4d6b-b48e-67059b2147f3"
      },
      "execution_count": 16,
      "outputs": [
        {
          "output_type": "stream",
          "name": "stdout",
          "text": [
            "Epoch 1/100\n",
            "5/5 [==============================] - 0s 4ms/step - loss: 248.2155 - mae: 248.2155\n",
            "Epoch 2/100\n",
            "5/5 [==============================] - 0s 4ms/step - loss: 138.9005 - mae: 138.9005\n",
            "Epoch 3/100\n",
            "5/5 [==============================] - 0s 3ms/step - loss: 53.1039 - mae: 53.1039\n",
            "Epoch 4/100\n",
            "5/5 [==============================] - 0s 3ms/step - loss: 73.5170 - mae: 73.5170\n",
            "Epoch 5/100\n",
            "5/5 [==============================] - 0s 3ms/step - loss: 71.2358 - mae: 71.2358\n",
            "Epoch 6/100\n",
            "5/5 [==============================] - 0s 3ms/step - loss: 47.0040 - mae: 47.0040\n",
            "Epoch 7/100\n",
            "5/5 [==============================] - 0s 3ms/step - loss: 45.9386 - mae: 45.9386\n",
            "Epoch 8/100\n",
            "5/5 [==============================] - 0s 3ms/step - loss: 42.3638 - mae: 42.3638\n",
            "Epoch 9/100\n",
            "5/5 [==============================] - 0s 3ms/step - loss: 43.6831 - mae: 43.6831\n",
            "Epoch 10/100\n",
            "5/5 [==============================] - 0s 3ms/step - loss: 42.6198 - mae: 42.6198\n",
            "Epoch 11/100\n",
            "5/5 [==============================] - 0s 3ms/step - loss: 42.4797 - mae: 42.4797\n",
            "Epoch 12/100\n",
            "5/5 [==============================] - 0s 4ms/step - loss: 41.5537 - mae: 41.5537\n",
            "Epoch 13/100\n",
            "5/5 [==============================] - 0s 3ms/step - loss: 42.0972 - mae: 42.0972\n",
            "Epoch 14/100\n",
            "5/5 [==============================] - 0s 3ms/step - loss: 41.8647 - mae: 41.8647\n",
            "Epoch 15/100\n",
            "5/5 [==============================] - 0s 3ms/step - loss: 41.5342 - mae: 41.5342\n",
            "Epoch 16/100\n",
            "5/5 [==============================] - 0s 3ms/step - loss: 41.4028 - mae: 41.4028\n",
            "Epoch 17/100\n",
            "5/5 [==============================] - 0s 3ms/step - loss: 41.6887 - mae: 41.6887\n",
            "Epoch 18/100\n",
            "5/5 [==============================] - 0s 3ms/step - loss: 41.6137 - mae: 41.6137\n",
            "Epoch 19/100\n",
            "5/5 [==============================] - 0s 4ms/step - loss: 41.2796 - mae: 41.2796\n",
            "Epoch 20/100\n",
            "5/5 [==============================] - 0s 2ms/step - loss: 41.1947 - mae: 41.1947\n",
            "Epoch 21/100\n",
            "5/5 [==============================] - 0s 3ms/step - loss: 41.2130 - mae: 41.2130\n",
            "Epoch 22/100\n",
            "5/5 [==============================] - 0s 4ms/step - loss: 41.0893 - mae: 41.0893\n",
            "Epoch 23/100\n",
            "5/5 [==============================] - 0s 2ms/step - loss: 41.2019 - mae: 41.2019\n",
            "Epoch 24/100\n",
            "5/5 [==============================] - 0s 2ms/step - loss: 40.9989 - mae: 40.9989\n",
            "Epoch 25/100\n",
            "5/5 [==============================] - 0s 2ms/step - loss: 41.0131 - mae: 41.0131\n",
            "Epoch 26/100\n",
            "5/5 [==============================] - 0s 3ms/step - loss: 41.0654 - mae: 41.0654\n",
            "Epoch 27/100\n",
            "5/5 [==============================] - 0s 2ms/step - loss: 40.8764 - mae: 40.8764\n",
            "Epoch 28/100\n",
            "5/5 [==============================] - 0s 3ms/step - loss: 41.0545 - mae: 41.0545\n",
            "Epoch 29/100\n",
            "5/5 [==============================] - 0s 2ms/step - loss: 41.0480 - mae: 41.0480\n",
            "Epoch 30/100\n",
            "5/5 [==============================] - 0s 2ms/step - loss: 40.8807 - mae: 40.8807\n",
            "Epoch 31/100\n",
            "5/5 [==============================] - 0s 3ms/step - loss: 41.2695 - mae: 41.2695\n",
            "Epoch 32/100\n",
            "5/5 [==============================] - 0s 3ms/step - loss: 40.9949 - mae: 40.9949\n",
            "Epoch 33/100\n",
            "5/5 [==============================] - 0s 2ms/step - loss: 41.0760 - mae: 41.0760\n",
            "Epoch 34/100\n",
            "5/5 [==============================] - 0s 2ms/step - loss: 41.2471 - mae: 41.2471\n",
            "Epoch 35/100\n",
            "5/5 [==============================] - 0s 2ms/step - loss: 40.6102 - mae: 40.6102\n",
            "Epoch 36/100\n",
            "5/5 [==============================] - 0s 3ms/step - loss: 41.1093 - mae: 41.1093\n",
            "Epoch 37/100\n",
            "5/5 [==============================] - 0s 3ms/step - loss: 40.8191 - mae: 40.8191\n",
            "Epoch 38/100\n",
            "5/5 [==============================] - 0s 2ms/step - loss: 40.2485 - mae: 40.2485\n",
            "Epoch 39/100\n",
            "5/5 [==============================] - 0s 3ms/step - loss: 41.0625 - mae: 41.0625\n",
            "Epoch 40/100\n",
            "5/5 [==============================] - 0s 3ms/step - loss: 40.5311 - mae: 40.5311\n",
            "Epoch 41/100\n",
            "5/5 [==============================] - 0s 3ms/step - loss: 40.5497 - mae: 40.5497\n",
            "Epoch 42/100\n",
            "5/5 [==============================] - 0s 4ms/step - loss: 40.4322 - mae: 40.4322\n",
            "Epoch 43/100\n",
            "5/5 [==============================] - 0s 3ms/step - loss: 40.5367 - mae: 40.5367\n",
            "Epoch 44/100\n",
            "5/5 [==============================] - 0s 2ms/step - loss: 40.2487 - mae: 40.2487\n",
            "Epoch 45/100\n",
            "5/5 [==============================] - 0s 3ms/step - loss: 40.5152 - mae: 40.5152\n",
            "Epoch 46/100\n",
            "5/5 [==============================] - 0s 3ms/step - loss: 40.3702 - mae: 40.3702\n",
            "Epoch 47/100\n",
            "5/5 [==============================] - 0s 3ms/step - loss: 40.4769 - mae: 40.4769\n",
            "Epoch 48/100\n",
            "5/5 [==============================] - 0s 3ms/step - loss: 40.1532 - mae: 40.1532\n",
            "Epoch 49/100\n",
            "5/5 [==============================] - 0s 3ms/step - loss: 40.7291 - mae: 40.7291\n",
            "Epoch 50/100\n",
            "5/5 [==============================] - 0s 3ms/step - loss: 40.1536 - mae: 40.1536\n",
            "Epoch 51/100\n",
            "5/5 [==============================] - 0s 3ms/step - loss: 40.2711 - mae: 40.2711\n",
            "Epoch 52/100\n",
            "5/5 [==============================] - 0s 3ms/step - loss: 40.6572 - mae: 40.6572\n",
            "Epoch 53/100\n",
            "5/5 [==============================] - 0s 3ms/step - loss: 40.6573 - mae: 40.6573\n",
            "Epoch 54/100\n",
            "5/5 [==============================] - 0s 3ms/step - loss: 40.6894 - mae: 40.6894\n",
            "Epoch 55/100\n",
            "5/5 [==============================] - 0s 4ms/step - loss: 41.2771 - mae: 41.2771\n",
            "Epoch 56/100\n",
            "5/5 [==============================] - 0s 3ms/step - loss: 41.8519 - mae: 41.8519\n",
            "Epoch 57/100\n",
            "5/5 [==============================] - 0s 3ms/step - loss: 40.7903 - mae: 40.7903\n",
            "Epoch 58/100\n",
            "5/5 [==============================] - 0s 3ms/step - loss: 40.3128 - mae: 40.3128\n",
            "Epoch 59/100\n",
            "5/5 [==============================] - 0s 3ms/step - loss: 40.7198 - mae: 40.7198\n",
            "Epoch 60/100\n",
            "5/5 [==============================] - 0s 2ms/step - loss: 40.1478 - mae: 40.1478\n",
            "Epoch 61/100\n",
            "5/5 [==============================] - 0s 2ms/step - loss: 40.1116 - mae: 40.1116\n",
            "Epoch 62/100\n",
            "5/5 [==============================] - 0s 3ms/step - loss: 40.7800 - mae: 40.7800\n",
            "Epoch 63/100\n",
            "5/5 [==============================] - 0s 3ms/step - loss: 39.7242 - mae: 39.7242\n",
            "Epoch 64/100\n",
            "5/5 [==============================] - 0s 2ms/step - loss: 40.1465 - mae: 40.1465\n",
            "Epoch 65/100\n",
            "5/5 [==============================] - 0s 2ms/step - loss: 39.6887 - mae: 39.6887\n",
            "Epoch 66/100\n",
            "5/5 [==============================] - 0s 2ms/step - loss: 40.2840 - mae: 40.2840\n",
            "Epoch 67/100\n",
            "5/5 [==============================] - 0s 2ms/step - loss: 39.5541 - mae: 39.5541\n",
            "Epoch 68/100\n",
            "5/5 [==============================] - 0s 3ms/step - loss: 39.7378 - mae: 39.7378\n",
            "Epoch 69/100\n",
            "5/5 [==============================] - 0s 4ms/step - loss: 39.9784 - mae: 39.9784\n",
            "Epoch 70/100\n",
            "5/5 [==============================] - 0s 3ms/step - loss: 40.0016 - mae: 40.0016\n",
            "Epoch 71/100\n",
            "5/5 [==============================] - 0s 3ms/step - loss: 40.0913 - mae: 40.0913\n",
            "Epoch 72/100\n",
            "5/5 [==============================] - 0s 3ms/step - loss: 39.2547 - mae: 39.2547\n",
            "Epoch 73/100\n",
            "5/5 [==============================] - 0s 3ms/step - loss: 39.6828 - mae: 39.6828\n",
            "Epoch 74/100\n",
            "5/5 [==============================] - 0s 3ms/step - loss: 39.5373 - mae: 39.5373\n",
            "Epoch 75/100\n",
            "5/5 [==============================] - 0s 2ms/step - loss: 39.6266 - mae: 39.6265\n",
            "Epoch 76/100\n",
            "5/5 [==============================] - 0s 3ms/step - loss: 39.3110 - mae: 39.3110\n",
            "Epoch 77/100\n",
            "5/5 [==============================] - 0s 3ms/step - loss: 39.1599 - mae: 39.1599\n",
            "Epoch 78/100\n",
            "5/5 [==============================] - 0s 3ms/step - loss: 39.7550 - mae: 39.7550\n",
            "Epoch 79/100\n",
            "5/5 [==============================] - 0s 3ms/step - loss: 39.2542 - mae: 39.2542\n",
            "Epoch 80/100\n",
            "5/5 [==============================] - 0s 2ms/step - loss: 38.6968 - mae: 38.6968\n",
            "Epoch 81/100\n",
            "5/5 [==============================] - 0s 2ms/step - loss: 39.5442 - mae: 39.5442\n",
            "Epoch 82/100\n",
            "5/5 [==============================] - 0s 3ms/step - loss: 39.8686 - mae: 39.8686\n",
            "Epoch 83/100\n",
            "5/5 [==============================] - 0s 3ms/step - loss: 39.1693 - mae: 39.1693\n",
            "Epoch 84/100\n",
            "5/5 [==============================] - 0s 3ms/step - loss: 38.8840 - mae: 38.8840\n",
            "Epoch 85/100\n",
            "5/5 [==============================] - 0s 3ms/step - loss: 38.8887 - mae: 38.8887\n",
            "Epoch 86/100\n",
            "5/5 [==============================] - 0s 3ms/step - loss: 38.6614 - mae: 38.6614\n",
            "Epoch 87/100\n",
            "5/5 [==============================] - 0s 3ms/step - loss: 38.8399 - mae: 38.8399\n",
            "Epoch 88/100\n",
            "5/5 [==============================] - 0s 4ms/step - loss: 38.6604 - mae: 38.6604\n",
            "Epoch 89/100\n",
            "5/5 [==============================] - 0s 3ms/step - loss: 38.7559 - mae: 38.7559\n",
            "Epoch 90/100\n",
            "5/5 [==============================] - 0s 2ms/step - loss: 38.5442 - mae: 38.5442\n",
            "Epoch 91/100\n",
            "5/5 [==============================] - 0s 3ms/step - loss: 38.3247 - mae: 38.3247\n",
            "Epoch 92/100\n",
            "5/5 [==============================] - 0s 4ms/step - loss: 38.8431 - mae: 38.8431\n",
            "Epoch 93/100\n",
            "5/5 [==============================] - 0s 3ms/step - loss: 39.1137 - mae: 39.1137\n",
            "Epoch 94/100\n",
            "5/5 [==============================] - 0s 3ms/step - loss: 38.1463 - mae: 38.1463\n",
            "Epoch 95/100\n",
            "5/5 [==============================] - 0s 2ms/step - loss: 38.3998 - mae: 38.3998\n",
            "Epoch 96/100\n",
            "5/5 [==============================] - 0s 3ms/step - loss: 38.5599 - mae: 38.5599\n",
            "Epoch 97/100\n",
            "5/5 [==============================] - 0s 3ms/step - loss: 38.1038 - mae: 38.1038\n",
            "Epoch 98/100\n",
            "5/5 [==============================] - 0s 3ms/step - loss: 39.0081 - mae: 39.0081\n",
            "Epoch 99/100\n",
            "5/5 [==============================] - 0s 3ms/step - loss: 38.3056 - mae: 38.3056\n",
            "Epoch 100/100\n",
            "5/5 [==============================] - 0s 3ms/step - loss: 37.9976 - mae: 37.9976\n"
          ]
        },
        {
          "output_type": "execute_result",
          "data": {
            "text/plain": [
              "<keras.callbacks.History at 0x7f6163b0b7d0>"
            ]
          },
          "metadata": {},
          "execution_count": 16
        }
      ]
    },
    {
      "cell_type": "code",
      "source": [
        "# make predictions\n",
        "y_reg_preds = model_4.predict(X_reg_test)\n",
        "plt.figure(figsize=(10,10))\n",
        "plt.scatter(X_reg_train, y_reg_train, c=\"b\", label=\"training data\")\n",
        "plt.scatter(X_reg_test, y_reg_test, c=\"y\", label=\"testing data\")\n",
        "plt.scatter(X_reg_test, y_reg_preds, c=\"r\", label = \" predictions\")\n",
        "plt.legend()"
      ],
      "metadata": {
        "colab": {
          "base_uri": "https://localhost:8080/",
          "height": 609
        },
        "id": "XV6F-SVeWXO1",
        "outputId": "81816c5f-7974-4e69-eaa2-40e66ddb0fc4"
      },
      "execution_count": 17,
      "outputs": [
        {
          "output_type": "execute_result",
          "data": {
            "text/plain": [
              "<matplotlib.legend.Legend at 0x7f6163ac6d10>"
            ]
          },
          "metadata": {},
          "execution_count": 17
        },
        {
          "output_type": "display_data",
          "data": {
            "text/plain": [
              "<Figure size 720x720 with 1 Axes>"
            ],
            "image/png": "[encoded data removed]"
          },
          "metadata": {
            "needs_background": "light"
          }
        }
      ]
    },
    {
      "cell_type": "markdown",
      "source": [
        "## Non-Linearity\n"
      ],
      "metadata": {
        "id": "hZsYrTvtdenK"
      }
    },
    {
      "cell_type": "code",
      "source": [
        "tf.random.set_seed(42)\n",
        "\n",
        "model_5 = tf.keras.Sequential([\n",
        "    tf.keras.layers.Dense(1, activation = tf.keras.activations.linear),\n",
        "])\n",
        "\n",
        "model_5.compile(loss = tf.keras.losses.BinaryCrossentropy(),\n",
        "                optimizer = tf.keras.optimizers.Adam(learning_rate=0.001),\n",
        "                metrics = [\"accuracy\"])\n",
        "\n",
        "model_5.fit(X,y, epochs = 100)"
      ],
      "metadata": {
        "colab": {
          "base_uri": "https://localhost:8080/"
        },
        "id": "dsv0TCz38xpE",
        "outputId": "85e84ee2-13c8-4b34-c599-821c386b6132"
      },
      "execution_count": 18,
      "outputs": [
        {
          "output_type": "stream",
          "name": "stdout",
          "text": [
            "Epoch 1/100\n",
            "32/32 [==============================] - 0s 1ms/step - loss: 4.2979 - accuracy: 0.4670\n",
            "Epoch 2/100\n",
            "32/32 [==============================] - 0s 1ms/step - loss: 4.2317 - accuracy: 0.4400\n",
            "Epoch 3/100\n",
            "32/32 [==============================] - 0s 1ms/step - loss: 4.1610 - accuracy: 0.4310\n",
            "Epoch 4/100\n",
            "32/32 [==============================] - 0s 1ms/step - loss: 4.1183 - accuracy: 0.4270\n",
            "Epoch 5/100\n",
            "32/32 [==============================] - 0s 1ms/step - loss: 4.0784 - accuracy: 0.4240\n",
            "Epoch 6/100\n",
            "32/32 [==============================] - 0s 2ms/step - loss: 3.9604 - accuracy: 0.4170\n",
            "Epoch 7/100\n",
            "32/32 [==============================] - 0s 1ms/step - loss: 3.8936 - accuracy: 0.4110\n",
            "Epoch 8/100\n",
            "32/32 [==============================] - 0s 1ms/step - loss: 3.7818 - accuracy: 0.4140\n",
            "Epoch 9/100\n",
            "32/32 [==============================] - 0s 1ms/step - loss: 3.7564 - accuracy: 0.4140\n",
            "Epoch 10/100\n",
            "32/32 [==============================] - 0s 1ms/step - loss: 3.7547 - accuracy: 0.4150\n",
            "Epoch 11/100\n",
            "32/32 [==============================] - 0s 1ms/step - loss: 3.7537 - accuracy: 0.4140\n",
            "Epoch 12/100\n",
            "32/32 [==============================] - 0s 1ms/step - loss: 3.7526 - accuracy: 0.4140\n",
            "Epoch 13/100\n",
            "32/32 [==============================] - 0s 1ms/step - loss: 3.7518 - accuracy: 0.4140\n",
            "Epoch 14/100\n",
            "32/32 [==============================] - 0s 1ms/step - loss: 3.7510 - accuracy: 0.4140\n",
            "Epoch 15/100\n",
            "32/32 [==============================] - 0s 1ms/step - loss: 3.7503 - accuracy: 0.4130\n",
            "Epoch 16/100\n",
            "32/32 [==============================] - 0s 1ms/step - loss: 3.7497 - accuracy: 0.4130\n",
            "Epoch 17/100\n",
            "32/32 [==============================] - 0s 1ms/step - loss: 3.7490 - accuracy: 0.4130\n",
            "Epoch 18/100\n",
            "32/32 [==============================] - 0s 1ms/step - loss: 3.7484 - accuracy: 0.4130\n",
            "Epoch 19/100\n",
            "32/32 [==============================] - 0s 1ms/step - loss: 3.7478 - accuracy: 0.4120\n",
            "Epoch 20/100\n",
            "32/32 [==============================] - 0s 1ms/step - loss: 3.7472 - accuracy: 0.4120\n",
            "Epoch 21/100\n",
            "32/32 [==============================] - 0s 1ms/step - loss: 3.7466 - accuracy: 0.4110\n",
            "Epoch 22/100\n",
            "32/32 [==============================] - 0s 1ms/step - loss: 3.7461 - accuracy: 0.4110\n",
            "Epoch 23/100\n",
            "32/32 [==============================] - 0s 2ms/step - loss: 3.7455 - accuracy: 0.4110\n",
            "Epoch 24/100\n",
            "32/32 [==============================] - 0s 1ms/step - loss: 3.7450 - accuracy: 0.4110\n",
            "Epoch 25/100\n",
            "32/32 [==============================] - 0s 1ms/step - loss: 3.7366 - accuracy: 0.4120\n",
            "Epoch 26/100\n",
            "32/32 [==============================] - 0s 1ms/step - loss: 3.7256 - accuracy: 0.4120\n",
            "Epoch 27/100\n",
            "32/32 [==============================] - 0s 1ms/step - loss: 3.7230 - accuracy: 0.4140\n",
            "Epoch 28/100\n",
            "32/32 [==============================] - 0s 1ms/step - loss: 3.7215 - accuracy: 0.4140\n",
            "Epoch 29/100\n",
            "32/32 [==============================] - 0s 1ms/step - loss: 3.7204 - accuracy: 0.4150\n",
            "Epoch 30/100\n",
            "32/32 [==============================] - 0s 1ms/step - loss: 3.7196 - accuracy: 0.4160\n",
            "Epoch 31/100\n",
            "32/32 [==============================] - 0s 1ms/step - loss: 3.7188 - accuracy: 0.4170\n",
            "Epoch 32/100\n",
            "32/32 [==============================] - 0s 1ms/step - loss: 3.7181 - accuracy: 0.4170\n",
            "Epoch 33/100\n",
            "32/32 [==============================] - 0s 1ms/step - loss: 3.7174 - accuracy: 0.4170\n",
            "Epoch 34/100\n",
            "32/32 [==============================] - 0s 1ms/step - loss: 3.7167 - accuracy: 0.4170\n",
            "Epoch 35/100\n",
            "32/32 [==============================] - 0s 1ms/step - loss: 3.7161 - accuracy: 0.4160\n",
            "Epoch 36/100\n",
            "32/32 [==============================] - 0s 1ms/step - loss: 3.7153 - accuracy: 0.4150\n",
            "Epoch 37/100\n",
            "32/32 [==============================] - 0s 2ms/step - loss: 3.7147 - accuracy: 0.4150\n",
            "Epoch 38/100\n",
            "32/32 [==============================] - 0s 1ms/step - loss: 3.7141 - accuracy: 0.4150\n",
            "Epoch 39/100\n",
            "32/32 [==============================] - 0s 1ms/step - loss: 3.7135 - accuracy: 0.4150\n",
            "Epoch 40/100\n",
            "32/32 [==============================] - 0s 1ms/step - loss: 3.7129 - accuracy: 0.4150\n",
            "Epoch 41/100\n",
            "32/32 [==============================] - 0s 1ms/step - loss: 3.7123 - accuracy: 0.4150\n",
            "Epoch 42/100\n",
            "32/32 [==============================] - 0s 1ms/step - loss: 3.7118 - accuracy: 0.4160\n",
            "Epoch 43/100\n",
            "32/32 [==============================] - 0s 2ms/step - loss: 3.7112 - accuracy: 0.4160\n",
            "Epoch 44/100\n",
            "32/32 [==============================] - 0s 1ms/step - loss: 3.7107 - accuracy: 0.4160\n",
            "Epoch 45/100\n",
            "32/32 [==============================] - 0s 1ms/step - loss: 3.7101 - accuracy: 0.4150\n",
            "Epoch 46/100\n",
            "32/32 [==============================] - 0s 1ms/step - loss: 3.7096 - accuracy: 0.4170\n",
            "Epoch 47/100\n",
            "32/32 [==============================] - 0s 1ms/step - loss: 3.7091 - accuracy: 0.4170\n",
            "Epoch 48/100\n",
            "32/32 [==============================] - 0s 2ms/step - loss: 3.7014 - accuracy: 0.4170\n",
            "Epoch 49/100\n",
            "32/32 [==============================] - 0s 1ms/step - loss: 3.6892 - accuracy: 0.4190\n",
            "Epoch 50/100\n",
            "32/32 [==============================] - 0s 1ms/step - loss: 3.6856 - accuracy: 0.4190\n",
            "Epoch 51/100\n",
            "32/32 [==============================] - 0s 1ms/step - loss: 3.6846 - accuracy: 0.4190\n",
            "Epoch 52/100\n",
            "32/32 [==============================] - 0s 1ms/step - loss: 3.6837 - accuracy: 0.4190\n",
            "Epoch 53/100\n",
            "32/32 [==============================] - 0s 1ms/step - loss: 3.6829 - accuracy: 0.4190\n",
            "Epoch 54/100\n",
            "32/32 [==============================] - 0s 1ms/step - loss: 3.6821 - accuracy: 0.4190\n",
            "Epoch 55/100\n",
            "32/32 [==============================] - 0s 1ms/step - loss: 3.6814 - accuracy: 0.4190\n",
            "Epoch 56/100\n",
            "32/32 [==============================] - 0s 1ms/step - loss: 3.6807 - accuracy: 0.4200\n",
            "Epoch 57/100\n",
            "32/32 [==============================] - 0s 2ms/step - loss: 3.6727 - accuracy: 0.4210\n",
            "Epoch 58/100\n",
            "32/32 [==============================] - 0s 1ms/step - loss: 3.6690 - accuracy: 0.4190\n",
            "Epoch 59/100\n",
            "32/32 [==============================] - 0s 1ms/step - loss: 3.6677 - accuracy: 0.4190\n",
            "Epoch 60/100\n",
            "32/32 [==============================] - 0s 2ms/step - loss: 3.6585 - accuracy: 0.4190\n",
            "Epoch 61/100\n",
            "32/32 [==============================] - 0s 1ms/step - loss: 3.6489 - accuracy: 0.4200\n",
            "Epoch 62/100\n",
            "32/32 [==============================] - 0s 1ms/step - loss: 3.6330 - accuracy: 0.4190\n",
            "Epoch 63/100\n",
            "32/32 [==============================] - 0s 2ms/step - loss: 3.6282 - accuracy: 0.4200\n",
            "Epoch 64/100\n",
            "32/32 [==============================] - 0s 1ms/step - loss: 3.6162 - accuracy: 0.4220\n",
            "Epoch 65/100\n",
            "32/32 [==============================] - 0s 1ms/step - loss: 3.6062 - accuracy: 0.4240\n",
            "Epoch 66/100\n",
            "32/32 [==============================] - 0s 1ms/step - loss: 3.6031 - accuracy: 0.4260\n",
            "Epoch 67/100\n",
            "32/32 [==============================] - 0s 1ms/step - loss: 3.6012 - accuracy: 0.4280\n",
            "Epoch 68/100\n",
            "32/32 [==============================] - 0s 1ms/step - loss: 3.5999 - accuracy: 0.4280\n",
            "Epoch 69/100\n",
            "32/32 [==============================] - 0s 1ms/step - loss: 3.5904 - accuracy: 0.4290\n",
            "Epoch 70/100\n",
            "32/32 [==============================] - 0s 1ms/step - loss: 3.5858 - accuracy: 0.4300\n",
            "Epoch 71/100\n",
            "32/32 [==============================] - 0s 1ms/step - loss: 3.5846 - accuracy: 0.4300\n",
            "Epoch 72/100\n",
            "32/32 [==============================] - 0s 1ms/step - loss: 3.5836 - accuracy: 0.4300\n",
            "Epoch 73/100\n",
            "32/32 [==============================] - 0s 1ms/step - loss: 3.5826 - accuracy: 0.4310\n",
            "Epoch 74/100\n",
            "32/32 [==============================] - 0s 1ms/step - loss: 3.5817 - accuracy: 0.4330\n",
            "Epoch 75/100\n",
            "32/32 [==============================] - 0s 1ms/step - loss: 3.5656 - accuracy: 0.4360\n",
            "Epoch 76/100\n",
            "32/32 [==============================] - 0s 1ms/step - loss: 3.5355 - accuracy: 0.4410\n",
            "Epoch 77/100\n",
            "32/32 [==============================] - 0s 1ms/step - loss: 3.5335 - accuracy: 0.4410\n",
            "Epoch 78/100\n",
            "32/32 [==============================] - 0s 1ms/step - loss: 3.5319 - accuracy: 0.4420\n",
            "Epoch 79/100\n",
            "32/32 [==============================] - 0s 1ms/step - loss: 3.5306 - accuracy: 0.4420\n",
            "Epoch 80/100\n",
            "32/32 [==============================] - 0s 1ms/step - loss: 3.5208 - accuracy: 0.4420\n",
            "Epoch 81/100\n",
            "32/32 [==============================] - 0s 1ms/step - loss: 3.5172 - accuracy: 0.4420\n",
            "Epoch 82/100\n",
            "32/32 [==============================] - 0s 1ms/step - loss: 3.5157 - accuracy: 0.4430\n",
            "Epoch 83/100\n",
            "32/32 [==============================] - 0s 1ms/step - loss: 3.5144 - accuracy: 0.4450\n",
            "Epoch 84/100\n",
            "32/32 [==============================] - 0s 1ms/step - loss: 3.5132 - accuracy: 0.4450\n",
            "Epoch 85/100\n",
            "32/32 [==============================] - 0s 2ms/step - loss: 3.5043 - accuracy: 0.4460\n",
            "Epoch 86/100\n",
            "32/32 [==============================] - 0s 1ms/step - loss: 3.5002 - accuracy: 0.4470\n",
            "Epoch 87/100\n",
            "32/32 [==============================] - 0s 1ms/step - loss: 3.4905 - accuracy: 0.4470\n",
            "Epoch 88/100\n",
            "32/32 [==============================] - 0s 2ms/step - loss: 3.4788 - accuracy: 0.4470\n",
            "Epoch 89/100\n",
            "32/32 [==============================] - 0s 1ms/step - loss: 3.4661 - accuracy: 0.4470\n",
            "Epoch 90/100\n",
            "32/32 [==============================] - 0s 1ms/step - loss: 3.4452 - accuracy: 0.4490\n",
            "Epoch 91/100\n",
            "32/32 [==============================] - 0s 1ms/step - loss: 3.4198 - accuracy: 0.4560\n",
            "Epoch 92/100\n",
            "32/32 [==============================] - 0s 1ms/step - loss: 3.4176 - accuracy: 0.4550\n",
            "Epoch 93/100\n",
            "32/32 [==============================] - 0s 1ms/step - loss: 3.4072 - accuracy: 0.4580\n",
            "Epoch 94/100\n",
            "32/32 [==============================] - 0s 1ms/step - loss: 3.4036 - accuracy: 0.4580\n",
            "Epoch 95/100\n",
            "32/32 [==============================] - 0s 1ms/step - loss: 3.3944 - accuracy: 0.4590\n",
            "Epoch 96/100\n",
            "32/32 [==============================] - 0s 1ms/step - loss: 3.3290 - accuracy: 0.4590\n",
            "Epoch 97/100\n",
            "32/32 [==============================] - 0s 1ms/step - loss: 3.2727 - accuracy: 0.4600\n",
            "Epoch 98/100\n",
            "32/32 [==============================] - 0s 1ms/step - loss: 3.2636 - accuracy: 0.4580\n",
            "Epoch 99/100\n",
            "32/32 [==============================] - 0s 1ms/step - loss: 3.2509 - accuracy: 0.4570\n",
            "Epoch 100/100\n",
            "32/32 [==============================] - 0s 1ms/step - loss: 3.2459 - accuracy: 0.4570\n"
          ]
        },
        {
          "output_type": "execute_result",
          "data": {
            "text/plain": [
              "<keras.callbacks.History at 0x7f6163618590>"
            ]
          },
          "metadata": {},
          "execution_count": 18
        }
      ]
    },
    {
      "cell_type": "code",
      "source": [
        "# checkout predictions\n",
        "plot_decision_boundary(model = model_5,\n",
        "                       X=X,\n",
        "                       y=y)"
      ],
      "metadata": {
        "colab": {
          "base_uri": "https://localhost:8080/",
          "height": 282
        },
        "id": "eVRZN_Yk9ha3",
        "outputId": "5d4242c2-d088-4a73-cf35-1480a081e532"
      },
      "execution_count": 19,
      "outputs": [
        {
          "output_type": "stream",
          "name": "stdout",
          "text": [
            "doing binary classification\n"
          ]
        },
        {
          "output_type": "display_data",
          "data": {
            "text/plain": [
              "<Figure size 432x288 with 1 Axes>"
            ],
            "image/png": "[encoded data removed]"
          },
          "metadata": {
            "needs_background": "light"
          }
        }
      ]
    },
    {
      "cell_type": "markdown",
      "source": [
        "### Let's try neural network with non linear activation function\n"
      ],
      "metadata": {
        "id": "PB9UVB2A-lfW"
      }
    },
    {
      "cell_type": "code",
      "source": [
        "tf.random.set_seed(42)\n",
        "\n",
        "model_6 = tf.keras.Sequential([\n",
        "    tf.keras.layers.Dense(10, activation=\"relu\"),\n",
        "    #tf.keras.layers.Dense(4, activation = \"relu\"),\n",
        "    tf.keras.layers.Dense(1)\n",
        "])\n",
        "\n",
        "model_6.compile(loss=tf.keras.losses.BinaryCrossentropy(),\n",
        "                optimizer = tf.keras.optimizers.Adam(learning_rate=0.001),\n",
        "                metrics=[\"accuracy\"])\n",
        "\n",
        "history = model_6.fit(X,y, epochs=200)\n"
      ],
      "metadata": {
        "colab": {
          "base_uri": "https://localhost:8080/"
        },
        "id": "ZGoTBzMb-Rs_",
        "outputId": "61f1a418-d88a-4a02-8b98-8b7cc20a0e93"
      },
      "execution_count": 20,
      "outputs": [
        {
          "output_type": "stream",
          "name": "stdout",
          "text": [
            "Epoch 1/200\n",
            "32/32 [==============================] - 0s 1ms/step - loss: 0.9185 - accuracy: 0.4190\n",
            "Epoch 2/200\n",
            "32/32 [==============================] - 0s 1ms/step - loss: 0.8502 - accuracy: 0.3710\n",
            "Epoch 3/200\n",
            "32/32 [==============================] - 0s 1ms/step - loss: 0.8253 - accuracy: 0.3380\n",
            "Epoch 4/200\n",
            "32/32 [==============================] - 0s 1ms/step - loss: 0.8132 - accuracy: 0.2550\n",
            "Epoch 5/200\n",
            "32/32 [==============================] - 0s 1ms/step - loss: 0.8054 - accuracy: 0.2120\n",
            "Epoch 6/200\n",
            "32/32 [==============================] - 0s 1ms/step - loss: 0.7994 - accuracy: 0.2030\n",
            "Epoch 7/200\n",
            "32/32 [==============================] - 0s 2ms/step - loss: 0.7946 - accuracy: 0.1640\n",
            "Epoch 8/200\n",
            "32/32 [==============================] - 0s 1ms/step - loss: 0.7906 - accuracy: 0.1520\n",
            "Epoch 9/200\n",
            "32/32 [==============================] - 0s 1ms/step - loss: 0.7864 - accuracy: 0.1440\n",
            "Epoch 10/200\n",
            "32/32 [==============================] - 0s 1ms/step - loss: 0.7829 - accuracy: 0.1680\n",
            "Epoch 11/200\n",
            "32/32 [==============================] - 0s 1ms/step - loss: 0.7794 - accuracy: 0.1430\n",
            "Epoch 12/200\n",
            "32/32 [==============================] - 0s 2ms/step - loss: 0.7760 - accuracy: 0.1400\n",
            "Epoch 13/200\n",
            "32/32 [==============================] - 0s 1ms/step - loss: 0.7724 - accuracy: 0.1550\n",
            "Epoch 14/200\n",
            "32/32 [==============================] - 0s 2ms/step - loss: 0.7690 - accuracy: 0.1150\n",
            "Epoch 15/200\n",
            "32/32 [==============================] - 0s 2ms/step - loss: 0.7655 - accuracy: 0.1610\n",
            "Epoch 16/200\n",
            "32/32 [==============================] - 0s 1ms/step - loss: 0.7619 - accuracy: 0.1770\n",
            "Epoch 17/200\n",
            "32/32 [==============================] - 0s 1ms/step - loss: 0.7587 - accuracy: 0.1250\n",
            "Epoch 18/200\n",
            "32/32 [==============================] - 0s 1ms/step - loss: 0.7550 - accuracy: 0.2270\n",
            "Epoch 19/200\n",
            "32/32 [==============================] - 0s 1ms/step - loss: 0.7518 - accuracy: 0.1850\n",
            "Epoch 20/200\n",
            "32/32 [==============================] - 0s 1ms/step - loss: 0.7479 - accuracy: 0.2740\n",
            "Epoch 21/200\n",
            "32/32 [==============================] - 0s 1ms/step - loss: 0.7445 - accuracy: 0.2310\n",
            "Epoch 22/200\n",
            "32/32 [==============================] - 0s 2ms/step - loss: 0.7405 - accuracy: 0.2970\n",
            "Epoch 23/200\n",
            "32/32 [==============================] - 0s 1ms/step - loss: 0.7365 - accuracy: 0.2400\n",
            "Epoch 24/200\n",
            "32/32 [==============================] - 0s 1ms/step - loss: 0.7330 - accuracy: 0.3000\n",
            "Epoch 25/200\n",
            "32/32 [==============================] - 0s 3ms/step - loss: 0.7295 - accuracy: 0.2840\n",
            "Epoch 26/200\n",
            "32/32 [==============================] - 0s 1ms/step - loss: 0.7249 - accuracy: 0.2720\n",
            "Epoch 27/200\n",
            "32/32 [==============================] - 0s 1ms/step - loss: 0.7215 - accuracy: 0.2940\n",
            "Epoch 28/200\n",
            "32/32 [==============================] - 0s 1ms/step - loss: 0.7161 - accuracy: 0.3280\n",
            "Epoch 29/200\n",
            "32/32 [==============================] - 0s 1ms/step - loss: 0.7131 - accuracy: 0.3460\n",
            "Epoch 30/200\n",
            "32/32 [==============================] - 0s 1ms/step - loss: 0.7083 - accuracy: 0.3690\n",
            "Epoch 31/200\n",
            "32/32 [==============================] - 0s 1ms/step - loss: 0.7039 - accuracy: 0.4590\n",
            "Epoch 32/200\n",
            "32/32 [==============================] - 0s 1ms/step - loss: 0.6993 - accuracy: 0.4500\n",
            "Epoch 33/200\n",
            "32/32 [==============================] - 0s 2ms/step - loss: 0.6930 - accuracy: 0.4980\n",
            "Epoch 34/200\n",
            "32/32 [==============================] - 0s 1ms/step - loss: 0.6864 - accuracy: 0.5240\n",
            "Epoch 35/200\n",
            "32/32 [==============================] - 0s 1ms/step - loss: 0.6804 - accuracy: 0.5650\n",
            "Epoch 36/200\n",
            "32/32 [==============================] - 0s 1ms/step - loss: 0.6751 - accuracy: 0.5740\n",
            "Epoch 37/200\n",
            "32/32 [==============================] - 0s 1ms/step - loss: 0.6711 - accuracy: 0.6410\n",
            "Epoch 38/200\n",
            "32/32 [==============================] - 0s 1ms/step - loss: 0.6678 - accuracy: 0.6080\n",
            "Epoch 39/200\n",
            "32/32 [==============================] - 0s 1ms/step - loss: 0.6631 - accuracy: 0.6400\n",
            "Epoch 40/200\n",
            "32/32 [==============================] - 0s 1ms/step - loss: 0.6590 - accuracy: 0.6810\n",
            "Epoch 41/200\n",
            "32/32 [==============================] - 0s 3ms/step - loss: 0.6554 - accuracy: 0.7230\n",
            "Epoch 42/200\n",
            "32/32 [==============================] - 0s 3ms/step - loss: 0.6502 - accuracy: 0.6660\n",
            "Epoch 43/200\n",
            "32/32 [==============================] - 0s 1ms/step - loss: 0.6451 - accuracy: 0.7200\n",
            "Epoch 44/200\n",
            "32/32 [==============================] - 0s 1ms/step - loss: 0.6408 - accuracy: 0.6730\n",
            "Epoch 45/200\n",
            "32/32 [==============================] - 0s 2ms/step - loss: 0.6335 - accuracy: 0.7690\n",
            "Epoch 46/200\n",
            "32/32 [==============================] - 0s 1ms/step - loss: 0.6279 - accuracy: 0.7620\n",
            "Epoch 47/200\n",
            "32/32 [==============================] - 0s 1ms/step - loss: 0.6244 - accuracy: 0.7910\n",
            "Epoch 48/200\n",
            "32/32 [==============================] - 0s 2ms/step - loss: 0.6195 - accuracy: 0.7430\n",
            "Epoch 49/200\n",
            "32/32 [==============================] - 0s 1ms/step - loss: 0.6153 - accuracy: 0.7950\n",
            "Epoch 50/200\n",
            "32/32 [==============================] - 0s 1ms/step - loss: 0.6109 - accuracy: 0.8220\n",
            "Epoch 51/200\n",
            "32/32 [==============================] - 0s 1ms/step - loss: 0.6068 - accuracy: 0.7910\n",
            "Epoch 52/200\n",
            "32/32 [==============================] - 0s 1ms/step - loss: 0.6028 - accuracy: 0.8480\n",
            "Epoch 53/200\n",
            "32/32 [==============================] - 0s 1ms/step - loss: 0.5986 - accuracy: 0.8070\n",
            "Epoch 54/200\n",
            "32/32 [==============================] - 0s 1ms/step - loss: 0.5923 - accuracy: 0.8620\n",
            "Epoch 55/200\n",
            "32/32 [==============================] - 0s 1ms/step - loss: 0.5876 - accuracy: 0.8730\n",
            "Epoch 56/200\n",
            "32/32 [==============================] - 0s 1ms/step - loss: 0.5825 - accuracy: 0.8720\n",
            "Epoch 57/200\n",
            "32/32 [==============================] - 0s 1ms/step - loss: 0.5777 - accuracy: 0.8820\n",
            "Epoch 58/200\n",
            "32/32 [==============================] - 0s 1ms/step - loss: 0.5744 - accuracy: 0.9090\n",
            "Epoch 59/200\n",
            "32/32 [==============================] - 0s 1ms/step - loss: 0.5703 - accuracy: 0.9000\n",
            "Epoch 60/200\n",
            "32/32 [==============================] - 0s 1ms/step - loss: 0.5650 - accuracy: 0.9050\n",
            "Epoch 61/200\n",
            "32/32 [==============================] - 0s 1ms/step - loss: 0.5615 - accuracy: 0.8940\n",
            "Epoch 62/200\n",
            "32/32 [==============================] - 0s 1ms/step - loss: 0.5562 - accuracy: 0.9240\n",
            "Epoch 63/200\n",
            "32/32 [==============================] - 0s 1ms/step - loss: 0.5513 - accuracy: 0.9290\n",
            "Epoch 64/200\n",
            "32/32 [==============================] - 0s 2ms/step - loss: 0.5474 - accuracy: 0.9210\n",
            "Epoch 65/200\n",
            "32/32 [==============================] - 0s 1ms/step - loss: 0.5429 - accuracy: 0.9430\n",
            "Epoch 66/200\n",
            "32/32 [==============================] - 0s 1ms/step - loss: 0.5378 - accuracy: 0.9450\n",
            "Epoch 67/200\n",
            "32/32 [==============================] - 0s 1ms/step - loss: 0.5337 - accuracy: 0.9290\n",
            "Epoch 68/200\n",
            "32/32 [==============================] - 0s 1ms/step - loss: 0.5286 - accuracy: 0.9500\n",
            "Epoch 69/200\n",
            "32/32 [==============================] - 0s 1ms/step - loss: 0.5240 - accuracy: 0.9520\n",
            "Epoch 70/200\n",
            "32/32 [==============================] - 0s 1ms/step - loss: 0.5197 - accuracy: 0.9410\n",
            "Epoch 71/200\n",
            "32/32 [==============================] - 0s 2ms/step - loss: 0.5147 - accuracy: 0.9500\n",
            "Epoch 72/200\n",
            "32/32 [==============================] - 0s 1ms/step - loss: 0.5106 - accuracy: 0.9520\n",
            "Epoch 73/200\n",
            "32/32 [==============================] - 0s 1ms/step - loss: 0.5057 - accuracy: 0.9590\n",
            "Epoch 74/200\n",
            "32/32 [==============================] - 0s 1ms/step - loss: 0.5008 - accuracy: 0.9440\n",
            "Epoch 75/200\n",
            "32/32 [==============================] - 0s 1ms/step - loss: 0.4967 - accuracy: 0.9590\n",
            "Epoch 76/200\n",
            "32/32 [==============================] - 0s 1ms/step - loss: 0.4921 - accuracy: 0.9510\n",
            "Epoch 77/200\n",
            "32/32 [==============================] - 0s 1ms/step - loss: 0.4871 - accuracy: 0.9490\n",
            "Epoch 78/200\n",
            "32/32 [==============================] - 0s 1ms/step - loss: 0.4823 - accuracy: 0.9570\n",
            "Epoch 79/200\n",
            "32/32 [==============================] - 0s 1ms/step - loss: 0.4775 - accuracy: 0.9630\n",
            "Epoch 80/200\n",
            "32/32 [==============================] - 0s 1ms/step - loss: 0.4716 - accuracy: 0.9620\n",
            "Epoch 81/200\n",
            "32/32 [==============================] - 0s 1ms/step - loss: 0.4676 - accuracy: 0.9650\n",
            "Epoch 82/200\n",
            "32/32 [==============================] - 0s 1ms/step - loss: 0.4628 - accuracy: 0.9560\n",
            "Epoch 83/200\n",
            "32/32 [==============================] - 0s 1ms/step - loss: 0.4570 - accuracy: 0.9580\n",
            "Epoch 84/200\n",
            "32/32 [==============================] - 0s 1ms/step - loss: 0.4518 - accuracy: 0.9630\n",
            "Epoch 85/200\n",
            "32/32 [==============================] - 0s 1ms/step - loss: 0.4468 - accuracy: 0.9640\n",
            "Epoch 86/200\n",
            "32/32 [==============================] - 0s 1ms/step - loss: 0.4429 - accuracy: 0.9650\n",
            "Epoch 87/200\n",
            "32/32 [==============================] - 0s 1ms/step - loss: 0.4366 - accuracy: 0.9660\n",
            "Epoch 88/200\n",
            "32/32 [==============================] - 0s 1ms/step - loss: 0.4312 - accuracy: 0.9750\n",
            "Epoch 89/200\n",
            "32/32 [==============================] - 0s 2ms/step - loss: 0.4268 - accuracy: 0.9750\n",
            "Epoch 90/200\n",
            "32/32 [==============================] - 0s 1ms/step - loss: 0.4221 - accuracy: 0.9660\n",
            "Epoch 91/200\n",
            "32/32 [==============================] - 0s 1ms/step - loss: 0.4155 - accuracy: 0.9690\n",
            "Epoch 92/200\n",
            "32/32 [==============================] - 0s 1ms/step - loss: 0.4107 - accuracy: 0.9670\n",
            "Epoch 93/200\n",
            "32/32 [==============================] - 0s 1ms/step - loss: 0.4071 - accuracy: 0.9630\n",
            "Epoch 94/200\n",
            "32/32 [==============================] - 0s 1ms/step - loss: 0.4003 - accuracy: 0.9720\n",
            "Epoch 95/200\n",
            "32/32 [==============================] - 0s 1ms/step - loss: 0.3953 - accuracy: 0.9750\n",
            "Epoch 96/200\n",
            "32/32 [==============================] - 0s 1ms/step - loss: 0.3899 - accuracy: 0.9770\n",
            "Epoch 97/200\n",
            "32/32 [==============================] - 0s 1ms/step - loss: 0.3844 - accuracy: 0.9820\n",
            "Epoch 98/200\n",
            "32/32 [==============================] - 0s 1ms/step - loss: 0.3789 - accuracy: 0.9810\n",
            "Epoch 99/200\n",
            "32/32 [==============================] - 0s 1ms/step - loss: 0.3744 - accuracy: 0.9790\n",
            "Epoch 100/200\n",
            "32/32 [==============================] - 0s 1ms/step - loss: 0.3690 - accuracy: 0.9790\n",
            "Epoch 101/200\n",
            "32/32 [==============================] - 0s 1ms/step - loss: 0.3641 - accuracy: 0.9820\n",
            "Epoch 102/200\n",
            "32/32 [==============================] - 0s 1ms/step - loss: 0.3589 - accuracy: 0.9830\n",
            "Epoch 103/200\n",
            "32/32 [==============================] - 0s 1ms/step - loss: 0.3531 - accuracy: 0.9850\n",
            "Epoch 104/200\n",
            "32/32 [==============================] - 0s 1ms/step - loss: 0.3483 - accuracy: 0.9860\n",
            "Epoch 105/200\n",
            "32/32 [==============================] - 0s 1ms/step - loss: 0.3446 - accuracy: 0.9860\n",
            "Epoch 106/200\n",
            "32/32 [==============================] - 0s 1ms/step - loss: 0.3380 - accuracy: 0.9860\n",
            "Epoch 107/200\n",
            "32/32 [==============================] - 0s 1ms/step - loss: 0.3337 - accuracy: 0.9840\n",
            "Epoch 108/200\n",
            "32/32 [==============================] - 0s 1ms/step - loss: 0.3284 - accuracy: 0.9860\n",
            "Epoch 109/200\n",
            "32/32 [==============================] - 0s 1ms/step - loss: 0.3231 - accuracy: 0.9880\n",
            "Epoch 110/200\n",
            "32/32 [==============================] - 0s 1ms/step - loss: 0.3189 - accuracy: 0.9870\n",
            "Epoch 111/200\n",
            "32/32 [==============================] - 0s 1ms/step - loss: 0.3139 - accuracy: 0.9880\n",
            "Epoch 112/200\n",
            "32/32 [==============================] - 0s 1ms/step - loss: 0.3109 - accuracy: 0.9880\n",
            "Epoch 113/200\n",
            "32/32 [==============================] - 0s 1ms/step - loss: 0.3036 - accuracy: 0.9880\n",
            "Epoch 114/200\n",
            "32/32 [==============================] - 0s 2ms/step - loss: 0.2995 - accuracy: 0.9850\n",
            "Epoch 115/200\n",
            "32/32 [==============================] - 0s 1ms/step - loss: 0.2946 - accuracy: 0.9890\n",
            "Epoch 116/200\n",
            "32/32 [==============================] - 0s 1ms/step - loss: 0.2900 - accuracy: 0.9920\n",
            "Epoch 117/200\n",
            "32/32 [==============================] - 0s 1ms/step - loss: 0.2856 - accuracy: 0.9880\n",
            "Epoch 118/200\n",
            "32/32 [==============================] - 0s 1ms/step - loss: 0.2813 - accuracy: 0.9910\n",
            "Epoch 119/200\n",
            "32/32 [==============================] - 0s 1ms/step - loss: 0.2763 - accuracy: 0.9890\n",
            "Epoch 120/200\n",
            "32/32 [==============================] - 0s 1ms/step - loss: 0.2719 - accuracy: 0.9880\n",
            "Epoch 121/200\n",
            "32/32 [==============================] - 0s 2ms/step - loss: 0.2676 - accuracy: 0.9910\n",
            "Epoch 122/200\n",
            "32/32 [==============================] - 0s 1ms/step - loss: 0.2633 - accuracy: 0.9890\n",
            "Epoch 123/200\n",
            "32/32 [==============================] - 0s 2ms/step - loss: 0.2582 - accuracy: 0.9900\n",
            "Epoch 124/200\n",
            "32/32 [==============================] - 0s 1ms/step - loss: 0.2537 - accuracy: 0.9900\n",
            "Epoch 125/200\n",
            "32/32 [==============================] - 0s 1ms/step - loss: 0.2500 - accuracy: 0.9910\n",
            "Epoch 126/200\n",
            "32/32 [==============================] - 0s 1ms/step - loss: 0.2449 - accuracy: 0.9910\n",
            "Epoch 127/200\n",
            "32/32 [==============================] - 0s 2ms/step - loss: 0.2408 - accuracy: 0.9910\n",
            "Epoch 128/200\n",
            "32/32 [==============================] - 0s 1ms/step - loss: 0.2379 - accuracy: 0.9870\n",
            "Epoch 129/200\n",
            "32/32 [==============================] - 0s 1ms/step - loss: 0.2322 - accuracy: 0.9910\n",
            "Epoch 130/200\n",
            "32/32 [==============================] - 0s 1ms/step - loss: 0.2280 - accuracy: 0.9880\n",
            "Epoch 131/200\n",
            "32/32 [==============================] - 0s 1ms/step - loss: 0.2244 - accuracy: 0.9900\n",
            "Epoch 132/200\n",
            "32/32 [==============================] - 0s 2ms/step - loss: 0.2196 - accuracy: 0.9940\n",
            "Epoch 133/200\n",
            "32/32 [==============================] - 0s 1ms/step - loss: 0.2155 - accuracy: 0.9900\n",
            "Epoch 134/200\n",
            "32/32 [==============================] - 0s 2ms/step - loss: 0.2120 - accuracy: 0.9900\n",
            "Epoch 135/200\n",
            "32/32 [==============================] - 0s 1ms/step - loss: 0.2082 - accuracy: 0.9890\n",
            "Epoch 136/200\n",
            "32/32 [==============================] - 0s 2ms/step - loss: 0.2043 - accuracy: 0.9890\n",
            "Epoch 137/200\n",
            "32/32 [==============================] - 0s 1ms/step - loss: 0.2015 - accuracy: 0.9920\n",
            "Epoch 138/200\n",
            "32/32 [==============================] - 0s 1ms/step - loss: 0.1973 - accuracy: 0.9910\n",
            "Epoch 139/200\n",
            "32/32 [==============================] - 0s 2ms/step - loss: 0.1927 - accuracy: 0.9910\n",
            "Epoch 140/200\n",
            "32/32 [==============================] - 0s 1ms/step - loss: 0.1894 - accuracy: 0.9930\n",
            "Epoch 141/200\n",
            "32/32 [==============================] - 0s 1ms/step - loss: 0.1854 - accuracy: 0.9890\n",
            "Epoch 142/200\n",
            "32/32 [==============================] - 0s 1ms/step - loss: 0.1816 - accuracy: 0.9910\n",
            "Epoch 143/200\n",
            "32/32 [==============================] - 0s 1ms/step - loss: 0.1790 - accuracy: 0.9920\n",
            "Epoch 144/200\n",
            "32/32 [==============================] - 0s 1ms/step - loss: 0.1748 - accuracy: 0.9920\n",
            "Epoch 145/200\n",
            "32/32 [==============================] - 0s 1ms/step - loss: 0.1714 - accuracy: 0.9900\n",
            "Epoch 146/200\n",
            "32/32 [==============================] - 0s 1ms/step - loss: 0.1683 - accuracy: 0.9920\n",
            "Epoch 147/200\n",
            "32/32 [==============================] - 0s 1ms/step - loss: 0.1653 - accuracy: 0.9910\n",
            "Epoch 148/200\n",
            "32/32 [==============================] - 0s 1ms/step - loss: 0.1628 - accuracy: 0.9920\n",
            "Epoch 149/200\n",
            "32/32 [==============================] - 0s 1ms/step - loss: 0.1591 - accuracy: 0.9910\n",
            "Epoch 150/200\n",
            "32/32 [==============================] - 0s 1ms/step - loss: 0.1565 - accuracy: 0.9930\n",
            "Epoch 151/200\n",
            "32/32 [==============================] - 0s 1ms/step - loss: 0.1531 - accuracy: 0.9920\n",
            "Epoch 152/200\n",
            "32/32 [==============================] - 0s 1ms/step - loss: 0.1509 - accuracy: 0.9950\n",
            "Epoch 153/200\n",
            "32/32 [==============================] - 0s 1ms/step - loss: 0.1486 - accuracy: 0.9920\n",
            "Epoch 154/200\n",
            "32/32 [==============================] - 0s 2ms/step - loss: 0.1445 - accuracy: 0.9910\n",
            "Epoch 155/200\n",
            "32/32 [==============================] - 0s 1ms/step - loss: 0.1433 - accuracy: 0.9920\n",
            "Epoch 156/200\n",
            "32/32 [==============================] - 0s 1ms/step - loss: 0.1393 - accuracy: 0.9940\n",
            "Epoch 157/200\n",
            "32/32 [==============================] - 0s 2ms/step - loss: 0.1373 - accuracy: 0.9930\n",
            "Epoch 158/200\n",
            "32/32 [==============================] - 0s 2ms/step - loss: 0.1345 - accuracy: 0.9940\n",
            "Epoch 159/200\n",
            "32/32 [==============================] - 0s 1ms/step - loss: 0.1325 - accuracy: 0.9920\n",
            "Epoch 160/200\n",
            "32/32 [==============================] - 0s 1ms/step - loss: 0.1306 - accuracy: 0.9940\n",
            "Epoch 161/200\n",
            "32/32 [==============================] - 0s 1ms/step - loss: 0.1274 - accuracy: 0.9930\n",
            "Epoch 162/200\n",
            "32/32 [==============================] - 0s 1ms/step - loss: 0.1254 - accuracy: 0.9960\n",
            "Epoch 163/200\n",
            "32/32 [==============================] - 0s 1ms/step - loss: 0.1228 - accuracy: 0.9950\n",
            "Epoch 164/200\n",
            "32/32 [==============================] - 0s 1ms/step - loss: 0.1208 - accuracy: 0.9940\n",
            "Epoch 165/200\n",
            "32/32 [==============================] - 0s 1ms/step - loss: 0.1191 - accuracy: 0.9930\n",
            "Epoch 166/200\n",
            "32/32 [==============================] - 0s 2ms/step - loss: 0.1171 - accuracy: 0.9940\n",
            "Epoch 167/200\n",
            "32/32 [==============================] - 0s 1ms/step - loss: 0.1154 - accuracy: 0.9940\n",
            "Epoch 168/200\n",
            "32/32 [==============================] - 0s 2ms/step - loss: 0.1133 - accuracy: 0.9940\n",
            "Epoch 169/200\n",
            "32/32 [==============================] - 0s 1ms/step - loss: 0.1112 - accuracy: 0.9940\n",
            "Epoch 170/200\n",
            "32/32 [==============================] - 0s 2ms/step - loss: 0.1094 - accuracy: 0.9940\n",
            "Epoch 171/200\n",
            "32/32 [==============================] - 0s 1ms/step - loss: 0.1071 - accuracy: 0.9940\n",
            "Epoch 172/200\n",
            "32/32 [==============================] - 0s 1ms/step - loss: 0.1057 - accuracy: 0.9970\n",
            "Epoch 173/200\n",
            "32/32 [==============================] - 0s 1ms/step - loss: 0.1039 - accuracy: 0.9960\n",
            "Epoch 174/200\n",
            "32/32 [==============================] - 0s 1ms/step - loss: 0.1016 - accuracy: 0.9970\n",
            "Epoch 175/200\n",
            "32/32 [==============================] - 0s 2ms/step - loss: 0.1011 - accuracy: 0.9970\n",
            "Epoch 176/200\n",
            "32/32 [==============================] - 0s 1ms/step - loss: 0.0991 - accuracy: 0.9940\n",
            "Epoch 177/200\n",
            "32/32 [==============================] - 0s 1ms/step - loss: 0.0967 - accuracy: 0.9970\n",
            "Epoch 178/200\n",
            "32/32 [==============================] - 0s 1ms/step - loss: 0.0956 - accuracy: 0.9970\n",
            "Epoch 179/200\n",
            "32/32 [==============================] - 0s 1ms/step - loss: 0.0943 - accuracy: 0.9960\n",
            "Epoch 180/200\n",
            "32/32 [==============================] - 0s 1ms/step - loss: 0.0927 - accuracy: 0.9980\n",
            "Epoch 181/200\n",
            "32/32 [==============================] - 0s 1ms/step - loss: 0.0909 - accuracy: 1.0000\n",
            "Epoch 182/200\n",
            "32/32 [==============================] - 0s 1ms/step - loss: 0.0893 - accuracy: 0.9980\n",
            "Epoch 183/200\n",
            "32/32 [==============================] - 0s 1ms/step - loss: 0.0885 - accuracy: 1.0000\n",
            "Epoch 184/200\n",
            "32/32 [==============================] - 0s 1ms/step - loss: 0.0864 - accuracy: 0.9980\n",
            "Epoch 185/200\n",
            "32/32 [==============================] - 0s 2ms/step - loss: 0.0857 - accuracy: 0.9990\n",
            "Epoch 186/200\n",
            "32/32 [==============================] - 0s 2ms/step - loss: 0.0839 - accuracy: 0.9990\n",
            "Epoch 187/200\n",
            "32/32 [==============================] - 0s 1ms/step - loss: 0.0826 - accuracy: 0.9980\n",
            "Epoch 188/200\n",
            "32/32 [==============================] - 0s 1ms/step - loss: 0.0815 - accuracy: 1.0000\n",
            "Epoch 189/200\n",
            "32/32 [==============================] - 0s 1ms/step - loss: 0.0802 - accuracy: 0.9980\n",
            "Epoch 190/200\n",
            "32/32 [==============================] - 0s 1ms/step - loss: 0.0789 - accuracy: 0.9990\n",
            "Epoch 191/200\n",
            "32/32 [==============================] - 0s 1ms/step - loss: 0.0777 - accuracy: 1.0000\n",
            "Epoch 192/200\n",
            "32/32 [==============================] - 0s 1ms/step - loss: 0.0773 - accuracy: 0.9990\n",
            "Epoch 193/200\n",
            "32/32 [==============================] - 0s 1ms/step - loss: 0.0749 - accuracy: 1.0000\n",
            "Epoch 194/200\n",
            "32/32 [==============================] - 0s 2ms/step - loss: 0.0748 - accuracy: 0.9990\n",
            "Epoch 195/200\n",
            "32/32 [==============================] - 0s 2ms/step - loss: 0.0728 - accuracy: 0.9990\n",
            "Epoch 196/200\n",
            "32/32 [==============================] - 0s 1ms/step - loss: 0.0722 - accuracy: 1.0000\n",
            "Epoch 197/200\n",
            "32/32 [==============================] - 0s 1ms/step - loss: 0.0713 - accuracy: 1.0000\n",
            "Epoch 198/200\n",
            "32/32 [==============================] - 0s 1ms/step - loss: 0.0703 - accuracy: 0.9990\n",
            "Epoch 199/200\n",
            "32/32 [==============================] - 0s 1ms/step - loss: 0.0690 - accuracy: 1.0000\n",
            "Epoch 200/200\n",
            "32/32 [==============================] - 0s 1ms/step - loss: 0.0684 - accuracy: 0.9990\n"
          ]
        }
      ]
    },
    {
      "cell_type": "code",
      "source": [
        "model_6.evaluate(X,y)"
      ],
      "metadata": {
        "colab": {
          "base_uri": "https://localhost:8080/"
        },
        "id": "N-yI1rLZAAwU",
        "outputId": "6729c780-9e4a-4db4-c0c3-b95dd911089c"
      },
      "execution_count": 21,
      "outputs": [
        {
          "output_type": "stream",
          "name": "stdout",
          "text": [
            "32/32 [==============================] - 0s 989us/step - loss: 0.0680 - accuracy: 1.0000\n"
          ]
        },
        {
          "output_type": "execute_result",
          "data": {
            "text/plain": [
              "[0.06799187511205673, 1.0]"
            ]
          },
          "metadata": {},
          "execution_count": 21
        }
      ]
    },
    {
      "cell_type": "code",
      "source": [
        "# checkout predictions\n",
        "plot_decision_boundary(model = model_6,\n",
        "                       X=X,\n",
        "                       y=y)"
      ],
      "metadata": {
        "colab": {
          "base_uri": "https://localhost:8080/",
          "height": 282
        },
        "id": "2Ot2g9K5JXGh",
        "outputId": "9b90853c-8093-4a5b-bcd5-6cf679416104"
      },
      "execution_count": 22,
      "outputs": [
        {
          "output_type": "stream",
          "name": "stdout",
          "text": [
            "doing binary classification\n"
          ]
        },
        {
          "output_type": "display_data",
          "data": {
            "text/plain": [
              "<Figure size 432x288 with 1 Axes>"
            ],
            "image/png": "[encoded data removed]"
          },
          "metadata": {
            "needs_background": "light"
          }
        }
      ]
    },
    {
      "cell_type": "markdown",
      "source": [
        "## Final try to make model the best for this data\n"
      ],
      "metadata": {
        "id": "rzeYH5rwg6vm"
      }
    },
    {
      "cell_type": "code",
      "source": [
        "tf.random.set_seed(42)\n",
        "\n",
        "model_7 = tf.keras.Sequential([\n",
        "    tf.keras.layers.Dense(10, activation=\"relu\"),\n",
        "    tf.keras.layers.Dense(1, activation = \"sigmoid\")\n",
        "])\n",
        "\n",
        "model_7.compile(loss = \"binary_crossentropy\",\n",
        "                optimizer = tf.keras.optimizers.Adam(learning_rate=0.001),\n",
        "                metrics=[\"accuracy\"])\n",
        "\n",
        "history = model_7.fit(X,y,epochs=100)"
      ],
      "metadata": {
        "colab": {
          "base_uri": "https://localhost:8080/"
        },
        "id": "pbYN4Uukg_R_",
        "outputId": "bedb74af-8196-40d5-8b26-1d339900ff86"
      },
      "execution_count": 23,
      "outputs": [
        {
          "output_type": "stream",
          "name": "stdout",
          "text": [
            "Epoch 1/100\n",
            "32/32 [==============================] - 0s 1ms/step - loss: 0.7456 - accuracy: 0.5000\n",
            "Epoch 2/100\n",
            "32/32 [==============================] - 0s 1ms/step - loss: 0.7320 - accuracy: 0.4960\n",
            "Epoch 3/100\n",
            "32/32 [==============================] - 0s 1ms/step - loss: 0.7230 - accuracy: 0.4820\n",
            "Epoch 4/100\n",
            "32/32 [==============================] - 0s 1ms/step - loss: 0.7171 - accuracy: 0.4740\n",
            "Epoch 5/100\n",
            "32/32 [==============================] - 0s 1ms/step - loss: 0.7132 - accuracy: 0.4570\n",
            "Epoch 6/100\n",
            "32/32 [==============================] - 0s 1ms/step - loss: 0.7105 - accuracy: 0.4660\n",
            "Epoch 7/100\n",
            "32/32 [==============================] - 0s 1ms/step - loss: 0.7081 - accuracy: 0.4760\n",
            "Epoch 8/100\n",
            "32/32 [==============================] - 0s 2ms/step - loss: 0.7064 - accuracy: 0.4760\n",
            "Epoch 9/100\n",
            "32/32 [==============================] - 0s 1ms/step - loss: 0.7047 - accuracy: 0.4740\n",
            "Epoch 10/100\n",
            "32/32 [==============================] - 0s 1ms/step - loss: 0.7034 - accuracy: 0.4550\n",
            "Epoch 11/100\n",
            "32/32 [==============================] - 0s 2ms/step - loss: 0.7023 - accuracy: 0.4410\n",
            "Epoch 12/100\n",
            "32/32 [==============================] - 0s 2ms/step - loss: 0.7012 - accuracy: 0.4220\n",
            "Epoch 13/100\n",
            "32/32 [==============================] - 0s 1ms/step - loss: 0.7003 - accuracy: 0.3950\n",
            "Epoch 14/100\n",
            "32/32 [==============================] - 0s 1ms/step - loss: 0.6994 - accuracy: 0.4110\n",
            "Epoch 15/100\n",
            "32/32 [==============================] - 0s 1ms/step - loss: 0.6985 - accuracy: 0.3840\n",
            "Epoch 16/100\n",
            "32/32 [==============================] - 0s 1ms/step - loss: 0.6976 - accuracy: 0.3750\n",
            "Epoch 17/100\n",
            "32/32 [==============================] - 0s 1ms/step - loss: 0.6969 - accuracy: 0.3660\n",
            "Epoch 18/100\n",
            "32/32 [==============================] - 0s 1ms/step - loss: 0.6960 - accuracy: 0.3570\n",
            "Epoch 19/100\n",
            "32/32 [==============================] - 0s 1ms/step - loss: 0.6952 - accuracy: 0.3700\n",
            "Epoch 20/100\n",
            "32/32 [==============================] - 0s 1ms/step - loss: 0.6944 - accuracy: 0.3850\n",
            "Epoch 21/100\n",
            "32/32 [==============================] - 0s 1ms/step - loss: 0.6937 - accuracy: 0.4080\n",
            "Epoch 22/100\n",
            "32/32 [==============================] - 0s 2ms/step - loss: 0.6928 - accuracy: 0.4250\n",
            "Epoch 23/100\n",
            "32/32 [==============================] - 0s 2ms/step - loss: 0.6920 - accuracy: 0.4520\n",
            "Epoch 24/100\n",
            "32/32 [==============================] - 0s 1ms/step - loss: 0.6913 - accuracy: 0.4520\n",
            "Epoch 25/100\n",
            "32/32 [==============================] - 0s 2ms/step - loss: 0.6905 - accuracy: 0.4590\n",
            "Epoch 26/100\n",
            "32/32 [==============================] - 0s 1ms/step - loss: 0.6896 - accuracy: 0.4800\n",
            "Epoch 27/100\n",
            "32/32 [==============================] - 0s 1ms/step - loss: 0.6889 - accuracy: 0.4950\n",
            "Epoch 28/100\n",
            "32/32 [==============================] - 0s 1ms/step - loss: 0.6878 - accuracy: 0.5000\n",
            "Epoch 29/100\n",
            "32/32 [==============================] - 0s 1ms/step - loss: 0.6871 - accuracy: 0.5040\n",
            "Epoch 30/100\n",
            "32/32 [==============================] - 0s 1ms/step - loss: 0.6862 - accuracy: 0.5050\n",
            "Epoch 31/100\n",
            "32/32 [==============================] - 0s 1ms/step - loss: 0.6852 - accuracy: 0.5060\n",
            "Epoch 32/100\n",
            "32/32 [==============================] - 0s 1ms/step - loss: 0.6842 - accuracy: 0.5060\n",
            "Epoch 33/100\n",
            "32/32 [==============================] - 0s 1ms/step - loss: 0.6833 - accuracy: 0.5100\n",
            "Epoch 34/100\n",
            "32/32 [==============================] - 0s 1ms/step - loss: 0.6827 - accuracy: 0.5100\n",
            "Epoch 35/100\n",
            "32/32 [==============================] - 0s 1ms/step - loss: 0.6820 - accuracy: 0.5120\n",
            "Epoch 36/100\n",
            "32/32 [==============================] - 0s 1ms/step - loss: 0.6810 - accuracy: 0.5160\n",
            "Epoch 37/100\n",
            "32/32 [==============================] - 0s 2ms/step - loss: 0.6803 - accuracy: 0.5190\n",
            "Epoch 38/100\n",
            "32/32 [==============================] - 0s 2ms/step - loss: 0.6796 - accuracy: 0.5200\n",
            "Epoch 39/100\n",
            "32/32 [==============================] - 0s 1ms/step - loss: 0.6787 - accuracy: 0.5300\n",
            "Epoch 40/100\n",
            "32/32 [==============================] - 0s 1ms/step - loss: 0.6778 - accuracy: 0.5330\n",
            "Epoch 41/100\n",
            "32/32 [==============================] - 0s 1ms/step - loss: 0.6770 - accuracy: 0.5450\n",
            "Epoch 42/100\n",
            "32/32 [==============================] - 0s 1ms/step - loss: 0.6758 - accuracy: 0.5550\n",
            "Epoch 43/100\n",
            "32/32 [==============================] - 0s 1ms/step - loss: 0.6748 - accuracy: 0.5580\n",
            "Epoch 44/100\n",
            "32/32 [==============================] - 0s 1ms/step - loss: 0.6741 - accuracy: 0.5470\n",
            "Epoch 45/100\n",
            "32/32 [==============================] - 0s 1ms/step - loss: 0.6729 - accuracy: 0.5660\n",
            "Epoch 46/100\n",
            "32/32 [==============================] - 0s 2ms/step - loss: 0.6718 - accuracy: 0.5790\n",
            "Epoch 47/100\n",
            "32/32 [==============================] - 0s 2ms/step - loss: 0.6709 - accuracy: 0.5870\n",
            "Epoch 48/100\n",
            "32/32 [==============================] - 0s 1ms/step - loss: 0.6693 - accuracy: 0.5880\n",
            "Epoch 49/100\n",
            "32/32 [==============================] - 0s 1ms/step - loss: 0.6680 - accuracy: 0.5900\n",
            "Epoch 50/100\n",
            "32/32 [==============================] - 0s 1ms/step - loss: 0.6668 - accuracy: 0.5910\n",
            "Epoch 51/100\n",
            "32/32 [==============================] - 0s 1ms/step - loss: 0.6656 - accuracy: 0.5990\n",
            "Epoch 52/100\n",
            "32/32 [==============================] - 0s 2ms/step - loss: 0.6643 - accuracy: 0.6140\n",
            "Epoch 53/100\n",
            "32/32 [==============================] - 0s 1ms/step - loss: 0.6628 - accuracy: 0.6120\n",
            "Epoch 54/100\n",
            "32/32 [==============================] - 0s 1ms/step - loss: 0.6610 - accuracy: 0.6320\n",
            "Epoch 55/100\n",
            "32/32 [==============================] - 0s 1ms/step - loss: 0.6599 - accuracy: 0.6620\n",
            "Epoch 56/100\n",
            "32/32 [==============================] - 0s 1ms/step - loss: 0.6584 - accuracy: 0.6650\n",
            "Epoch 57/100\n",
            "32/32 [==============================] - 0s 1ms/step - loss: 0.6569 - accuracy: 0.6630\n",
            "Epoch 58/100\n",
            "32/32 [==============================] - 0s 1ms/step - loss: 0.6555 - accuracy: 0.6880\n",
            "Epoch 59/100\n",
            "32/32 [==============================] - 0s 1ms/step - loss: 0.6543 - accuracy: 0.7220\n",
            "Epoch 60/100\n",
            "32/32 [==============================] - 0s 1ms/step - loss: 0.6525 - accuracy: 0.7220\n",
            "Epoch 61/100\n",
            "32/32 [==============================] - 0s 1ms/step - loss: 0.6511 - accuracy: 0.7050\n",
            "Epoch 62/100\n",
            "32/32 [==============================] - 0s 1ms/step - loss: 0.6494 - accuracy: 0.7350\n",
            "Epoch 63/100\n",
            "32/32 [==============================] - 0s 1ms/step - loss: 0.6477 - accuracy: 0.7510\n",
            "Epoch 64/100\n",
            "32/32 [==============================] - 0s 1ms/step - loss: 0.6463 - accuracy: 0.7530\n",
            "Epoch 65/100\n",
            "32/32 [==============================] - 0s 1ms/step - loss: 0.6447 - accuracy: 0.7940\n",
            "Epoch 66/100\n",
            "32/32 [==============================] - 0s 1ms/step - loss: 0.6430 - accuracy: 0.8440\n",
            "Epoch 67/100\n",
            "32/32 [==============================] - 0s 1ms/step - loss: 0.6413 - accuracy: 0.8020\n",
            "Epoch 68/100\n",
            "32/32 [==============================] - 0s 1ms/step - loss: 0.6396 - accuracy: 0.8170\n",
            "Epoch 69/100\n",
            "32/32 [==============================] - 0s 1ms/step - loss: 0.6379 - accuracy: 0.8640\n",
            "Epoch 70/100\n",
            "32/32 [==============================] - 0s 1ms/step - loss: 0.6362 - accuracy: 0.8830\n",
            "Epoch 71/100\n",
            "32/32 [==============================] - 0s 1ms/step - loss: 0.6345 - accuracy: 0.8760\n",
            "Epoch 72/100\n",
            "32/32 [==============================] - 0s 1ms/step - loss: 0.6328 - accuracy: 0.9040\n",
            "Epoch 73/100\n",
            "32/32 [==============================] - 0s 1ms/step - loss: 0.6311 - accuracy: 0.9150\n",
            "Epoch 74/100\n",
            "32/32 [==============================] - 0s 1ms/step - loss: 0.6291 - accuracy: 0.9230\n",
            "Epoch 75/100\n",
            "32/32 [==============================] - 0s 1ms/step - loss: 0.6275 - accuracy: 0.9420\n",
            "Epoch 76/100\n",
            "32/32 [==============================] - 0s 1ms/step - loss: 0.6256 - accuracy: 0.8990\n",
            "Epoch 77/100\n",
            "32/32 [==============================] - 0s 1ms/step - loss: 0.6238 - accuracy: 0.9500\n",
            "Epoch 78/100\n",
            "32/32 [==============================] - 0s 1ms/step - loss: 0.6219 - accuracy: 0.9250\n",
            "Epoch 79/100\n",
            "32/32 [==============================] - 0s 1ms/step - loss: 0.6200 - accuracy: 0.9380\n",
            "Epoch 80/100\n",
            "32/32 [==============================] - 0s 1ms/step - loss: 0.6179 - accuracy: 0.9570\n",
            "Epoch 81/100\n",
            "32/32 [==============================] - 0s 1ms/step - loss: 0.6164 - accuracy: 0.9680\n",
            "Epoch 82/100\n",
            "32/32 [==============================] - 0s 1ms/step - loss: 0.6144 - accuracy: 0.9500\n",
            "Epoch 83/100\n",
            "32/32 [==============================] - 0s 1ms/step - loss: 0.6124 - accuracy: 0.9410\n",
            "Epoch 84/100\n",
            "32/32 [==============================] - 0s 1ms/step - loss: 0.6101 - accuracy: 0.9640\n",
            "Epoch 85/100\n",
            "32/32 [==============================] - 0s 1ms/step - loss: 0.6083 - accuracy: 0.9650\n",
            "Epoch 86/100\n",
            "32/32 [==============================] - 0s 1ms/step - loss: 0.6067 - accuracy: 0.9740\n",
            "Epoch 87/100\n",
            "32/32 [==============================] - 0s 2ms/step - loss: 0.6041 - accuracy: 0.9670\n",
            "Epoch 88/100\n",
            "32/32 [==============================] - 0s 2ms/step - loss: 0.6022 - accuracy: 0.9590\n",
            "Epoch 89/100\n",
            "32/32 [==============================] - 0s 3ms/step - loss: 0.6003 - accuracy: 0.9610\n",
            "Epoch 90/100\n",
            "32/32 [==============================] - 0s 2ms/step - loss: 0.5986 - accuracy: 0.9370\n",
            "Epoch 91/100\n",
            "32/32 [==============================] - 0s 3ms/step - loss: 0.5958 - accuracy: 0.9620\n",
            "Epoch 92/100\n",
            "32/32 [==============================] - 0s 3ms/step - loss: 0.5941 - accuracy: 0.9780\n",
            "Epoch 93/100\n",
            "32/32 [==============================] - 0s 3ms/step - loss: 0.5924 - accuracy: 0.9570\n",
            "Epoch 94/100\n",
            "32/32 [==============================] - 0s 3ms/step - loss: 0.5897 - accuracy: 0.9710\n",
            "Epoch 95/100\n",
            "32/32 [==============================] - 0s 3ms/step - loss: 0.5877 - accuracy: 0.9730\n",
            "Epoch 96/100\n",
            "32/32 [==============================] - 0s 2ms/step - loss: 0.5856 - accuracy: 0.9750\n",
            "Epoch 97/100\n",
            "32/32 [==============================] - 0s 2ms/step - loss: 0.5835 - accuracy: 0.9720\n",
            "Epoch 98/100\n",
            "32/32 [==============================] - 0s 2ms/step - loss: 0.5813 - accuracy: 0.9780\n",
            "Epoch 99/100\n",
            "32/32 [==============================] - 0s 2ms/step - loss: 0.5796 - accuracy: 0.9850\n",
            "Epoch 100/100\n",
            "32/32 [==============================] - 0s 3ms/step - loss: 0.5777 - accuracy: 0.9790\n"
          ]
        }
      ]
    },
    {
      "cell_type": "code",
      "source": [
        "model_7.evaluate(X,y)"
      ],
      "metadata": {
        "colab": {
          "base_uri": "https://localhost:8080/"
        },
        "id": "BEWKy607kNWJ",
        "outputId": "92199b32-73b2-494f-fe6c-bdb20ab5a622"
      },
      "execution_count": 24,
      "outputs": [
        {
          "output_type": "stream",
          "name": "stdout",
          "text": [
            "32/32 [==============================] - 0s 1ms/step - loss: 0.5757 - accuracy: 0.9810\n"
          ]
        },
        {
          "output_type": "execute_result",
          "data": {
            "text/plain": [
              "[0.5756625533103943, 0.9810000061988831]"
            ]
          },
          "metadata": {},
          "execution_count": 24
        }
      ]
    },
    {
      "cell_type": "code",
      "source": [
        "plot_decision_boundary(model=model_7,\n",
        "                       X=X,\n",
        "                       y=y)"
      ],
      "metadata": {
        "colab": {
          "base_uri": "https://localhost:8080/",
          "height": 282
        },
        "id": "qqjBBGY0jkiI",
        "outputId": "960f813b-f6a5-460b-ff8b-45bca93ed89c"
      },
      "execution_count": 25,
      "outputs": [
        {
          "output_type": "stream",
          "name": "stdout",
          "text": [
            "doing binary classification\n"
          ]
        },
        {
          "output_type": "display_data",
          "data": {
            "text/plain": [
              "<Figure size 432x288 with 1 Axes>"
            ],
            "image/png": "[encoded data removed]"
          },
          "metadata": {
            "needs_background": "light"
          }
        }
      ]
    },
    {
      "cell_type": "markdown",
      "source": [
        "## Real Action haha"
      ],
      "metadata": {
        "id": "4trqQtb_l1Mm"
      }
    },
    {
      "cell_type": "markdown",
      "source": [
        "Now we have have seen the non linear function based neural network so let's so some real action\n"
      ],
      "metadata": {
        "id": "x47Ond7qlq1R"
      }
    },
    {
      "cell_type": "code",
      "source": [
        "# Create a tensor\n",
        "A = tf.cast(tf.range(-10,10), tf.float32)\n",
        "A"
      ],
      "metadata": {
        "colab": {
          "base_uri": "https://localhost:8080/"
        },
        "id": "Ie_SEZ3kl4t1",
        "outputId": "ab33d198-7619-484e-fbe6-a05499f0bce3"
      },
      "execution_count": 26,
      "outputs": [
        {
          "output_type": "execute_result",
          "data": {
            "text/plain": [
              "<tf.Tensor: shape=(20,), dtype=float32, numpy=\n",
              "array([-10.,  -9.,  -8.,  -7.,  -6.,  -5.,  -4.,  -3.,  -2.,  -1.,   0.,\n",
              "         1.,   2.,   3.,   4.,   5.,   6.,   7.,   8.,   9.],\n",
              "      dtype=float32)>"
            ]
          },
          "metadata": {},
          "execution_count": 26
        }
      ]
    },
    {
      "cell_type": "code",
      "source": [
        "plt.plot(A, c=\"g\")"
      ],
      "metadata": {
        "colab": {
          "base_uri": "https://localhost:8080/",
          "height": 282
        },
        "id": "zzJTfCFdnd69",
        "outputId": "119d87d5-898d-4352-ddde-16117bcb27fe"
      },
      "execution_count": 27,
      "outputs": [
        {
          "output_type": "execute_result",
          "data": {
            "text/plain": [
              "[<matplotlib.lines.Line2D at 0x7f61625ac990>]"
            ]
          },
          "metadata": {},
          "execution_count": 27
        },
        {
          "output_type": "display_data",
          "data": {
            "text/plain": [
              "<Figure size 432x288 with 1 Axes>"
            ],
            "image/png": "[encoded data removed]"
          },
          "metadata": {
            "needs_background": "light"
          }
        }
      ]
    },
    {
      "cell_type": "code",
      "source": [
        "# replicating the sigmoid function\n",
        "def sigmoid(x):\n",
        "  return 1/(1+ tf.exp(-x))\n",
        "\n",
        "#sigmoid(1.0), tf.math.sigmoid(1.0)\n",
        "\n",
        "# use this sigmoid function on our tensor\n",
        "sigmoid(A)"
      ],
      "metadata": {
        "colab": {
          "base_uri": "https://localhost:8080/"
        },
        "id": "EK1WhocGoFPR",
        "outputId": "85d8f970-cfb6-4227-e72c-6fba636705b7"
      },
      "execution_count": 28,
      "outputs": [
        {
          "output_type": "execute_result",
          "data": {
            "text/plain": [
              "<tf.Tensor: shape=(20,), dtype=float32, numpy=\n",
              "array([4.5397872e-05, 1.2339458e-04, 3.3535014e-04, 9.1105117e-04,\n",
              "       2.4726233e-03, 6.6928510e-03, 1.7986210e-02, 4.7425874e-02,\n",
              "       1.1920292e-01, 2.6894143e-01, 5.0000000e-01, 7.3105860e-01,\n",
              "       8.8079703e-01, 9.5257413e-01, 9.8201376e-01, 9.9330717e-01,\n",
              "       9.9752742e-01, 9.9908900e-01, 9.9966466e-01, 9.9987662e-01],\n",
              "      dtype=float32)>"
            ]
          },
          "metadata": {},
          "execution_count": 28
        }
      ]
    },
    {
      "cell_type": "code",
      "source": [
        "plt.plot(sigmoid(A),c=\"g\")"
      ],
      "metadata": {
        "colab": {
          "base_uri": "https://localhost:8080/",
          "height": 282
        },
        "id": "wpilyb4oo1ky",
        "outputId": "ce2c31cf-b695-42d1-f92b-11a21d211782"
      },
      "execution_count": 29,
      "outputs": [
        {
          "output_type": "execute_result",
          "data": {
            "text/plain": [
              "[<matplotlib.lines.Line2D at 0x7f6162b77710>]"
            ]
          },
          "metadata": {},
          "execution_count": 29
        },
        {
          "output_type": "display_data",
          "data": {
            "text/plain": [
              "<Figure size 432x288 with 1 Axes>"
            ],
            "image/png": "[encoded data removed]"
          },
          "metadata": {
            "needs_background": "light"
          }
        }
      ]
    },
    {
      "cell_type": "code",
      "source": [
        "# replicating relu function\n",
        "def relu(x):\n",
        "  return tf.maximum(x,0)\n",
        "\n",
        "relu(A)"
      ],
      "metadata": {
        "colab": {
          "base_uri": "https://localhost:8080/"
        },
        "id": "MLg5FEI8pIxF",
        "outputId": "2d38c8c3-75c8-4f69-a7ff-41eba2167075"
      },
      "execution_count": 30,
      "outputs": [
        {
          "output_type": "execute_result",
          "data": {
            "text/plain": [
              "<tf.Tensor: shape=(20,), dtype=float32, numpy=\n",
              "array([0., 0., 0., 0., 0., 0., 0., 0., 0., 0., 0., 1., 2., 3., 4., 5., 6.,\n",
              "       7., 8., 9.], dtype=float32)>"
            ]
          },
          "metadata": {},
          "execution_count": 30
        }
      ]
    },
    {
      "cell_type": "code",
      "source": [
        "plt.plot(relu(A))"
      ],
      "metadata": {
        "colab": {
          "base_uri": "https://localhost:8080/",
          "height": 282
        },
        "id": "AUj5CibLHnww",
        "outputId": "7f63650e-a0ec-47b5-9b03-41d614cec59b"
      },
      "execution_count": 31,
      "outputs": [
        {
          "output_type": "execute_result",
          "data": {
            "text/plain": [
              "[<matplotlib.lines.Line2D at 0x7f6162a0f750>]"
            ]
          },
          "metadata": {},
          "execution_count": 31
        },
        {
          "output_type": "display_data",
          "data": {
            "text/plain": [
              "<Figure size 432x288 with 1 Axes>"
            ],
            "image/png": "[encoded data removed]"
          },
          "metadata": {
            "needs_background": "light"
          }
        }
      ]
    },
    {
      "cell_type": "code",
      "source": [
        "# Replicating linear activation function \n",
        "tf.keras.activations.linear(A)"
      ],
      "metadata": {
        "colab": {
          "base_uri": "https://localhost:8080/"
        },
        "id": "zkW2x9MdnlfO",
        "outputId": "03fcd0b4-153a-4da4-ea3a-9345d6171c21"
      },
      "execution_count": 32,
      "outputs": [
        {
          "output_type": "execute_result",
          "data": {
            "text/plain": [
              "<tf.Tensor: shape=(20,), dtype=float32, numpy=\n",
              "array([-10.,  -9.,  -8.,  -7.,  -6.,  -5.,  -4.,  -3.,  -2.,  -1.,   0.,\n",
              "         1.,   2.,   3.,   4.,   5.,   6.,   7.,   8.,   9.],\n",
              "      dtype=float32)>"
            ]
          },
          "metadata": {},
          "execution_count": 32
        }
      ]
    },
    {
      "cell_type": "code",
      "source": [
        "plt.plot(tf.keras.activations.linear(A))\n",
        "plt.plot(A)"
      ],
      "metadata": {
        "colab": {
          "base_uri": "https://localhost:8080/",
          "height": 282
        },
        "id": "SG53Lxndn5cV",
        "outputId": "32a13b5d-59e1-459c-f630-565574e3f9ac"
      },
      "execution_count": 35,
      "outputs": [
        {
          "output_type": "execute_result",
          "data": {
            "text/plain": [
              "[<matplotlib.lines.Line2D at 0x7f61601ef7d0>]"
            ]
          },
          "metadata": {},
          "execution_count": 35
        },
        {
          "output_type": "display_data",
          "data": {
            "text/plain": [
              "<Figure size 432x288 with 1 Axes>"
            ],
            "image/png": "[encoded data removed]"
          },
          "metadata": {
            "needs_background": "light"
          }
        }
      ]
    },
    {
      "cell_type": "code",
      "source": [
        "# Does it even change anything?\n",
        "A == tf.keras.activations.linear(A)"
      ],
      "metadata": {
        "colab": {
          "base_uri": "https://localhost:8080/"
        },
        "id": "Mso1YNtoqdNC",
        "outputId": "165da57f-38d7-4ae5-f233-beaf60de90c7"
      },
      "execution_count": 36,
      "outputs": [
        {
          "output_type": "execute_result",
          "data": {
            "text/plain": [
              "<tf.Tensor: shape=(20,), dtype=bool, numpy=\n",
              "array([ True,  True,  True,  True,  True,  True,  True,  True,  True,\n",
              "        True,  True,  True,  True,  True,  True,  True,  True,  True,\n",
              "        True,  True])>"
            ]
          },
          "metadata": {},
          "execution_count": 36
        }
      ]
    },
    {
      "cell_type": "markdown",
      "source": [
        "## Evaluating and improving our classification"
      ],
      "metadata": {
        "id": "C053Egs5rFds"
      }
    },
    {
      "cell_type": "code",
      "source": [
        "len(X)"
      ],
      "metadata": {
        "colab": {
          "base_uri": "https://localhost:8080/"
        },
        "id": "qsm1xEr1qkLS",
        "outputId": "72a5d8c0-2a0d-4f7c-ac4a-c32137c9b5c7"
      },
      "execution_count": 37,
      "outputs": [
        {
          "output_type": "execute_result",
          "data": {
            "text/plain": [
              "1000"
            ]
          },
          "metadata": {},
          "execution_count": 37
        }
      ]
    },
    {
      "cell_type": "code",
      "source": [
        "# Create the training and test dataset \n",
        "from sklearn.model_selection import train_test_split\n",
        "\n",
        "X_train, X_test, y_train, y_test = train_test_split(\n",
        "    X, y, test_size=0.33, random_state=42)\n",
        "\n",
        "X_train.shape, X_test.shape, y_train.shape, y_test.shape"
      ],
      "metadata": {
        "colab": {
          "base_uri": "https://localhost:8080/"
        },
        "id": "r9bSLY70rjjf",
        "outputId": "593ececd-97f4-41e7-f30d-4a5884bf3151"
      },
      "execution_count": 39,
      "outputs": [
        {
          "output_type": "execute_result",
          "data": {
            "text/plain": [
              "((670, 2), (330, 2), (670,), (330,))"
            ]
          },
          "metadata": {},
          "execution_count": 39
        }
      ]
    },
    {
      "cell_type": "code",
      "source": [
        "# Create a model \n",
        "tf.random.set_seed(42)\n",
        "\n",
        "model_8 = tf.keras.Sequential([\n",
        "    tf.keras.layers.Dense(4, activation = \"relu\"),\n",
        "    tf.keras.layers.Dense(4, activation = \"relu\"),\n",
        "    tf.keras.layers.Dense(1, activation = \"sigmoid\")\n",
        "])\n",
        "\n",
        "model_8.compile(loss = \"binary_crossentropy\",\n",
        "                optimizer = tf.keras.optimizers.Adam(learning_rate=0.01),\n",
        "                metrics=[\"accuracy\"])\n",
        "\n",
        "history = model_8.fit(X_train, y_train, epochs=50)"
      ],
      "metadata": {
        "colab": {
          "base_uri": "https://localhost:8080/"
        },
        "id": "h0ojlUI5sOkl",
        "outputId": "aa7428ef-2e76-40d0-c607-726755587f2b"
      },
      "execution_count": 51,
      "outputs": [
        {
          "output_type": "stream",
          "name": "stdout",
          "text": [
            "Epoch 1/50\n",
            "21/21 [==============================] - 1s 2ms/step - loss: 0.6837 - accuracy: 0.5522\n",
            "Epoch 2/50\n",
            "21/21 [==============================] - 0s 2ms/step - loss: 0.6758 - accuracy: 0.5910\n",
            "Epoch 3/50\n",
            "21/21 [==============================] - 0s 1ms/step - loss: 0.6706 - accuracy: 0.5731\n",
            "Epoch 4/50\n",
            "21/21 [==============================] - 0s 2ms/step - loss: 0.6664 - accuracy: 0.5731\n",
            "Epoch 5/50\n",
            "21/21 [==============================] - 0s 2ms/step - loss: 0.6630 - accuracy: 0.6104\n",
            "Epoch 6/50\n",
            "21/21 [==============================] - 0s 2ms/step - loss: 0.6554 - accuracy: 0.5866\n",
            "Epoch 7/50\n",
            "21/21 [==============================] - 0s 2ms/step - loss: 0.6477 - accuracy: 0.6075\n",
            "Epoch 8/50\n",
            "21/21 [==============================] - 0s 1ms/step - loss: 0.6381 - accuracy: 0.6239\n",
            "Epoch 9/50\n",
            "21/21 [==============================] - 0s 1ms/step - loss: 0.6209 - accuracy: 0.6896\n",
            "Epoch 10/50\n",
            "21/21 [==============================] - 0s 2ms/step - loss: 0.5995 - accuracy: 0.7299\n",
            "Epoch 11/50\n",
            "21/21 [==============================] - 0s 1ms/step - loss: 0.5672 - accuracy: 0.7343\n",
            "Epoch 12/50\n",
            "21/21 [==============================] - 0s 2ms/step - loss: 0.5305 - accuracy: 0.7776\n",
            "Epoch 13/50\n",
            "21/21 [==============================] - 0s 2ms/step - loss: 0.4967 - accuracy: 0.7985\n",
            "Epoch 14/50\n",
            "21/21 [==============================] - 0s 1ms/step - loss: 0.4507 - accuracy: 0.8224\n",
            "Epoch 15/50\n",
            "21/21 [==============================] - 0s 2ms/step - loss: 0.4190 - accuracy: 0.8597\n",
            "Epoch 16/50\n",
            "21/21 [==============================] - 0s 1ms/step - loss: 0.3642 - accuracy: 0.8970\n",
            "Epoch 17/50\n",
            "21/21 [==============================] - 0s 2ms/step - loss: 0.3242 - accuracy: 0.9299\n",
            "Epoch 18/50\n",
            "21/21 [==============================] - 0s 1ms/step - loss: 0.2993 - accuracy: 0.9478\n",
            "Epoch 19/50\n",
            "21/21 [==============================] - 0s 2ms/step - loss: 0.2602 - accuracy: 0.9687\n",
            "Epoch 20/50\n",
            "21/21 [==============================] - 0s 1ms/step - loss: 0.2413 - accuracy: 0.9701\n",
            "Epoch 21/50\n",
            "21/21 [==============================] - 0s 2ms/step - loss: 0.2291 - accuracy: 0.9582\n",
            "Epoch 22/50\n",
            "21/21 [==============================] - 0s 1ms/step - loss: 0.2010 - accuracy: 0.9821\n",
            "Epoch 23/50\n",
            "21/21 [==============================] - 0s 2ms/step - loss: 0.1868 - accuracy: 0.9701\n",
            "Epoch 24/50\n",
            "21/21 [==============================] - 0s 2ms/step - loss: 0.1603 - accuracy: 0.9851\n",
            "Epoch 25/50\n",
            "21/21 [==============================] - 0s 2ms/step - loss: 0.1455 - accuracy: 0.9940\n",
            "Epoch 26/50\n",
            "21/21 [==============================] - 0s 1ms/step - loss: 0.1335 - accuracy: 0.9881\n",
            "Epoch 27/50\n",
            "21/21 [==============================] - 0s 2ms/step - loss: 0.1197 - accuracy: 0.9925\n",
            "Epoch 28/50\n",
            "21/21 [==============================] - 0s 2ms/step - loss: 0.1089 - accuracy: 0.9940\n",
            "Epoch 29/50\n",
            "21/21 [==============================] - 0s 2ms/step - loss: 0.1072 - accuracy: 0.9881\n",
            "Epoch 30/50\n",
            "21/21 [==============================] - 0s 2ms/step - loss: 0.0967 - accuracy: 0.9955\n",
            "Epoch 31/50\n",
            "21/21 [==============================] - 0s 2ms/step - loss: 0.0852 - accuracy: 0.9970\n",
            "Epoch 32/50\n",
            "21/21 [==============================] - 0s 2ms/step - loss: 0.0851 - accuracy: 0.9910\n",
            "Epoch 33/50\n",
            "21/21 [==============================] - 0s 2ms/step - loss: 0.0790 - accuracy: 0.9925\n",
            "Epoch 34/50\n",
            "21/21 [==============================] - 0s 2ms/step - loss: 0.0734 - accuracy: 0.9955\n",
            "Epoch 35/50\n",
            "21/21 [==============================] - 0s 2ms/step - loss: 0.0684 - accuracy: 0.9970\n",
            "Epoch 36/50\n",
            "21/21 [==============================] - 0s 2ms/step - loss: 0.0667 - accuracy: 0.9940\n",
            "Epoch 37/50\n",
            "21/21 [==============================] - 0s 1ms/step - loss: 0.0633 - accuracy: 0.9970\n",
            "Epoch 38/50\n",
            "21/21 [==============================] - 0s 1ms/step - loss: 0.0562 - accuracy: 0.9985\n",
            "Epoch 39/50\n",
            "21/21 [==============================] - 0s 2ms/step - loss: 0.0539 - accuracy: 0.9970\n",
            "Epoch 40/50\n",
            "21/21 [==============================] - 0s 2ms/step - loss: 0.0530 - accuracy: 0.9970\n",
            "Epoch 41/50\n",
            "21/21 [==============================] - 0s 1ms/step - loss: 0.0519 - accuracy: 0.9985\n",
            "Epoch 42/50\n",
            "21/21 [==============================] - 0s 2ms/step - loss: 0.0516 - accuracy: 0.9955\n",
            "Epoch 43/50\n",
            "21/21 [==============================] - 0s 2ms/step - loss: 0.0506 - accuracy: 0.9970\n",
            "Epoch 44/50\n",
            "21/21 [==============================] - 0s 2ms/step - loss: 0.0459 - accuracy: 0.9955\n",
            "Epoch 45/50\n",
            "21/21 [==============================] - 0s 2ms/step - loss: 0.0440 - accuracy: 0.9985\n",
            "Epoch 46/50\n",
            "21/21 [==============================] - 0s 1ms/step - loss: 0.0414 - accuracy: 0.9970\n",
            "Epoch 47/50\n",
            "21/21 [==============================] - 0s 2ms/step - loss: 0.0425 - accuracy: 0.9970\n",
            "Epoch 48/50\n",
            "21/21 [==============================] - 0s 2ms/step - loss: 0.0396 - accuracy: 0.9985\n",
            "Epoch 49/50\n",
            "21/21 [==============================] - 0s 2ms/step - loss: 0.0397 - accuracy: 0.9955\n",
            "Epoch 50/50\n",
            "21/21 [==============================] - 0s 1ms/step - loss: 0.0411 - accuracy: 0.9955\n"
          ]
        }
      ]
    },
    {
      "cell_type": "code",
      "source": [
        "model_8.evaluate(X_test, y_test)"
      ],
      "metadata": {
        "colab": {
          "base_uri": "https://localhost:8080/"
        },
        "id": "KHn55MzAtR1b",
        "outputId": "8dc1ff08-cbe6-4f69-881f-602df8c5f130"
      },
      "execution_count": 52,
      "outputs": [
        {
          "output_type": "stream",
          "name": "stdout",
          "text": [
            "11/11 [==============================] - 0s 1ms/step - loss: 0.0674 - accuracy: 0.9848\n"
          ]
        },
        {
          "output_type": "execute_result",
          "data": {
            "text/plain": [
              "[0.0673758015036583, 0.9848484992980957]"
            ]
          },
          "metadata": {},
          "execution_count": 52
        }
      ]
    },
    {
      "cell_type": "code",
      "source": [
        "model_8.predict(X_test), y_test "
      ],
      "metadata": {
        "colab": {
          "base_uri": "https://localhost:8080/"
        },
        "id": "lftYYaPOteH9",
        "outputId": "8b99f39a-345f-4bc1-8d53-6f8a073aecab"
      },
      "execution_count": 53,
      "outputs": [
        {
          "output_type": "execute_result",
          "data": {
            "text/plain": [
              "(array([[9.97292340e-01],\n",
              "        [7.40002692e-02],\n",
              "        [9.91737187e-01],\n",
              "        [4.38598394e-01],\n",
              "        [6.75530195e-01],\n",
              "        [9.47960675e-01],\n",
              "        [6.76988784e-05],\n",
              "        [4.57435846e-04],\n",
              "        [9.48816657e-01],\n",
              "        [3.24266255e-02],\n",
              "        [3.06841165e-01],\n",
              "        [9.99773264e-01],\n",
              "        [7.02053308e-04],\n",
              "        [9.24800456e-01],\n",
              "        [2.20462084e-02],\n",
              "        [9.99948502e-01],\n",
              "        [9.94323134e-01],\n",
              "        [2.94920802e-03],\n",
              "        [9.74878550e-01],\n",
              "        [5.26468158e-02],\n",
              "        [2.76494622e-02],\n",
              "        [1.37507915e-04],\n",
              "        [9.83022213e-01],\n",
              "        [2.74419785e-04],\n",
              "        [8.58217478e-04],\n",
              "        [4.04247046e-02],\n",
              "        [2.79524922e-03],\n",
              "        [1.22322439e-04],\n",
              "        [7.12066889e-04],\n",
              "        [9.86138940e-01],\n",
              "        [9.97386575e-01],\n",
              "        [7.79271126e-04],\n",
              "        [3.29131961e-01],\n",
              "        [9.87552881e-01],\n",
              "        [1.87288523e-02],\n",
              "        [9.69035506e-01],\n",
              "        [9.93428946e-01],\n",
              "        [9.85315323e-01],\n",
              "        [9.83537495e-01],\n",
              "        [9.32223201e-01],\n",
              "        [9.68376398e-01],\n",
              "        [8.61391068e-01],\n",
              "        [9.98206258e-01],\n",
              "        [7.32451677e-03],\n",
              "        [6.40420318e-02],\n",
              "        [9.35464382e-01],\n",
              "        [4.57760990e-02],\n",
              "        [7.41475821e-03],\n",
              "        [9.97487366e-01],\n",
              "        [8.87532234e-01],\n",
              "        [3.85785311e-01],\n",
              "        [3.62707376e-02],\n",
              "        [7.41779804e-04],\n",
              "        [1.25320256e-02],\n",
              "        [9.99837995e-01],\n",
              "        [5.26973605e-03],\n",
              "        [9.99232411e-01],\n",
              "        [9.16014016e-01],\n",
              "        [9.60657239e-01],\n",
              "        [8.57287645e-03],\n",
              "        [9.47654963e-01],\n",
              "        [3.72290313e-02],\n",
              "        [6.52552247e-02],\n",
              "        [8.36411715e-01],\n",
              "        [9.98950005e-01],\n",
              "        [9.78282392e-01],\n",
              "        [9.99710083e-01],\n",
              "        [1.13511980e-02],\n",
              "        [2.10635364e-02],\n",
              "        [1.06089324e-01],\n",
              "        [9.88327742e-01],\n",
              "        [4.28789854e-03],\n",
              "        [2.53289938e-03],\n",
              "        [9.51879919e-01],\n",
              "        [9.96812940e-01],\n",
              "        [9.98188496e-01],\n",
              "        [9.98946011e-01],\n",
              "        [3.52710485e-04],\n",
              "        [5.10242581e-03],\n",
              "        [8.33267510e-01],\n",
              "        [1.83919668e-02],\n",
              "        [9.99466002e-01],\n",
              "        [6.65450990e-02],\n",
              "        [9.91055965e-01],\n",
              "        [9.84714985e-01],\n",
              "        [9.44233060e-01],\n",
              "        [5.94830513e-03],\n",
              "        [1.49005651e-03],\n",
              "        [7.04938769e-02],\n",
              "        [1.76399946e-04],\n",
              "        [8.12082291e-01],\n",
              "        [9.98336017e-01],\n",
              "        [9.99660969e-01],\n",
              "        [9.14266467e-01],\n",
              "        [8.67760420e-01],\n",
              "        [5.98549843e-04],\n",
              "        [9.94241476e-01],\n",
              "        [6.86539888e-01],\n",
              "        [1.53070688e-03],\n",
              "        [9.70901728e-01],\n",
              "        [3.37979198e-03],\n",
              "        [4.30583954e-04],\n",
              "        [9.68818784e-01],\n",
              "        [9.99444008e-01],\n",
              "        [2.88921893e-01],\n",
              "        [3.76646757e-01],\n",
              "        [9.85576987e-01],\n",
              "        [3.73622788e-05],\n",
              "        [2.16026902e-02],\n",
              "        [9.99886513e-01],\n",
              "        [9.94017482e-01],\n",
              "        [9.67833281e-01],\n",
              "        [2.10190713e-02],\n",
              "        [9.76705790e-01],\n",
              "        [9.74151254e-01],\n",
              "        [1.09234154e-02],\n",
              "        [8.98545504e-01],\n",
              "        [2.92411447e-03],\n",
              "        [8.85444939e-01],\n",
              "        [1.12156272e-02],\n",
              "        [9.95752096e-01],\n",
              "        [1.30586475e-01],\n",
              "        [8.52882862e-04],\n",
              "        [8.93758774e-01],\n",
              "        [3.56544018e-01],\n",
              "        [2.06649303e-04],\n",
              "        [9.95832324e-01],\n",
              "        [9.96142149e-01],\n",
              "        [3.99407357e-01],\n",
              "        [9.90545273e-01],\n",
              "        [7.78179049e-01],\n",
              "        [5.93215227e-04],\n",
              "        [9.97798383e-01],\n",
              "        [2.07740963e-02],\n",
              "        [1.66492164e-02],\n",
              "        [2.31599212e-02],\n",
              "        [9.58713233e-01],\n",
              "        [1.52468681e-04],\n",
              "        [1.15256906e-01],\n",
              "        [9.93602872e-01],\n",
              "        [1.84914768e-02],\n",
              "        [2.66700983e-04],\n",
              "        [2.74163485e-03],\n",
              "        [9.97400999e-01],\n",
              "        [1.64340436e-02],\n",
              "        [1.46585733e-01],\n",
              "        [9.95620728e-01],\n",
              "        [2.66053677e-02],\n",
              "        [9.94862795e-01],\n",
              "        [4.55648899e-01],\n",
              "        [9.80638742e-01],\n",
              "        [4.28527594e-04],\n",
              "        [8.97783875e-01],\n",
              "        [6.00880384e-03],\n",
              "        [9.99848783e-01],\n",
              "        [9.92992640e-01],\n",
              "        [9.93003130e-01],\n",
              "        [9.04229581e-02],\n",
              "        [1.11949474e-01],\n",
              "        [2.92250782e-01],\n",
              "        [3.53754938e-01],\n",
              "        [9.99836087e-01],\n",
              "        [4.82343525e-01],\n",
              "        [4.31533158e-02],\n",
              "        [9.46196616e-01],\n",
              "        [4.30716276e-02],\n",
              "        [4.72270548e-02],\n",
              "        [1.89836740e-01],\n",
              "        [2.39304900e-02],\n",
              "        [9.53343928e-01],\n",
              "        [9.73958731e-01],\n",
              "        [8.95896435e-01],\n",
              "        [9.98844743e-01],\n",
              "        [2.65846848e-02],\n",
              "        [1.24275684e-04],\n",
              "        [1.32849813e-03],\n",
              "        [2.70120800e-02],\n",
              "        [5.02645373e-02],\n",
              "        [9.91999626e-01],\n",
              "        [1.90299749e-03],\n",
              "        [2.18932033e-02],\n",
              "        [9.10813808e-01],\n",
              "        [4.23550606e-04],\n",
              "        [7.04516411e-01],\n",
              "        [9.90430117e-01],\n",
              "        [1.65530443e-02],\n",
              "        [2.43307352e-02],\n",
              "        [1.32065475e-01],\n",
              "        [9.98694539e-01],\n",
              "        [8.84188414e-01],\n",
              "        [3.44261527e-03],\n",
              "        [9.97006416e-01],\n",
              "        [9.73594666e-01],\n",
              "        [4.62144613e-04],\n",
              "        [7.32463181e-01],\n",
              "        [8.93443823e-04],\n",
              "        [9.98587132e-01],\n",
              "        [8.74306262e-02],\n",
              "        [9.84166026e-01],\n",
              "        [9.15799141e-01],\n",
              "        [9.94770527e-01],\n",
              "        [3.97939682e-02],\n",
              "        [7.41153955e-04],\n",
              "        [2.37381458e-03],\n",
              "        [9.95047569e-01],\n",
              "        [1.78190172e-02],\n",
              "        [9.93910253e-01],\n",
              "        [9.93243694e-01],\n",
              "        [9.63807106e-03],\n",
              "        [3.13674609e-05],\n",
              "        [9.20386076e-01],\n",
              "        [5.21443486e-02],\n",
              "        [1.76883896e-05],\n",
              "        [2.79032290e-02],\n",
              "        [4.49835956e-01],\n",
              "        [3.02612782e-03],\n",
              "        [9.28741693e-03],\n",
              "        [7.17993677e-02],\n",
              "        [7.99858570e-03],\n",
              "        [9.99529004e-01],\n",
              "        [9.94073868e-01],\n",
              "        [9.93051827e-01],\n",
              "        [3.43161821e-03],\n",
              "        [6.11147165e-01],\n",
              "        [9.93265510e-01],\n",
              "        [9.54746842e-01],\n",
              "        [2.16907263e-03],\n",
              "        [5.09738922e-04],\n",
              "        [3.11334640e-01],\n",
              "        [9.27487016e-02],\n",
              "        [4.12399769e-02],\n",
              "        [1.59123629e-05],\n",
              "        [4.93341684e-03],\n",
              "        [9.66145635e-01],\n",
              "        [1.67474151e-03],\n",
              "        [1.44696623e-01],\n",
              "        [9.99762297e-01],\n",
              "        [9.65288043e-01],\n",
              "        [9.98325527e-01],\n",
              "        [9.94107366e-01],\n",
              "        [9.92836058e-01],\n",
              "        [8.34088027e-01],\n",
              "        [1.79916620e-04],\n",
              "        [9.88694131e-01],\n",
              "        [7.71572086e-05],\n",
              "        [9.57024693e-01],\n",
              "        [1.69920921e-03],\n",
              "        [6.15638494e-03],\n",
              "        [1.57180429e-03],\n",
              "        [1.23888850e-02],\n",
              "        [8.96218419e-03],\n",
              "        [8.46312523e-01],\n",
              "        [2.22337246e-03],\n",
              "        [9.64787245e-01],\n",
              "        [9.09745932e-01],\n",
              "        [9.79310870e-01],\n",
              "        [2.54157186e-02],\n",
              "        [9.81893480e-01],\n",
              "        [9.92564261e-01],\n",
              "        [9.23324704e-01],\n",
              "        [8.06501508e-03],\n",
              "        [1.74224377e-03],\n",
              "        [1.90320015e-02],\n",
              "        [9.98437941e-01],\n",
              "        [1.59230828e-03],\n",
              "        [2.32487917e-04],\n",
              "        [9.99505281e-01],\n",
              "        [1.90294623e-01],\n",
              "        [7.53358036e-05],\n",
              "        [2.55969584e-01],\n",
              "        [9.56198096e-01],\n",
              "        [9.99916732e-01],\n",
              "        [8.77063155e-01],\n",
              "        [4.31957841e-03],\n",
              "        [3.25381756e-04],\n",
              "        [2.26393938e-02],\n",
              "        [4.34994698e-04],\n",
              "        [3.95321846e-03],\n",
              "        [3.53664160e-04],\n",
              "        [4.85699773e-02],\n",
              "        [9.98645365e-01],\n",
              "        [9.73991752e-01],\n",
              "        [2.63273716e-04],\n",
              "        [9.96130466e-01],\n",
              "        [7.75668621e-02],\n",
              "        [9.82555270e-01],\n",
              "        [7.21587837e-01],\n",
              "        [9.86214280e-01],\n",
              "        [3.38733196e-04],\n",
              "        [9.97795999e-01],\n",
              "        [9.91524637e-01],\n",
              "        [9.05159473e-01],\n",
              "        [3.56742740e-03],\n",
              "        [5.94630837e-03],\n",
              "        [6.56320155e-02],\n",
              "        [9.99981880e-01],\n",
              "        [2.07006931e-04],\n",
              "        [9.89593744e-01],\n",
              "        [9.99877095e-01],\n",
              "        [7.63356686e-04],\n",
              "        [8.39531422e-03],\n",
              "        [1.30728573e-01],\n",
              "        [3.35584104e-01],\n",
              "        [5.29140234e-04],\n",
              "        [7.06613064e-04],\n",
              "        [9.76576447e-01],\n",
              "        [1.03825331e-03],\n",
              "        [3.93584847e-01],\n",
              "        [9.03785229e-04],\n",
              "        [4.92095947e-04],\n",
              "        [9.74625230e-01],\n",
              "        [9.16989267e-01],\n",
              "        [1.47728771e-01],\n",
              "        [2.30586916e-01],\n",
              "        [9.67042685e-01],\n",
              "        [1.92221701e-02],\n",
              "        [8.96757483e-01],\n",
              "        [9.94147539e-01],\n",
              "        [2.10016966e-03],\n",
              "        [9.60742235e-01],\n",
              "        [6.97582960e-04],\n",
              "        [9.86626327e-01],\n",
              "        [3.41276824e-02],\n",
              "        [9.86282945e-01],\n",
              "        [2.00867653e-04],\n",
              "        [9.78060842e-01],\n",
              "        [4.97573614e-03],\n",
              "        [9.41157341e-04],\n",
              "        [9.99503016e-01],\n",
              "        [9.98724580e-01]], dtype=float32),\n",
              " array([1, 0, 1, 0, 1, 1, 0, 0, 1, 0, 0, 1, 0, 1, 0, 1, 1, 0, 1, 0, 0, 0,\n",
              "        1, 0, 0, 0, 0, 0, 0, 1, 1, 0, 0, 1, 0, 1, 1, 1, 1, 1, 1, 1, 1, 0,\n",
              "        0, 1, 0, 0, 1, 1, 0, 0, 0, 0, 1, 0, 1, 1, 1, 0, 1, 0, 0, 1, 1, 1,\n",
              "        1, 0, 0, 0, 1, 0, 0, 1, 1, 1, 1, 0, 0, 1, 0, 1, 0, 1, 1, 1, 0, 0,\n",
              "        0, 0, 1, 1, 1, 1, 1, 0, 1, 1, 0, 1, 0, 0, 1, 1, 0, 0, 1, 0, 0, 1,\n",
              "        1, 1, 0, 1, 1, 0, 1, 0, 1, 0, 1, 0, 0, 1, 1, 0, 1, 1, 0, 1, 1, 0,\n",
              "        1, 0, 0, 0, 1, 0, 0, 1, 0, 0, 0, 1, 0, 0, 1, 0, 1, 0, 1, 0, 1, 0,\n",
              "        1, 1, 1, 0, 0, 1, 0, 1, 1, 0, 1, 0, 0, 0, 0, 1, 1, 1, 1, 0, 0, 0,\n",
              "        0, 0, 1, 0, 0, 1, 0, 1, 1, 0, 0, 0, 1, 1, 0, 1, 1, 0, 1, 0, 1, 0,\n",
              "        1, 1, 1, 0, 0, 0, 1, 0, 1, 1, 0, 0, 1, 0, 0, 0, 1, 0, 0, 0, 0, 1,\n",
              "        1, 1, 0, 1, 1, 1, 0, 0, 0, 0, 0, 0, 0, 1, 0, 0, 1, 1, 1, 1, 1, 1,\n",
              "        0, 1, 0, 1, 0, 0, 0, 0, 0, 1, 0, 1, 1, 1, 0, 1, 1, 1, 0, 0, 0, 1,\n",
              "        0, 0, 1, 0, 0, 0, 1, 1, 1, 0, 0, 0, 0, 0, 0, 0, 1, 1, 0, 1, 0, 1,\n",
              "        0, 1, 0, 1, 1, 1, 0, 0, 0, 1, 0, 1, 1, 0, 0, 0, 0, 0, 0, 1, 0, 0,\n",
              "        0, 0, 1, 1, 0, 0, 1, 0, 1, 1, 0, 1, 0, 1, 0, 1, 0, 1, 0, 0, 1, 1]))"
            ]
          },
          "metadata": {},
          "execution_count": 53
        }
      ]
    },
    {
      "cell_type": "code",
      "source": [
        "plt.figure(figsize= (10,10))\n",
        "plt.subplot(2,2,1)\n",
        "plt.title(\"Train\")\n",
        "plot_decision_boundary(model = model_8, X = X_train, y=y_train)\n",
        "plt.subplot(2,2,2)\n",
        "plt.title(\"Test\")\n",
        "plot_decision_boundary(model = model_8, X= X_test, y= y_test)\n",
        "plt.show();"
      ],
      "metadata": {
        "colab": {
          "base_uri": "https://localhost:8080/",
          "height": 345
        },
        "id": "7r19G2gDuf0E",
        "outputId": "eba4e428-142a-4cd2-cb63-374094af1d49"
      },
      "execution_count": 60,
      "outputs": [
        {
          "output_type": "stream",
          "name": "stdout",
          "text": [
            "doing binary classification\n",
            "doing binary classification\n"
          ]
        },
        {
          "output_type": "display_data",
          "data": {
            "text/plain": [
              "<Figure size 720x720 with 2 Axes>"
            ],
            "image/png": "[encoded data removed]"
          },
          "metadata": {
            "needs_background": "light"
          }
        }
      ]
    },
    {
      "cell_type": "markdown",
      "source": [
        "## Visualizing training history"
      ],
      "metadata": {
        "id": "yyijnJ9YyXwF"
      }
    },
    {
      "cell_type": "code",
      "source": [
        "# Convert the history object into a dataframe\n",
        "pd.DataFrame(history.history)\n"
      ],
      "metadata": {
        "colab": {
          "base_uri": "https://localhost:8080/",
          "height": 1000
        },
        "id": "lxQn2rFvycZ7",
        "outputId": "1aa3494f-aed2-4d39-c45a-eb78313d9a0b"
      },
      "execution_count": 62,
      "outputs": [
        {
          "output_type": "execute_result",
          "data": {
            "text/plain": [
              "        loss  accuracy\n",
              "0   0.683741  0.552239\n",
              "1   0.675780  0.591045\n",
              "2   0.670552  0.573134\n",
              "3   0.666356  0.573134\n",
              "4   0.662963  0.610448\n",
              "5   0.655366  0.586567\n",
              "6   0.647659  0.607463\n",
              "7   0.638088  0.623881\n",
              "8   0.620945  0.689552\n",
              "9   0.599483  0.729851\n",
              "10  0.567235  0.734328\n",
              "11  0.530474  0.777612\n",
              "12  0.496662  0.798507\n",
              "13  0.450738  0.822388\n",
              "14  0.419032  0.859702\n",
              "15  0.364182  0.897015\n",
              "16  0.324207  0.929851\n",
              "17  0.299284  0.947761\n",
              "18  0.260202  0.968657\n",
              "19  0.241337  0.970149\n",
              "20  0.229072  0.958209\n",
              "21  0.200997  0.982090\n",
              "22  0.186830  0.970149\n",
              "23  0.160253  0.985075\n",
              "24  0.145460  0.994030\n",
              "25  0.133544  0.988060\n",
              "26  0.119730  0.992537\n",
              "27  0.108851  0.994030\n",
              "28  0.107204  0.988060\n",
              "29  0.096698  0.995522\n",
              "30  0.085248  0.997015\n",
              "31  0.085056  0.991045\n",
              "32  0.079043  0.992537\n",
              "33  0.073377  0.995522\n",
              "34  0.068359  0.997015\n",
              "35  0.066690  0.994030\n",
              "36  0.063280  0.997015\n",
              "37  0.056196  0.998507\n",
              "38  0.053932  0.997015\n",
              "39  0.053032  0.997015\n",
              "40  0.051878  0.998507\n",
              "41  0.051591  0.995522\n",
              "42  0.050589  0.997015\n",
              "43  0.045911  0.995522\n",
              "44  0.043990  0.998507\n",
              "45  0.041395  0.997015\n",
              "46  0.042453  0.997015\n",
              "47  0.039570  0.998507\n",
              "48  0.039656  0.995522\n",
              "49  0.041058  0.995522"
            ],
            "text/html": [
              "\n",
              "  <div id=\"df-743030c5-af53-45bc-b1f4-3fca0cb8b3ba\">\n",
              "    <div class=\"colab-df-container\">\n",
              "      <div>\n",
              "<style scoped>\n",
              "    .dataframe tbody tr th:only-of-type {\n",
              "        vertical-align: middle;\n",
              "    }\n",
              "\n",
              "    .dataframe tbody tr th {\n",
              "        vertical-align: top;\n",
              "    }\n",
              "\n",
              "    .dataframe thead th {\n",
              "        text-align: right;\n",
              "    }\n",
              "</style>\n",
              "<table border=\"1\" class=\"dataframe\">\n",
              "  <thead>\n",
              "    <tr style=\"text-align: right;\">\n",
              "      <th></th>\n",
              "      <th>loss</th>\n",
              "      <th>accuracy</th>\n",
              "    </tr>\n",
              "  </thead>\n",
              "  <tbody>\n",
              "    <tr>\n",
              "      <th>0</th>\n",
              "      <td>0.683741</td>\n",
              "      <td>0.552239</td>\n",
              "    </tr>\n",
              "    <tr>\n",
              "      <th>1</th>\n",
              "      <td>0.675780</td>\n",
              "      <td>0.591045</td>\n",
              "    </tr>\n",
              "    <tr>\n",
              "      <th>2</th>\n",
              "      <td>0.670552</td>\n",
              "      <td>0.573134</td>\n",
              "    </tr>\n",
              "    <tr>\n",
              "      <th>3</th>\n",
              "      <td>0.666356</td>\n",
              "      <td>0.573134</td>\n",
              "    </tr>\n",
              "    <tr>\n",
              "      <th>4</th>\n",
              "      <td>0.662963</td>\n",
              "      <td>0.610448</td>\n",
              "    </tr>\n",
              "    <tr>\n",
              "      <th>5</th>\n",
              "      <td>0.655366</td>\n",
              "      <td>0.586567</td>\n",
              "    </tr>\n",
              "    <tr>\n",
              "      <th>6</th>\n",
              "      <td>0.647659</td>\n",
              "      <td>0.607463</td>\n",
              "    </tr>\n",
              "    <tr>\n",
              "      <th>7</th>\n",
              "      <td>0.638088</td>\n",
              "      <td>0.623881</td>\n",
              "    </tr>\n",
              "    <tr>\n",
              "      <th>8</th>\n",
              "      <td>0.620945</td>\n",
              "      <td>0.689552</td>\n",
              "    </tr>\n",
              "    <tr>\n",
              "      <th>9</th>\n",
              "      <td>0.599483</td>\n",
              "      <td>0.729851</td>\n",
              "    </tr>\n",
              "    <tr>\n",
              "      <th>10</th>\n",
              "      <td>0.567235</td>\n",
              "      <td>0.734328</td>\n",
              "    </tr>\n",
              "    <tr>\n",
              "      <th>11</th>\n",
              "      <td>0.530474</td>\n",
              "      <td>0.777612</td>\n",
              "    </tr>\n",
              "    <tr>\n",
              "      <th>12</th>\n",
              "      <td>0.496662</td>\n",
              "      <td>0.798507</td>\n",
              "    </tr>\n",
              "    <tr>\n",
              "      <th>13</th>\n",
              "      <td>0.450738</td>\n",
              "      <td>0.822388</td>\n",
              "    </tr>\n",
              "    <tr>\n",
              "      <th>14</th>\n",
              "      <td>0.419032</td>\n",
              "      <td>0.859702</td>\n",
              "    </tr>\n",
              "    <tr>\n",
              "      <th>15</th>\n",
              "      <td>0.364182</td>\n",
              "      <td>0.897015</td>\n",
              "    </tr>\n",
              "    <tr>\n",
              "      <th>16</th>\n",
              "      <td>0.324207</td>\n",
              "      <td>0.929851</td>\n",
              "    </tr>\n",
              "    <tr>\n",
              "      <th>17</th>\n",
              "      <td>0.299284</td>\n",
              "      <td>0.947761</td>\n",
              "    </tr>\n",
              "    <tr>\n",
              "      <th>18</th>\n",
              "      <td>0.260202</td>\n",
              "      <td>0.968657</td>\n",
              "    </tr>\n",
              "    <tr>\n",
              "      <th>19</th>\n",
              "      <td>0.241337</td>\n",
              "      <td>0.970149</td>\n",
              "    </tr>\n",
              "    <tr>\n",
              "      <th>20</th>\n",
              "      <td>0.229072</td>\n",
              "      <td>0.958209</td>\n",
              "    </tr>\n",
              "    <tr>\n",
              "      <th>21</th>\n",
              "      <td>0.200997</td>\n",
              "      <td>0.982090</td>\n",
              "    </tr>\n",
              "    <tr>\n",
              "      <th>22</th>\n",
              "      <td>0.186830</td>\n",
              "      <td>0.970149</td>\n",
              "    </tr>\n",
              "    <tr>\n",
              "      <th>23</th>\n",
              "      <td>0.160253</td>\n",
              "      <td>0.985075</td>\n",
              "    </tr>\n",
              "    <tr>\n",
              "      <th>24</th>\n",
              "      <td>0.145460</td>\n",
              "      <td>0.994030</td>\n",
              "    </tr>\n",
              "    <tr>\n",
              "      <th>25</th>\n",
              "      <td>0.133544</td>\n",
              "      <td>0.988060</td>\n",
              "    </tr>\n",
              "    <tr>\n",
              "      <th>26</th>\n",
              "      <td>0.119730</td>\n",
              "      <td>0.992537</td>\n",
              "    </tr>\n",
              "    <tr>\n",
              "      <th>27</th>\n",
              "      <td>0.108851</td>\n",
              "      <td>0.994030</td>\n",
              "    </tr>\n",
              "    <tr>\n",
              "      <th>28</th>\n",
              "      <td>0.107204</td>\n",
              "      <td>0.988060</td>\n",
              "    </tr>\n",
              "    <tr>\n",
              "      <th>29</th>\n",
              "      <td>0.096698</td>\n",
              "      <td>0.995522</td>\n",
              "    </tr>\n",
              "    <tr>\n",
              "      <th>30</th>\n",
              "      <td>0.085248</td>\n",
              "      <td>0.997015</td>\n",
              "    </tr>\n",
              "    <tr>\n",
              "      <th>31</th>\n",
              "      <td>0.085056</td>\n",
              "      <td>0.991045</td>\n",
              "    </tr>\n",
              "    <tr>\n",
              "      <th>32</th>\n",
              "      <td>0.079043</td>\n",
              "      <td>0.992537</td>\n",
              "    </tr>\n",
              "    <tr>\n",
              "      <th>33</th>\n",
              "      <td>0.073377</td>\n",
              "      <td>0.995522</td>\n",
              "    </tr>\n",
              "    <tr>\n",
              "      <th>34</th>\n",
              "      <td>0.068359</td>\n",
              "      <td>0.997015</td>\n",
              "    </tr>\n",
              "    <tr>\n",
              "      <th>35</th>\n",
              "      <td>0.066690</td>\n",
              "      <td>0.994030</td>\n",
              "    </tr>\n",
              "    <tr>\n",
              "      <th>36</th>\n",
              "      <td>0.063280</td>\n",
              "      <td>0.997015</td>\n",
              "    </tr>\n",
              "    <tr>\n",
              "      <th>37</th>\n",
              "      <td>0.056196</td>\n",
              "      <td>0.998507</td>\n",
              "    </tr>\n",
              "    <tr>\n",
              "      <th>38</th>\n",
              "      <td>0.053932</td>\n",
              "      <td>0.997015</td>\n",
              "    </tr>\n",
              "    <tr>\n",
              "      <th>39</th>\n",
              "      <td>0.053032</td>\n",
              "      <td>0.997015</td>\n",
              "    </tr>\n",
              "    <tr>\n",
              "      <th>40</th>\n",
              "      <td>0.051878</td>\n",
              "      <td>0.998507</td>\n",
              "    </tr>\n",
              "    <tr>\n",
              "      <th>41</th>\n",
              "      <td>0.051591</td>\n",
              "      <td>0.995522</td>\n",
              "    </tr>\n",
              "    <tr>\n",
              "      <th>42</th>\n",
              "      <td>0.050589</td>\n",
              "      <td>0.997015</td>\n",
              "    </tr>\n",
              "    <tr>\n",
              "      <th>43</th>\n",
              "      <td>0.045911</td>\n",
              "      <td>0.995522</td>\n",
              "    </tr>\n",
              "    <tr>\n",
              "      <th>44</th>\n",
              "      <td>0.043990</td>\n",
              "      <td>0.998507</td>\n",
              "    </tr>\n",
              "    <tr>\n",
              "      <th>45</th>\n",
              "      <td>0.041395</td>\n",
              "      <td>0.997015</td>\n",
              "    </tr>\n",
              "    <tr>\n",
              "      <th>46</th>\n",
              "      <td>0.042453</td>\n",
              "      <td>0.997015</td>\n",
              "    </tr>\n",
              "    <tr>\n",
              "      <th>47</th>\n",
              "      <td>0.039570</td>\n",
              "      <td>0.998507</td>\n",
              "    </tr>\n",
              "    <tr>\n",
              "      <th>48</th>\n",
              "      <td>0.039656</td>\n",
              "      <td>0.995522</td>\n",
              "    </tr>\n",
              "    <tr>\n",
              "      <th>49</th>\n",
              "      <td>0.041058</td>\n",
              "      <td>0.995522</td>\n",
              "    </tr>\n",
              "  </tbody>\n",
              "</table>\n",
              "</div>\n",
              "      <button class=\"colab-df-convert\" onclick=\"convertToInteractive('df-743030c5-af53-45bc-b1f4-3fca0cb8b3ba')\"\n",
              "              title=\"Convert this dataframe to an interactive table.\"\n",
              "              style=\"display:none;\">\n",
              "        \n",
              "  <svg xmlns=\"http://www.w3.org/2000/svg\" height=\"24px\"viewBox=\"0 0 24 24\"\n",
              "       width=\"24px\">\n",
              "    <path d=\"M0 0h24v24H0V0z\" fill=\"none\"/>\n",
              "    <path d=\"M18.56 5.44l.94 2.06.94-2.06 2.06-.94-2.06-.94-.94-2.06-.94 2.06-2.06.94zm-11 1L8.5 8.5l.94-2.06 2.06-.94-2.06-.94L8.5 2.5l-.94 2.06-2.06.94zm10 10l.94 2.06.94-2.06 2.06-.94-2.06-.94-.94-2.06-.94 2.06-2.06.94z\"/><path d=\"M17.41 7.96l-1.37-1.37c-.4-.4-.92-.59-1.43-.59-.52 0-1.04.2-1.43.59L10.3 9.45l-7.72 7.72c-.78.78-.78 2.05 0 2.83L4 21.41c.39.39.9.59 1.41.59.51 0 1.02-.2 1.41-.59l7.78-7.78 2.81-2.81c.8-.78.8-2.07 0-2.86zM5.41 20L4 18.59l7.72-7.72 1.47 1.35L5.41 20z\"/>\n",
              "  </svg>\n",
              "      </button>\n",
              "      \n",
              "  <style>\n",
              "    .colab-df-container {\n",
              "      display:flex;\n",
              "      flex-wrap:wrap;\n",
              "      gap: 12px;\n",
              "    }\n",
              "\n",
              "    .colab-df-convert {\n",
              "      background-color: #E8F0FE;\n",
              "      border: none;\n",
              "      border-radius: 50%;\n",
              "      cursor: pointer;\n",
              "      display: none;\n",
              "      fill: #1967D2;\n",
              "      height: 32px;\n",
              "      padding: 0 0 0 0;\n",
              "      width: 32px;\n",
              "    }\n",
              "\n",
              "    .colab-df-convert:hover {\n",
              "      background-color: #E2EBFA;\n",
              "      box-shadow: 0px 1px 2px rgba(60, 64, 67, 0.3), 0px 1px 3px 1px rgba(60, 64, 67, 0.15);\n",
              "      fill: #174EA6;\n",
              "    }\n",
              "\n",
              "    [theme=dark] .colab-df-convert {\n",
              "      background-color: #3B4455;\n",
              "      fill: #D2E3FC;\n",
              "    }\n",
              "\n",
              "    [theme=dark] .colab-df-convert:hover {\n",
              "      background-color: #434B5C;\n",
              "      box-shadow: 0px 1px 3px 1px rgba(0, 0, 0, 0.15);\n",
              "      filter: drop-shadow(0px 1px 2px rgba(0, 0, 0, 0.3));\n",
              "      fill: #FFFFFF;\n",
              "    }\n",
              "  </style>\n",
              "\n",
              "      <script>\n",
              "        const buttonEl =\n",
              "          document.querySelector('#df-743030c5-af53-45bc-b1f4-3fca0cb8b3ba button.colab-df-convert');\n",
              "        buttonEl.style.display =\n",
              "          google.colab.kernel.accessAllowed ? 'block' : 'none';\n",
              "\n",
              "        async function convertToInteractive(key) {\n",
              "          const element = document.querySelector('#df-743030c5-af53-45bc-b1f4-3fca0cb8b3ba');\n",
              "          const dataTable =\n",
              "            await google.colab.kernel.invokeFunction('convertToInteractive',\n",
              "                                                     [key], {});\n",
              "          if (!dataTable) return;\n",
              "\n",
              "          const docLinkHtml = 'Like what you see? Visit the ' +\n",
              "            '<a target=\"_blank\" href=https://colab.research.google.com/notebooks/data_table.ipynb>data table notebook</a>'\n",
              "            + ' to learn more about interactive tables.';\n",
              "          element.innerHTML = '';\n",
              "          dataTable['output_type'] = 'display_data';\n",
              "          await google.colab.output.renderOutput(dataTable, element);\n",
              "          const docLink = document.createElement('div');\n",
              "          docLink.innerHTML = docLinkHtml;\n",
              "          element.appendChild(docLink);\n",
              "        }\n",
              "      </script>\n",
              "    </div>\n",
              "  </div>\n",
              "  "
            ]
          },
          "metadata": {},
          "execution_count": 62
        }
      ]
    },
    {
      "cell_type": "code",
      "source": [
        "# plt the loss courves\n",
        "pd.DataFrame(history.history).plot()\n",
        "plt.title(\"Model_8 loss curves\")"
      ],
      "metadata": {
        "colab": {
          "base_uri": "https://localhost:8080/",
          "height": 298
        },
        "id": "xQLxWBSgzgV7",
        "outputId": "076ff526-e7c7-4d09-e9fe-5ede858ebf42"
      },
      "execution_count": 63,
      "outputs": [
        {
          "output_type": "execute_result",
          "data": {
            "text/plain": [
              "Text(0.5, 1.0, 'Model_8 loss curves')"
            ]
          },
          "metadata": {},
          "execution_count": 63
        },
        {
          "output_type": "display_data",
          "data": {
            "text/plain": [
              "<Figure size 432x288 with 1 Axes>"
            ],
            "image/png": "[encoded data removed]"
          },
          "metadata": {
            "needs_background": "light"
          }
        }
      ]
    },
    {
      "cell_type": "markdown",
      "source": [
        "For many functions loss functions going down - model improving\n"
      ],
      "metadata": {
        "id": "1XpMFX5Jzv1T"
      }
    },
    {
      "cell_type": "markdown",
      "source": [
        "## Finding the best learning rate\n",
        "To find the ideal learning rate - \n",
        "* Learning rate **callback** - a functionality that can be added to model while training\n",
        "* Another model\n",
        "* A modified loss curve\n"
      ],
      "metadata": {
        "id": "3YmeEqGg2uUR"
      }
    },
    {
      "cell_type": "code",
      "source": [
        "tf.random.set_seed(42)\n",
        "\n",
        "# Create the model\n",
        "model_9 = tf.keras.Sequential([\n",
        "    tf.keras.layers.Dense(4, activation = \"relu\"),\n",
        "    tf.keras.layers.Dense(4, activation = \"relu\"),\n",
        "    tf.keras.layers.Dense(1, activation = \"sigmoid\")\n",
        "])\n",
        "\n",
        "model_9.compile(loss = \"binary_crossentropy\",\n",
        "                optimizer = \"Adam\",\n",
        "                metrics = [\"accuracy\"])\n",
        "\n",
        "# Create a learning rate callback \n",
        "lr_scheduler = tf.keras.callbacks.LearningRateScheduler(lambda epoch:1e-4 * 10**(epoch/20))\n",
        "\n",
        "\n",
        "history_9 = model_9.fit(X_train, y_train, epochs = 100, callbacks = [lr_scheduler])"
      ],
      "metadata": {
        "colab": {
          "base_uri": "https://localhost:8080/"
        },
        "id": "eCcRGWYA3PRG",
        "outputId": "7b801bc4-2a4e-4e55-db59-6284ea21de9e"
      },
      "execution_count": 64,
      "outputs": [
        {
          "output_type": "stream",
          "name": "stdout",
          "text": [
            "Epoch 1/100\n",
            "21/21 [==============================] - 1s 2ms/step - loss: 0.6943 - accuracy: 0.4881 - lr: 1.0000e-04\n",
            "Epoch 2/100\n",
            "21/21 [==============================] - 0s 2ms/step - loss: 0.6936 - accuracy: 0.4866 - lr: 1.1220e-04\n",
            "Epoch 3/100\n",
            "21/21 [==============================] - 0s 2ms/step - loss: 0.6929 - accuracy: 0.4851 - lr: 1.2589e-04\n",
            "Epoch 4/100\n",
            "21/21 [==============================] - 0s 2ms/step - loss: 0.6921 - accuracy: 0.4896 - lr: 1.4125e-04\n",
            "Epoch 5/100\n",
            "21/21 [==============================] - 0s 2ms/step - loss: 0.6914 - accuracy: 0.4970 - lr: 1.5849e-04\n",
            "Epoch 6/100\n",
            "21/21 [==============================] - 0s 1ms/step - loss: 0.6905 - accuracy: 0.5015 - lr: 1.7783e-04\n",
            "Epoch 7/100\n",
            "21/21 [==============================] - 0s 1ms/step - loss: 0.6896 - accuracy: 0.4955 - lr: 1.9953e-04\n",
            "Epoch 8/100\n",
            "21/21 [==============================] - 0s 2ms/step - loss: 0.6886 - accuracy: 0.5030 - lr: 2.2387e-04\n",
            "Epoch 9/100\n",
            "21/21 [==============================] - 0s 2ms/step - loss: 0.6877 - accuracy: 0.5045 - lr: 2.5119e-04\n",
            "Epoch 10/100\n",
            "21/21 [==============================] - 0s 2ms/step - loss: 0.6867 - accuracy: 0.5060 - lr: 2.8184e-04\n",
            "Epoch 11/100\n",
            "21/21 [==============================] - 0s 2ms/step - loss: 0.6858 - accuracy: 0.5149 - lr: 3.1623e-04\n",
            "Epoch 12/100\n",
            "21/21 [==============================] - 0s 2ms/step - loss: 0.6849 - accuracy: 0.5254 - lr: 3.5481e-04\n",
            "Epoch 13/100\n",
            "21/21 [==============================] - 0s 2ms/step - loss: 0.6839 - accuracy: 0.5239 - lr: 3.9811e-04\n",
            "Epoch 14/100\n",
            "21/21 [==============================] - 0s 2ms/step - loss: 0.6831 - accuracy: 0.5269 - lr: 4.4668e-04\n",
            "Epoch 15/100\n",
            "21/21 [==============================] - 0s 1ms/step - loss: 0.6826 - accuracy: 0.5224 - lr: 5.0119e-04\n",
            "Epoch 16/100\n",
            "21/21 [==============================] - 0s 3ms/step - loss: 0.6816 - accuracy: 0.5269 - lr: 5.6234e-04\n",
            "Epoch 17/100\n",
            "21/21 [==============================] - 0s 2ms/step - loss: 0.6810 - accuracy: 0.5284 - lr: 6.3096e-04\n",
            "Epoch 18/100\n",
            "21/21 [==============================] - 0s 2ms/step - loss: 0.6805 - accuracy: 0.5373 - lr: 7.0795e-04\n",
            "Epoch 19/100\n",
            "21/21 [==============================] - 0s 1ms/step - loss: 0.6798 - accuracy: 0.5418 - lr: 7.9433e-04\n",
            "Epoch 20/100\n",
            "21/21 [==============================] - 0s 2ms/step - loss: 0.6794 - accuracy: 0.5507 - lr: 8.9125e-04\n",
            "Epoch 21/100\n",
            "21/21 [==============================] - 0s 2ms/step - loss: 0.6786 - accuracy: 0.5597 - lr: 0.0010\n",
            "Epoch 22/100\n",
            "21/21 [==============================] - 0s 2ms/step - loss: 0.6781 - accuracy: 0.5627 - lr: 0.0011\n",
            "Epoch 23/100\n",
            "21/21 [==============================] - 0s 2ms/step - loss: 0.6774 - accuracy: 0.5746 - lr: 0.0013\n",
            "Epoch 24/100\n",
            "21/21 [==============================] - 0s 2ms/step - loss: 0.6768 - accuracy: 0.5687 - lr: 0.0014\n",
            "Epoch 25/100\n",
            "21/21 [==============================] - 0s 1ms/step - loss: 0.6761 - accuracy: 0.5657 - lr: 0.0016\n",
            "Epoch 26/100\n",
            "21/21 [==============================] - 0s 2ms/step - loss: 0.6751 - accuracy: 0.5672 - lr: 0.0018\n",
            "Epoch 27/100\n",
            "21/21 [==============================] - 0s 2ms/step - loss: 0.6746 - accuracy: 0.5791 - lr: 0.0020\n",
            "Epoch 28/100\n",
            "21/21 [==============================] - 0s 2ms/step - loss: 0.6737 - accuracy: 0.5761 - lr: 0.0022\n",
            "Epoch 29/100\n",
            "21/21 [==============================] - 0s 2ms/step - loss: 0.6720 - accuracy: 0.5851 - lr: 0.0025\n",
            "Epoch 30/100\n",
            "21/21 [==============================] - 0s 2ms/step - loss: 0.6706 - accuracy: 0.5791 - lr: 0.0028\n",
            "Epoch 31/100\n",
            "21/21 [==============================] - 0s 2ms/step - loss: 0.6692 - accuracy: 0.5896 - lr: 0.0032\n",
            "Epoch 32/100\n",
            "21/21 [==============================] - 0s 1ms/step - loss: 0.6673 - accuracy: 0.5896 - lr: 0.0035\n",
            "Epoch 33/100\n",
            "21/21 [==============================] - 0s 2ms/step - loss: 0.6650 - accuracy: 0.5925 - lr: 0.0040\n",
            "Epoch 34/100\n",
            "21/21 [==============================] - 0s 2ms/step - loss: 0.6621 - accuracy: 0.5940 - lr: 0.0045\n",
            "Epoch 35/100\n",
            "21/21 [==============================] - 0s 2ms/step - loss: 0.6604 - accuracy: 0.5866 - lr: 0.0050\n",
            "Epoch 36/100\n",
            "21/21 [==============================] - 0s 2ms/step - loss: 0.6577 - accuracy: 0.5866 - lr: 0.0056\n",
            "Epoch 37/100\n",
            "21/21 [==============================] - 0s 2ms/step - loss: 0.6547 - accuracy: 0.6209 - lr: 0.0063\n",
            "Epoch 38/100\n",
            "21/21 [==============================] - 0s 2ms/step - loss: 0.6510 - accuracy: 0.5940 - lr: 0.0071\n",
            "Epoch 39/100\n",
            "21/21 [==============================] - 0s 2ms/step - loss: 0.6391 - accuracy: 0.6328 - lr: 0.0079\n",
            "Epoch 40/100\n",
            "21/21 [==============================] - 0s 1ms/step - loss: 0.6260 - accuracy: 0.7015 - lr: 0.0089\n",
            "Epoch 41/100\n",
            "21/21 [==============================] - 0s 1ms/step - loss: 0.6012 - accuracy: 0.7239 - lr: 0.0100\n",
            "Epoch 42/100\n",
            "21/21 [==============================] - 0s 2ms/step - loss: 0.5617 - accuracy: 0.7403 - lr: 0.0112\n",
            "Epoch 43/100\n",
            "21/21 [==============================] - 0s 2ms/step - loss: 0.5281 - accuracy: 0.7716 - lr: 0.0126\n",
            "Epoch 44/100\n",
            "21/21 [==============================] - 0s 2ms/step - loss: 0.4629 - accuracy: 0.8045 - lr: 0.0141\n",
            "Epoch 45/100\n",
            "21/21 [==============================] - 0s 2ms/step - loss: 0.3981 - accuracy: 0.8731 - lr: 0.0158\n",
            "Epoch 46/100\n",
            "21/21 [==============================] - 0s 2ms/step - loss: 0.3084 - accuracy: 0.9388 - lr: 0.0178\n",
            "Epoch 47/100\n",
            "21/21 [==============================] - 0s 2ms/step - loss: 0.2563 - accuracy: 0.9209 - lr: 0.0200\n",
            "Epoch 48/100\n",
            "21/21 [==============================] - 0s 2ms/step - loss: 0.2143 - accuracy: 0.9284 - lr: 0.0224\n",
            "Epoch 49/100\n",
            "21/21 [==============================] - 0s 2ms/step - loss: 0.1724 - accuracy: 0.9537 - lr: 0.0251\n",
            "Epoch 50/100\n",
            "21/21 [==============================] - 0s 2ms/step - loss: 0.1068 - accuracy: 0.9851 - lr: 0.0282\n",
            "Epoch 51/100\n",
            "21/21 [==============================] - 0s 2ms/step - loss: 0.0942 - accuracy: 0.9821 - lr: 0.0316\n",
            "Epoch 52/100\n",
            "21/21 [==============================] - 0s 2ms/step - loss: 0.0815 - accuracy: 0.9821 - lr: 0.0355\n",
            "Epoch 53/100\n",
            "21/21 [==============================] - 0s 1ms/step - loss: 0.0882 - accuracy: 0.9716 - lr: 0.0398\n",
            "Epoch 54/100\n",
            "21/21 [==============================] - 0s 1ms/step - loss: 0.1439 - accuracy: 0.9358 - lr: 0.0447\n",
            "Epoch 55/100\n",
            "21/21 [==============================] - 0s 2ms/step - loss: 0.1443 - accuracy: 0.9358 - lr: 0.0501\n",
            "Epoch 56/100\n",
            "21/21 [==============================] - 0s 2ms/step - loss: 0.1700 - accuracy: 0.9269 - lr: 0.0562\n",
            "Epoch 57/100\n",
            "21/21 [==============================] - 0s 1ms/step - loss: 0.1923 - accuracy: 0.9373 - lr: 0.0631\n",
            "Epoch 58/100\n",
            "21/21 [==============================] - 0s 1ms/step - loss: 0.0784 - accuracy: 0.9761 - lr: 0.0708\n",
            "Epoch 59/100\n",
            "21/21 [==============================] - 0s 2ms/step - loss: 0.0340 - accuracy: 0.9955 - lr: 0.0794\n",
            "Epoch 60/100\n",
            "21/21 [==============================] - 0s 2ms/step - loss: 0.0522 - accuracy: 0.9896 - lr: 0.0891\n",
            "Epoch 61/100\n",
            "21/21 [==============================] - 0s 2ms/step - loss: 0.0903 - accuracy: 0.9627 - lr: 0.1000\n",
            "Epoch 62/100\n",
            "21/21 [==============================] - 0s 2ms/step - loss: 0.2061 - accuracy: 0.9194 - lr: 0.1122\n",
            "Epoch 63/100\n",
            "21/21 [==============================] - 0s 2ms/step - loss: 0.6082 - accuracy: 0.7910 - lr: 0.1259\n",
            "Epoch 64/100\n",
            "21/21 [==============================] - 0s 2ms/step - loss: 0.3547 - accuracy: 0.8104 - lr: 0.1413\n",
            "Epoch 65/100\n",
            "21/21 [==============================] - 0s 2ms/step - loss: 0.1637 - accuracy: 0.9597 - lr: 0.1585\n",
            "Epoch 66/100\n",
            "21/21 [==============================] - 0s 2ms/step - loss: 0.0912 - accuracy: 0.9701 - lr: 0.1778\n",
            "Epoch 67/100\n",
            "21/21 [==============================] - 0s 1ms/step - loss: 0.0704 - accuracy: 0.9791 - lr: 0.1995\n",
            "Epoch 68/100\n",
            "21/21 [==============================] - 0s 2ms/step - loss: 1.1232 - accuracy: 0.7164 - lr: 0.2239\n",
            "Epoch 69/100\n",
            "21/21 [==============================] - 0s 2ms/step - loss: 0.5614 - accuracy: 0.7179 - lr: 0.2512\n",
            "Epoch 70/100\n",
            "21/21 [==============================] - 0s 2ms/step - loss: 0.3132 - accuracy: 0.8791 - lr: 0.2818\n",
            "Epoch 71/100\n",
            "21/21 [==============================] - 0s 2ms/step - loss: 0.1703 - accuracy: 0.9433 - lr: 0.3162\n",
            "Epoch 72/100\n",
            "21/21 [==============================] - 0s 2ms/step - loss: 0.1311 - accuracy: 0.9507 - lr: 0.3548\n",
            "Epoch 73/100\n",
            "21/21 [==============================] - 0s 2ms/step - loss: 0.2511 - accuracy: 0.9149 - lr: 0.3981\n",
            "Epoch 74/100\n",
            "21/21 [==============================] - 0s 2ms/step - loss: 0.4613 - accuracy: 0.8209 - lr: 0.4467\n",
            "Epoch 75/100\n",
            "21/21 [==============================] - 0s 2ms/step - loss: 0.3348 - accuracy: 0.8612 - lr: 0.5012\n",
            "Epoch 76/100\n",
            "21/21 [==============================] - 0s 2ms/step - loss: 0.4700 - accuracy: 0.8015 - lr: 0.5623\n",
            "Epoch 77/100\n",
            "21/21 [==============================] - 0s 2ms/step - loss: 0.5097 - accuracy: 0.7060 - lr: 0.6310\n",
            "Epoch 78/100\n",
            "21/21 [==============================] - 0s 2ms/step - loss: 0.4624 - accuracy: 0.7687 - lr: 0.7079\n",
            "Epoch 79/100\n",
            "21/21 [==============================] - 0s 2ms/step - loss: 0.5165 - accuracy: 0.7597 - lr: 0.7943\n",
            "Epoch 80/100\n",
            "21/21 [==============================] - 0s 2ms/step - loss: 0.5608 - accuracy: 0.6940 - lr: 0.8913\n",
            "Epoch 81/100\n",
            "21/21 [==============================] - 0s 2ms/step - loss: 0.4985 - accuracy: 0.7791 - lr: 1.0000\n",
            "Epoch 82/100\n",
            "21/21 [==============================] - 0s 2ms/step - loss: 0.4183 - accuracy: 0.8418 - lr: 1.1220\n",
            "Epoch 83/100\n",
            "21/21 [==============================] - 0s 2ms/step - loss: 0.6447 - accuracy: 0.6030 - lr: 1.2589\n",
            "Epoch 84/100\n",
            "21/21 [==============================] - 0s 2ms/step - loss: 0.6723 - accuracy: 0.5851 - lr: 1.4125\n",
            "Epoch 85/100\n",
            "21/21 [==============================] - 0s 2ms/step - loss: 0.7729 - accuracy: 0.4746 - lr: 1.5849\n",
            "Epoch 86/100\n",
            "21/21 [==============================] - 0s 1ms/step - loss: 0.7121 - accuracy: 0.4791 - lr: 1.7783\n",
            "Epoch 87/100\n",
            "21/21 [==============================] - 0s 1ms/step - loss: 0.7513 - accuracy: 0.4896 - lr: 1.9953\n",
            "Epoch 88/100\n",
            "21/21 [==============================] - 0s 1ms/step - loss: 0.7843 - accuracy: 0.5433 - lr: 2.2387\n",
            "Epoch 89/100\n",
            "21/21 [==============================] - 0s 2ms/step - loss: 0.7947 - accuracy: 0.4955 - lr: 2.5119\n",
            "Epoch 90/100\n",
            "21/21 [==============================] - 0s 1ms/step - loss: 0.7582 - accuracy: 0.5224 - lr: 2.8184\n",
            "Epoch 91/100\n",
            "21/21 [==============================] - 0s 2ms/step - loss: 0.7443 - accuracy: 0.5164 - lr: 3.1623\n",
            "Epoch 92/100\n",
            "21/21 [==============================] - 0s 1ms/step - loss: 0.7358 - accuracy: 0.4627 - lr: 3.5481\n",
            "Epoch 93/100\n",
            "21/21 [==============================] - 0s 2ms/step - loss: 0.8091 - accuracy: 0.4448 - lr: 3.9811\n",
            "Epoch 94/100\n",
            "21/21 [==============================] - 0s 1ms/step - loss: 0.7554 - accuracy: 0.5164 - lr: 4.4668\n",
            "Epoch 95/100\n",
            "21/21 [==============================] - 0s 2ms/step - loss: 0.8434 - accuracy: 0.4627 - lr: 5.0119\n",
            "Epoch 96/100\n",
            "21/21 [==============================] - 0s 1ms/step - loss: 0.7010 - accuracy: 0.5224 - lr: 5.6234\n",
            "Epoch 97/100\n",
            "21/21 [==============================] - 0s 2ms/step - loss: 0.7840 - accuracy: 0.4925 - lr: 6.3096\n",
            "Epoch 98/100\n",
            "21/21 [==============================] - 0s 1ms/step - loss: 0.8838 - accuracy: 0.5194 - lr: 7.0795\n",
            "Epoch 99/100\n",
            "21/21 [==============================] - 0s 2ms/step - loss: 0.8066 - accuracy: 0.4597 - lr: 7.9433\n",
            "Epoch 100/100\n",
            "21/21 [==============================] - 0s 2ms/step - loss: 1.1622 - accuracy: 0.4896 - lr: 8.9125\n"
          ]
        }
      ]
    },
    {
      "cell_type": "code",
      "source": [
        "pd.DataFrame(history_9.history).plot(figsize=(10,10), xlabel = \"epochs\")"
      ],
      "metadata": {
        "colab": {
          "base_uri": "https://localhost:8080/",
          "height": 623
        },
        "id": "oMB5QWYL45O9",
        "outputId": "4dc7ef4c-9453-4491-b7cf-b614862e5ac0"
      },
      "execution_count": 65,
      "outputs": [
        {
          "output_type": "execute_result",
          "data": {
            "text/plain": [
              "<matplotlib.axes._subplots.AxesSubplot at 0x7f615ea94f50>"
            ]
          },
          "metadata": {},
          "execution_count": 65
        },
        {
          "output_type": "display_data",
          "data": {
            "text/plain": [
              "<Figure size 720x720 with 1 Axes>"
            ],
            "image/png": "[encoded data removed]"
          },
          "metadata": {
            "needs_background": "light"
          }
        }
      ]
    },
    {
      "cell_type": "code",
      "source": [
        "# plot the lr vs loss\n",
        "\n",
        "lrs = 1e-4*(10**(tf.range(100)/20))\n",
        "\n",
        "plt.figure(figsize=(10,10))\n",
        "plt.semilogx(lrs, history_9.history[\"loss\"])\n",
        "plt.xlabel(\"Learning Rate\")\n",
        "plt.ylabel(\"loss\")\n",
        "plt.title(\"Learning rate vs Loss\")\n"
      ],
      "metadata": {
        "colab": {
          "base_uri": "https://localhost:8080/",
          "height": 642
        },
        "id": "nwnzxRTK5fUO",
        "outputId": "b5c3a2dd-246a-4e27-8095-46ccc4831562"
      },
      "execution_count": 68,
      "outputs": [
        {
          "output_type": "execute_result",
          "data": {
            "text/plain": [
              "Text(0.5, 1.0, 'Learning rate vs Loss')"
            ]
          },
          "metadata": {},
          "execution_count": 68
        },
        {
          "output_type": "display_data",
          "data": {
            "text/plain": [
              "<Figure size 720x720 with 1 Axes>"
            ],
            "image/png": "[encoded data removed]"
          },
          "metadata": {
            "needs_background": "light"
          }
        }
      ]
    },
    {
      "cell_type": "code",
      "source": [
        "# Let's try a higher lr\n",
        "tf.random.set_seed(42)\n",
        "\n",
        "# Create the model\n",
        "model_10 = tf.keras.Sequential([\n",
        "    tf.keras.layers.Dense(4, activation = \"relu\"),\n",
        "    tf.keras.layers.Dense(4, activation = \"relu\"),\n",
        "    tf.keras.layers.Dense(1, activation = \"sigmoid\")\n",
        "])\n",
        "\n",
        "model_10.compile(loss = \"binary_crossentropy\",\n",
        "                optimizer = tf.keras.optimizers.Adam(learning_rate = 0.02),\n",
        "                metrics = [\"accuracy\"])\n",
        "\n",
        "# Create a learning rate callback \n",
        "#lr_scheduler = tf.keras.callbacks.LearningRateScheduler(lambda epoch:1e-4 * 10**(epoch/20))\n",
        "\n",
        "\n",
        "history_10 = model_10.fit(X_train, y_train, epochs = 20)"
      ],
      "metadata": {
        "colab": {
          "base_uri": "https://localhost:8080/"
        },
        "id": "mmsRkTVkF7lv",
        "outputId": "274756e4-1ab3-4a77-d698-007ba35cdff5"
      },
      "execution_count": 71,
      "outputs": [
        {
          "output_type": "stream",
          "name": "stdout",
          "text": [
            "Epoch 1/20\n",
            "21/21 [==============================] - 1s 4ms/step - loss: 0.6815 - accuracy: 0.5537\n",
            "Epoch 2/20\n",
            "21/21 [==============================] - 0s 4ms/step - loss: 0.6679 - accuracy: 0.6045\n",
            "Epoch 3/20\n",
            "21/21 [==============================] - 0s 4ms/step - loss: 0.6484 - accuracy: 0.6209\n",
            "Epoch 4/20\n",
            "21/21 [==============================] - 0s 4ms/step - loss: 0.6126 - accuracy: 0.6985\n",
            "Epoch 5/20\n",
            "21/21 [==============================] - 0s 2ms/step - loss: 0.5617 - accuracy: 0.7627\n",
            "Epoch 6/20\n",
            "21/21 [==============================] - 0s 2ms/step - loss: 0.4819 - accuracy: 0.8612\n",
            "Epoch 7/20\n",
            "21/21 [==============================] - 0s 4ms/step - loss: 0.3675 - accuracy: 0.9373\n",
            "Epoch 8/20\n",
            "21/21 [==============================] - 0s 4ms/step - loss: 0.2725 - accuracy: 0.9716\n",
            "Epoch 9/20\n",
            "21/21 [==============================] - 0s 3ms/step - loss: 0.1967 - accuracy: 0.9851\n",
            "Epoch 10/20\n",
            "21/21 [==============================] - 0s 3ms/step - loss: 0.1424 - accuracy: 0.9925\n",
            "Epoch 11/20\n",
            "21/21 [==============================] - 0s 6ms/step - loss: 0.1117 - accuracy: 0.9910\n",
            "Epoch 12/20\n",
            "21/21 [==============================] - 0s 5ms/step - loss: 0.0808 - accuracy: 0.9970\n",
            "Epoch 13/20\n",
            "21/21 [==============================] - 0s 4ms/step - loss: 0.0658 - accuracy: 0.9985\n",
            "Epoch 14/20\n",
            "21/21 [==============================] - 0s 5ms/step - loss: 0.0533 - accuracy: 1.0000\n",
            "Epoch 15/20\n",
            "21/21 [==============================] - 0s 6ms/step - loss: 0.0493 - accuracy: 0.9985\n",
            "Epoch 16/20\n",
            "21/21 [==============================] - 0s 5ms/step - loss: 0.0444 - accuracy: 1.0000\n",
            "Epoch 17/20\n",
            "21/21 [==============================] - 0s 6ms/step - loss: 0.0412 - accuracy: 0.9970\n",
            "Epoch 18/20\n",
            "21/21 [==============================] - 0s 9ms/step - loss: 0.0352 - accuracy: 1.0000\n",
            "Epoch 19/20\n",
            "21/21 [==============================] - 0s 9ms/step - loss: 0.0315 - accuracy: 1.0000\n",
            "Epoch 20/20\n",
            "21/21 [==============================] - 0s 9ms/step - loss: 0.0298 - accuracy: 1.0000\n"
          ]
        }
      ]
    },
    {
      "cell_type": "code",
      "source": [
        "model_10.evaluate(X_test,y_test)"
      ],
      "metadata": {
        "colab": {
          "base_uri": "https://localhost:8080/"
        },
        "id": "fnTIex9AGxg1",
        "outputId": "377ed0d9-a541-4270-9969-8bfb1b60612e"
      },
      "execution_count": 72,
      "outputs": [
        {
          "output_type": "stream",
          "name": "stdout",
          "text": [
            "11/11 [==============================] - 0s 3ms/step - loss: 0.0679 - accuracy: 0.9818\n"
          ]
        },
        {
          "output_type": "execute_result",
          "data": {
            "text/plain": [
              "[0.06794561445713043, 0.9818181991577148]"
            ]
          },
          "metadata": {},
          "execution_count": 72
        }
      ]
    },
    {
      "cell_type": "code",
      "source": [
        "model_8.evaluate(X_test, y_test)"
      ],
      "metadata": {
        "colab": {
          "base_uri": "https://localhost:8080/"
        },
        "id": "eUJXq_QfG1l4",
        "outputId": "18a73519-1074-4496-e760-98ed33656625"
      },
      "execution_count": 73,
      "outputs": [
        {
          "output_type": "stream",
          "name": "stdout",
          "text": [
            "11/11 [==============================] - 0s 3ms/step - loss: 0.0674 - accuracy: 0.9848\n"
          ]
        },
        {
          "output_type": "execute_result",
          "data": {
            "text/plain": [
              "[0.0673758015036583, 0.9848484992980957]"
            ]
          },
          "metadata": {},
          "execution_count": 73
        }
      ]
    },
    {
      "cell_type": "code",
      "source": [
        "# Plot the decision boundary \n",
        "plt.figure(figsize=(10,10))\n",
        "plt.subplot(2,2,1)\n",
        "plt.title(\"training\")\n",
        "plot_decision_boundary(model_10, X = X_train, y = y_train)\n",
        "\n",
        "plt.subplot(2,2,2)\n",
        "plt.title(\"Testing\")\n",
        "plot_decision_boundary(model_10, X = X_test, y = y_test)\n",
        "plt.show();"
      ],
      "metadata": {
        "colab": {
          "base_uri": "https://localhost:8080/",
          "height": 345
        },
        "id": "YnR5kH0oHIFe",
        "outputId": "70995fa3-d493-49a0-afab-0081ebfbc4c3"
      },
      "execution_count": 74,
      "outputs": [
        {
          "output_type": "stream",
          "name": "stdout",
          "text": [
            "doing binary classification\n",
            "doing binary classification\n"
          ]
        },
        {
          "output_type": "display_data",
          "data": {
            "text/plain": [
              "<Figure size 720x720 with 2 Axes>"
            ],
            "image/png": "[encoded data removed]"
          },
          "metadata": {
            "needs_background": "light"
          }
        }
      ]
    },
    {
      "cell_type": "markdown",
      "source": [
        "## More classification evaluation methods\n",
        "* Accuracy\n",
        "* Precision\n",
        "* Recall\n",
        "* F1-Score(Sklearn)\n",
        "* Confusion Matrix(sklearn)\n",
        "* Classification report(Sklearn)\n"
      ],
      "metadata": {
        "id": "itkeMFnNLWKH"
      }
    },
    {
      "cell_type": "code",
      "source": [
        "#Check the accuracy \n",
        "loss, accuracy = model_10.evaluate(X_test,y_test)\n",
        "print(f\"loss:{loss}\")\n",
        "print(f\"accuracy:{accuracy}\")"
      ],
      "metadata": {
        "colab": {
          "base_uri": "https://localhost:8080/"
        },
        "id": "6MIqgtzHLoxX",
        "outputId": "aec4c92c-c7ce-49de-ed30-826ec03aab7a"
      },
      "execution_count": 75,
      "outputs": [
        {
          "output_type": "stream",
          "name": "stdout",
          "text": [
            "11/11 [==============================] - 0s 2ms/step - loss: 0.0679 - accuracy: 0.9818\n",
            "loss:0.06794561445713043\n",
            "accuracy:0.9818181991577148\n"
          ]
        }
      ]
    },
    {
      "cell_type": "code",
      "source": [
        "# Create the confusion matrix\n",
        "from sklearn.metrics import confusion_matrix\n",
        "\n",
        "y_pred = model_10.predict(X_test)\n",
        "y_preds = tf.squeeze(tf.math.round(y_pred))\n",
        "confusion_matrix(y_test, y_preds)\n",
        "#y_preds.shape, y_test.shape\n",
        "#y_preds[:10],y_test[:10]"
      ],
      "metadata": {
        "colab": {
          "base_uri": "https://localhost:8080/"
        },
        "id": "UZ2t_txwQCoi",
        "outputId": "891297e1-0099-4e4f-adb0-ac2b6eb5f283"
      },
      "execution_count": 86,
      "outputs": [
        {
          "output_type": "execute_result",
          "data": {
            "text/plain": [
              "array([[172,   2],\n",
              "       [  4, 152]])"
            ]
          },
          "metadata": {},
          "execution_count": 86
        }
      ]
    },
    {
      "cell_type": "markdown",
      "source": [
        "### How about making it prettier - the confusion matrix\n"
      ],
      "metadata": {
        "id": "K4R2thMojc7o"
      }
    },
    {
      "cell_type": "code",
      "source": [
        "import itertools\n",
        "\n",
        "figsize = (10,10)\n",
        "# Create the confusion matrix\n",
        "cm = confusion_matrix(y_test, tf.round(y_pred))\n",
        "cm_norm = cm.astype(\"float\")/ cm.sum(axis=1)[:, np.newaxis] # normalise\n",
        "n_classes = cm.shape[0]\n",
        "\n",
        "# Make prettier\n",
        "fig, ax = plt.subplots(figsize=figsize)\n",
        "\n",
        "# Create a matrix plot\n",
        "cax = ax.matshow(cm, cmap = plt.cm.Blues)\n",
        "fig.colorbar(cax)\n",
        "\n",
        "classes = False\n",
        "if classes:\n",
        "   labels = classes\n",
        "else:\n",
        "   labels = np.arange(cm.shape[0])\n",
        "\n",
        "# Label the axes\n",
        "ax.set(title = \"Confusion Matrix\",\n",
        "       ylabel = \"True Label\",\n",
        "       xlabel = \"Predicted label\",\n",
        "       xticks = np.arange(n_classes),\n",
        "       yticks = np.arange(n_classes),\n",
        "       xticklabels = labels,\n",
        "       yticklabels = labels)\n",
        "\n",
        "threshold = (cm.max() + cm.min())/2.\n",
        "\n",
        "#Plot\n",
        "for i,j in itertools.product(range(cm.shape[0]), range(cm.shape[1])):\n",
        "  plt.text(j,i, f\"{cm[i,j]} ({cm_norm[i,j]*100:.1f}%)\",\n",
        "           horizontalalignment = \"center\",\n",
        "           color = \"white\" if cm[i,j]>threshold else \"black\",\n",
        "           size = 15)\n"
      ],
      "metadata": {
        "colab": {
          "base_uri": "https://localhost:8080/",
          "height": 574
        },
        "id": "ZcDf6HtkjbG5",
        "outputId": "66a12bea-6012-489e-ee95-1ad78cb9177a"
      },
      "execution_count": 94,
      "outputs": [
        {
          "output_type": "display_data",
          "data": {
            "text/plain": [
              "<Figure size 720x720 with 2 Axes>"
            ],
            "image/png": "[encoded data removed]"
          },
          "metadata": {
            "needs_background": "light"
          }
        }
      ]
    },
    {
      "cell_type": "markdown",
      "source": [
        "# Working with a larger example ( Multiclass Classification)"
      ],
      "metadata": {
        "id": "vlEMRup_oI3j"
      }
    },
    {
      "cell_type": "code",
      "source": [],
      "metadata": {
        "id": "dEgZLZZ2oRF5"
      },
      "execution_count": null,
      "outputs": []
    }
  ]
}