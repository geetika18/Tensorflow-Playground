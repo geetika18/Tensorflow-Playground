{
  "nbformat": 4,
  "nbformat_minor": 0,
  "metadata": {
    "colab": {
      "provenance": [],
      "authorship_tag": "ABX9TyPpeF7OH+RYHyeOcKr5MKw0",
      "include_colab_link": true
    },
    "kernelspec": {
      "name": "python3",
      "display_name": "Python 3"
    },
    "language_info": {
      "name": "python"
    }
  },
  "cells": [
    {
      "cell_type": "markdown",
      "metadata": {
        "id": "view-in-github",
        "colab_type": "text"
      },
      "source": [
        "<a href=\"https://colab.research.google.com/github/geetika18/Tensorflow-Playground/blob/main/02_Neural_Network_Classification_with_Tensorflow.ipynb\" target=\"_parent\"><img src=\"https://colab.research.google.com/assets/colab-badge.svg\" alt=\"Open In Colab\"/></a>"
      ]
    },
    {
      "cell_type": "markdown",
      "source": [
        "A classification is where you try to classify something as one thing or another\n",
        "A few types\n",
        "* Binary classification \n",
        "* Multiclass classification\n",
        "* Multilabel classification"
      ],
      "metadata": {
        "id": "AlBORby1lTio"
      }
    },
    {
      "cell_type": "markdown",
      "source": [
        "## Creating data to view and fit\n"
      ],
      "metadata": {
        "id": "h3HIX_ImlrCz"
      }
    },
    {
      "cell_type": "code",
      "execution_count": 3,
      "metadata": {
        "id": "AFeD2m_wgmt2"
      },
      "outputs": [],
      "source": [
        "from sklearn.datasets import make_circles\n",
        "\n",
        "# make 1000 examples\n",
        "n_samples = 1000\n",
        "\n",
        "# Create circles\n",
        "X,y = make_circles(n_samples,\n",
        "                   noise=0.03,\n",
        "                   random_state=42)"
      ]
    },
    {
      "cell_type": "code",
      "source": [
        "# Check out features\n",
        "X\n"
      ],
      "metadata": {
        "colab": {
          "base_uri": "https://localhost:8080/"
        },
        "id": "vwNWlLMJmPzW",
        "outputId": "3aa0085d-9386-4f16-fda0-d66af184c971"
      },
      "execution_count": 4,
      "outputs": [
        {
          "output_type": "execute_result",
          "data": {
            "text/plain": [
              "array([[ 0.75424625,  0.23148074],\n",
              "       [-0.75615888,  0.15325888],\n",
              "       [-0.81539193,  0.17328203],\n",
              "       ...,\n",
              "       [-0.13690036, -0.81001183],\n",
              "       [ 0.67036156, -0.76750154],\n",
              "       [ 0.28105665,  0.96382443]])"
            ]
          },
          "metadata": {},
          "execution_count": 4
        }
      ]
    },
    {
      "cell_type": "code",
      "source": [
        "# check the labels\n",
        "y"
      ],
      "metadata": {
        "colab": {
          "base_uri": "https://localhost:8080/"
        },
        "id": "3gZ-R_OxmhmK",
        "outputId": "aed6b761-efce-4072-9f1b-723cb1414fea"
      },
      "execution_count": 5,
      "outputs": [
        {
          "output_type": "execute_result",
          "data": {
            "text/plain": [
              "array([1, 1, 1, 1, 0, 1, 1, 1, 1, 0, 1, 0, 1, 1, 1, 1, 0, 1, 1, 0, 1, 0,\n",
              "       0, 1, 0, 0, 0, 1, 1, 1, 0, 0, 1, 0, 0, 0, 1, 1, 1, 0, 0, 0, 0, 1,\n",
              "       0, 0, 1, 1, 0, 1, 1, 1, 0, 1, 0, 0, 1, 0, 0, 1, 0, 0, 1, 0, 1, 1,\n",
              "       1, 1, 0, 1, 0, 0, 1, 1, 0, 0, 1, 0, 1, 0, 1, 0, 0, 0, 0, 1, 1, 1,\n",
              "       1, 0, 0, 0, 1, 0, 1, 0, 1, 0, 0, 1, 1, 0, 1, 0, 1, 1, 1, 1, 0, 1,\n",
              "       1, 1, 1, 1, 0, 0, 0, 1, 1, 0, 1, 0, 1, 0, 0, 1, 1, 0, 1, 1, 1, 1,\n",
              "       0, 1, 1, 0, 0, 0, 0, 0, 0, 0, 1, 0, 1, 1, 1, 0, 1, 0, 1, 0, 1, 0,\n",
              "       1, 0, 0, 1, 0, 1, 1, 1, 1, 1, 1, 1, 0, 1, 0, 0, 0, 0, 0, 1, 0, 0,\n",
              "       0, 0, 1, 1, 0, 1, 0, 1, 1, 0, 0, 0, 1, 1, 1, 1, 1, 0, 0, 0, 0, 0,\n",
              "       1, 0, 0, 1, 1, 1, 1, 1, 0, 1, 0, 1, 0, 0, 1, 1, 1, 0, 1, 0, 1, 1,\n",
              "       0, 1, 1, 0, 1, 0, 1, 0, 1, 1, 0, 1, 0, 1, 0, 0, 0, 1, 0, 0, 0, 0,\n",
              "       1, 1, 0, 0, 0, 0, 0, 0, 0, 1, 1, 1, 0, 0, 1, 1, 1, 0, 1, 0, 0, 0,\n",
              "       0, 1, 1, 0, 1, 0, 0, 0, 1, 0, 1, 0, 0, 1, 0, 1, 1, 1, 0, 0, 0, 1,\n",
              "       0, 0, 0, 1, 1, 1, 1, 0, 0, 0, 1, 0, 0, 0, 1, 0, 0, 0, 1, 1, 0, 1,\n",
              "       1, 1, 1, 1, 1, 1, 0, 0, 0, 0, 1, 0, 0, 0, 0, 1, 1, 1, 0, 0, 1, 0,\n",
              "       1, 0, 1, 1, 0, 0, 1, 1, 1, 1, 0, 0, 0, 0, 0, 0, 1, 1, 0, 1, 0, 0,\n",
              "       1, 0, 0, 0, 0, 0, 0, 0, 0, 1, 0, 0, 0, 0, 1, 0, 0, 1, 0, 1, 0, 0,\n",
              "       0, 1, 0, 0, 1, 1, 0, 0, 1, 0, 0, 1, 1, 0, 1, 1, 0, 0, 1, 0, 1, 0,\n",
              "       0, 0, 1, 1, 0, 0, 1, 1, 1, 1, 1, 0, 0, 1, 1, 1, 1, 0, 1, 1, 1, 1,\n",
              "       1, 0, 0, 1, 0, 1, 0, 0, 0, 0, 1, 0, 0, 0, 0, 0, 0, 0, 0, 0, 1, 1,\n",
              "       0, 1, 1, 1, 1, 1, 1, 0, 1, 1, 1, 1, 0, 0, 0, 1, 1, 1, 0, 0, 0, 0,\n",
              "       1, 1, 0, 0, 0, 0, 1, 0, 0, 0, 1, 0, 0, 1, 1, 1, 1, 1, 1, 0, 0, 0,\n",
              "       1, 0, 0, 0, 0, 0, 1, 1, 1, 0, 0, 0, 0, 0, 1, 1, 1, 0, 0, 1, 1, 1,\n",
              "       1, 0, 1, 1, 0, 1, 0, 0, 0, 1, 0, 0, 1, 0, 0, 1, 1, 0, 0, 1, 1, 0,\n",
              "       1, 0, 1, 0, 1, 0, 1, 0, 0, 0, 1, 0, 0, 0, 0, 0, 0, 1, 1, 1, 1, 0,\n",
              "       0, 0, 1, 0, 1, 1, 0, 0, 0, 0, 0, 1, 1, 1, 0, 0, 1, 0, 0, 1, 0, 0,\n",
              "       1, 0, 0, 1, 0, 0, 0, 1, 0, 0, 1, 1, 1, 0, 1, 1, 0, 0, 0, 1, 1, 1,\n",
              "       1, 0, 0, 1, 1, 1, 0, 0, 0, 0, 1, 1, 0, 0, 1, 1, 0, 0, 1, 1, 1, 1,\n",
              "       1, 1, 1, 0, 1, 0, 1, 0, 0, 1, 0, 1, 1, 1, 1, 0, 0, 1, 1, 0, 0, 1,\n",
              "       0, 1, 0, 0, 0, 1, 0, 0, 1, 1, 1, 1, 0, 1, 1, 1, 1, 1, 1, 1, 0, 1,\n",
              "       0, 1, 1, 1, 0, 0, 1, 0, 0, 0, 1, 1, 1, 1, 0, 0, 0, 0, 1, 0, 1, 1,\n",
              "       1, 0, 1, 0, 0, 1, 0, 0, 1, 1, 1, 1, 1, 0, 1, 0, 0, 0, 1, 1, 1, 1,\n",
              "       1, 0, 0, 0, 1, 1, 1, 1, 0, 0, 0, 0, 0, 1, 1, 0, 1, 0, 1, 0, 0, 0,\n",
              "       0, 0, 0, 0, 0, 0, 1, 1, 1, 1, 1, 0, 1, 0, 1, 1, 1, 1, 0, 1, 1, 1,\n",
              "       1, 1, 1, 1, 1, 0, 1, 1, 0, 1, 0, 0, 0, 1, 0, 1, 1, 1, 0, 1, 1, 0,\n",
              "       1, 1, 0, 1, 0, 1, 1, 0, 0, 1, 1, 1, 0, 0, 0, 0, 1, 1, 0, 0, 1, 1,\n",
              "       1, 1, 1, 1, 1, 1, 1, 1, 1, 1, 1, 1, 0, 0, 1, 0, 1, 0, 1, 0, 1, 1,\n",
              "       1, 1, 1, 1, 0, 1, 0, 1, 1, 1, 0, 1, 1, 0, 0, 1, 0, 1, 1, 0, 0, 1,\n",
              "       1, 1, 1, 1, 1, 1, 1, 0, 1, 1, 1, 0, 1, 0, 0, 1, 1, 0, 0, 0, 1, 0,\n",
              "       0, 1, 0, 0, 0, 1, 0, 1, 0, 0, 0, 0, 1, 0, 1, 1, 1, 1, 0, 1, 0, 0,\n",
              "       0, 0, 0, 0, 1, 0, 1, 0, 1, 0, 1, 1, 1, 0, 1, 0, 1, 0, 0, 1, 1, 1,\n",
              "       0, 0, 0, 1, 1, 0, 1, 0, 1, 1, 0, 1, 0, 0, 1, 1, 1, 0, 0, 0, 1, 1,\n",
              "       0, 0, 0, 0, 0, 1, 1, 0, 1, 0, 0, 0, 1, 0, 0, 0, 1, 1, 1, 1, 0, 1,\n",
              "       1, 1, 0, 1, 1, 1, 1, 0, 1, 1, 0, 1, 1, 0, 0, 1, 1, 1, 0, 0, 0, 0,\n",
              "       0, 0, 1, 0, 0, 1, 0, 0, 0, 1, 0, 1, 0, 1, 1, 0, 0, 0, 0, 0, 0, 0,\n",
              "       0, 1, 0, 1, 0, 0, 0, 1, 0, 0])"
            ]
          },
          "metadata": {},
          "execution_count": 5
        }
      ]
    },
    {
      "cell_type": "code",
      "source": [
        "# Visualize data\n",
        "import pandas as pd\n",
        "circles = pd.DataFrame({\"X0\":X[:,0], \"X1\":X[:,1], \"label\":y})\n",
        "circles"
      ],
      "metadata": {
        "colab": {
          "base_uri": "https://localhost:8080/",
          "height": 419
        },
        "id": "8j3CErSgmryO",
        "outputId": "65a9891b-209e-4dd2-cb13-e66cdcd95761"
      },
      "execution_count": 6,
      "outputs": [
        {
          "output_type": "execute_result",
          "data": {
            "text/plain": [
              "           X0        X1  label\n",
              "0    0.754246  0.231481      1\n",
              "1   -0.756159  0.153259      1\n",
              "2   -0.815392  0.173282      1\n",
              "3   -0.393731  0.692883      1\n",
              "4    0.442208 -0.896723      0\n",
              "..        ...       ...    ...\n",
              "995  0.244054  0.944125      0\n",
              "996 -0.978655 -0.272373      0\n",
              "997 -0.136900 -0.810012      1\n",
              "998  0.670362 -0.767502      0\n",
              "999  0.281057  0.963824      0\n",
              "\n",
              "[1000 rows x 3 columns]"
            ],
            "text/html": [
              "\n",
              "  <div id=\"df-95383995-22c1-4f15-9c58-d53b8d8dcff5\">\n",
              "    <div class=\"colab-df-container\">\n",
              "      <div>\n",
              "<style scoped>\n",
              "    .dataframe tbody tr th:only-of-type {\n",
              "        vertical-align: middle;\n",
              "    }\n",
              "\n",
              "    .dataframe tbody tr th {\n",
              "        vertical-align: top;\n",
              "    }\n",
              "\n",
              "    .dataframe thead th {\n",
              "        text-align: right;\n",
              "    }\n",
              "</style>\n",
              "<table border=\"1\" class=\"dataframe\">\n",
              "  <thead>\n",
              "    <tr style=\"text-align: right;\">\n",
              "      <th></th>\n",
              "      <th>X0</th>\n",
              "      <th>X1</th>\n",
              "      <th>label</th>\n",
              "    </tr>\n",
              "  </thead>\n",
              "  <tbody>\n",
              "    <tr>\n",
              "      <th>0</th>\n",
              "      <td>0.754246</td>\n",
              "      <td>0.231481</td>\n",
              "      <td>1</td>\n",
              "    </tr>\n",
              "    <tr>\n",
              "      <th>1</th>\n",
              "      <td>-0.756159</td>\n",
              "      <td>0.153259</td>\n",
              "      <td>1</td>\n",
              "    </tr>\n",
              "    <tr>\n",
              "      <th>2</th>\n",
              "      <td>-0.815392</td>\n",
              "      <td>0.173282</td>\n",
              "      <td>1</td>\n",
              "    </tr>\n",
              "    <tr>\n",
              "      <th>3</th>\n",
              "      <td>-0.393731</td>\n",
              "      <td>0.692883</td>\n",
              "      <td>1</td>\n",
              "    </tr>\n",
              "    <tr>\n",
              "      <th>4</th>\n",
              "      <td>0.442208</td>\n",
              "      <td>-0.896723</td>\n",
              "      <td>0</td>\n",
              "    </tr>\n",
              "    <tr>\n",
              "      <th>...</th>\n",
              "      <td>...</td>\n",
              "      <td>...</td>\n",
              "      <td>...</td>\n",
              "    </tr>\n",
              "    <tr>\n",
              "      <th>995</th>\n",
              "      <td>0.244054</td>\n",
              "      <td>0.944125</td>\n",
              "      <td>0</td>\n",
              "    </tr>\n",
              "    <tr>\n",
              "      <th>996</th>\n",
              "      <td>-0.978655</td>\n",
              "      <td>-0.272373</td>\n",
              "      <td>0</td>\n",
              "    </tr>\n",
              "    <tr>\n",
              "      <th>997</th>\n",
              "      <td>-0.136900</td>\n",
              "      <td>-0.810012</td>\n",
              "      <td>1</td>\n",
              "    </tr>\n",
              "    <tr>\n",
              "      <th>998</th>\n",
              "      <td>0.670362</td>\n",
              "      <td>-0.767502</td>\n",
              "      <td>0</td>\n",
              "    </tr>\n",
              "    <tr>\n",
              "      <th>999</th>\n",
              "      <td>0.281057</td>\n",
              "      <td>0.963824</td>\n",
              "      <td>0</td>\n",
              "    </tr>\n",
              "  </tbody>\n",
              "</table>\n",
              "<p>1000 rows × 3 columns</p>\n",
              "</div>\n",
              "      <button class=\"colab-df-convert\" onclick=\"convertToInteractive('df-95383995-22c1-4f15-9c58-d53b8d8dcff5')\"\n",
              "              title=\"Convert this dataframe to an interactive table.\"\n",
              "              style=\"display:none;\">\n",
              "        \n",
              "  <svg xmlns=\"http://www.w3.org/2000/svg\" height=\"24px\"viewBox=\"0 0 24 24\"\n",
              "       width=\"24px\">\n",
              "    <path d=\"M0 0h24v24H0V0z\" fill=\"none\"/>\n",
              "    <path d=\"M18.56 5.44l.94 2.06.94-2.06 2.06-.94-2.06-.94-.94-2.06-.94 2.06-2.06.94zm-11 1L8.5 8.5l.94-2.06 2.06-.94-2.06-.94L8.5 2.5l-.94 2.06-2.06.94zm10 10l.94 2.06.94-2.06 2.06-.94-2.06-.94-.94-2.06-.94 2.06-2.06.94z\"/><path d=\"M17.41 7.96l-1.37-1.37c-.4-.4-.92-.59-1.43-.59-.52 0-1.04.2-1.43.59L10.3 9.45l-7.72 7.72c-.78.78-.78 2.05 0 2.83L4 21.41c.39.39.9.59 1.41.59.51 0 1.02-.2 1.41-.59l7.78-7.78 2.81-2.81c.8-.78.8-2.07 0-2.86zM5.41 20L4 18.59l7.72-7.72 1.47 1.35L5.41 20z\"/>\n",
              "  </svg>\n",
              "      </button>\n",
              "      \n",
              "  <style>\n",
              "    .colab-df-container {\n",
              "      display:flex;\n",
              "      flex-wrap:wrap;\n",
              "      gap: 12px;\n",
              "    }\n",
              "\n",
              "    .colab-df-convert {\n",
              "      background-color: #E8F0FE;\n",
              "      border: none;\n",
              "      border-radius: 50%;\n",
              "      cursor: pointer;\n",
              "      display: none;\n",
              "      fill: #1967D2;\n",
              "      height: 32px;\n",
              "      padding: 0 0 0 0;\n",
              "      width: 32px;\n",
              "    }\n",
              "\n",
              "    .colab-df-convert:hover {\n",
              "      background-color: #E2EBFA;\n",
              "      box-shadow: 0px 1px 2px rgba(60, 64, 67, 0.3), 0px 1px 3px 1px rgba(60, 64, 67, 0.15);\n",
              "      fill: #174EA6;\n",
              "    }\n",
              "\n",
              "    [theme=dark] .colab-df-convert {\n",
              "      background-color: #3B4455;\n",
              "      fill: #D2E3FC;\n",
              "    }\n",
              "\n",
              "    [theme=dark] .colab-df-convert:hover {\n",
              "      background-color: #434B5C;\n",
              "      box-shadow: 0px 1px 3px 1px rgba(0, 0, 0, 0.15);\n",
              "      filter: drop-shadow(0px 1px 2px rgba(0, 0, 0, 0.3));\n",
              "      fill: #FFFFFF;\n",
              "    }\n",
              "  </style>\n",
              "\n",
              "      <script>\n",
              "        const buttonEl =\n",
              "          document.querySelector('#df-95383995-22c1-4f15-9c58-d53b8d8dcff5 button.colab-df-convert');\n",
              "        buttonEl.style.display =\n",
              "          google.colab.kernel.accessAllowed ? 'block' : 'none';\n",
              "\n",
              "        async function convertToInteractive(key) {\n",
              "          const element = document.querySelector('#df-95383995-22c1-4f15-9c58-d53b8d8dcff5');\n",
              "          const dataTable =\n",
              "            await google.colab.kernel.invokeFunction('convertToInteractive',\n",
              "                                                     [key], {});\n",
              "          if (!dataTable) return;\n",
              "\n",
              "          const docLinkHtml = 'Like what you see? Visit the ' +\n",
              "            '<a target=\"_blank\" href=https://colab.research.google.com/notebooks/data_table.ipynb>data table notebook</a>'\n",
              "            + ' to learn more about interactive tables.';\n",
              "          element.innerHTML = '';\n",
              "          dataTable['output_type'] = 'display_data';\n",
              "          await google.colab.output.renderOutput(dataTable, element);\n",
              "          const docLink = document.createElement('div');\n",
              "          docLink.innerHTML = docLinkHtml;\n",
              "          element.appendChild(docLink);\n",
              "        }\n",
              "      </script>\n",
              "    </div>\n",
              "  </div>\n",
              "  "
            ]
          },
          "metadata": {},
          "execution_count": 6
        }
      ]
    },
    {
      "cell_type": "code",
      "source": [
        "# Visualize with a plot\n",
        "import matplotlib.pyplot as plt\n",
        "plt.scatter(X[:,0], X[:,1], c=y, cmap=plt.cm.RdYlBu)\n",
        "\n"
      ],
      "metadata": {
        "colab": {
          "base_uri": "https://localhost:8080/",
          "height": 282
        },
        "id": "Novv_pzEnhRH",
        "outputId": "eec12c5d-6a10-423e-905e-31bb214521e9"
      },
      "execution_count": 12,
      "outputs": [
        {
          "output_type": "execute_result",
          "data": {
            "text/plain": [
              "<matplotlib.collections.PathCollection at 0x7f11dfc98350>"
            ]
          },
          "metadata": {},
          "execution_count": 12
        },
        {
          "output_type": "display_data",
          "data": {
            "text/plain": [
              "<Figure size 432x288 with 1 Axes>"
            ],
            "image/png": "[encoded data removed]"
          },
          "metadata": {
            "needs_background": "light"
          }
        }
      ]
    },
    {
      "cell_type": "code",
      "source": [
        "# Input and output shapes\n",
        "X.shape, y.shape"
      ],
      "metadata": {
        "colab": {
          "base_uri": "https://localhost:8080/"
        },
        "id": "lCYeVIVWpMdT",
        "outputId": "1af6bba1-6c07-4fa1-d8fe-73a901d6c1d6"
      },
      "execution_count": 13,
      "outputs": [
        {
          "output_type": "execute_result",
          "data": {
            "text/plain": [
              "((1000, 2), (1000,))"
            ]
          },
          "metadata": {},
          "execution_count": 13
        }
      ]
    },
    {
      "cell_type": "markdown",
      "source": [
        "## Steps in modelling\n",
        "\n",
        "1. Create or import a model\n",
        "2. compile the model\n",
        "3. Fit the model\n",
        "4. Evaluate the model\n",
        "5. Tweak\n",
        "6. Evaluate"
      ],
      "metadata": {
        "id": "TJUIEqPQpmua"
      }
    },
    {
      "cell_type": "code",
      "source": [
        "import tensorflow as tf\n",
        "tf.random.set_seed(42)\n",
        "\n",
        "# Create the model\n",
        "model_1 = tf.keras.Sequential([\n",
        "    tf.keras.layers.Dense(1)\n",
        "])\n",
        "\n",
        "model_1.compile(loss = tf.keras.losses.BinaryCrossentropy(),\n",
        "                optimizer = tf.keras.optimizers.SGD(),\n",
        "                metrics = [\"accuracy\"])\n",
        "\n",
        "model_1.fit(X,y,epochs=100, verbose=0)"
      ],
      "metadata": {
        "colab": {
          "base_uri": "https://localhost:8080/"
        },
        "id": "QQWOthgUpU0p",
        "outputId": "54515cf2-501a-45ba-b711-418d4ea0eae1"
      },
      "execution_count": 19,
      "outputs": [
        {
          "output_type": "execute_result",
          "data": {
            "text/plain": [
              "<keras.callbacks.History at 0x7f117ad918d0>"
            ]
          },
          "metadata": {},
          "execution_count": 19
        }
      ]
    },
    {
      "cell_type": "code",
      "source": [
        "model_1.evaluate(X,y)"
      ],
      "metadata": {
        "colab": {
          "base_uri": "https://localhost:8080/"
        },
        "id": "XTRxDitOsoqB",
        "outputId": "1d74a4f9-0625-49c2-ffe9-e4e2f51a2a9d"
      },
      "execution_count": 20,
      "outputs": [
        {
          "output_type": "stream",
          "name": "stdout",
          "text": [
            "32/32 [==============================] - 0s 1ms/step - loss: 0.6932 - accuracy: 0.5000\n"
          ]
        },
        {
          "output_type": "execute_result",
          "data": {
            "text/plain": [
              "[0.693244993686676, 0.5]"
            ]
          },
          "metadata": {},
          "execution_count": 20
        }
      ]
    },
    {
      "cell_type": "markdown",
      "source": [
        "Accuracy rate is only 50%. There let's make our model better by adding one more layer."
      ],
      "metadata": {
        "id": "mKziz25rs0dG"
      }
    },
    {
      "cell_type": "code",
      "source": [
        "tf.random.set_seed(42)\n",
        "\n",
        "model_2 = tf.keras.Sequential([\n",
        "    tf.keras.layers.Dense(100),\n",
        "    tf.keras.layers.Dense(1)\n",
        "])\n",
        "\n",
        "model_2.compile(loss = tf.keras.losses.BinaryCrossentropy(),\n",
        "                optimizer = tf.keras.optimizers.Adam(),\n",
        "                metrics = [\"accuracy\"])\n",
        "\n",
        "model_2.fit(X,y,epochs=100, verbose =0)\n",
        "\n",
        "model_2.evaluate(X,y)"
      ],
      "metadata": {
        "colab": {
          "base_uri": "https://localhost:8080/"
        },
        "id": "iKKIU_bysyUz",
        "outputId": "aa042b1c-ea73-4df9-899d-e10c6c31f602"
      },
      "execution_count": 21,
      "outputs": [
        {
          "output_type": "stream",
          "name": "stdout",
          "text": [
            "32/32 [==============================] - 0s 1ms/step - loss: 0.6944 - accuracy: 0.5100\n"
          ]
        },
        {
          "output_type": "execute_result",
          "data": {
            "text/plain": [
              "[0.6944003105163574, 0.5099999904632568]"
            ]
          },
          "metadata": {},
          "execution_count": 21
        }
      ]
    },
    {
      "cell_type": "markdown",
      "source": [
        "## Improving the model"
      ],
      "metadata": {
        "id": "xLJPz1vMtpHd"
      }
    },
    {
      "cell_type": "code",
      "source": [
        "circles[\"label\"].value_counts() \n"
      ],
      "metadata": {
        "colab": {
          "base_uri": "https://localhost:8080/"
        },
        "id": "tvjjWiM0t01F",
        "outputId": "524381ae-0189-4f72-c732-5a0f4b6bdc71"
      },
      "execution_count": 22,
      "outputs": [
        {
          "output_type": "execute_result",
          "data": {
            "text/plain": [
              "1    500\n",
              "0    500\n",
              "Name: label, dtype: int64"
            ]
          },
          "metadata": {},
          "execution_count": 22
        }
      ]
    },
    {
      "cell_type": "code",
      "source": [
        "tf.random.set_seed(42)\n",
        "\n",
        "model_3 = tf.keras.Sequential([\n",
        "      tf.keras.layers.Dense(100),\n",
        "      tf.keras.layers.Dense(10),\n",
        "      tf.keras.layers.Dense(1)\n",
        "])\n",
        "\n",
        "model_3.compile(loss = tf.keras.losses.BinaryCrossentropy(),\n",
        "                optimizer = tf.keras.optimizers.Adam(),\n",
        "                metrics = [\"accuracy\"])\n",
        "\n",
        "model_3.fit(X,y, epochs = 100, verbose=0)\n",
        "\n",
        "model_3.evaluate(X,y)"
      ],
      "metadata": {
        "colab": {
          "base_uri": "https://localhost:8080/"
        },
        "id": "H7s4tDKGt-rS",
        "outputId": "67fbd2ef-8c56-4026-a9ed-5397ad399576"
      },
      "execution_count": 49,
      "outputs": [
        {
          "output_type": "stream",
          "name": "stdout",
          "text": [
            "32/32 [==============================] - 0s 1ms/step - loss: 0.6980 - accuracy: 0.5080\n"
          ]
        },
        {
          "output_type": "execute_result",
          "data": {
            "text/plain": [
              "[0.6980255246162415, 0.5080000162124634]"
            ]
          },
          "metadata": {},
          "execution_count": 49
        }
      ]
    },
    {
      "cell_type": "markdown",
      "source": [
        "## Plot decision boundary\n",
        "To visualize our model's predictions\n",
        "* Take in a trained model, features X and y\n",
        "* Create a meshgrid of different X values\n",
        "* Make predictions across the meshgrid\n",
        "* Plot the predictions as well as a line between zones(where each unique class falls)"
      ],
      "metadata": {
        "id": "fGj1IqLY6rwP"
      }
    },
    {
      "cell_type": "code",
      "source": [
        "import numpy as np\n",
        "\n",
        "def plot_decision_boundary(model,X,y):\n",
        "  \"\"\"\n",
        "  Plots the decision boundary created by a model predicting on X\n",
        "  \"\"\"\n",
        "  # Define the axis boundaries of the plot and create a meshgrid\n",
        "\n",
        "  x_min, x_max = X[:,0].min()- 0.1, X[:,0].max()+0.1\n",
        "  y_min, y_max = X[:,1].min() - 0.1, X[:,1].max() + 0.1\n",
        "\n",
        "  xx, yy = np.meshgrid(np.linspace(x_min, x_max, 100),\n",
        "                       np.linspace(y_min, y_max, 100))\n",
        "  \n",
        "  x_in = np.c_[xx.ravel(), yy.ravel()] #stack 2D arrays together\n",
        "\n",
        "  y_pred = model.predict(x_in)\n",
        "\n",
        "  #check for multiclass\n",
        "\n",
        "  if len(y_pred[0])> 1:\n",
        "    print(\"multi-class prediction\")\n",
        "    y_pred = np.argmax(y-pred,axis=1).reshape(xx.shape)\n",
        "  else:\n",
        "    print(\"doing binary classification\")\n",
        "    y_pred = np.round(y_pred).reshape(xx.shape)\n",
        "  \n",
        "  #plot the boundary\n",
        "  plt.contourf(xx,yy,y_pred, cmap=plt.cm.RdYlBu, alpha=0.7)\n",
        "  plt.scatter(X[:,0],X[:,1], c=y, s=40, cmap=plt.cm.RdYlBu)\n",
        "  plt.xlim(xx.min(),xx.max())\n",
        "  plt.ylim(yy.min(),yy.max())\n",
        "\n"
      ],
      "metadata": {
        "id": "FoCIiand6vNS"
      },
      "execution_count": 50,
      "outputs": []
    },
    {
      "cell_type": "code",
      "source": [
        "# checkout predictions\n",
        "plot_decision_boundary(model = model_3,\n",
        "                       X=X,\n",
        "                       y=y)"
      ],
      "metadata": {
        "colab": {
          "base_uri": "https://localhost:8080/",
          "height": 282
        },
        "id": "0SyYhn5MQT6L",
        "outputId": "6671a994-951d-4911-e0a6-37593373aeb3"
      },
      "execution_count": 51,
      "outputs": [
        {
          "output_type": "stream",
          "name": "stdout",
          "text": [
            "doing binary classification\n"
          ]
        },
        {
          "output_type": "display_data",
          "data": {
            "text/plain": [
              "<Figure size 432x288 with 1 Axes>"
            ],
            "image/png": "[encoded data removed]"
          },
          "metadata": {
            "needs_background": "light"
          }
        }
      ]
    },
    {
      "cell_type": "code",
      "source": [
        "# Let's see if our model works for a regression problem\n",
        "tf.random.set_seed(42)\n",
        "\n",
        "X_regression = tf.range(0,1000,5)\n",
        "y_regression = tf.range(100,1100,5) # y = X+100\n",
        "\n",
        "# split the data in training and testing \n",
        "X_reg_train = X_regression[:150]\n",
        "X_reg_test = X_regression[150:]\n",
        "y_reg_train = y_regression[:150]\n",
        "y_reg_test = y_regression[150:]\n",
        "\n",
        "# fit the model\n",
        "#model_3.fit(tf.expand_dims(X_reg_train,axis=-1), y_reg_train, epochs = 100)"
      ],
      "metadata": {
        "id": "nmuiKhn7S5qe"
      },
      "execution_count": 73,
      "outputs": []
    },
    {
      "cell_type": "markdown",
      "source": [
        "we compiled the model for binary classification but we are working on regression so lets change the model to suit our data\n"
      ],
      "metadata": {
        "id": "pWvk1fuOU7U1"
      }
    },
    {
      "cell_type": "code",
      "source": [
        "tf.random.set_seed(42)\n",
        "\n",
        "model_4 = tf.keras.Sequential([\n",
        "      tf.keras.layers.Dense(100),\n",
        "      tf.keras.layers.Dense(10),\n",
        "      tf.keras.layers.Dense(1)\n",
        "])\n",
        "\n",
        "model_4.compile(loss = tf.keras.losses.mae,\n",
        "                optimizer = tf.keras.optimizers.Adam(),\n",
        "                metrics = [\"mae\"])\n",
        "\n",
        "model_4.fit(tf.expand_dims(X_reg_train, axis=-1), y_reg_train, epochs=100)"
      ],
      "metadata": {
        "colab": {
          "base_uri": "https://localhost:8080/"
        },
        "id": "Tdl20YUAVDYm",
        "outputId": "8af16ede-ddaf-466d-e003-088582e0aa54"
      },
      "execution_count": 74,
      "outputs": [
        {
          "output_type": "stream",
          "name": "stdout",
          "text": [
            "Epoch 1/100\n",
            "5/5 [==============================] - 0s 4ms/step - loss: 248.2155 - mae: 248.2155\n",
            "Epoch 2/100\n",
            "5/5 [==============================] - 0s 5ms/step - loss: 138.9005 - mae: 138.9005\n",
            "Epoch 3/100\n",
            "5/5 [==============================] - 0s 5ms/step - loss: 53.1039 - mae: 53.1039\n",
            "Epoch 4/100\n",
            "5/5 [==============================] - 0s 4ms/step - loss: 73.5170 - mae: 73.5170\n",
            "Epoch 5/100\n",
            "5/5 [==============================] - 0s 5ms/step - loss: 71.2358 - mae: 71.2358\n",
            "Epoch 6/100\n",
            "5/5 [==============================] - 0s 4ms/step - loss: 47.0040 - mae: 47.0040\n",
            "Epoch 7/100\n",
            "5/5 [==============================] - 0s 5ms/step - loss: 45.9386 - mae: 45.9386\n",
            "Epoch 8/100\n",
            "5/5 [==============================] - 0s 4ms/step - loss: 42.3638 - mae: 42.3638\n",
            "Epoch 9/100\n",
            "5/5 [==============================] - 0s 4ms/step - loss: 43.6831 - mae: 43.6831\n",
            "Epoch 10/100\n",
            "5/5 [==============================] - 0s 4ms/step - loss: 42.6198 - mae: 42.6198\n",
            "Epoch 11/100\n",
            "5/5 [==============================] - 0s 4ms/step - loss: 42.4797 - mae: 42.4797\n",
            "Epoch 12/100\n",
            "5/5 [==============================] - 0s 4ms/step - loss: 41.5537 - mae: 41.5537\n",
            "Epoch 13/100\n",
            "5/5 [==============================] - 0s 6ms/step - loss: 42.0972 - mae: 42.0972\n",
            "Epoch 14/100\n",
            "5/5 [==============================] - 0s 4ms/step - loss: 41.8647 - mae: 41.8647\n",
            "Epoch 15/100\n",
            "5/5 [==============================] - 0s 4ms/step - loss: 41.5342 - mae: 41.5342\n",
            "Epoch 16/100\n",
            "5/5 [==============================] - 0s 4ms/step - loss: 41.4028 - mae: 41.4028\n",
            "Epoch 17/100\n",
            "5/5 [==============================] - 0s 4ms/step - loss: 41.6887 - mae: 41.6887\n",
            "Epoch 18/100\n",
            "5/5 [==============================] - 0s 4ms/step - loss: 41.6137 - mae: 41.6137\n",
            "Epoch 19/100\n",
            "5/5 [==============================] - 0s 4ms/step - loss: 41.2796 - mae: 41.2796\n",
            "Epoch 20/100\n",
            "5/5 [==============================] - 0s 4ms/step - loss: 41.1947 - mae: 41.1947\n",
            "Epoch 21/100\n",
            "5/5 [==============================] - 0s 4ms/step - loss: 41.2130 - mae: 41.2130\n",
            "Epoch 22/100\n",
            "5/5 [==============================] - 0s 4ms/step - loss: 41.0893 - mae: 41.0893\n",
            "Epoch 23/100\n",
            "5/5 [==============================] - 0s 4ms/step - loss: 41.2019 - mae: 41.2019\n",
            "Epoch 24/100\n",
            "5/5 [==============================] - 0s 4ms/step - loss: 40.9989 - mae: 40.9989\n",
            "Epoch 25/100\n",
            "5/5 [==============================] - 0s 5ms/step - loss: 41.0131 - mae: 41.0131\n",
            "Epoch 26/100\n",
            "5/5 [==============================] - 0s 4ms/step - loss: 41.0654 - mae: 41.0654\n",
            "Epoch 27/100\n",
            "5/5 [==============================] - 0s 4ms/step - loss: 40.8764 - mae: 40.8764\n",
            "Epoch 28/100\n",
            "5/5 [==============================] - 0s 4ms/step - loss: 41.0545 - mae: 41.0545\n",
            "Epoch 29/100\n",
            "5/5 [==============================] - 0s 4ms/step - loss: 41.0480 - mae: 41.0480\n",
            "Epoch 30/100\n",
            "5/5 [==============================] - 0s 4ms/step - loss: 40.8807 - mae: 40.8807\n",
            "Epoch 31/100\n",
            "5/5 [==============================] - 0s 4ms/step - loss: 41.2695 - mae: 41.2695\n",
            "Epoch 32/100\n",
            "5/5 [==============================] - 0s 3ms/step - loss: 40.9949 - mae: 40.9949\n",
            "Epoch 33/100\n",
            "5/5 [==============================] - 0s 4ms/step - loss: 41.0760 - mae: 41.0760\n",
            "Epoch 34/100\n",
            "5/5 [==============================] - 0s 3ms/step - loss: 41.2471 - mae: 41.2471\n",
            "Epoch 35/100\n",
            "5/5 [==============================] - 0s 4ms/step - loss: 40.6102 - mae: 40.6102\n",
            "Epoch 36/100\n",
            "5/5 [==============================] - 0s 5ms/step - loss: 41.1093 - mae: 41.1093\n",
            "Epoch 37/100\n",
            "5/5 [==============================] - 0s 5ms/step - loss: 40.8191 - mae: 40.8191\n",
            "Epoch 38/100\n",
            "5/5 [==============================] - 0s 5ms/step - loss: 40.2485 - mae: 40.2485\n",
            "Epoch 39/100\n",
            "5/5 [==============================] - 0s 5ms/step - loss: 41.0625 - mae: 41.0625\n",
            "Epoch 40/100\n",
            "5/5 [==============================] - 0s 4ms/step - loss: 40.5311 - mae: 40.5311\n",
            "Epoch 41/100\n",
            "5/5 [==============================] - 0s 5ms/step - loss: 40.5497 - mae: 40.5497\n",
            "Epoch 42/100\n",
            "5/5 [==============================] - 0s 4ms/step - loss: 40.4322 - mae: 40.4322\n",
            "Epoch 43/100\n",
            "5/5 [==============================] - 0s 4ms/step - loss: 40.5367 - mae: 40.5367\n",
            "Epoch 44/100\n",
            "5/5 [==============================] - 0s 4ms/step - loss: 40.2487 - mae: 40.2487\n",
            "Epoch 45/100\n",
            "5/5 [==============================] - 0s 4ms/step - loss: 40.5152 - mae: 40.5152\n",
            "Epoch 46/100\n",
            "5/5 [==============================] - 0s 4ms/step - loss: 40.3702 - mae: 40.3702\n",
            "Epoch 47/100\n",
            "5/5 [==============================] - 0s 4ms/step - loss: 40.4769 - mae: 40.4769\n",
            "Epoch 48/100\n",
            "5/5 [==============================] - 0s 4ms/step - loss: 40.1532 - mae: 40.1532\n",
            "Epoch 49/100\n",
            "5/5 [==============================] - 0s 4ms/step - loss: 40.7291 - mae: 40.7291\n",
            "Epoch 50/100\n",
            "5/5 [==============================] - 0s 5ms/step - loss: 40.1536 - mae: 40.1536\n",
            "Epoch 51/100\n",
            "5/5 [==============================] - 0s 4ms/step - loss: 40.2711 - mae: 40.2711\n",
            "Epoch 52/100\n",
            "5/5 [==============================] - 0s 4ms/step - loss: 40.6572 - mae: 40.6572\n",
            "Epoch 53/100\n",
            "5/5 [==============================] - 0s 4ms/step - loss: 40.6573 - mae: 40.6573\n",
            "Epoch 54/100\n",
            "5/5 [==============================] - 0s 4ms/step - loss: 40.6894 - mae: 40.6894\n",
            "Epoch 55/100\n",
            "5/5 [==============================] - 0s 4ms/step - loss: 41.2771 - mae: 41.2771\n",
            "Epoch 56/100\n",
            "5/5 [==============================] - 0s 4ms/step - loss: 41.8519 - mae: 41.8519\n",
            "Epoch 57/100\n",
            "5/5 [==============================] - 0s 4ms/step - loss: 40.7903 - mae: 40.7903\n",
            "Epoch 58/100\n",
            "5/5 [==============================] - 0s 4ms/step - loss: 40.3128 - mae: 40.3128\n",
            "Epoch 59/100\n",
            "5/5 [==============================] - 0s 4ms/step - loss: 40.7198 - mae: 40.7198\n",
            "Epoch 60/100\n",
            "5/5 [==============================] - 0s 4ms/step - loss: 40.1478 - mae: 40.1478\n",
            "Epoch 61/100\n",
            "5/5 [==============================] - 0s 5ms/step - loss: 40.1116 - mae: 40.1116\n",
            "Epoch 62/100\n",
            "5/5 [==============================] - 0s 4ms/step - loss: 40.7800 - mae: 40.7800\n",
            "Epoch 63/100\n",
            "5/5 [==============================] - 0s 4ms/step - loss: 39.7242 - mae: 39.7242\n",
            "Epoch 64/100\n",
            "5/5 [==============================] - 0s 5ms/step - loss: 40.1465 - mae: 40.1465\n",
            "Epoch 65/100\n",
            "5/5 [==============================] - 0s 4ms/step - loss: 39.6887 - mae: 39.6887\n",
            "Epoch 66/100\n",
            "5/5 [==============================] - 0s 4ms/step - loss: 40.2840 - mae: 40.2840\n",
            "Epoch 67/100\n",
            "5/5 [==============================] - 0s 4ms/step - loss: 39.5541 - mae: 39.5541\n",
            "Epoch 68/100\n",
            "5/5 [==============================] - 0s 4ms/step - loss: 39.7378 - mae: 39.7378\n",
            "Epoch 69/100\n",
            "5/5 [==============================] - 0s 4ms/step - loss: 39.9784 - mae: 39.9784\n",
            "Epoch 70/100\n",
            "5/5 [==============================] - 0s 4ms/step - loss: 40.0016 - mae: 40.0016\n",
            "Epoch 71/100\n",
            "5/5 [==============================] - 0s 5ms/step - loss: 40.0913 - mae: 40.0913\n",
            "Epoch 72/100\n",
            "5/5 [==============================] - 0s 6ms/step - loss: 39.2547 - mae: 39.2547\n",
            "Epoch 73/100\n",
            "5/5 [==============================] - 0s 7ms/step - loss: 39.6828 - mae: 39.6828\n",
            "Epoch 74/100\n",
            "5/5 [==============================] - 0s 5ms/step - loss: 39.5373 - mae: 39.5373\n",
            "Epoch 75/100\n",
            "5/5 [==============================] - 0s 5ms/step - loss: 39.6265 - mae: 39.6265\n",
            "Epoch 76/100\n",
            "5/5 [==============================] - 0s 5ms/step - loss: 39.3110 - mae: 39.3110\n",
            "Epoch 77/100\n",
            "5/5 [==============================] - 0s 4ms/step - loss: 39.1599 - mae: 39.1599\n",
            "Epoch 78/100\n",
            "5/5 [==============================] - 0s 4ms/step - loss: 39.7550 - mae: 39.7550\n",
            "Epoch 79/100\n",
            "5/5 [==============================] - 0s 5ms/step - loss: 39.2542 - mae: 39.2542\n",
            "Epoch 80/100\n",
            "5/5 [==============================] - 0s 6ms/step - loss: 38.6968 - mae: 38.6968\n",
            "Epoch 81/100\n",
            "5/5 [==============================] - 0s 5ms/step - loss: 39.5442 - mae: 39.5442\n",
            "Epoch 82/100\n",
            "5/5 [==============================] - 0s 4ms/step - loss: 39.8686 - mae: 39.8686\n",
            "Epoch 83/100\n",
            "5/5 [==============================] - 0s 4ms/step - loss: 39.1693 - mae: 39.1693\n",
            "Epoch 84/100\n",
            "5/5 [==============================] - 0s 5ms/step - loss: 38.8840 - mae: 38.8840\n",
            "Epoch 85/100\n",
            "5/5 [==============================] - 0s 4ms/step - loss: 38.8887 - mae: 38.8887\n",
            "Epoch 86/100\n",
            "5/5 [==============================] - 0s 4ms/step - loss: 38.6614 - mae: 38.6614\n",
            "Epoch 87/100\n",
            "5/5 [==============================] - 0s 5ms/step - loss: 38.8399 - mae: 38.8399\n",
            "Epoch 88/100\n",
            "5/5 [==============================] - 0s 5ms/step - loss: 38.6604 - mae: 38.6604\n",
            "Epoch 89/100\n",
            "5/5 [==============================] - 0s 5ms/step - loss: 38.7559 - mae: 38.7559\n",
            "Epoch 90/100\n",
            "5/5 [==============================] - 0s 6ms/step - loss: 38.5442 - mae: 38.5442\n",
            "Epoch 91/100\n",
            "5/5 [==============================] - 0s 5ms/step - loss: 38.3247 - mae: 38.3247\n",
            "Epoch 92/100\n",
            "5/5 [==============================] - 0s 5ms/step - loss: 38.8431 - mae: 38.8431\n",
            "Epoch 93/100\n",
            "5/5 [==============================] - 0s 5ms/step - loss: 39.1137 - mae: 39.1137\n",
            "Epoch 94/100\n",
            "5/5 [==============================] - 0s 4ms/step - loss: 38.1463 - mae: 38.1463\n",
            "Epoch 95/100\n",
            "5/5 [==============================] - 0s 5ms/step - loss: 38.3998 - mae: 38.3998\n",
            "Epoch 96/100\n",
            "5/5 [==============================] - 0s 5ms/step - loss: 38.5599 - mae: 38.5599\n",
            "Epoch 97/100\n",
            "5/5 [==============================] - 0s 5ms/step - loss: 38.1038 - mae: 38.1038\n",
            "Epoch 98/100\n",
            "5/5 [==============================] - 0s 4ms/step - loss: 39.0081 - mae: 39.0081\n",
            "Epoch 99/100\n",
            "5/5 [==============================] - 0s 4ms/step - loss: 38.3056 - mae: 38.3056\n",
            "Epoch 100/100\n",
            "5/5 [==============================] - 0s 5ms/step - loss: 37.9976 - mae: 37.9976\n"
          ]
        },
        {
          "output_type": "execute_result",
          "data": {
            "text/plain": [
              "<keras.callbacks.History at 0x7f117b3e8450>"
            ]
          },
          "metadata": {},
          "execution_count": 74
        }
      ]
    },
    {
      "cell_type": "code",
      "source": [
        "# make predictions\n",
        "y_reg_preds = model_4.predict(X_reg_test)\n",
        "plt.figure(figsize=(10,10))\n",
        "plt.scatter(X_reg_train, y_reg_train, c=\"b\", label=\"training data\")\n",
        "plt.scatter(X_reg_test, y_reg_test, c=\"y\", label=\"testing data\")\n",
        "plt.scatter(X_reg_test, y_reg_preds, c=\"r\", label = \" predictions\")\n",
        "plt.legend()"
      ],
      "metadata": {
        "colab": {
          "base_uri": "https://localhost:8080/",
          "height": 609
        },
        "id": "XV6F-SVeWXO1",
        "outputId": "56f80c72-fb7f-4fb7-a156-9c752085d753"
      },
      "execution_count": 75,
      "outputs": [
        {
          "output_type": "execute_result",
          "data": {
            "text/plain": [
              "<matplotlib.legend.Legend at 0x7f117b62ef10>"
            ]
          },
          "metadata": {},
          "execution_count": 75
        },
        {
          "output_type": "display_data",
          "data": {
            "text/plain": [
              "<Figure size 720x720 with 1 Axes>"
            ],
            "image/png": "[encoded data removed]"
          },
          "metadata": {
            "needs_background": "light"
          }
        }
      ]
    },
    {
      "cell_type": "markdown",
      "source": [
        "## Non-Linearity\n"
      ],
      "metadata": {
        "id": "hZsYrTvtdenK"
      }
    },
    {
      "cell_type": "code",
      "source": [
        "tf.random.set_seed(42)\n",
        "\n",
        "model_5 = tf.keras.Sequential([\n",
        "    tf.keras.layers.Dense(1, activation = tf.keras.activations.linear),\n",
        "])\n",
        "\n",
        "model_5.compile(loss = tf.keras.losses.BinaryCrossentropy(),\n",
        "                optimizer = tf.keras.optimizers.Adam(learning_rate=0.001),\n",
        "                metrics = [\"accuracy\"])\n",
        "\n",
        "model_5.fit(X,y, epochs = 100)"
      ],
      "metadata": {
        "colab": {
          "base_uri": "https://localhost:8080/"
        },
        "id": "dsv0TCz38xpE",
        "outputId": "d6ca0b01-6f51-4c3d-a060-b4ff0ce71c5f"
      },
      "execution_count": 77,
      "outputs": [
        {
          "output_type": "stream",
          "name": "stdout",
          "text": [
            "Epoch 1/100\n",
            "32/32 [==============================] - 0s 2ms/step - loss: 4.2979 - accuracy: 0.4670\n",
            "Epoch 2/100\n",
            "32/32 [==============================] - 0s 2ms/step - loss: 4.2317 - accuracy: 0.4400\n",
            "Epoch 3/100\n",
            "32/32 [==============================] - 0s 1ms/step - loss: 4.1610 - accuracy: 0.4310\n",
            "Epoch 4/100\n",
            "32/32 [==============================] - 0s 2ms/step - loss: 4.1183 - accuracy: 0.4270\n",
            "Epoch 5/100\n",
            "32/32 [==============================] - 0s 1ms/step - loss: 4.0784 - accuracy: 0.4240\n",
            "Epoch 6/100\n",
            "32/32 [==============================] - 0s 1ms/step - loss: 3.9604 - accuracy: 0.4170\n",
            "Epoch 7/100\n",
            "32/32 [==============================] - 0s 2ms/step - loss: 3.8936 - accuracy: 0.4110\n",
            "Epoch 8/100\n",
            "32/32 [==============================] - 0s 3ms/step - loss: 3.7818 - accuracy: 0.4140\n",
            "Epoch 9/100\n",
            "32/32 [==============================] - 0s 2ms/step - loss: 3.7564 - accuracy: 0.4140\n",
            "Epoch 10/100\n",
            "32/32 [==============================] - 0s 2ms/step - loss: 3.7547 - accuracy: 0.4150\n",
            "Epoch 11/100\n",
            "32/32 [==============================] - 0s 2ms/step - loss: 3.7537 - accuracy: 0.4140\n",
            "Epoch 12/100\n",
            "32/32 [==============================] - 0s 2ms/step - loss: 3.7526 - accuracy: 0.4140\n",
            "Epoch 13/100\n",
            "32/32 [==============================] - 0s 2ms/step - loss: 3.7518 - accuracy: 0.4140\n",
            "Epoch 14/100\n",
            "32/32 [==============================] - 0s 2ms/step - loss: 3.7510 - accuracy: 0.4140\n",
            "Epoch 15/100\n",
            "32/32 [==============================] - 0s 2ms/step - loss: 3.7503 - accuracy: 0.4130\n",
            "Epoch 16/100\n",
            "32/32 [==============================] - 0s 2ms/step - loss: 3.7497 - accuracy: 0.4130\n",
            "Epoch 17/100\n",
            "32/32 [==============================] - 0s 2ms/step - loss: 3.7490 - accuracy: 0.4130\n",
            "Epoch 18/100\n",
            "32/32 [==============================] - 0s 2ms/step - loss: 3.7484 - accuracy: 0.4130\n",
            "Epoch 19/100\n",
            "32/32 [==============================] - 0s 2ms/step - loss: 3.7478 - accuracy: 0.4120\n",
            "Epoch 20/100\n",
            "32/32 [==============================] - 0s 3ms/step - loss: 3.7472 - accuracy: 0.4120\n",
            "Epoch 21/100\n",
            "32/32 [==============================] - 0s 2ms/step - loss: 3.7466 - accuracy: 0.4110\n",
            "Epoch 22/100\n",
            "32/32 [==============================] - 0s 2ms/step - loss: 3.7461 - accuracy: 0.4110\n",
            "Epoch 23/100\n",
            "32/32 [==============================] - 0s 2ms/step - loss: 3.7455 - accuracy: 0.4110\n",
            "Epoch 24/100\n",
            "32/32 [==============================] - 0s 2ms/step - loss: 3.7450 - accuracy: 0.4110\n",
            "Epoch 25/100\n",
            "32/32 [==============================] - 0s 3ms/step - loss: 3.7366 - accuracy: 0.4120\n",
            "Epoch 26/100\n",
            "32/32 [==============================] - 0s 2ms/step - loss: 3.7256 - accuracy: 0.4120\n",
            "Epoch 27/100\n",
            "32/32 [==============================] - 0s 2ms/step - loss: 3.7230 - accuracy: 0.4140\n",
            "Epoch 28/100\n",
            "32/32 [==============================] - 0s 2ms/step - loss: 3.7215 - accuracy: 0.4140\n",
            "Epoch 29/100\n",
            "32/32 [==============================] - 0s 2ms/step - loss: 3.7204 - accuracy: 0.4150\n",
            "Epoch 30/100\n",
            "32/32 [==============================] - 0s 2ms/step - loss: 3.7196 - accuracy: 0.4160\n",
            "Epoch 31/100\n",
            "32/32 [==============================] - 0s 2ms/step - loss: 3.7188 - accuracy: 0.4170\n",
            "Epoch 32/100\n",
            "32/32 [==============================] - 0s 2ms/step - loss: 3.7181 - accuracy: 0.4170\n",
            "Epoch 33/100\n",
            "32/32 [==============================] - 0s 3ms/step - loss: 3.7174 - accuracy: 0.4170\n",
            "Epoch 34/100\n",
            "32/32 [==============================] - 0s 2ms/step - loss: 3.7167 - accuracy: 0.4170\n",
            "Epoch 35/100\n",
            "32/32 [==============================] - 0s 2ms/step - loss: 3.7161 - accuracy: 0.4160\n",
            "Epoch 36/100\n",
            "32/32 [==============================] - 0s 2ms/step - loss: 3.7153 - accuracy: 0.4150\n",
            "Epoch 37/100\n",
            "32/32 [==============================] - 0s 2ms/step - loss: 3.7147 - accuracy: 0.4150\n",
            "Epoch 38/100\n",
            "32/32 [==============================] - 0s 2ms/step - loss: 3.7141 - accuracy: 0.4150\n",
            "Epoch 39/100\n",
            "32/32 [==============================] - 0s 2ms/step - loss: 3.7135 - accuracy: 0.4150\n",
            "Epoch 40/100\n",
            "32/32 [==============================] - 0s 2ms/step - loss: 3.7129 - accuracy: 0.4150\n",
            "Epoch 41/100\n",
            "32/32 [==============================] - 0s 2ms/step - loss: 3.7123 - accuracy: 0.4150\n",
            "Epoch 42/100\n",
            "32/32 [==============================] - 0s 2ms/step - loss: 3.7118 - accuracy: 0.4160\n",
            "Epoch 43/100\n",
            "32/32 [==============================] - 0s 2ms/step - loss: 3.7112 - accuracy: 0.4160\n",
            "Epoch 44/100\n",
            "32/32 [==============================] - 0s 2ms/step - loss: 3.7107 - accuracy: 0.4160\n",
            "Epoch 45/100\n",
            "32/32 [==============================] - 0s 2ms/step - loss: 3.7101 - accuracy: 0.4150\n",
            "Epoch 46/100\n",
            "32/32 [==============================] - 0s 2ms/step - loss: 3.7096 - accuracy: 0.4170\n",
            "Epoch 47/100\n",
            "32/32 [==============================] - 0s 2ms/step - loss: 3.7091 - accuracy: 0.4170\n",
            "Epoch 48/100\n",
            "32/32 [==============================] - 0s 2ms/step - loss: 3.7014 - accuracy: 0.4170\n",
            "Epoch 49/100\n",
            "32/32 [==============================] - 0s 2ms/step - loss: 3.6892 - accuracy: 0.4190\n",
            "Epoch 50/100\n",
            "32/32 [==============================] - 0s 2ms/step - loss: 3.6856 - accuracy: 0.4190\n",
            "Epoch 51/100\n",
            "32/32 [==============================] - 0s 2ms/step - loss: 3.6846 - accuracy: 0.4190\n",
            "Epoch 52/100\n",
            "32/32 [==============================] - 0s 3ms/step - loss: 3.6837 - accuracy: 0.4190\n",
            "Epoch 53/100\n",
            "32/32 [==============================] - 0s 2ms/step - loss: 3.6829 - accuracy: 0.4190\n",
            "Epoch 54/100\n",
            "32/32 [==============================] - 0s 2ms/step - loss: 3.6821 - accuracy: 0.4190\n",
            "Epoch 55/100\n",
            "32/32 [==============================] - 0s 2ms/step - loss: 3.6814 - accuracy: 0.4190\n",
            "Epoch 56/100\n",
            "32/32 [==============================] - 0s 2ms/step - loss: 3.6807 - accuracy: 0.4200\n",
            "Epoch 57/100\n",
            "32/32 [==============================] - 0s 2ms/step - loss: 3.6727 - accuracy: 0.4210\n",
            "Epoch 58/100\n",
            "32/32 [==============================] - 0s 2ms/step - loss: 3.6690 - accuracy: 0.4190\n",
            "Epoch 59/100\n",
            "32/32 [==============================] - 0s 2ms/step - loss: 3.6677 - accuracy: 0.4190\n",
            "Epoch 60/100\n",
            "32/32 [==============================] - 0s 2ms/step - loss: 3.6585 - accuracy: 0.4190\n",
            "Epoch 61/100\n",
            "32/32 [==============================] - 0s 2ms/step - loss: 3.6489 - accuracy: 0.4200\n",
            "Epoch 62/100\n",
            "32/32 [==============================] - 0s 2ms/step - loss: 3.6330 - accuracy: 0.4190\n",
            "Epoch 63/100\n",
            "32/32 [==============================] - 0s 2ms/step - loss: 3.6282 - accuracy: 0.4200\n",
            "Epoch 64/100\n",
            "32/32 [==============================] - 0s 2ms/step - loss: 3.6162 - accuracy: 0.4220\n",
            "Epoch 65/100\n",
            "32/32 [==============================] - 0s 3ms/step - loss: 3.6062 - accuracy: 0.4240\n",
            "Epoch 66/100\n",
            "32/32 [==============================] - 0s 2ms/step - loss: 3.6031 - accuracy: 0.4260\n",
            "Epoch 67/100\n",
            "32/32 [==============================] - 0s 2ms/step - loss: 3.6012 - accuracy: 0.4280\n",
            "Epoch 68/100\n",
            "32/32 [==============================] - 0s 1ms/step - loss: 3.5999 - accuracy: 0.4280\n",
            "Epoch 69/100\n",
            "32/32 [==============================] - 0s 2ms/step - loss: 3.5904 - accuracy: 0.4290\n",
            "Epoch 70/100\n",
            "32/32 [==============================] - 0s 2ms/step - loss: 3.5858 - accuracy: 0.4300\n",
            "Epoch 71/100\n",
            "32/32 [==============================] - 0s 2ms/step - loss: 3.5846 - accuracy: 0.4300\n",
            "Epoch 72/100\n",
            "32/32 [==============================] - 0s 2ms/step - loss: 3.5836 - accuracy: 0.4300\n",
            "Epoch 73/100\n",
            "32/32 [==============================] - 0s 2ms/step - loss: 3.5826 - accuracy: 0.4310\n",
            "Epoch 74/100\n",
            "32/32 [==============================] - 0s 2ms/step - loss: 3.5817 - accuracy: 0.4330\n",
            "Epoch 75/100\n",
            "32/32 [==============================] - 0s 2ms/step - loss: 3.5656 - accuracy: 0.4360\n",
            "Epoch 76/100\n",
            "32/32 [==============================] - 0s 2ms/step - loss: 3.5355 - accuracy: 0.4410\n",
            "Epoch 77/100\n",
            "32/32 [==============================] - 0s 2ms/step - loss: 3.5335 - accuracy: 0.4410\n",
            "Epoch 78/100\n",
            "32/32 [==============================] - 0s 2ms/step - loss: 3.5319 - accuracy: 0.4420\n",
            "Epoch 79/100\n",
            "32/32 [==============================] - 0s 2ms/step - loss: 3.5306 - accuracy: 0.4420\n",
            "Epoch 80/100\n",
            "32/32 [==============================] - 0s 2ms/step - loss: 3.5208 - accuracy: 0.4420\n",
            "Epoch 81/100\n",
            "32/32 [==============================] - 0s 2ms/step - loss: 3.5172 - accuracy: 0.4420\n",
            "Epoch 82/100\n",
            "32/32 [==============================] - 0s 2ms/step - loss: 3.5157 - accuracy: 0.4430\n",
            "Epoch 83/100\n",
            "32/32 [==============================] - 0s 2ms/step - loss: 3.5144 - accuracy: 0.4450\n",
            "Epoch 84/100\n",
            "32/32 [==============================] - 0s 2ms/step - loss: 3.5132 - accuracy: 0.4450\n",
            "Epoch 85/100\n",
            "32/32 [==============================] - 0s 2ms/step - loss: 3.5043 - accuracy: 0.4460\n",
            "Epoch 86/100\n",
            "32/32 [==============================] - 0s 1ms/step - loss: 3.5002 - accuracy: 0.4470\n",
            "Epoch 87/100\n",
            "32/32 [==============================] - 0s 2ms/step - loss: 3.4905 - accuracy: 0.4470\n",
            "Epoch 88/100\n",
            "32/32 [==============================] - 0s 2ms/step - loss: 3.4788 - accuracy: 0.4470\n",
            "Epoch 89/100\n",
            "32/32 [==============================] - 0s 2ms/step - loss: 3.4661 - accuracy: 0.4470\n",
            "Epoch 90/100\n",
            "32/32 [==============================] - 0s 2ms/step - loss: 3.4452 - accuracy: 0.4490\n",
            "Epoch 91/100\n",
            "32/32 [==============================] - 0s 2ms/step - loss: 3.4198 - accuracy: 0.4560\n",
            "Epoch 92/100\n",
            "32/32 [==============================] - 0s 3ms/step - loss: 3.4176 - accuracy: 0.4550\n",
            "Epoch 93/100\n",
            "32/32 [==============================] - 0s 2ms/step - loss: 3.4072 - accuracy: 0.4580\n",
            "Epoch 94/100\n",
            "32/32 [==============================] - 0s 2ms/step - loss: 3.4036 - accuracy: 0.4580\n",
            "Epoch 95/100\n",
            "32/32 [==============================] - 0s 2ms/step - loss: 3.3944 - accuracy: 0.4590\n",
            "Epoch 96/100\n",
            "32/32 [==============================] - 0s 2ms/step - loss: 3.3290 - accuracy: 0.4590\n",
            "Epoch 97/100\n",
            "32/32 [==============================] - 0s 2ms/step - loss: 3.2727 - accuracy: 0.4600\n",
            "Epoch 98/100\n",
            "32/32 [==============================] - 0s 2ms/step - loss: 3.2636 - accuracy: 0.4580\n",
            "Epoch 99/100\n",
            "32/32 [==============================] - 0s 2ms/step - loss: 3.2509 - accuracy: 0.4570\n",
            "Epoch 100/100\n",
            "32/32 [==============================] - 0s 2ms/step - loss: 3.2459 - accuracy: 0.4570\n"
          ]
        },
        {
          "output_type": "execute_result",
          "data": {
            "text/plain": [
              "<keras.callbacks.History at 0x7f117b0c9cd0>"
            ]
          },
          "metadata": {},
          "execution_count": 77
        }
      ]
    },
    {
      "cell_type": "code",
      "source": [
        "# checkout predictions\n",
        "plot_decision_boundary(model = model_5,\n",
        "                       X=X,\n",
        "                       y=y)"
      ],
      "metadata": {
        "colab": {
          "base_uri": "https://localhost:8080/",
          "height": 319
        },
        "id": "eVRZN_Yk9ha3",
        "outputId": "81899d01-7be8-40b8-d997-57918c5e00da"
      },
      "execution_count": 78,
      "outputs": [
        {
          "output_type": "stream",
          "name": "stderr",
          "text": [
            "WARNING:tensorflow:5 out of the last 322 calls to <function Model.make_predict_function.<locals>.predict_function at 0x7f117b1f03b0> triggered tf.function retracing. Tracing is expensive and the excessive number of tracings could be due to (1) creating @tf.function repeatedly in a loop, (2) passing tensors with different shapes, (3) passing Python objects instead of tensors. For (1), please define your @tf.function outside of the loop. For (2), @tf.function has experimental_relax_shapes=True option that relaxes argument shapes that can avoid unnecessary retracing. For (3), please refer to https://www.tensorflow.org/guide/function#controlling_retracing and https://www.tensorflow.org/api_docs/python/tf/function for  more details.\n"
          ]
        },
        {
          "output_type": "stream",
          "name": "stdout",
          "text": [
            "doing binary classification\n"
          ]
        },
        {
          "output_type": "display_data",
          "data": {
            "text/plain": [
              "<Figure size 432x288 with 1 Axes>"
            ],
            "image/png": "[encoded data removed]"
          },
          "metadata": {
            "needs_background": "light"
          }
        }
      ]
    },
    {
      "cell_type": "markdown",
      "source": [
        "### Let's try neural network with non linear activation function\n"
      ],
      "metadata": {
        "id": "PB9UVB2A-lfW"
      }
    },
    {
      "cell_type": "code",
      "source": [
        "tf.random.set_seed(42)\n",
        "\n",
        "model_6 = tf.keras.Sequential([\n",
        "    tf.keras.layers.Dense(10, activation=\"relu\"),\n",
        "    #tf.keras.layers.Dense(4, activation = \"relu\"),\n",
        "    tf.keras.layers.Dense(1)\n",
        "])\n",
        "\n",
        "model_6.compile(loss=tf.keras.losses.BinaryCrossentropy(),\n",
        "                optimizer = tf.keras.optimizers.Adam(learning_rate=0.001),\n",
        "                metrics=[\"accuracy\"])\n",
        "\n",
        "history = model_6.fit(X,y, epochs=200)\n"
      ],
      "metadata": {
        "colab": {
          "base_uri": "https://localhost:8080/"
        },
        "id": "ZGoTBzMb-Rs_",
        "outputId": "43197d4a-1057-40ad-cabd-b897a3e23267"
      },
      "execution_count": 93,
      "outputs": [
        {
          "output_type": "stream",
          "name": "stdout",
          "text": [
            "Epoch 1/200\n",
            "32/32 [==============================] - 1s 3ms/step - loss: 0.9185 - accuracy: 0.4190\n",
            "Epoch 2/200\n",
            "32/32 [==============================] - 0s 2ms/step - loss: 0.8502 - accuracy: 0.3710\n",
            "Epoch 3/200\n",
            "32/32 [==============================] - 0s 2ms/step - loss: 0.8253 - accuracy: 0.3380\n",
            "Epoch 4/200\n",
            "32/32 [==============================] - 0s 2ms/step - loss: 0.8132 - accuracy: 0.2550\n",
            "Epoch 5/200\n",
            "32/32 [==============================] - 0s 2ms/step - loss: 0.8054 - accuracy: 0.2120\n",
            "Epoch 6/200\n",
            "32/32 [==============================] - 0s 2ms/step - loss: 0.7994 - accuracy: 0.2030\n",
            "Epoch 7/200\n",
            "32/32 [==============================] - 0s 2ms/step - loss: 0.7946 - accuracy: 0.1640\n",
            "Epoch 8/200\n",
            "32/32 [==============================] - 0s 2ms/step - loss: 0.7906 - accuracy: 0.1520\n",
            "Epoch 9/200\n",
            "32/32 [==============================] - 0s 3ms/step - loss: 0.7864 - accuracy: 0.1440\n",
            "Epoch 10/200\n",
            "32/32 [==============================] - 0s 3ms/step - loss: 0.7829 - accuracy: 0.1680\n",
            "Epoch 11/200\n",
            "32/32 [==============================] - 0s 3ms/step - loss: 0.7794 - accuracy: 0.1430\n",
            "Epoch 12/200\n",
            "32/32 [==============================] - 0s 4ms/step - loss: 0.7760 - accuracy: 0.1400\n",
            "Epoch 13/200\n",
            "32/32 [==============================] - 0s 3ms/step - loss: 0.7724 - accuracy: 0.1550\n",
            "Epoch 14/200\n",
            "32/32 [==============================] - 0s 3ms/step - loss: 0.7690 - accuracy: 0.1150\n",
            "Epoch 15/200\n",
            "32/32 [==============================] - 0s 3ms/step - loss: 0.7655 - accuracy: 0.1610\n",
            "Epoch 16/200\n",
            "32/32 [==============================] - 0s 2ms/step - loss: 0.7619 - accuracy: 0.1770\n",
            "Epoch 17/200\n",
            "32/32 [==============================] - 0s 3ms/step - loss: 0.7587 - accuracy: 0.1250\n",
            "Epoch 18/200\n",
            "32/32 [==============================] - 0s 2ms/step - loss: 0.7550 - accuracy: 0.2270\n",
            "Epoch 19/200\n",
            "32/32 [==============================] - 0s 2ms/step - loss: 0.7518 - accuracy: 0.1850\n",
            "Epoch 20/200\n",
            "32/32 [==============================] - 0s 3ms/step - loss: 0.7479 - accuracy: 0.2740\n",
            "Epoch 21/200\n",
            "32/32 [==============================] - 0s 2ms/step - loss: 0.7445 - accuracy: 0.2310\n",
            "Epoch 22/200\n",
            "32/32 [==============================] - 0s 2ms/step - loss: 0.7405 - accuracy: 0.2970\n",
            "Epoch 23/200\n",
            "32/32 [==============================] - 0s 2ms/step - loss: 0.7365 - accuracy: 0.2400\n",
            "Epoch 24/200\n",
            "32/32 [==============================] - 0s 2ms/step - loss: 0.7330 - accuracy: 0.3000\n",
            "Epoch 25/200\n",
            "32/32 [==============================] - 0s 2ms/step - loss: 0.7295 - accuracy: 0.2840\n",
            "Epoch 26/200\n",
            "32/32 [==============================] - 0s 2ms/step - loss: 0.7249 - accuracy: 0.2720\n",
            "Epoch 27/200\n",
            "32/32 [==============================] - 0s 2ms/step - loss: 0.7215 - accuracy: 0.2940\n",
            "Epoch 28/200\n",
            "32/32 [==============================] - 0s 2ms/step - loss: 0.7161 - accuracy: 0.3280\n",
            "Epoch 29/200\n",
            "32/32 [==============================] - 0s 2ms/step - loss: 0.7131 - accuracy: 0.3460\n",
            "Epoch 30/200\n",
            "32/32 [==============================] - 0s 2ms/step - loss: 0.7083 - accuracy: 0.3690\n",
            "Epoch 31/200\n",
            "32/32 [==============================] - 0s 2ms/step - loss: 0.7039 - accuracy: 0.4590\n",
            "Epoch 32/200\n",
            "32/32 [==============================] - 0s 3ms/step - loss: 0.6993 - accuracy: 0.4500\n",
            "Epoch 33/200\n",
            "32/32 [==============================] - 0s 2ms/step - loss: 0.6930 - accuracy: 0.4980\n",
            "Epoch 34/200\n",
            "32/32 [==============================] - 0s 2ms/step - loss: 0.6864 - accuracy: 0.5240\n",
            "Epoch 35/200\n",
            "32/32 [==============================] - 0s 3ms/step - loss: 0.6804 - accuracy: 0.5650\n",
            "Epoch 36/200\n",
            "32/32 [==============================] - 0s 2ms/step - loss: 0.6751 - accuracy: 0.5740\n",
            "Epoch 37/200\n",
            "32/32 [==============================] - 0s 2ms/step - loss: 0.6711 - accuracy: 0.6410\n",
            "Epoch 38/200\n",
            "32/32 [==============================] - 0s 2ms/step - loss: 0.6678 - accuracy: 0.6080\n",
            "Epoch 39/200\n",
            "32/32 [==============================] - 0s 2ms/step - loss: 0.6631 - accuracy: 0.6400\n",
            "Epoch 40/200\n",
            "32/32 [==============================] - 0s 2ms/step - loss: 0.6590 - accuracy: 0.6810\n",
            "Epoch 41/200\n",
            "32/32 [==============================] - 0s 2ms/step - loss: 0.6554 - accuracy: 0.7230\n",
            "Epoch 42/200\n",
            "32/32 [==============================] - 0s 2ms/step - loss: 0.6502 - accuracy: 0.6660\n",
            "Epoch 43/200\n",
            "32/32 [==============================] - 0s 2ms/step - loss: 0.6451 - accuracy: 0.7200\n",
            "Epoch 44/200\n",
            "32/32 [==============================] - 0s 2ms/step - loss: 0.6408 - accuracy: 0.6730\n",
            "Epoch 45/200\n",
            "32/32 [==============================] - 0s 2ms/step - loss: 0.6335 - accuracy: 0.7690\n",
            "Epoch 46/200\n",
            "32/32 [==============================] - 0s 2ms/step - loss: 0.6279 - accuracy: 0.7620\n",
            "Epoch 47/200\n",
            "32/32 [==============================] - 0s 2ms/step - loss: 0.6244 - accuracy: 0.7910\n",
            "Epoch 48/200\n",
            "32/32 [==============================] - 0s 2ms/step - loss: 0.6195 - accuracy: 0.7430\n",
            "Epoch 49/200\n",
            "32/32 [==============================] - 0s 2ms/step - loss: 0.6153 - accuracy: 0.7950\n",
            "Epoch 50/200\n",
            "32/32 [==============================] - 0s 2ms/step - loss: 0.6109 - accuracy: 0.8220\n",
            "Epoch 51/200\n",
            "32/32 [==============================] - 0s 2ms/step - loss: 0.6068 - accuracy: 0.7910\n",
            "Epoch 52/200\n",
            "32/32 [==============================] - 0s 2ms/step - loss: 0.6028 - accuracy: 0.8480\n",
            "Epoch 53/200\n",
            "32/32 [==============================] - 0s 2ms/step - loss: 0.5986 - accuracy: 0.8070\n",
            "Epoch 54/200\n",
            "32/32 [==============================] - 0s 2ms/step - loss: 0.5923 - accuracy: 0.8620\n",
            "Epoch 55/200\n",
            "32/32 [==============================] - 0s 2ms/step - loss: 0.5876 - accuracy: 0.8730\n",
            "Epoch 56/200\n",
            "32/32 [==============================] - 0s 2ms/step - loss: 0.5825 - accuracy: 0.8720\n",
            "Epoch 57/200\n",
            "32/32 [==============================] - 0s 2ms/step - loss: 0.5777 - accuracy: 0.8820\n",
            "Epoch 58/200\n",
            "32/32 [==============================] - 0s 3ms/step - loss: 0.5744 - accuracy: 0.9090\n",
            "Epoch 59/200\n",
            "32/32 [==============================] - 0s 2ms/step - loss: 0.5703 - accuracy: 0.9000\n",
            "Epoch 60/200\n",
            "32/32 [==============================] - 0s 2ms/step - loss: 0.5650 - accuracy: 0.9050\n",
            "Epoch 61/200\n",
            "32/32 [==============================] - 0s 2ms/step - loss: 0.5615 - accuracy: 0.8940\n",
            "Epoch 62/200\n",
            "32/32 [==============================] - 0s 2ms/step - loss: 0.5562 - accuracy: 0.9240\n",
            "Epoch 63/200\n",
            "32/32 [==============================] - 0s 2ms/step - loss: 0.5513 - accuracy: 0.9290\n",
            "Epoch 64/200\n",
            "32/32 [==============================] - 0s 2ms/step - loss: 0.5474 - accuracy: 0.9210\n",
            "Epoch 65/200\n",
            "32/32 [==============================] - 0s 2ms/step - loss: 0.5429 - accuracy: 0.9430\n",
            "Epoch 66/200\n",
            "32/32 [==============================] - 0s 2ms/step - loss: 0.5378 - accuracy: 0.9450\n",
            "Epoch 67/200\n",
            "32/32 [==============================] - 0s 2ms/step - loss: 0.5337 - accuracy: 0.9290\n",
            "Epoch 68/200\n",
            "32/32 [==============================] - 0s 2ms/step - loss: 0.5286 - accuracy: 0.9500\n",
            "Epoch 69/200\n",
            "32/32 [==============================] - 0s 2ms/step - loss: 0.5240 - accuracy: 0.9520\n",
            "Epoch 70/200\n",
            "32/32 [==============================] - 0s 2ms/step - loss: 0.5197 - accuracy: 0.9410\n",
            "Epoch 71/200\n",
            "32/32 [==============================] - 0s 2ms/step - loss: 0.5147 - accuracy: 0.9500\n",
            "Epoch 72/200\n",
            "32/32 [==============================] - 0s 2ms/step - loss: 0.5106 - accuracy: 0.9520\n",
            "Epoch 73/200\n",
            "32/32 [==============================] - 0s 2ms/step - loss: 0.5057 - accuracy: 0.9590\n",
            "Epoch 74/200\n",
            "32/32 [==============================] - 0s 2ms/step - loss: 0.5008 - accuracy: 0.9440\n",
            "Epoch 75/200\n",
            "32/32 [==============================] - 0s 2ms/step - loss: 0.4967 - accuracy: 0.9590\n",
            "Epoch 76/200\n",
            "32/32 [==============================] - 0s 2ms/step - loss: 0.4921 - accuracy: 0.9510\n",
            "Epoch 77/200\n",
            "32/32 [==============================] - 0s 2ms/step - loss: 0.4871 - accuracy: 0.9490\n",
            "Epoch 78/200\n",
            "32/32 [==============================] - 0s 2ms/step - loss: 0.4823 - accuracy: 0.9570\n",
            "Epoch 79/200\n",
            "32/32 [==============================] - 0s 2ms/step - loss: 0.4775 - accuracy: 0.9630\n",
            "Epoch 80/200\n",
            "32/32 [==============================] - 0s 2ms/step - loss: 0.4716 - accuracy: 0.9620\n",
            "Epoch 81/200\n",
            "32/32 [==============================] - 0s 2ms/step - loss: 0.4676 - accuracy: 0.9650\n",
            "Epoch 82/200\n",
            "32/32 [==============================] - 0s 2ms/step - loss: 0.4628 - accuracy: 0.9560\n",
            "Epoch 83/200\n",
            "32/32 [==============================] - 0s 2ms/step - loss: 0.4570 - accuracy: 0.9580\n",
            "Epoch 84/200\n",
            "32/32 [==============================] - 0s 2ms/step - loss: 0.4518 - accuracy: 0.9630\n",
            "Epoch 85/200\n",
            "32/32 [==============================] - 0s 2ms/step - loss: 0.4468 - accuracy: 0.9640\n",
            "Epoch 86/200\n",
            "32/32 [==============================] - 0s 2ms/step - loss: 0.4429 - accuracy: 0.9650\n",
            "Epoch 87/200\n",
            "32/32 [==============================] - 0s 2ms/step - loss: 0.4366 - accuracy: 0.9660\n",
            "Epoch 88/200\n",
            "32/32 [==============================] - 0s 3ms/step - loss: 0.4312 - accuracy: 0.9750\n",
            "Epoch 89/200\n",
            "32/32 [==============================] - 0s 2ms/step - loss: 0.4268 - accuracy: 0.9750\n",
            "Epoch 90/200\n",
            "32/32 [==============================] - 0s 2ms/step - loss: 0.4221 - accuracy: 0.9660\n",
            "Epoch 91/200\n",
            "32/32 [==============================] - 0s 2ms/step - loss: 0.4155 - accuracy: 0.9690\n",
            "Epoch 92/200\n",
            "32/32 [==============================] - 0s 2ms/step - loss: 0.4107 - accuracy: 0.9670\n",
            "Epoch 93/200\n",
            "32/32 [==============================] - 0s 2ms/step - loss: 0.4071 - accuracy: 0.9630\n",
            "Epoch 94/200\n",
            "32/32 [==============================] - 0s 2ms/step - loss: 0.4003 - accuracy: 0.9720\n",
            "Epoch 95/200\n",
            "32/32 [==============================] - 0s 2ms/step - loss: 0.3953 - accuracy: 0.9750\n",
            "Epoch 96/200\n",
            "32/32 [==============================] - 0s 2ms/step - loss: 0.3899 - accuracy: 0.9770\n",
            "Epoch 97/200\n",
            "32/32 [==============================] - 0s 2ms/step - loss: 0.3844 - accuracy: 0.9820\n",
            "Epoch 98/200\n",
            "32/32 [==============================] - 0s 2ms/step - loss: 0.3789 - accuracy: 0.9810\n",
            "Epoch 99/200\n",
            "32/32 [==============================] - 0s 2ms/step - loss: 0.3744 - accuracy: 0.9790\n",
            "Epoch 100/200\n",
            "32/32 [==============================] - 0s 2ms/step - loss: 0.3690 - accuracy: 0.9790\n",
            "Epoch 101/200\n",
            "32/32 [==============================] - 0s 2ms/step - loss: 0.3641 - accuracy: 0.9820\n",
            "Epoch 102/200\n",
            "32/32 [==============================] - 0s 2ms/step - loss: 0.3589 - accuracy: 0.9830\n",
            "Epoch 103/200\n",
            "32/32 [==============================] - 0s 2ms/step - loss: 0.3531 - accuracy: 0.9850\n",
            "Epoch 104/200\n",
            "32/32 [==============================] - 0s 2ms/step - loss: 0.3483 - accuracy: 0.9860\n",
            "Epoch 105/200\n",
            "32/32 [==============================] - 0s 2ms/step - loss: 0.3446 - accuracy: 0.9860\n",
            "Epoch 106/200\n",
            "32/32 [==============================] - 0s 2ms/step - loss: 0.3380 - accuracy: 0.9860\n",
            "Epoch 107/200\n",
            "32/32 [==============================] - 0s 2ms/step - loss: 0.3337 - accuracy: 0.9840\n",
            "Epoch 108/200\n",
            "32/32 [==============================] - 0s 2ms/step - loss: 0.3284 - accuracy: 0.9860\n",
            "Epoch 109/200\n",
            "32/32 [==============================] - 0s 2ms/step - loss: 0.3231 - accuracy: 0.9880\n",
            "Epoch 110/200\n",
            "32/32 [==============================] - 0s 2ms/step - loss: 0.3189 - accuracy: 0.9870\n",
            "Epoch 111/200\n",
            "32/32 [==============================] - 0s 2ms/step - loss: 0.3139 - accuracy: 0.9880\n",
            "Epoch 112/200\n",
            "32/32 [==============================] - 0s 2ms/step - loss: 0.3109 - accuracy: 0.9880\n",
            "Epoch 113/200\n",
            "32/32 [==============================] - 0s 2ms/step - loss: 0.3036 - accuracy: 0.9880\n",
            "Epoch 114/200\n",
            "32/32 [==============================] - 0s 2ms/step - loss: 0.2995 - accuracy: 0.9850\n",
            "Epoch 115/200\n",
            "32/32 [==============================] - 0s 3ms/step - loss: 0.2946 - accuracy: 0.9890\n",
            "Epoch 116/200\n",
            "32/32 [==============================] - 0s 2ms/step - loss: 0.2900 - accuracy: 0.9920\n",
            "Epoch 117/200\n",
            "32/32 [==============================] - 0s 2ms/step - loss: 0.2856 - accuracy: 0.9880\n",
            "Epoch 118/200\n",
            "32/32 [==============================] - 0s 3ms/step - loss: 0.2813 - accuracy: 0.9910\n",
            "Epoch 119/200\n",
            "32/32 [==============================] - 0s 3ms/step - loss: 0.2763 - accuracy: 0.9890\n",
            "Epoch 120/200\n",
            "32/32 [==============================] - 0s 2ms/step - loss: 0.2719 - accuracy: 0.9880\n",
            "Epoch 121/200\n",
            "32/32 [==============================] - 0s 2ms/step - loss: 0.2676 - accuracy: 0.9910\n",
            "Epoch 122/200\n",
            "32/32 [==============================] - 0s 2ms/step - loss: 0.2633 - accuracy: 0.9890\n",
            "Epoch 123/200\n",
            "32/32 [==============================] - 0s 2ms/step - loss: 0.2582 - accuracy: 0.9900\n",
            "Epoch 124/200\n",
            "32/32 [==============================] - 0s 2ms/step - loss: 0.2537 - accuracy: 0.9900\n",
            "Epoch 125/200\n",
            "32/32 [==============================] - 0s 2ms/step - loss: 0.2500 - accuracy: 0.9910\n",
            "Epoch 126/200\n",
            "32/32 [==============================] - 0s 2ms/step - loss: 0.2449 - accuracy: 0.9910\n",
            "Epoch 127/200\n",
            "32/32 [==============================] - 0s 3ms/step - loss: 0.2408 - accuracy: 0.9910\n",
            "Epoch 128/200\n",
            "32/32 [==============================] - 0s 2ms/step - loss: 0.2379 - accuracy: 0.9870\n",
            "Epoch 129/200\n",
            "32/32 [==============================] - 0s 2ms/step - loss: 0.2322 - accuracy: 0.9910\n",
            "Epoch 130/200\n",
            "32/32 [==============================] - 0s 2ms/step - loss: 0.2280 - accuracy: 0.9880\n",
            "Epoch 131/200\n",
            "32/32 [==============================] - 0s 2ms/step - loss: 0.2244 - accuracy: 0.9900\n",
            "Epoch 132/200\n",
            "32/32 [==============================] - 0s 2ms/step - loss: 0.2196 - accuracy: 0.9940\n",
            "Epoch 133/200\n",
            "32/32 [==============================] - 0s 2ms/step - loss: 0.2155 - accuracy: 0.9900\n",
            "Epoch 134/200\n",
            "32/32 [==============================] - 0s 2ms/step - loss: 0.2120 - accuracy: 0.9900\n",
            "Epoch 135/200\n",
            "32/32 [==============================] - 0s 2ms/step - loss: 0.2081 - accuracy: 0.9890\n",
            "Epoch 136/200\n",
            "32/32 [==============================] - 0s 2ms/step - loss: 0.2043 - accuracy: 0.9890\n",
            "Epoch 137/200\n",
            "32/32 [==============================] - 0s 2ms/step - loss: 0.2015 - accuracy: 0.9920\n",
            "Epoch 138/200\n",
            "32/32 [==============================] - 0s 2ms/step - loss: 0.1973 - accuracy: 0.9910\n",
            "Epoch 139/200\n",
            "32/32 [==============================] - 0s 3ms/step - loss: 0.1927 - accuracy: 0.9910\n",
            "Epoch 140/200\n",
            "32/32 [==============================] - 0s 2ms/step - loss: 0.1894 - accuracy: 0.9930\n",
            "Epoch 141/200\n",
            "32/32 [==============================] - 0s 2ms/step - loss: 0.1854 - accuracy: 0.9890\n",
            "Epoch 142/200\n",
            "32/32 [==============================] - 0s 2ms/step - loss: 0.1816 - accuracy: 0.9910\n",
            "Epoch 143/200\n",
            "32/32 [==============================] - 0s 2ms/step - loss: 0.1790 - accuracy: 0.9920\n",
            "Epoch 144/200\n",
            "32/32 [==============================] - 0s 2ms/step - loss: 0.1748 - accuracy: 0.9920\n",
            "Epoch 145/200\n",
            "32/32 [==============================] - 0s 2ms/step - loss: 0.1714 - accuracy: 0.9900\n",
            "Epoch 146/200\n",
            "32/32 [==============================] - 0s 2ms/step - loss: 0.1683 - accuracy: 0.9920\n",
            "Epoch 147/200\n",
            "32/32 [==============================] - 0s 2ms/step - loss: 0.1653 - accuracy: 0.9910\n",
            "Epoch 148/200\n",
            "32/32 [==============================] - 0s 2ms/step - loss: 0.1628 - accuracy: 0.9920\n",
            "Epoch 149/200\n",
            "32/32 [==============================] - 0s 2ms/step - loss: 0.1591 - accuracy: 0.9910\n",
            "Epoch 150/200\n",
            "32/32 [==============================] - 0s 2ms/step - loss: 0.1565 - accuracy: 0.9930\n",
            "Epoch 151/200\n",
            "32/32 [==============================] - 0s 2ms/step - loss: 0.1531 - accuracy: 0.9920\n",
            "Epoch 152/200\n",
            "32/32 [==============================] - 0s 2ms/step - loss: 0.1509 - accuracy: 0.9950\n",
            "Epoch 153/200\n",
            "32/32 [==============================] - 0s 2ms/step - loss: 0.1486 - accuracy: 0.9920\n",
            "Epoch 154/200\n",
            "32/32 [==============================] - 0s 2ms/step - loss: 0.1445 - accuracy: 0.9910\n",
            "Epoch 155/200\n",
            "32/32 [==============================] - 0s 2ms/step - loss: 0.1433 - accuracy: 0.9920\n",
            "Epoch 156/200\n",
            "32/32 [==============================] - 0s 2ms/step - loss: 0.1393 - accuracy: 0.9940\n",
            "Epoch 157/200\n",
            "32/32 [==============================] - 0s 2ms/step - loss: 0.1373 - accuracy: 0.9930\n",
            "Epoch 158/200\n",
            "32/32 [==============================] - 0s 2ms/step - loss: 0.1345 - accuracy: 0.9940\n",
            "Epoch 159/200\n",
            "32/32 [==============================] - 0s 3ms/step - loss: 0.1325 - accuracy: 0.9920\n",
            "Epoch 160/200\n",
            "32/32 [==============================] - 0s 3ms/step - loss: 0.1306 - accuracy: 0.9940\n",
            "Epoch 161/200\n",
            "32/32 [==============================] - 0s 3ms/step - loss: 0.1274 - accuracy: 0.9930\n",
            "Epoch 162/200\n",
            "32/32 [==============================] - 0s 2ms/step - loss: 0.1254 - accuracy: 0.9960\n",
            "Epoch 163/200\n",
            "32/32 [==============================] - 0s 2ms/step - loss: 0.1228 - accuracy: 0.9950\n",
            "Epoch 164/200\n",
            "32/32 [==============================] - 0s 2ms/step - loss: 0.1208 - accuracy: 0.9940\n",
            "Epoch 165/200\n",
            "32/32 [==============================] - 0s 3ms/step - loss: 0.1191 - accuracy: 0.9930\n",
            "Epoch 166/200\n",
            "32/32 [==============================] - 0s 2ms/step - loss: 0.1171 - accuracy: 0.9940\n",
            "Epoch 167/200\n",
            "32/32 [==============================] - 0s 2ms/step - loss: 0.1154 - accuracy: 0.9940\n",
            "Epoch 168/200\n",
            "32/32 [==============================] - 0s 2ms/step - loss: 0.1133 - accuracy: 0.9940\n",
            "Epoch 169/200\n",
            "32/32 [==============================] - 0s 2ms/step - loss: 0.1112 - accuracy: 0.9940\n",
            "Epoch 170/200\n",
            "32/32 [==============================] - 0s 2ms/step - loss: 0.1094 - accuracy: 0.9940\n",
            "Epoch 171/200\n",
            "32/32 [==============================] - 0s 2ms/step - loss: 0.1071 - accuracy: 0.9940\n",
            "Epoch 172/200\n",
            "32/32 [==============================] - 0s 2ms/step - loss: 0.1057 - accuracy: 0.9970\n",
            "Epoch 173/200\n",
            "32/32 [==============================] - 0s 2ms/step - loss: 0.1039 - accuracy: 0.9960\n",
            "Epoch 174/200\n",
            "32/32 [==============================] - 0s 2ms/step - loss: 0.1016 - accuracy: 0.9970\n",
            "Epoch 175/200\n",
            "32/32 [==============================] - 0s 2ms/step - loss: 0.1011 - accuracy: 0.9970\n",
            "Epoch 176/200\n",
            "32/32 [==============================] - 0s 2ms/step - loss: 0.0991 - accuracy: 0.9940\n",
            "Epoch 177/200\n",
            "32/32 [==============================] - 0s 2ms/step - loss: 0.0967 - accuracy: 0.9970\n",
            "Epoch 178/200\n",
            "32/32 [==============================] - 0s 3ms/step - loss: 0.0956 - accuracy: 0.9970\n",
            "Epoch 179/200\n",
            "32/32 [==============================] - 0s 2ms/step - loss: 0.0943 - accuracy: 0.9960\n",
            "Epoch 180/200\n",
            "32/32 [==============================] - 0s 2ms/step - loss: 0.0927 - accuracy: 0.9980\n",
            "Epoch 181/200\n",
            "32/32 [==============================] - 0s 2ms/step - loss: 0.0909 - accuracy: 1.0000\n",
            "Epoch 182/200\n",
            "32/32 [==============================] - 0s 2ms/step - loss: 0.0893 - accuracy: 0.9980\n",
            "Epoch 183/200\n",
            "32/32 [==============================] - 0s 2ms/step - loss: 0.0885 - accuracy: 1.0000\n",
            "Epoch 184/200\n",
            "32/32 [==============================] - 0s 2ms/step - loss: 0.0864 - accuracy: 0.9980\n",
            "Epoch 185/200\n",
            "32/32 [==============================] - 0s 2ms/step - loss: 0.0857 - accuracy: 0.9990\n",
            "Epoch 186/200\n",
            "32/32 [==============================] - 0s 2ms/step - loss: 0.0839 - accuracy: 0.9990\n",
            "Epoch 187/200\n",
            "32/32 [==============================] - 0s 2ms/step - loss: 0.0826 - accuracy: 0.9980\n",
            "Epoch 188/200\n",
            "32/32 [==============================] - 0s 2ms/step - loss: 0.0815 - accuracy: 1.0000\n",
            "Epoch 189/200\n",
            "32/32 [==============================] - 0s 2ms/step - loss: 0.0802 - accuracy: 0.9980\n",
            "Epoch 190/200\n",
            "32/32 [==============================] - 0s 2ms/step - loss: 0.0789 - accuracy: 0.9990\n",
            "Epoch 191/200\n",
            "32/32 [==============================] - 0s 3ms/step - loss: 0.0777 - accuracy: 1.0000\n",
            "Epoch 192/200\n",
            "32/32 [==============================] - 0s 2ms/step - loss: 0.0773 - accuracy: 0.9990\n",
            "Epoch 193/200\n",
            "32/32 [==============================] - 0s 2ms/step - loss: 0.0749 - accuracy: 1.0000\n",
            "Epoch 194/200\n",
            "32/32 [==============================] - 0s 2ms/step - loss: 0.0748 - accuracy: 0.9990\n",
            "Epoch 195/200\n",
            "32/32 [==============================] - 0s 2ms/step - loss: 0.0728 - accuracy: 0.9990\n",
            "Epoch 196/200\n",
            "32/32 [==============================] - 0s 3ms/step - loss: 0.0722 - accuracy: 1.0000\n",
            "Epoch 197/200\n",
            "32/32 [==============================] - 0s 2ms/step - loss: 0.0713 - accuracy: 1.0000\n",
            "Epoch 198/200\n",
            "32/32 [==============================] - 0s 2ms/step - loss: 0.0703 - accuracy: 0.9990\n",
            "Epoch 199/200\n",
            "32/32 [==============================] - 0s 2ms/step - loss: 0.0690 - accuracy: 1.0000\n",
            "Epoch 200/200\n",
            "32/32 [==============================] - 0s 2ms/step - loss: 0.0684 - accuracy: 0.9990\n"
          ]
        }
      ]
    },
    {
      "cell_type": "code",
      "source": [
        "model_6.evaluate(X,y)"
      ],
      "metadata": {
        "colab": {
          "base_uri": "https://localhost:8080/"
        },
        "id": "N-yI1rLZAAwU",
        "outputId": "574b637c-fed9-4a36-d0fb-07909e120eba"
      },
      "execution_count": 94,
      "outputs": [
        {
          "output_type": "stream",
          "name": "stdout",
          "text": [
            "32/32 [==============================] - 0s 1ms/step - loss: 0.0680 - accuracy: 1.0000\n"
          ]
        },
        {
          "output_type": "execute_result",
          "data": {
            "text/plain": [
              "[0.06799183040857315, 1.0]"
            ]
          },
          "metadata": {},
          "execution_count": 94
        }
      ]
    },
    {
      "cell_type": "code",
      "source": [
        "# checkout predictions\n",
        "plot_decision_boundary(model = model_6,\n",
        "                       X=X,\n",
        "                       y=y)"
      ],
      "metadata": {
        "colab": {
          "base_uri": "https://localhost:8080/",
          "height": 282
        },
        "id": "2Ot2g9K5JXGh",
        "outputId": "b0570ec6-5d35-46df-a871-c1d93b455061"
      },
      "execution_count": 95,
      "outputs": [
        {
          "output_type": "stream",
          "name": "stdout",
          "text": [
            "doing binary classification\n"
          ]
        },
        {
          "output_type": "display_data",
          "data": {
            "text/plain": [
              "<Figure size 432x288 with 1 Axes>"
            ],
            "image/png": "[encoded data removed]"
          },
          "metadata": {
            "needs_background": "light"
          }
        }
      ]
    },
    {
      "cell_type": "markdown",
      "source": [
        "## Final try to make model the best for this data\n"
      ],
      "metadata": {
        "id": "rzeYH5rwg6vm"
      }
    },
    {
      "cell_type": "code",
      "source": [
        "tf.random.set_seed(42)\n",
        "\n",
        "model_7 = tf.keras.Sequential([\n",
        "    tf.keras.layers.Dense(10, activation=\"relu\"),\n",
        "    tf.keras.layers.Dense(1, activation = \"sigmoid\")\n",
        "])\n",
        "\n",
        "model_7.compile(loss = \"binary_crossentropy\",\n",
        "                optimizer = tf.keras.optimizers.Adam(learning_rate=0.001),\n",
        "                metrics=[\"accuracy\"])\n",
        "\n",
        "history = model_7.fit(X,y,epochs=100)"
      ],
      "metadata": {
        "colab": {
          "base_uri": "https://localhost:8080/"
        },
        "id": "pbYN4Uukg_R_",
        "outputId": "384860ef-305d-4b20-be33-0530a8a54797"
      },
      "execution_count": 105,
      "outputs": [
        {
          "output_type": "stream",
          "name": "stdout",
          "text": [
            "Epoch 1/100\n",
            "32/32 [==============================] - 1s 2ms/step - loss: 0.7456 - accuracy: 0.5000\n",
            "Epoch 2/100\n",
            "32/32 [==============================] - 0s 2ms/step - loss: 0.7320 - accuracy: 0.4960\n",
            "Epoch 3/100\n",
            "32/32 [==============================] - 0s 2ms/step - loss: 0.7230 - accuracy: 0.4820\n",
            "Epoch 4/100\n",
            "32/32 [==============================] - 0s 2ms/step - loss: 0.7171 - accuracy: 0.4740\n",
            "Epoch 5/100\n",
            "32/32 [==============================] - 0s 2ms/step - loss: 0.7132 - accuracy: 0.4570\n",
            "Epoch 6/100\n",
            "32/32 [==============================] - 0s 2ms/step - loss: 0.7105 - accuracy: 0.4660\n",
            "Epoch 7/100\n",
            "32/32 [==============================] - 0s 2ms/step - loss: 0.7081 - accuracy: 0.4760\n",
            "Epoch 8/100\n",
            "32/32 [==============================] - 0s 2ms/step - loss: 0.7064 - accuracy: 0.4760\n",
            "Epoch 9/100\n",
            "32/32 [==============================] - 0s 2ms/step - loss: 0.7047 - accuracy: 0.4740\n",
            "Epoch 10/100\n",
            "32/32 [==============================] - 0s 2ms/step - loss: 0.7034 - accuracy: 0.4550\n",
            "Epoch 11/100\n",
            "32/32 [==============================] - 0s 3ms/step - loss: 0.7023 - accuracy: 0.4410\n",
            "Epoch 12/100\n",
            "32/32 [==============================] - 0s 3ms/step - loss: 0.7012 - accuracy: 0.4220\n",
            "Epoch 13/100\n",
            "32/32 [==============================] - 0s 2ms/step - loss: 0.7003 - accuracy: 0.3950\n",
            "Epoch 14/100\n",
            "32/32 [==============================] - 0s 2ms/step - loss: 0.6994 - accuracy: 0.4110\n",
            "Epoch 15/100\n",
            "32/32 [==============================] - 0s 2ms/step - loss: 0.6985 - accuracy: 0.3840\n",
            "Epoch 16/100\n",
            "32/32 [==============================] - 0s 2ms/step - loss: 0.6976 - accuracy: 0.3750\n",
            "Epoch 17/100\n",
            "32/32 [==============================] - 0s 2ms/step - loss: 0.6969 - accuracy: 0.3660\n",
            "Epoch 18/100\n",
            "32/32 [==============================] - 0s 2ms/step - loss: 0.6960 - accuracy: 0.3570\n",
            "Epoch 19/100\n",
            "32/32 [==============================] - 0s 2ms/step - loss: 0.6952 - accuracy: 0.3700\n",
            "Epoch 20/100\n",
            "32/32 [==============================] - 0s 2ms/step - loss: 0.6944 - accuracy: 0.3850\n",
            "Epoch 21/100\n",
            "32/32 [==============================] - 0s 2ms/step - loss: 0.6937 - accuracy: 0.4080\n",
            "Epoch 22/100\n",
            "32/32 [==============================] - 0s 2ms/step - loss: 0.6928 - accuracy: 0.4250\n",
            "Epoch 23/100\n",
            "32/32 [==============================] - 0s 2ms/step - loss: 0.6920 - accuracy: 0.4520\n",
            "Epoch 24/100\n",
            "32/32 [==============================] - 0s 2ms/step - loss: 0.6913 - accuracy: 0.4520\n",
            "Epoch 25/100\n",
            "32/32 [==============================] - 0s 2ms/step - loss: 0.6905 - accuracy: 0.4590\n",
            "Epoch 26/100\n",
            "32/32 [==============================] - 0s 2ms/step - loss: 0.6896 - accuracy: 0.4800\n",
            "Epoch 27/100\n",
            "32/32 [==============================] - 0s 2ms/step - loss: 0.6889 - accuracy: 0.4950\n",
            "Epoch 28/100\n",
            "32/32 [==============================] - 0s 2ms/step - loss: 0.6878 - accuracy: 0.5000\n",
            "Epoch 29/100\n",
            "32/32 [==============================] - 0s 2ms/step - loss: 0.6871 - accuracy: 0.5040\n",
            "Epoch 30/100\n",
            "32/32 [==============================] - 0s 2ms/step - loss: 0.6862 - accuracy: 0.5050\n",
            "Epoch 31/100\n",
            "32/32 [==============================] - 0s 2ms/step - loss: 0.6852 - accuracy: 0.5060\n",
            "Epoch 32/100\n",
            "32/32 [==============================] - 0s 2ms/step - loss: 0.6842 - accuracy: 0.5060\n",
            "Epoch 33/100\n",
            "32/32 [==============================] - 0s 2ms/step - loss: 0.6833 - accuracy: 0.5100\n",
            "Epoch 34/100\n",
            "32/32 [==============================] - 0s 2ms/step - loss: 0.6827 - accuracy: 0.5100\n",
            "Epoch 35/100\n",
            "32/32 [==============================] - 0s 2ms/step - loss: 0.6820 - accuracy: 0.5120\n",
            "Epoch 36/100\n",
            "32/32 [==============================] - 0s 2ms/step - loss: 0.6810 - accuracy: 0.5160\n",
            "Epoch 37/100\n",
            "32/32 [==============================] - 0s 3ms/step - loss: 0.6803 - accuracy: 0.5190\n",
            "Epoch 38/100\n",
            "32/32 [==============================] - 0s 2ms/step - loss: 0.6796 - accuracy: 0.5200\n",
            "Epoch 39/100\n",
            "32/32 [==============================] - 0s 2ms/step - loss: 0.6787 - accuracy: 0.5300\n",
            "Epoch 40/100\n",
            "32/32 [==============================] - 0s 2ms/step - loss: 0.6778 - accuracy: 0.5330\n",
            "Epoch 41/100\n",
            "32/32 [==============================] - 0s 2ms/step - loss: 0.6770 - accuracy: 0.5450\n",
            "Epoch 42/100\n",
            "32/32 [==============================] - 0s 2ms/step - loss: 0.6758 - accuracy: 0.5550\n",
            "Epoch 43/100\n",
            "32/32 [==============================] - 0s 2ms/step - loss: 0.6748 - accuracy: 0.5580\n",
            "Epoch 44/100\n",
            "32/32 [==============================] - 0s 2ms/step - loss: 0.6741 - accuracy: 0.5470\n",
            "Epoch 45/100\n",
            "32/32 [==============================] - 0s 2ms/step - loss: 0.6729 - accuracy: 0.5660\n",
            "Epoch 46/100\n",
            "32/32 [==============================] - 0s 2ms/step - loss: 0.6718 - accuracy: 0.5790\n",
            "Epoch 47/100\n",
            "32/32 [==============================] - 0s 2ms/step - loss: 0.6709 - accuracy: 0.5870\n",
            "Epoch 48/100\n",
            "32/32 [==============================] - 0s 2ms/step - loss: 0.6693 - accuracy: 0.5880\n",
            "Epoch 49/100\n",
            "32/32 [==============================] - 0s 2ms/step - loss: 0.6680 - accuracy: 0.5900\n",
            "Epoch 50/100\n",
            "32/32 [==============================] - 0s 2ms/step - loss: 0.6668 - accuracy: 0.5910\n",
            "Epoch 51/100\n",
            "32/32 [==============================] - 0s 2ms/step - loss: 0.6656 - accuracy: 0.5990\n",
            "Epoch 52/100\n",
            "32/32 [==============================] - 0s 2ms/step - loss: 0.6643 - accuracy: 0.6140\n",
            "Epoch 53/100\n",
            "32/32 [==============================] - 0s 2ms/step - loss: 0.6628 - accuracy: 0.6120\n",
            "Epoch 54/100\n",
            "32/32 [==============================] - 0s 2ms/step - loss: 0.6610 - accuracy: 0.6320\n",
            "Epoch 55/100\n",
            "32/32 [==============================] - 0s 2ms/step - loss: 0.6599 - accuracy: 0.6620\n",
            "Epoch 56/100\n",
            "32/32 [==============================] - 0s 2ms/step - loss: 0.6584 - accuracy: 0.6650\n",
            "Epoch 57/100\n",
            "32/32 [==============================] - 0s 2ms/step - loss: 0.6569 - accuracy: 0.6630\n",
            "Epoch 58/100\n",
            "32/32 [==============================] - 0s 2ms/step - loss: 0.6555 - accuracy: 0.6880\n",
            "Epoch 59/100\n",
            "32/32 [==============================] - 0s 2ms/step - loss: 0.6543 - accuracy: 0.7220\n",
            "Epoch 60/100\n",
            "32/32 [==============================] - 0s 2ms/step - loss: 0.6525 - accuracy: 0.7220\n",
            "Epoch 61/100\n",
            "32/32 [==============================] - 0s 2ms/step - loss: 0.6511 - accuracy: 0.7050\n",
            "Epoch 62/100\n",
            "32/32 [==============================] - 0s 2ms/step - loss: 0.6494 - accuracy: 0.7350\n",
            "Epoch 63/100\n",
            "32/32 [==============================] - 0s 2ms/step - loss: 0.6477 - accuracy: 0.7510\n",
            "Epoch 64/100\n",
            "32/32 [==============================] - 0s 2ms/step - loss: 0.6463 - accuracy: 0.7530\n",
            "Epoch 65/100\n",
            "32/32 [==============================] - 0s 2ms/step - loss: 0.6447 - accuracy: 0.7940\n",
            "Epoch 66/100\n",
            "32/32 [==============================] - 0s 2ms/step - loss: 0.6430 - accuracy: 0.8440\n",
            "Epoch 67/100\n",
            "32/32 [==============================] - 0s 2ms/step - loss: 0.6413 - accuracy: 0.8020\n",
            "Epoch 68/100\n",
            "32/32 [==============================] - 0s 2ms/step - loss: 0.6396 - accuracy: 0.8170\n",
            "Epoch 69/100\n",
            "32/32 [==============================] - 0s 2ms/step - loss: 0.6379 - accuracy: 0.8640\n",
            "Epoch 70/100\n",
            "32/32 [==============================] - 0s 2ms/step - loss: 0.6362 - accuracy: 0.8830\n",
            "Epoch 71/100\n",
            "32/32 [==============================] - 0s 2ms/step - loss: 0.6345 - accuracy: 0.8760\n",
            "Epoch 72/100\n",
            "32/32 [==============================] - 0s 2ms/step - loss: 0.6328 - accuracy: 0.9040\n",
            "Epoch 73/100\n",
            "32/32 [==============================] - 0s 2ms/step - loss: 0.6311 - accuracy: 0.9150\n",
            "Epoch 74/100\n",
            "32/32 [==============================] - 0s 2ms/step - loss: 0.6291 - accuracy: 0.9230\n",
            "Epoch 75/100\n",
            "32/32 [==============================] - 0s 2ms/step - loss: 0.6275 - accuracy: 0.9420\n",
            "Epoch 76/100\n",
            "32/32 [==============================] - 0s 2ms/step - loss: 0.6256 - accuracy: 0.8990\n",
            "Epoch 77/100\n",
            "32/32 [==============================] - 0s 2ms/step - loss: 0.6238 - accuracy: 0.9500\n",
            "Epoch 78/100\n",
            "32/32 [==============================] - 0s 2ms/step - loss: 0.6219 - accuracy: 0.9250\n",
            "Epoch 79/100\n",
            "32/32 [==============================] - 0s 2ms/step - loss: 0.6200 - accuracy: 0.9380\n",
            "Epoch 80/100\n",
            "32/32 [==============================] - 0s 2ms/step - loss: 0.6179 - accuracy: 0.9570\n",
            "Epoch 81/100\n",
            "32/32 [==============================] - 0s 2ms/step - loss: 0.6164 - accuracy: 0.9680\n",
            "Epoch 82/100\n",
            "32/32 [==============================] - 0s 2ms/step - loss: 0.6144 - accuracy: 0.9500\n",
            "Epoch 83/100\n",
            "32/32 [==============================] - 0s 2ms/step - loss: 0.6124 - accuracy: 0.9410\n",
            "Epoch 84/100\n",
            "32/32 [==============================] - 0s 2ms/step - loss: 0.6101 - accuracy: 0.9640\n",
            "Epoch 85/100\n",
            "32/32 [==============================] - 0s 2ms/step - loss: 0.6083 - accuracy: 0.9650\n",
            "Epoch 86/100\n",
            "32/32 [==============================] - 0s 2ms/step - loss: 0.6067 - accuracy: 0.9740\n",
            "Epoch 87/100\n",
            "32/32 [==============================] - 0s 2ms/step - loss: 0.6041 - accuracy: 0.9670\n",
            "Epoch 88/100\n",
            "32/32 [==============================] - 0s 2ms/step - loss: 0.6022 - accuracy: 0.9590\n",
            "Epoch 89/100\n",
            "32/32 [==============================] - 0s 2ms/step - loss: 0.6003 - accuracy: 0.9610\n",
            "Epoch 90/100\n",
            "32/32 [==============================] - 0s 2ms/step - loss: 0.5986 - accuracy: 0.9370\n",
            "Epoch 91/100\n",
            "32/32 [==============================] - 0s 2ms/step - loss: 0.5958 - accuracy: 0.9620\n",
            "Epoch 92/100\n",
            "32/32 [==============================] - 0s 2ms/step - loss: 0.5941 - accuracy: 0.9780\n",
            "Epoch 93/100\n",
            "32/32 [==============================] - 0s 2ms/step - loss: 0.5924 - accuracy: 0.9570\n",
            "Epoch 94/100\n",
            "32/32 [==============================] - 0s 2ms/step - loss: 0.5897 - accuracy: 0.9710\n",
            "Epoch 95/100\n",
            "32/32 [==============================] - 0s 2ms/step - loss: 0.5877 - accuracy: 0.9730\n",
            "Epoch 96/100\n",
            "32/32 [==============================] - 0s 2ms/step - loss: 0.5856 - accuracy: 0.9750\n",
            "Epoch 97/100\n",
            "32/32 [==============================] - 0s 2ms/step - loss: 0.5835 - accuracy: 0.9720\n",
            "Epoch 98/100\n",
            "32/32 [==============================] - 0s 2ms/step - loss: 0.5813 - accuracy: 0.9780\n",
            "Epoch 99/100\n",
            "32/32 [==============================] - 0s 2ms/step - loss: 0.5796 - accuracy: 0.9850\n",
            "Epoch 100/100\n",
            "32/32 [==============================] - 0s 2ms/step - loss: 0.5777 - accuracy: 0.9790\n"
          ]
        }
      ]
    },
    {
      "cell_type": "code",
      "source": [
        "model_7.evaluate(X,y)"
      ],
      "metadata": {
        "colab": {
          "base_uri": "https://localhost:8080/"
        },
        "id": "BEWKy607kNWJ",
        "outputId": "a6fb481d-f6b1-4f1f-cff5-4cbb2b28dd91"
      },
      "execution_count": 109,
      "outputs": [
        {
          "output_type": "stream",
          "name": "stdout",
          "text": [
            "32/32 [==============================] - 0s 3ms/step - loss: 0.5757 - accuracy: 0.9810\n"
          ]
        },
        {
          "output_type": "execute_result",
          "data": {
            "text/plain": [
              "[0.5756625533103943, 0.9810000061988831]"
            ]
          },
          "metadata": {},
          "execution_count": 109
        }
      ]
    },
    {
      "cell_type": "code",
      "source": [
        "plot_decision_boundary(model=model_7,\n",
        "                       X=X,\n",
        "                       y=y)"
      ],
      "metadata": {
        "colab": {
          "base_uri": "https://localhost:8080/",
          "height": 282
        },
        "id": "qqjBBGY0jkiI",
        "outputId": "1107cee2-e1d5-4686-d8f7-bb752cb1f575"
      },
      "execution_count": 108,
      "outputs": [
        {
          "output_type": "stream",
          "name": "stdout",
          "text": [
            "doing binary classification\n"
          ]
        },
        {
          "output_type": "display_data",
          "data": {
            "text/plain": [
              "<Figure size 432x288 with 1 Axes>"
            ],
            "image/png": "[encoded data removed]"
          },
          "metadata": {
            "needs_background": "light"
          }
        }
      ]
    }
  ]
}